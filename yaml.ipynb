{
 "cells": [
  {
   "cell_type": "code",
   "execution_count": 2,
   "metadata": {},
   "outputs": [],
   "source": [
    "import yaml"
   ]
  },
  {
   "cell_type": "code",
   "execution_count": 7,
   "metadata": {},
   "outputs": [],
   "source": [
    "params = {'dataset_dir': '/Users/avntrr/Documents/Pacmann/raw/',\n",
    "'datetime_columns': ['tanggal'],\n",
    " 'object_columns': ['stasiun', 'critical', 'categori'],\n",
    " 'int32_columns': ['pm10', 'pm25', 'so2', 'co', 'o3', 'no2', 'max'],\n",
    " 'predictors': ['stasiun', 'pm10', 'pm25', 'so2', 'co', 'o3', 'no2'],\n",
    " 'range_stasiun': ['DKI1 (Bunderan HI)',\n",
    "  'DKI2 (Kelapa Gading)',\n",
    "  'DKI3 (Jagakarsa)',\n",
    "  'DKI4 (Lubang Buaya)',\n",
    "  'DKI5 (Kebon Jeruk) Jakarta Barat'],\n",
    " 'range_pm10': [-1, 800],\n",
    " 'range_pm25': [-1, 400],\n",
    " 'range_so2': [-1, 500],\n",
    " 'range_co': [-1, 100],\n",
    " 'range_o3': [-1, 160],\n",
    " 'range_no2': [-1, 100]}"
   ]
  },
  {
   "cell_type": "code",
   "execution_count": 8,
   "metadata": {},
   "outputs": [],
   "source": [
    "with open ('params.yml', 'w') as yaml_file:\n",
    "    yaml.dump(params, yaml_file, default_flow_style=False)"
   ]
  },
  {
   "cell_type": "code",
   "execution_count": null,
   "metadata": {},
   "outputs": [],
   "source": []
  }
 ],
 "metadata": {
  "kernelspec": {
   "display_name": "Python 3.9.13 64-bit",
   "language": "python",
   "name": "python3"
  },
  "language_info": {
   "codemirror_mode": {
    "name": "ipython",
    "version": 3
   },
   "file_extension": ".py",
   "mimetype": "text/x-python",
   "name": "python",
   "nbconvert_exporter": "python",
   "pygments_lexer": "ipython3",
   "version": "3.9.13"
  },
  "orig_nbformat": 4,
  "vscode": {
   "interpreter": {
    "hash": "aee8b7b246df8f9039afb4144a1f6fd8d2ca17a180786b69acc140d282b71a49"
   }
  }
 },
 "nbformat": 4,
 "nbformat_minor": 2
}
