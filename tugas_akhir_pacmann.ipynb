{
 "cells": [
  {
   "cell_type": "code",
   "execution_count": 613,
   "metadata": {},
   "outputs": [],
   "source": [
    "from sklearn.model_selection import train_test_split\n",
    "from sklearn.preprocessing import LabelEncoder\n",
    "from sklearn.preprocessing import OneHotEncoder\n",
    "from sklearn.linear_model import LogisticRegression\n",
    "from sklearn.tree import DecisionTreeClassifier\n",
    "from sklearn.ensemble import RandomForestClassifier\n",
    "from sklearn.neighbors import KNeighborsClassifier\n",
    "from xgboost import XGBClassifier\n",
    "\n",
    "from sklearn.metrics import classification_report, ConfusionMatrixDisplay, roc_curve, roc_auc_score\n",
    "from sklearn.model_selection import RandomizedSearchCV, GridSearchCV\n",
    "\n",
    "from datetime import datetime\n",
    "from tqdm import tqdm\n",
    "\n",
    "from imblearn.under_sampling import RandomUnderSampler\n",
    "from imblearn.over_sampling import RandomOverSampler, SMOTE\n",
    "import os\n",
    "import pandas as pd\n",
    "import glob\n",
    "import joblib\n",
    "import numpy as np\n",
    "import seaborn as sns\n",
    "import scipy.stats as scs\n",
    "import matplotlib.pyplot as plt\n",
    "import copy\n",
    "import hashlib\n",
    "import yaml\n",
    "import json"
   ]
  },
  {
   "cell_type": "markdown",
   "metadata": {},
   "source": [
    "## 1. IMPORT PARAMS"
   ]
  },
  {
   "cell_type": "code",
   "execution_count": 397,
   "metadata": {},
   "outputs": [],
   "source": [
    "params_dir = \"/Users/avntrr/Documents/Pacmann/params.yml\""
   ]
  },
  {
   "cell_type": "code",
   "execution_count": 398,
   "metadata": {},
   "outputs": [],
   "source": [
    "def load_params(param_dir):\n",
    "    with open(param_dir, 'r') as file:\n",
    "        params = yaml.safe_load(file)\n",
    "        \n",
    "    return params"
   ]
  },
  {
   "cell_type": "code",
   "execution_count": 399,
   "metadata": {},
   "outputs": [],
   "source": [
    "params = load_params(params_dir)"
   ]
  },
  {
   "cell_type": "code",
   "execution_count": 400,
   "metadata": {},
   "outputs": [
    {
     "data": {
      "text/plain": [
       "{'dataset_dir': '/Users/avntrr/Documents/Pacmann/raw/',\n",
       " 'datetime_columns': ['tanggal'],\n",
       " 'int32_columns': ['pm10', 'pm25', 'so2', 'co', 'o3', 'no2', 'max'],\n",
       " 'label': 'categori',\n",
       " 'label_categories': ['BAIK', 'SEDANG', 'TIDAK SEHAT'],\n",
       " 'label_categories_new': ['BAIK', 'TIDAK SEHAT'],\n",
       " 'missing_value_co': 11,\n",
       " 'missing_value_no2': 18,\n",
       " 'missing_value_o3': 29,\n",
       " 'missing_value_pm10': {'BAIK': 28, 'TIDAK SEHAT': 55},\n",
       " 'missing_value_pm25': {'BAIK': 38, 'TIDAK SEHAT': 82},\n",
       " 'missing_value_so2': 35,\n",
       " 'object_columns': ['stasiun', 'critical', 'categori'],\n",
       " 'predictors': ['stasiun', 'pm10', 'pm25', 'so2', 'co', 'o3', 'no2'],\n",
       " 'range_co': [-1, 100],\n",
       " 'range_no2': [-1, 100],\n",
       " 'range_o3': [-1, 160],\n",
       " 'range_pm10': [-1, 800],\n",
       " 'range_pm25': [-1, 400],\n",
       " 'range_so2': [-1, 500],\n",
       " 'range_stasiun': ['DKI1 (Bunderan HI)',\n",
       "  'DKI2 (Kelapa Gading)',\n",
       "  'DKI3 (Jagakarsa)',\n",
       "  'DKI4 (Lubang Buaya)',\n",
       "  'DKI5 (Kebon Jeruk) Jakarta Barat']}"
      ]
     },
     "execution_count": 400,
     "metadata": {},
     "output_type": "execute_result"
    }
   ],
   "source": [
    "params"
   ]
  },
  {
   "cell_type": "markdown",
   "metadata": {},
   "source": [
    "2. DATA COLLECTION"
   ]
  },
  {
   "cell_type": "code",
   "execution_count": 401,
   "metadata": {},
   "outputs": [
    {
     "data": {
      "text/plain": [
       "['agustus_2021.csv',\n",
       " 'oktober_2021.csv',\n",
       " 'september_2021.csv',\n",
       " 'november_2021.csv',\n",
       " 'desember_2021.csv']"
      ]
     },
     "execution_count": 401,
     "metadata": {},
     "output_type": "execute_result"
    }
   ],
   "source": [
    "csv_files = glob.glob('*.{}'.format('csv'))\n",
    "csv_files"
   ]
  },
  {
   "cell_type": "code",
   "execution_count": 402,
   "metadata": {},
   "outputs": [
    {
     "name": "stderr",
     "output_type": "stream",
     "text": [
      "/var/folders/d1/6qk1n6ts36zb0kb689t4gg0r0000gn/T/ipykernel_63475/2785968420.py:5: FutureWarning: The frame.append method is deprecated and will be removed from pandas in a future version. Use pandas.concat instead.\n",
      "  dataset = dataset.append(df_temp, ignore_index=True)\n",
      "/var/folders/d1/6qk1n6ts36zb0kb689t4gg0r0000gn/T/ipykernel_63475/2785968420.py:5: FutureWarning: The frame.append method is deprecated and will be removed from pandas in a future version. Use pandas.concat instead.\n",
      "  dataset = dataset.append(df_temp, ignore_index=True)\n",
      "/var/folders/d1/6qk1n6ts36zb0kb689t4gg0r0000gn/T/ipykernel_63475/2785968420.py:5: FutureWarning: The frame.append method is deprecated and will be removed from pandas in a future version. Use pandas.concat instead.\n",
      "  dataset = dataset.append(df_temp, ignore_index=True)\n",
      "/var/folders/d1/6qk1n6ts36zb0kb689t4gg0r0000gn/T/ipykernel_63475/2785968420.py:5: FutureWarning: The frame.append method is deprecated and will be removed from pandas in a future version. Use pandas.concat instead.\n",
      "  dataset = dataset.append(df_temp, ignore_index=True)\n",
      "/var/folders/d1/6qk1n6ts36zb0kb689t4gg0r0000gn/T/ipykernel_63475/2785968420.py:5: FutureWarning: The frame.append method is deprecated and will be removed from pandas in a future version. Use pandas.concat instead.\n",
      "  dataset = dataset.append(df_temp, ignore_index=True)\n"
     ]
    },
    {
     "data": {
      "text/html": [
       "<div>\n",
       "<style scoped>\n",
       "    .dataframe tbody tr th:only-of-type {\n",
       "        vertical-align: middle;\n",
       "    }\n",
       "\n",
       "    .dataframe tbody tr th {\n",
       "        vertical-align: top;\n",
       "    }\n",
       "\n",
       "    .dataframe thead th {\n",
       "        text-align: right;\n",
       "    }\n",
       "</style>\n",
       "<table border=\"1\" class=\"dataframe\">\n",
       "  <thead>\n",
       "    <tr style=\"text-align: right;\">\n",
       "      <th></th>\n",
       "      <th>tanggal</th>\n",
       "      <th>stasiun</th>\n",
       "      <th>pm10</th>\n",
       "      <th>pm25</th>\n",
       "      <th>so2</th>\n",
       "      <th>co</th>\n",
       "      <th>o3</th>\n",
       "      <th>no2</th>\n",
       "      <th>max</th>\n",
       "      <th>critical</th>\n",
       "      <th>categori</th>\n",
       "    </tr>\n",
       "  </thead>\n",
       "  <tbody>\n",
       "    <tr>\n",
       "      <th>0</th>\n",
       "      <td>2021-08-01</td>\n",
       "      <td>DKI1 (Bunderan HI)</td>\n",
       "      <td>51</td>\n",
       "      <td>68</td>\n",
       "      <td>25</td>\n",
       "      <td>8</td>\n",
       "      <td>29</td>\n",
       "      <td>22</td>\n",
       "      <td>68</td>\n",
       "      <td>PM25</td>\n",
       "      <td>SEDANG</td>\n",
       "    </tr>\n",
       "    <tr>\n",
       "      <th>1</th>\n",
       "      <td>2021-08-02</td>\n",
       "      <td>DKI1 (Bunderan HI)</td>\n",
       "      <td>47</td>\n",
       "      <td>63</td>\n",
       "      <td>24</td>\n",
       "      <td>10</td>\n",
       "      <td>25</td>\n",
       "      <td>28</td>\n",
       "      <td>63</td>\n",
       "      <td>PM25</td>\n",
       "      <td>SEDANG</td>\n",
       "    </tr>\n",
       "    <tr>\n",
       "      <th>2</th>\n",
       "      <td>2021-08-03</td>\n",
       "      <td>DKI1 (Bunderan HI)</td>\n",
       "      <td>50</td>\n",
       "      <td>68</td>\n",
       "      <td>26</td>\n",
       "      <td>11</td>\n",
       "      <td>19</td>\n",
       "      <td>35</td>\n",
       "      <td>68</td>\n",
       "      <td>PM25</td>\n",
       "      <td>SEDANG</td>\n",
       "    </tr>\n",
       "    <tr>\n",
       "      <th>3</th>\n",
       "      <td>2021-08-04</td>\n",
       "      <td>DKI1 (Bunderan HI)</td>\n",
       "      <td>52</td>\n",
       "      <td>70</td>\n",
       "      <td>29</td>\n",
       "      <td>8</td>\n",
       "      <td>24</td>\n",
       "      <td>26</td>\n",
       "      <td>70</td>\n",
       "      <td>PM25</td>\n",
       "      <td>SEDANG</td>\n",
       "    </tr>\n",
       "    <tr>\n",
       "      <th>4</th>\n",
       "      <td>2021-08-05</td>\n",
       "      <td>DKI1 (Bunderan HI)</td>\n",
       "      <td>52</td>\n",
       "      <td>66</td>\n",
       "      <td>29</td>\n",
       "      <td>9</td>\n",
       "      <td>21</td>\n",
       "      <td>27</td>\n",
       "      <td>66</td>\n",
       "      <td>PM25</td>\n",
       "      <td>SEDANG</td>\n",
       "    </tr>\n",
       "    <tr>\n",
       "      <th>...</th>\n",
       "      <td>...</td>\n",
       "      <td>...</td>\n",
       "      <td>...</td>\n",
       "      <td>...</td>\n",
       "      <td>...</td>\n",
       "      <td>...</td>\n",
       "      <td>...</td>\n",
       "      <td>...</td>\n",
       "      <td>...</td>\n",
       "      <td>...</td>\n",
       "      <td>...</td>\n",
       "    </tr>\n",
       "    <tr>\n",
       "      <th>760</th>\n",
       "      <td>2021-12-27</td>\n",
       "      <td>DKI5 (Kebon Jeruk) Jakarta Barat</td>\n",
       "      <td>54</td>\n",
       "      <td>76</td>\n",
       "      <td>36</td>\n",
       "      <td>14</td>\n",
       "      <td>21</td>\n",
       "      <td>47</td>\n",
       "      <td>76</td>\n",
       "      <td>PM25</td>\n",
       "      <td>SEDANG</td>\n",
       "    </tr>\n",
       "    <tr>\n",
       "      <th>761</th>\n",
       "      <td>2021-12-28</td>\n",
       "      <td>DKI5 (Kebon Jeruk) Jakarta Barat</td>\n",
       "      <td>44</td>\n",
       "      <td>68</td>\n",
       "      <td>20</td>\n",
       "      <td>11</td>\n",
       "      <td>21</td>\n",
       "      <td>33</td>\n",
       "      <td>68</td>\n",
       "      <td>PM25</td>\n",
       "      <td>SEDANG</td>\n",
       "    </tr>\n",
       "    <tr>\n",
       "      <th>762</th>\n",
       "      <td>2021-12-29</td>\n",
       "      <td>DKI5 (Kebon Jeruk) Jakarta Barat</td>\n",
       "      <td>34</td>\n",
       "      <td>54</td>\n",
       "      <td>28</td>\n",
       "      <td>8</td>\n",
       "      <td>25</td>\n",
       "      <td>29</td>\n",
       "      <td>54</td>\n",
       "      <td>PM25</td>\n",
       "      <td>SEDANG</td>\n",
       "    </tr>\n",
       "    <tr>\n",
       "      <th>763</th>\n",
       "      <td>2021-12-30</td>\n",
       "      <td>DKI5 (Kebon Jeruk) Jakarta Barat</td>\n",
       "      <td>53</td>\n",
       "      <td>75</td>\n",
       "      <td>25</td>\n",
       "      <td>15</td>\n",
       "      <td>23</td>\n",
       "      <td>44</td>\n",
       "      <td>75</td>\n",
       "      <td>PM25</td>\n",
       "      <td>SEDANG</td>\n",
       "    </tr>\n",
       "    <tr>\n",
       "      <th>764</th>\n",
       "      <td>2021-12-31</td>\n",
       "      <td>DKI5 (Kebon Jeruk) Jakarta Barat</td>\n",
       "      <td>60</td>\n",
       "      <td>87</td>\n",
       "      <td>28</td>\n",
       "      <td>19</td>\n",
       "      <td>30</td>\n",
       "      <td>53</td>\n",
       "      <td>87</td>\n",
       "      <td>PM25</td>\n",
       "      <td>SEDANG</td>\n",
       "    </tr>\n",
       "  </tbody>\n",
       "</table>\n",
       "<p>765 rows × 11 columns</p>\n",
       "</div>"
      ],
      "text/plain": [
       "        tanggal                           stasiun pm10 pm25 so2  co  o3 no2  \\\n",
       "0    2021-08-01                DKI1 (Bunderan HI)   51   68  25   8  29  22   \n",
       "1    2021-08-02                DKI1 (Bunderan HI)   47   63  24  10  25  28   \n",
       "2    2021-08-03                DKI1 (Bunderan HI)   50   68  26  11  19  35   \n",
       "3    2021-08-04                DKI1 (Bunderan HI)   52   70  29   8  24  26   \n",
       "4    2021-08-05                DKI1 (Bunderan HI)   52   66  29   9  21  27   \n",
       "..          ...                               ...  ...  ...  ..  ..  ..  ..   \n",
       "760  2021-12-27  DKI5 (Kebon Jeruk) Jakarta Barat   54   76  36  14  21  47   \n",
       "761  2021-12-28  DKI5 (Kebon Jeruk) Jakarta Barat   44   68  20  11  21  33   \n",
       "762  2021-12-29  DKI5 (Kebon Jeruk) Jakarta Barat   34   54  28   8  25  29   \n",
       "763  2021-12-30  DKI5 (Kebon Jeruk) Jakarta Barat   53   75  25  15  23  44   \n",
       "764  2021-12-31  DKI5 (Kebon Jeruk) Jakarta Barat   60   87  28  19  30  53   \n",
       "\n",
       "    max critical categori  \n",
       "0    68     PM25   SEDANG  \n",
       "1    63     PM25   SEDANG  \n",
       "2    68     PM25   SEDANG  \n",
       "3    70     PM25   SEDANG  \n",
       "4    66     PM25   SEDANG  \n",
       "..   ..      ...      ...  \n",
       "760  76     PM25   SEDANG  \n",
       "761  68     PM25   SEDANG  \n",
       "762  54     PM25   SEDANG  \n",
       "763  75     PM25   SEDANG  \n",
       "764  87     PM25   SEDANG  \n",
       "\n",
       "[765 rows x 11 columns]"
      ]
     },
     "execution_count": 402,
     "metadata": {},
     "output_type": "execute_result"
    }
   ],
   "source": [
    "dataset = pd.DataFrame()\n",
    "# append all files together\n",
    "for file in csv_files:\n",
    "            df_temp = pd.read_csv(file)\n",
    "            dataset = dataset.append(df_temp, ignore_index=True)\n",
    "dataset"
   ]
  },
  {
   "cell_type": "markdown",
   "metadata": {},
   "source": [
    "2.1. GANTI \"SEDANG\" MENJADI \"BAIK\""
   ]
  },
  {
   "cell_type": "code",
   "execution_count": 403,
   "metadata": {},
   "outputs": [
    {
     "data": {
      "text/html": [
       "<div>\n",
       "<style scoped>\n",
       "    .dataframe tbody tr th:only-of-type {\n",
       "        vertical-align: middle;\n",
       "    }\n",
       "\n",
       "    .dataframe tbody tr th {\n",
       "        vertical-align: top;\n",
       "    }\n",
       "\n",
       "    .dataframe thead th {\n",
       "        text-align: right;\n",
       "    }\n",
       "</style>\n",
       "<table border=\"1\" class=\"dataframe\">\n",
       "  <thead>\n",
       "    <tr style=\"text-align: right;\">\n",
       "      <th></th>\n",
       "      <th>tanggal</th>\n",
       "      <th>stasiun</th>\n",
       "      <th>pm10</th>\n",
       "      <th>pm25</th>\n",
       "      <th>so2</th>\n",
       "      <th>co</th>\n",
       "      <th>o3</th>\n",
       "      <th>no2</th>\n",
       "      <th>max</th>\n",
       "      <th>critical</th>\n",
       "      <th>categori</th>\n",
       "    </tr>\n",
       "  </thead>\n",
       "  <tbody>\n",
       "    <tr>\n",
       "      <th>0</th>\n",
       "      <td>2021-08-01</td>\n",
       "      <td>DKI1 (Bunderan HI)</td>\n",
       "      <td>51</td>\n",
       "      <td>68</td>\n",
       "      <td>25</td>\n",
       "      <td>8</td>\n",
       "      <td>29</td>\n",
       "      <td>22</td>\n",
       "      <td>68</td>\n",
       "      <td>PM25</td>\n",
       "      <td>BAIK</td>\n",
       "    </tr>\n",
       "    <tr>\n",
       "      <th>1</th>\n",
       "      <td>2021-08-02</td>\n",
       "      <td>DKI1 (Bunderan HI)</td>\n",
       "      <td>47</td>\n",
       "      <td>63</td>\n",
       "      <td>24</td>\n",
       "      <td>10</td>\n",
       "      <td>25</td>\n",
       "      <td>28</td>\n",
       "      <td>63</td>\n",
       "      <td>PM25</td>\n",
       "      <td>BAIK</td>\n",
       "    </tr>\n",
       "    <tr>\n",
       "      <th>2</th>\n",
       "      <td>2021-08-03</td>\n",
       "      <td>DKI1 (Bunderan HI)</td>\n",
       "      <td>50</td>\n",
       "      <td>68</td>\n",
       "      <td>26</td>\n",
       "      <td>11</td>\n",
       "      <td>19</td>\n",
       "      <td>35</td>\n",
       "      <td>68</td>\n",
       "      <td>PM25</td>\n",
       "      <td>BAIK</td>\n",
       "    </tr>\n",
       "    <tr>\n",
       "      <th>3</th>\n",
       "      <td>2021-08-04</td>\n",
       "      <td>DKI1 (Bunderan HI)</td>\n",
       "      <td>52</td>\n",
       "      <td>70</td>\n",
       "      <td>29</td>\n",
       "      <td>8</td>\n",
       "      <td>24</td>\n",
       "      <td>26</td>\n",
       "      <td>70</td>\n",
       "      <td>PM25</td>\n",
       "      <td>BAIK</td>\n",
       "    </tr>\n",
       "    <tr>\n",
       "      <th>4</th>\n",
       "      <td>2021-08-05</td>\n",
       "      <td>DKI1 (Bunderan HI)</td>\n",
       "      <td>52</td>\n",
       "      <td>66</td>\n",
       "      <td>29</td>\n",
       "      <td>9</td>\n",
       "      <td>21</td>\n",
       "      <td>27</td>\n",
       "      <td>66</td>\n",
       "      <td>PM25</td>\n",
       "      <td>BAIK</td>\n",
       "    </tr>\n",
       "    <tr>\n",
       "      <th>...</th>\n",
       "      <td>...</td>\n",
       "      <td>...</td>\n",
       "      <td>...</td>\n",
       "      <td>...</td>\n",
       "      <td>...</td>\n",
       "      <td>...</td>\n",
       "      <td>...</td>\n",
       "      <td>...</td>\n",
       "      <td>...</td>\n",
       "      <td>...</td>\n",
       "      <td>...</td>\n",
       "    </tr>\n",
       "    <tr>\n",
       "      <th>760</th>\n",
       "      <td>2021-12-27</td>\n",
       "      <td>DKI5 (Kebon Jeruk) Jakarta Barat</td>\n",
       "      <td>54</td>\n",
       "      <td>76</td>\n",
       "      <td>36</td>\n",
       "      <td>14</td>\n",
       "      <td>21</td>\n",
       "      <td>47</td>\n",
       "      <td>76</td>\n",
       "      <td>PM25</td>\n",
       "      <td>BAIK</td>\n",
       "    </tr>\n",
       "    <tr>\n",
       "      <th>761</th>\n",
       "      <td>2021-12-28</td>\n",
       "      <td>DKI5 (Kebon Jeruk) Jakarta Barat</td>\n",
       "      <td>44</td>\n",
       "      <td>68</td>\n",
       "      <td>20</td>\n",
       "      <td>11</td>\n",
       "      <td>21</td>\n",
       "      <td>33</td>\n",
       "      <td>68</td>\n",
       "      <td>PM25</td>\n",
       "      <td>BAIK</td>\n",
       "    </tr>\n",
       "    <tr>\n",
       "      <th>762</th>\n",
       "      <td>2021-12-29</td>\n",
       "      <td>DKI5 (Kebon Jeruk) Jakarta Barat</td>\n",
       "      <td>34</td>\n",
       "      <td>54</td>\n",
       "      <td>28</td>\n",
       "      <td>8</td>\n",
       "      <td>25</td>\n",
       "      <td>29</td>\n",
       "      <td>54</td>\n",
       "      <td>PM25</td>\n",
       "      <td>BAIK</td>\n",
       "    </tr>\n",
       "    <tr>\n",
       "      <th>763</th>\n",
       "      <td>2021-12-30</td>\n",
       "      <td>DKI5 (Kebon Jeruk) Jakarta Barat</td>\n",
       "      <td>53</td>\n",
       "      <td>75</td>\n",
       "      <td>25</td>\n",
       "      <td>15</td>\n",
       "      <td>23</td>\n",
       "      <td>44</td>\n",
       "      <td>75</td>\n",
       "      <td>PM25</td>\n",
       "      <td>BAIK</td>\n",
       "    </tr>\n",
       "    <tr>\n",
       "      <th>764</th>\n",
       "      <td>2021-12-31</td>\n",
       "      <td>DKI5 (Kebon Jeruk) Jakarta Barat</td>\n",
       "      <td>60</td>\n",
       "      <td>87</td>\n",
       "      <td>28</td>\n",
       "      <td>19</td>\n",
       "      <td>30</td>\n",
       "      <td>53</td>\n",
       "      <td>87</td>\n",
       "      <td>PM25</td>\n",
       "      <td>BAIK</td>\n",
       "    </tr>\n",
       "  </tbody>\n",
       "</table>\n",
       "<p>765 rows × 11 columns</p>\n",
       "</div>"
      ],
      "text/plain": [
       "        tanggal                           stasiun pm10 pm25 so2  co  o3 no2  \\\n",
       "0    2021-08-01                DKI1 (Bunderan HI)   51   68  25   8  29  22   \n",
       "1    2021-08-02                DKI1 (Bunderan HI)   47   63  24  10  25  28   \n",
       "2    2021-08-03                DKI1 (Bunderan HI)   50   68  26  11  19  35   \n",
       "3    2021-08-04                DKI1 (Bunderan HI)   52   70  29   8  24  26   \n",
       "4    2021-08-05                DKI1 (Bunderan HI)   52   66  29   9  21  27   \n",
       "..          ...                               ...  ...  ...  ..  ..  ..  ..   \n",
       "760  2021-12-27  DKI5 (Kebon Jeruk) Jakarta Barat   54   76  36  14  21  47   \n",
       "761  2021-12-28  DKI5 (Kebon Jeruk) Jakarta Barat   44   68  20  11  21  33   \n",
       "762  2021-12-29  DKI5 (Kebon Jeruk) Jakarta Barat   34   54  28   8  25  29   \n",
       "763  2021-12-30  DKI5 (Kebon Jeruk) Jakarta Barat   53   75  25  15  23  44   \n",
       "764  2021-12-31  DKI5 (Kebon Jeruk) Jakarta Barat   60   87  28  19  30  53   \n",
       "\n",
       "    max critical categori  \n",
       "0    68     PM25     BAIK  \n",
       "1    63     PM25     BAIK  \n",
       "2    68     PM25     BAIK  \n",
       "3    70     PM25     BAIK  \n",
       "4    66     PM25     BAIK  \n",
       "..   ..      ...      ...  \n",
       "760  76     PM25     BAIK  \n",
       "761  68     PM25     BAIK  \n",
       "762  54     PM25     BAIK  \n",
       "763  75     PM25     BAIK  \n",
       "764  87     PM25     BAIK  \n",
       "\n",
       "[765 rows x 11 columns]"
      ]
     },
     "execution_count": 403,
     "metadata": {},
     "output_type": "execute_result"
    }
   ],
   "source": [
    "dataset['categori'] = dataset['categori'].replace(['SEDANG'], 'BAIK')\n",
    "dataset"
   ]
  },
  {
   "cell_type": "code",
   "execution_count": 404,
   "metadata": {},
   "outputs": [
    {
     "data": {
      "text/plain": [
       "['/Users/avntrr/Documents/Pacmann/dataset.pkl']"
      ]
     },
     "execution_count": 404,
     "metadata": {},
     "output_type": "execute_result"
    }
   ],
   "source": [
    "joblib.dump(dataset, \"/Users/avntrr/Documents/Pacmann/dataset.pkl\")"
   ]
  },
  {
   "cell_type": "markdown",
   "metadata": {},
   "source": [
    "## 2. DATA DEFINITION"
   ]
  },
  {
   "cell_type": "markdown",
   "metadata": {},
   "source": [
    "tanggal         :\n",
    "    [datetime]\n",
    "    [00:00 01/08/2021 - 23:59 31/12/2021]\n",
    "    waktu saat pengambilan sampel\n",
    "\n",
    "stasiun         :\n",
    "    [object]\n",
    "    ['DKI1 (Bunderan HI)', 'DKI2 (Kelapa Gading)', 'DKI3 (Jagakarsa)', 'DKI4 (Lubang Buaya)', 'DKI5 (Kebon Jeruk) Jakarta Barat']\n",
    "    lokasi saat pengambilan sampel\n",
    "\n",
    "pm10            :\n",
    "    [integer]\n",
    "    [0 - 800]\n",
    "    partikel udara yang berukuran lebih kecil dari 10 mikron\n",
    "\n",
    "pm25            :\n",
    "    [integer]\n",
    "    [0 - 400]\n",
    "    partikel udara yang berukuran lebih kecil dari 2.5 mikron\n",
    "\n",
    "so2             :\n",
    "    [integer]\n",
    "    [0 - 500]\n",
    "    sulfur dioksida\n",
    "\n",
    "co              :\n",
    "    [integer]\n",
    "    [0 - 100]\n",
    "    karbon monoksida\n",
    "\n",
    "o3              :\n",
    "    [integer]\n",
    "    [0 - 140]\n",
    "    ozone\n",
    "\n",
    "no2             :\n",
    "    [integer]\n",
    "    [0 - 100]\n",
    "    nitrogen dioksida\n",
    "\n",
    "max             :\n",
    "    [integer]\n",
    "    [0 - 800]\n",
    "    nilai paling besar diantara pm10, pm25, so2, co, o3, dan no2\n",
    "\n",
    "critical        :\n",
    "    [object]\n",
    "    [PM10, PM25, SO2, CO, O3, dan NO2]\n",
    "    nama kolom untuk nilai max\n",
    "\n",
    "categori        :\n",
    "    [object]\n",
    "    [BAIK, TIDAK SEHAT]\n",
    "    kategori untuk data pengukuran udara\n",
    "\n",
    "location        : tidak termasuk karena ada data yang nama kolomnya tidak standar"
   ]
  },
  {
   "cell_type": "markdown",
   "metadata": {},
   "source": [
    "## 3. DATA VALIDATION"
   ]
  },
  {
   "cell_type": "markdown",
   "metadata": {},
   "source": [
    "3.1. Tipe Data"
   ]
  },
  {
   "cell_type": "code",
   "execution_count": 405,
   "metadata": {},
   "outputs": [
    {
     "data": {
      "text/plain": [
       "tanggal     object\n",
       "stasiun     object\n",
       "pm10        object\n",
       "pm25        object\n",
       "so2         object\n",
       "co          object\n",
       "o3          object\n",
       "no2         object\n",
       "max         object\n",
       "critical    object\n",
       "categori    object\n",
       "dtype: object"
      ]
     },
     "execution_count": 405,
     "metadata": {},
     "output_type": "execute_result"
    }
   ],
   "source": [
    "dataset.dtypes"
   ]
  },
  {
   "cell_type": "markdown",
   "metadata": {},
   "source": [
    "3.2. Range "
   ]
  },
  {
   "cell_type": "code",
   "execution_count": 406,
   "metadata": {},
   "outputs": [
    {
     "data": {
      "text/html": [
       "<div>\n",
       "<style scoped>\n",
       "    .dataframe tbody tr th:only-of-type {\n",
       "        vertical-align: middle;\n",
       "    }\n",
       "\n",
       "    .dataframe tbody tr th {\n",
       "        vertical-align: top;\n",
       "    }\n",
       "\n",
       "    .dataframe thead th {\n",
       "        text-align: right;\n",
       "    }\n",
       "</style>\n",
       "<table border=\"1\" class=\"dataframe\">\n",
       "  <thead>\n",
       "    <tr style=\"text-align: right;\">\n",
       "      <th></th>\n",
       "      <th>tanggal</th>\n",
       "      <th>stasiun</th>\n",
       "      <th>pm10</th>\n",
       "      <th>pm25</th>\n",
       "      <th>so2</th>\n",
       "      <th>co</th>\n",
       "      <th>o3</th>\n",
       "      <th>no2</th>\n",
       "      <th>max</th>\n",
       "      <th>critical</th>\n",
       "      <th>categori</th>\n",
       "    </tr>\n",
       "  </thead>\n",
       "  <tbody>\n",
       "    <tr>\n",
       "      <th>count</th>\n",
       "      <td>765</td>\n",
       "      <td>765</td>\n",
       "      <td>765</td>\n",
       "      <td>765</td>\n",
       "      <td>765</td>\n",
       "      <td>765</td>\n",
       "      <td>765</td>\n",
       "      <td>765</td>\n",
       "      <td>765</td>\n",
       "      <td>757</td>\n",
       "      <td>764</td>\n",
       "    </tr>\n",
       "    <tr>\n",
       "      <th>unique</th>\n",
       "      <td>153</td>\n",
       "      <td>5</td>\n",
       "      <td>107</td>\n",
       "      <td>164</td>\n",
       "      <td>103</td>\n",
       "      <td>41</td>\n",
       "      <td>105</td>\n",
       "      <td>83</td>\n",
       "      <td>163</td>\n",
       "      <td>5</td>\n",
       "      <td>3</td>\n",
       "    </tr>\n",
       "    <tr>\n",
       "      <th>top</th>\n",
       "      <td>2021-08-01</td>\n",
       "      <td>DKI1 (Bunderan HI)</td>\n",
       "      <td>---</td>\n",
       "      <td>71</td>\n",
       "      <td>---</td>\n",
       "      <td>10</td>\n",
       "      <td>---</td>\n",
       "      <td>15</td>\n",
       "      <td>77</td>\n",
       "      <td>PM25</td>\n",
       "      <td>BAIK</td>\n",
       "    </tr>\n",
       "    <tr>\n",
       "      <th>freq</th>\n",
       "      <td>5</td>\n",
       "      <td>153</td>\n",
       "      <td>32</td>\n",
       "      <td>21</td>\n",
       "      <td>95</td>\n",
       "      <td>65</td>\n",
       "      <td>32</td>\n",
       "      <td>42</td>\n",
       "      <td>20</td>\n",
       "      <td>714</td>\n",
       "      <td>670</td>\n",
       "    </tr>\n",
       "  </tbody>\n",
       "</table>\n",
       "</div>"
      ],
      "text/plain": [
       "           tanggal             stasiun pm10 pm25  so2   co   o3  no2  max  \\\n",
       "count          765                 765  765  765  765  765  765  765  765   \n",
       "unique         153                   5  107  164  103   41  105   83  163   \n",
       "top     2021-08-01  DKI1 (Bunderan HI)  ---   71  ---   10  ---   15   77   \n",
       "freq             5                 153   32   21   95   65   32   42   20   \n",
       "\n",
       "       critical categori  \n",
       "count       757      764  \n",
       "unique        5        3  \n",
       "top        PM25     BAIK  \n",
       "freq        714      670  "
      ]
     },
     "execution_count": 406,
     "metadata": {},
     "output_type": "execute_result"
    }
   ],
   "source": [
    "dataset.describe()"
   ]
  },
  {
   "cell_type": "markdown",
   "metadata": {},
   "source": [
    "3.3. Dimensi Data"
   ]
  },
  {
   "cell_type": "code",
   "execution_count": 407,
   "metadata": {},
   "outputs": [
    {
     "data": {
      "text/plain": [
       "(765, 11)"
      ]
     },
     "execution_count": 407,
     "metadata": {},
     "output_type": "execute_result"
    }
   ],
   "source": [
    "dataset.shape"
   ]
  },
  {
   "cell_type": "markdown",
   "metadata": {},
   "source": [
    "3.4. Handling Columns Error"
   ]
  },
  {
   "cell_type": "code",
   "execution_count": 408,
   "metadata": {},
   "outputs": [
    {
     "name": "stdout",
     "output_type": "stream",
     "text": [
      "<class 'pandas.core.frame.DataFrame'>\n",
      "RangeIndex: 765 entries, 0 to 764\n",
      "Data columns (total 11 columns):\n",
      " #   Column    Non-Null Count  Dtype \n",
      "---  ------    --------------  ----- \n",
      " 0   tanggal   765 non-null    object\n",
      " 1   stasiun   765 non-null    object\n",
      " 2   pm10      765 non-null    object\n",
      " 3   pm25      765 non-null    object\n",
      " 4   so2       765 non-null    object\n",
      " 5   co        765 non-null    object\n",
      " 6   o3        765 non-null    object\n",
      " 7   no2       765 non-null    object\n",
      " 8   max       765 non-null    object\n",
      " 9   critical  757 non-null    object\n",
      " 10  categori  764 non-null    object\n",
      "dtypes: object(11)\n",
      "memory usage: 65.9+ KB\n"
     ]
    }
   ],
   "source": [
    "dataset.info()"
   ]
  },
  {
   "cell_type": "markdown",
   "metadata": {},
   "source": [
    "3.5.1. Handling Column \"Tanggal\""
   ]
  },
  {
   "cell_type": "code",
   "execution_count": 409,
   "metadata": {},
   "outputs": [],
   "source": [
    "#HANDLING COLUMN TANGGAL\n",
    "dataset.tanggal = pd.to_datetime(dataset.tanggal)"
   ]
  },
  {
   "cell_type": "markdown",
   "metadata": {},
   "source": [
    "3.5.2. Handling Column \"PM10\""
   ]
  },
  {
   "cell_type": "code",
   "execution_count": 410,
   "metadata": {},
   "outputs": [
    {
     "ename": "ValueError",
     "evalue": "invalid literal for int() with base 10: '---'",
     "output_type": "error",
     "traceback": [
      "\u001b[0;31m---------------------------------------------------------------------------\u001b[0m",
      "\u001b[0;31mValueError\u001b[0m                                Traceback (most recent call last)",
      "\u001b[1;32m/Users/avntrr/Documents/Pacmann/tugas_akhir_pacmann.ipynb Cell 27\u001b[0m in \u001b[0;36m<cell line: 2>\u001b[0;34m()\u001b[0m\n\u001b[1;32m      <a href='vscode-notebook-cell:/Users/avntrr/Documents/Pacmann/tugas_akhir_pacmann.ipynb#X40sZmlsZQ%3D%3D?line=0'>1</a>\u001b[0m \u001b[39m#HANDLING PM10\u001b[39;00m\n\u001b[0;32m----> <a href='vscode-notebook-cell:/Users/avntrr/Documents/Pacmann/tugas_akhir_pacmann.ipynb#X40sZmlsZQ%3D%3D?line=1'>2</a>\u001b[0m dataset\u001b[39m.\u001b[39mpm10 \u001b[39m=\u001b[39m dataset\u001b[39m.\u001b[39;49mpm10\u001b[39m.\u001b[39;49mastype(\u001b[39mint\u001b[39;49m)\n",
      "File \u001b[0;32m/Library/Frameworks/Python.framework/Versions/3.9/lib/python3.9/site-packages/pandas/core/generic.py:5912\u001b[0m, in \u001b[0;36mNDFrame.astype\u001b[0;34m(self, dtype, copy, errors)\u001b[0m\n\u001b[1;32m   5905\u001b[0m     results \u001b[39m=\u001b[39m [\n\u001b[1;32m   5906\u001b[0m         \u001b[39mself\u001b[39m\u001b[39m.\u001b[39miloc[:, i]\u001b[39m.\u001b[39mastype(dtype, copy\u001b[39m=\u001b[39mcopy)\n\u001b[1;32m   5907\u001b[0m         \u001b[39mfor\u001b[39;00m i \u001b[39min\u001b[39;00m \u001b[39mrange\u001b[39m(\u001b[39mlen\u001b[39m(\u001b[39mself\u001b[39m\u001b[39m.\u001b[39mcolumns))\n\u001b[1;32m   5908\u001b[0m     ]\n\u001b[1;32m   5910\u001b[0m \u001b[39melse\u001b[39;00m:\n\u001b[1;32m   5911\u001b[0m     \u001b[39m# else, only a single dtype is given\u001b[39;00m\n\u001b[0;32m-> 5912\u001b[0m     new_data \u001b[39m=\u001b[39m \u001b[39mself\u001b[39;49m\u001b[39m.\u001b[39;49m_mgr\u001b[39m.\u001b[39;49mastype(dtype\u001b[39m=\u001b[39;49mdtype, copy\u001b[39m=\u001b[39;49mcopy, errors\u001b[39m=\u001b[39;49merrors)\n\u001b[1;32m   5913\u001b[0m     \u001b[39mreturn\u001b[39;00m \u001b[39mself\u001b[39m\u001b[39m.\u001b[39m_constructor(new_data)\u001b[39m.\u001b[39m__finalize__(\u001b[39mself\u001b[39m, method\u001b[39m=\u001b[39m\u001b[39m\"\u001b[39m\u001b[39mastype\u001b[39m\u001b[39m\"\u001b[39m)\n\u001b[1;32m   5915\u001b[0m \u001b[39m# GH 33113: handle empty frame or series\u001b[39;00m\n",
      "File \u001b[0;32m/Library/Frameworks/Python.framework/Versions/3.9/lib/python3.9/site-packages/pandas/core/internals/managers.py:419\u001b[0m, in \u001b[0;36mBaseBlockManager.astype\u001b[0;34m(self, dtype, copy, errors)\u001b[0m\n\u001b[1;32m    418\u001b[0m \u001b[39mdef\u001b[39;00m \u001b[39mastype\u001b[39m(\u001b[39mself\u001b[39m: T, dtype, copy: \u001b[39mbool\u001b[39m \u001b[39m=\u001b[39m \u001b[39mFalse\u001b[39;00m, errors: \u001b[39mstr\u001b[39m \u001b[39m=\u001b[39m \u001b[39m\"\u001b[39m\u001b[39mraise\u001b[39m\u001b[39m\"\u001b[39m) \u001b[39m-\u001b[39m\u001b[39m>\u001b[39m T:\n\u001b[0;32m--> 419\u001b[0m     \u001b[39mreturn\u001b[39;00m \u001b[39mself\u001b[39;49m\u001b[39m.\u001b[39;49mapply(\u001b[39m\"\u001b[39;49m\u001b[39mastype\u001b[39;49m\u001b[39m\"\u001b[39;49m, dtype\u001b[39m=\u001b[39;49mdtype, copy\u001b[39m=\u001b[39;49mcopy, errors\u001b[39m=\u001b[39;49merrors)\n",
      "File \u001b[0;32m/Library/Frameworks/Python.framework/Versions/3.9/lib/python3.9/site-packages/pandas/core/internals/managers.py:304\u001b[0m, in \u001b[0;36mBaseBlockManager.apply\u001b[0;34m(self, f, align_keys, ignore_failures, **kwargs)\u001b[0m\n\u001b[1;32m    302\u001b[0m         applied \u001b[39m=\u001b[39m b\u001b[39m.\u001b[39mapply(f, \u001b[39m*\u001b[39m\u001b[39m*\u001b[39mkwargs)\n\u001b[1;32m    303\u001b[0m     \u001b[39melse\u001b[39;00m:\n\u001b[0;32m--> 304\u001b[0m         applied \u001b[39m=\u001b[39m \u001b[39mgetattr\u001b[39;49m(b, f)(\u001b[39m*\u001b[39;49m\u001b[39m*\u001b[39;49mkwargs)\n\u001b[1;32m    305\u001b[0m \u001b[39mexcept\u001b[39;00m (\u001b[39mTypeError\u001b[39;00m, \u001b[39mNotImplementedError\u001b[39;00m):\n\u001b[1;32m    306\u001b[0m     \u001b[39mif\u001b[39;00m \u001b[39mnot\u001b[39;00m ignore_failures:\n",
      "File \u001b[0;32m/Library/Frameworks/Python.framework/Versions/3.9/lib/python3.9/site-packages/pandas/core/internals/blocks.py:580\u001b[0m, in \u001b[0;36mBlock.astype\u001b[0;34m(self, dtype, copy, errors)\u001b[0m\n\u001b[1;32m    562\u001b[0m \u001b[39m\"\"\"\u001b[39;00m\n\u001b[1;32m    563\u001b[0m \u001b[39mCoerce to the new dtype.\u001b[39;00m\n\u001b[1;32m    564\u001b[0m \n\u001b[0;32m   (...)\u001b[0m\n\u001b[1;32m    576\u001b[0m \u001b[39mBlock\u001b[39;00m\n\u001b[1;32m    577\u001b[0m \u001b[39m\"\"\"\u001b[39;00m\n\u001b[1;32m    578\u001b[0m values \u001b[39m=\u001b[39m \u001b[39mself\u001b[39m\u001b[39m.\u001b[39mvalues\n\u001b[0;32m--> 580\u001b[0m new_values \u001b[39m=\u001b[39m astype_array_safe(values, dtype, copy\u001b[39m=\u001b[39;49mcopy, errors\u001b[39m=\u001b[39;49merrors)\n\u001b[1;32m    582\u001b[0m new_values \u001b[39m=\u001b[39m maybe_coerce_values(new_values)\n\u001b[1;32m    583\u001b[0m newb \u001b[39m=\u001b[39m \u001b[39mself\u001b[39m\u001b[39m.\u001b[39mmake_block(new_values)\n",
      "File \u001b[0;32m/Library/Frameworks/Python.framework/Versions/3.9/lib/python3.9/site-packages/pandas/core/dtypes/cast.py:1292\u001b[0m, in \u001b[0;36mastype_array_safe\u001b[0;34m(values, dtype, copy, errors)\u001b[0m\n\u001b[1;32m   1289\u001b[0m     dtype \u001b[39m=\u001b[39m dtype\u001b[39m.\u001b[39mnumpy_dtype\n\u001b[1;32m   1291\u001b[0m \u001b[39mtry\u001b[39;00m:\n\u001b[0;32m-> 1292\u001b[0m     new_values \u001b[39m=\u001b[39m astype_array(values, dtype, copy\u001b[39m=\u001b[39;49mcopy)\n\u001b[1;32m   1293\u001b[0m \u001b[39mexcept\u001b[39;00m (\u001b[39mValueError\u001b[39;00m, \u001b[39mTypeError\u001b[39;00m):\n\u001b[1;32m   1294\u001b[0m     \u001b[39m# e.g. astype_nansafe can fail on object-dtype of strings\u001b[39;00m\n\u001b[1;32m   1295\u001b[0m     \u001b[39m#  trying to convert to float\u001b[39;00m\n\u001b[1;32m   1296\u001b[0m     \u001b[39mif\u001b[39;00m errors \u001b[39m==\u001b[39m \u001b[39m\"\u001b[39m\u001b[39mignore\u001b[39m\u001b[39m\"\u001b[39m:\n",
      "File \u001b[0;32m/Library/Frameworks/Python.framework/Versions/3.9/lib/python3.9/site-packages/pandas/core/dtypes/cast.py:1237\u001b[0m, in \u001b[0;36mastype_array\u001b[0;34m(values, dtype, copy)\u001b[0m\n\u001b[1;32m   1234\u001b[0m     values \u001b[39m=\u001b[39m values\u001b[39m.\u001b[39mastype(dtype, copy\u001b[39m=\u001b[39mcopy)\n\u001b[1;32m   1236\u001b[0m \u001b[39melse\u001b[39;00m:\n\u001b[0;32m-> 1237\u001b[0m     values \u001b[39m=\u001b[39m astype_nansafe(values, dtype, copy\u001b[39m=\u001b[39;49mcopy)\n\u001b[1;32m   1239\u001b[0m \u001b[39m# in pandas we don't store numpy str dtypes, so convert to object\u001b[39;00m\n\u001b[1;32m   1240\u001b[0m \u001b[39mif\u001b[39;00m \u001b[39misinstance\u001b[39m(dtype, np\u001b[39m.\u001b[39mdtype) \u001b[39mand\u001b[39;00m \u001b[39missubclass\u001b[39m(values\u001b[39m.\u001b[39mdtype\u001b[39m.\u001b[39mtype, \u001b[39mstr\u001b[39m):\n",
      "File \u001b[0;32m/Library/Frameworks/Python.framework/Versions/3.9/lib/python3.9/site-packages/pandas/core/dtypes/cast.py:1154\u001b[0m, in \u001b[0;36mastype_nansafe\u001b[0;34m(arr, dtype, copy, skipna)\u001b[0m\n\u001b[1;32m   1150\u001b[0m \u001b[39melif\u001b[39;00m is_object_dtype(arr\u001b[39m.\u001b[39mdtype):\n\u001b[1;32m   1151\u001b[0m \n\u001b[1;32m   1152\u001b[0m     \u001b[39m# work around NumPy brokenness, #1987\u001b[39;00m\n\u001b[1;32m   1153\u001b[0m     \u001b[39mif\u001b[39;00m np\u001b[39m.\u001b[39missubdtype(dtype\u001b[39m.\u001b[39mtype, np\u001b[39m.\u001b[39minteger):\n\u001b[0;32m-> 1154\u001b[0m         \u001b[39mreturn\u001b[39;00m lib\u001b[39m.\u001b[39;49mastype_intsafe(arr, dtype)\n\u001b[1;32m   1156\u001b[0m     \u001b[39m# if we have a datetime/timedelta array of objects\u001b[39;00m\n\u001b[1;32m   1157\u001b[0m     \u001b[39m# then coerce to a proper dtype and recall astype_nansafe\u001b[39;00m\n\u001b[1;32m   1159\u001b[0m     \u001b[39melif\u001b[39;00m is_datetime64_dtype(dtype):\n",
      "File \u001b[0;32m/Library/Frameworks/Python.framework/Versions/3.9/lib/python3.9/site-packages/pandas/_libs/lib.pyx:668\u001b[0m, in \u001b[0;36mpandas._libs.lib.astype_intsafe\u001b[0;34m()\u001b[0m\n",
      "\u001b[0;31mValueError\u001b[0m: invalid literal for int() with base 10: '---'"
     ]
    }
   ],
   "source": [
    "#HANDLING PM10\n",
    "dataset.pm10 = dataset.pm10.astype(int)"
   ]
  },
  {
   "cell_type": "code",
   "execution_count": 411,
   "metadata": {},
   "outputs": [],
   "source": [
    "#Ganti \"---\" dengan suatu numerik\n",
    "dataset.pm10 = dataset.pm10.replace(\"---\", -1).astype(int)"
   ]
  },
  {
   "cell_type": "code",
   "execution_count": 412,
   "metadata": {},
   "outputs": [
    {
     "name": "stdout",
     "output_type": "stream",
     "text": [
      "<class 'pandas.core.frame.DataFrame'>\n",
      "RangeIndex: 765 entries, 0 to 764\n",
      "Data columns (total 11 columns):\n",
      " #   Column    Non-Null Count  Dtype         \n",
      "---  ------    --------------  -----         \n",
      " 0   tanggal   765 non-null    datetime64[ns]\n",
      " 1   stasiun   765 non-null    object        \n",
      " 2   pm10      765 non-null    int64         \n",
      " 3   pm25      765 non-null    object        \n",
      " 4   so2       765 non-null    object        \n",
      " 5   co        765 non-null    object        \n",
      " 6   o3        765 non-null    object        \n",
      " 7   no2       765 non-null    object        \n",
      " 8   max       765 non-null    object        \n",
      " 9   critical  757 non-null    object        \n",
      " 10  categori  764 non-null    object        \n",
      "dtypes: datetime64[ns](1), int64(1), object(9)\n",
      "memory usage: 65.9+ KB\n"
     ]
    }
   ],
   "source": [
    "dataset.info()"
   ]
  },
  {
   "cell_type": "markdown",
   "metadata": {},
   "source": [
    "3.5.3. Handling Column \"PM25\""
   ]
  },
  {
   "cell_type": "code",
   "execution_count": 413,
   "metadata": {},
   "outputs": [
    {
     "ename": "ValueError",
     "evalue": "invalid literal for int() with base 10: '---'",
     "output_type": "error",
     "traceback": [
      "\u001b[0;31m---------------------------------------------------------------------------\u001b[0m",
      "\u001b[0;31mValueError\u001b[0m                                Traceback (most recent call last)",
      "\u001b[1;32m/Users/avntrr/Documents/Pacmann/tugas_akhir_pacmann.ipynb Cell 31\u001b[0m in \u001b[0;36m<cell line: 1>\u001b[0;34m()\u001b[0m\n\u001b[0;32m----> <a href='vscode-notebook-cell:/Users/avntrr/Documents/Pacmann/tugas_akhir_pacmann.ipynb#X52sZmlsZQ%3D%3D?line=0'>1</a>\u001b[0m dataset\u001b[39m.\u001b[39mpm25 \u001b[39m=\u001b[39m dataset\u001b[39m.\u001b[39;49mpm25\u001b[39m.\u001b[39;49mastype(\u001b[39mint\u001b[39;49m)\n",
      "File \u001b[0;32m/Library/Frameworks/Python.framework/Versions/3.9/lib/python3.9/site-packages/pandas/core/generic.py:5912\u001b[0m, in \u001b[0;36mNDFrame.astype\u001b[0;34m(self, dtype, copy, errors)\u001b[0m\n\u001b[1;32m   5905\u001b[0m     results \u001b[39m=\u001b[39m [\n\u001b[1;32m   5906\u001b[0m         \u001b[39mself\u001b[39m\u001b[39m.\u001b[39miloc[:, i]\u001b[39m.\u001b[39mastype(dtype, copy\u001b[39m=\u001b[39mcopy)\n\u001b[1;32m   5907\u001b[0m         \u001b[39mfor\u001b[39;00m i \u001b[39min\u001b[39;00m \u001b[39mrange\u001b[39m(\u001b[39mlen\u001b[39m(\u001b[39mself\u001b[39m\u001b[39m.\u001b[39mcolumns))\n\u001b[1;32m   5908\u001b[0m     ]\n\u001b[1;32m   5910\u001b[0m \u001b[39melse\u001b[39;00m:\n\u001b[1;32m   5911\u001b[0m     \u001b[39m# else, only a single dtype is given\u001b[39;00m\n\u001b[0;32m-> 5912\u001b[0m     new_data \u001b[39m=\u001b[39m \u001b[39mself\u001b[39;49m\u001b[39m.\u001b[39;49m_mgr\u001b[39m.\u001b[39;49mastype(dtype\u001b[39m=\u001b[39;49mdtype, copy\u001b[39m=\u001b[39;49mcopy, errors\u001b[39m=\u001b[39;49merrors)\n\u001b[1;32m   5913\u001b[0m     \u001b[39mreturn\u001b[39;00m \u001b[39mself\u001b[39m\u001b[39m.\u001b[39m_constructor(new_data)\u001b[39m.\u001b[39m__finalize__(\u001b[39mself\u001b[39m, method\u001b[39m=\u001b[39m\u001b[39m\"\u001b[39m\u001b[39mastype\u001b[39m\u001b[39m\"\u001b[39m)\n\u001b[1;32m   5915\u001b[0m \u001b[39m# GH 33113: handle empty frame or series\u001b[39;00m\n",
      "File \u001b[0;32m/Library/Frameworks/Python.framework/Versions/3.9/lib/python3.9/site-packages/pandas/core/internals/managers.py:419\u001b[0m, in \u001b[0;36mBaseBlockManager.astype\u001b[0;34m(self, dtype, copy, errors)\u001b[0m\n\u001b[1;32m    418\u001b[0m \u001b[39mdef\u001b[39;00m \u001b[39mastype\u001b[39m(\u001b[39mself\u001b[39m: T, dtype, copy: \u001b[39mbool\u001b[39m \u001b[39m=\u001b[39m \u001b[39mFalse\u001b[39;00m, errors: \u001b[39mstr\u001b[39m \u001b[39m=\u001b[39m \u001b[39m\"\u001b[39m\u001b[39mraise\u001b[39m\u001b[39m\"\u001b[39m) \u001b[39m-\u001b[39m\u001b[39m>\u001b[39m T:\n\u001b[0;32m--> 419\u001b[0m     \u001b[39mreturn\u001b[39;00m \u001b[39mself\u001b[39;49m\u001b[39m.\u001b[39;49mapply(\u001b[39m\"\u001b[39;49m\u001b[39mastype\u001b[39;49m\u001b[39m\"\u001b[39;49m, dtype\u001b[39m=\u001b[39;49mdtype, copy\u001b[39m=\u001b[39;49mcopy, errors\u001b[39m=\u001b[39;49merrors)\n",
      "File \u001b[0;32m/Library/Frameworks/Python.framework/Versions/3.9/lib/python3.9/site-packages/pandas/core/internals/managers.py:304\u001b[0m, in \u001b[0;36mBaseBlockManager.apply\u001b[0;34m(self, f, align_keys, ignore_failures, **kwargs)\u001b[0m\n\u001b[1;32m    302\u001b[0m         applied \u001b[39m=\u001b[39m b\u001b[39m.\u001b[39mapply(f, \u001b[39m*\u001b[39m\u001b[39m*\u001b[39mkwargs)\n\u001b[1;32m    303\u001b[0m     \u001b[39melse\u001b[39;00m:\n\u001b[0;32m--> 304\u001b[0m         applied \u001b[39m=\u001b[39m \u001b[39mgetattr\u001b[39;49m(b, f)(\u001b[39m*\u001b[39;49m\u001b[39m*\u001b[39;49mkwargs)\n\u001b[1;32m    305\u001b[0m \u001b[39mexcept\u001b[39;00m (\u001b[39mTypeError\u001b[39;00m, \u001b[39mNotImplementedError\u001b[39;00m):\n\u001b[1;32m    306\u001b[0m     \u001b[39mif\u001b[39;00m \u001b[39mnot\u001b[39;00m ignore_failures:\n",
      "File \u001b[0;32m/Library/Frameworks/Python.framework/Versions/3.9/lib/python3.9/site-packages/pandas/core/internals/blocks.py:580\u001b[0m, in \u001b[0;36mBlock.astype\u001b[0;34m(self, dtype, copy, errors)\u001b[0m\n\u001b[1;32m    562\u001b[0m \u001b[39m\"\"\"\u001b[39;00m\n\u001b[1;32m    563\u001b[0m \u001b[39mCoerce to the new dtype.\u001b[39;00m\n\u001b[1;32m    564\u001b[0m \n\u001b[0;32m   (...)\u001b[0m\n\u001b[1;32m    576\u001b[0m \u001b[39mBlock\u001b[39;00m\n\u001b[1;32m    577\u001b[0m \u001b[39m\"\"\"\u001b[39;00m\n\u001b[1;32m    578\u001b[0m values \u001b[39m=\u001b[39m \u001b[39mself\u001b[39m\u001b[39m.\u001b[39mvalues\n\u001b[0;32m--> 580\u001b[0m new_values \u001b[39m=\u001b[39m astype_array_safe(values, dtype, copy\u001b[39m=\u001b[39;49mcopy, errors\u001b[39m=\u001b[39;49merrors)\n\u001b[1;32m    582\u001b[0m new_values \u001b[39m=\u001b[39m maybe_coerce_values(new_values)\n\u001b[1;32m    583\u001b[0m newb \u001b[39m=\u001b[39m \u001b[39mself\u001b[39m\u001b[39m.\u001b[39mmake_block(new_values)\n",
      "File \u001b[0;32m/Library/Frameworks/Python.framework/Versions/3.9/lib/python3.9/site-packages/pandas/core/dtypes/cast.py:1292\u001b[0m, in \u001b[0;36mastype_array_safe\u001b[0;34m(values, dtype, copy, errors)\u001b[0m\n\u001b[1;32m   1289\u001b[0m     dtype \u001b[39m=\u001b[39m dtype\u001b[39m.\u001b[39mnumpy_dtype\n\u001b[1;32m   1291\u001b[0m \u001b[39mtry\u001b[39;00m:\n\u001b[0;32m-> 1292\u001b[0m     new_values \u001b[39m=\u001b[39m astype_array(values, dtype, copy\u001b[39m=\u001b[39;49mcopy)\n\u001b[1;32m   1293\u001b[0m \u001b[39mexcept\u001b[39;00m (\u001b[39mValueError\u001b[39;00m, \u001b[39mTypeError\u001b[39;00m):\n\u001b[1;32m   1294\u001b[0m     \u001b[39m# e.g. astype_nansafe can fail on object-dtype of strings\u001b[39;00m\n\u001b[1;32m   1295\u001b[0m     \u001b[39m#  trying to convert to float\u001b[39;00m\n\u001b[1;32m   1296\u001b[0m     \u001b[39mif\u001b[39;00m errors \u001b[39m==\u001b[39m \u001b[39m\"\u001b[39m\u001b[39mignore\u001b[39m\u001b[39m\"\u001b[39m:\n",
      "File \u001b[0;32m/Library/Frameworks/Python.framework/Versions/3.9/lib/python3.9/site-packages/pandas/core/dtypes/cast.py:1237\u001b[0m, in \u001b[0;36mastype_array\u001b[0;34m(values, dtype, copy)\u001b[0m\n\u001b[1;32m   1234\u001b[0m     values \u001b[39m=\u001b[39m values\u001b[39m.\u001b[39mastype(dtype, copy\u001b[39m=\u001b[39mcopy)\n\u001b[1;32m   1236\u001b[0m \u001b[39melse\u001b[39;00m:\n\u001b[0;32m-> 1237\u001b[0m     values \u001b[39m=\u001b[39m astype_nansafe(values, dtype, copy\u001b[39m=\u001b[39;49mcopy)\n\u001b[1;32m   1239\u001b[0m \u001b[39m# in pandas we don't store numpy str dtypes, so convert to object\u001b[39;00m\n\u001b[1;32m   1240\u001b[0m \u001b[39mif\u001b[39;00m \u001b[39misinstance\u001b[39m(dtype, np\u001b[39m.\u001b[39mdtype) \u001b[39mand\u001b[39;00m \u001b[39missubclass\u001b[39m(values\u001b[39m.\u001b[39mdtype\u001b[39m.\u001b[39mtype, \u001b[39mstr\u001b[39m):\n",
      "File \u001b[0;32m/Library/Frameworks/Python.framework/Versions/3.9/lib/python3.9/site-packages/pandas/core/dtypes/cast.py:1154\u001b[0m, in \u001b[0;36mastype_nansafe\u001b[0;34m(arr, dtype, copy, skipna)\u001b[0m\n\u001b[1;32m   1150\u001b[0m \u001b[39melif\u001b[39;00m is_object_dtype(arr\u001b[39m.\u001b[39mdtype):\n\u001b[1;32m   1151\u001b[0m \n\u001b[1;32m   1152\u001b[0m     \u001b[39m# work around NumPy brokenness, #1987\u001b[39;00m\n\u001b[1;32m   1153\u001b[0m     \u001b[39mif\u001b[39;00m np\u001b[39m.\u001b[39missubdtype(dtype\u001b[39m.\u001b[39mtype, np\u001b[39m.\u001b[39minteger):\n\u001b[0;32m-> 1154\u001b[0m         \u001b[39mreturn\u001b[39;00m lib\u001b[39m.\u001b[39;49mastype_intsafe(arr, dtype)\n\u001b[1;32m   1156\u001b[0m     \u001b[39m# if we have a datetime/timedelta array of objects\u001b[39;00m\n\u001b[1;32m   1157\u001b[0m     \u001b[39m# then coerce to a proper dtype and recall astype_nansafe\u001b[39;00m\n\u001b[1;32m   1159\u001b[0m     \u001b[39melif\u001b[39;00m is_datetime64_dtype(dtype):\n",
      "File \u001b[0;32m/Library/Frameworks/Python.framework/Versions/3.9/lib/python3.9/site-packages/pandas/_libs/lib.pyx:668\u001b[0m, in \u001b[0;36mpandas._libs.lib.astype_intsafe\u001b[0;34m()\u001b[0m\n",
      "\u001b[0;31mValueError\u001b[0m: invalid literal for int() with base 10: '---'"
     ]
    }
   ],
   "source": [
    "dataset.pm25 = dataset.pm25.astype(int)"
   ]
  },
  {
   "cell_type": "code",
   "execution_count": 414,
   "metadata": {},
   "outputs": [],
   "source": [
    "#Ganti \"---\" dengan suatu numerik\n",
    "dataset.pm25.fillna(-1, inplace = True)"
   ]
  },
  {
   "cell_type": "code",
   "execution_count": 415,
   "metadata": {},
   "outputs": [],
   "source": [
    "dataset.pm25 = dataset.pm25.replace(\"---\", -1).astype(int)"
   ]
  },
  {
   "cell_type": "code",
   "execution_count": 416,
   "metadata": {},
   "outputs": [
    {
     "name": "stdout",
     "output_type": "stream",
     "text": [
      "<class 'pandas.core.frame.DataFrame'>\n",
      "RangeIndex: 765 entries, 0 to 764\n",
      "Data columns (total 11 columns):\n",
      " #   Column    Non-Null Count  Dtype         \n",
      "---  ------    --------------  -----         \n",
      " 0   tanggal   765 non-null    datetime64[ns]\n",
      " 1   stasiun   765 non-null    object        \n",
      " 2   pm10      765 non-null    int64         \n",
      " 3   pm25      765 non-null    int64         \n",
      " 4   so2       765 non-null    object        \n",
      " 5   co        765 non-null    object        \n",
      " 6   o3        765 non-null    object        \n",
      " 7   no2       765 non-null    object        \n",
      " 8   max       765 non-null    object        \n",
      " 9   critical  757 non-null    object        \n",
      " 10  categori  764 non-null    object        \n",
      "dtypes: datetime64[ns](1), int64(2), object(8)\n",
      "memory usage: 65.9+ KB\n"
     ]
    }
   ],
   "source": [
    "dataset.info()"
   ]
  },
  {
   "cell_type": "markdown",
   "metadata": {},
   "source": [
    "3.5.4. Handling Column \"SO2\""
   ]
  },
  {
   "cell_type": "code",
   "execution_count": 417,
   "metadata": {},
   "outputs": [
    {
     "ename": "ValueError",
     "evalue": "invalid literal for int() with base 10: '---'",
     "output_type": "error",
     "traceback": [
      "\u001b[0;31m---------------------------------------------------------------------------\u001b[0m",
      "\u001b[0;31mValueError\u001b[0m                                Traceback (most recent call last)",
      "\u001b[1;32m/Users/avntrr/Documents/Pacmann/tugas_akhir_pacmann.ipynb Cell 36\u001b[0m in \u001b[0;36m<cell line: 1>\u001b[0;34m()\u001b[0m\n\u001b[0;32m----> <a href='vscode-notebook-cell:/Users/avntrr/Documents/Pacmann/tugas_akhir_pacmann.ipynb#X56sZmlsZQ%3D%3D?line=0'>1</a>\u001b[0m dataset\u001b[39m.\u001b[39mso2 \u001b[39m=\u001b[39m dataset\u001b[39m.\u001b[39;49mso2\u001b[39m.\u001b[39;49mastype(\u001b[39mint\u001b[39;49m)\n",
      "File \u001b[0;32m/Library/Frameworks/Python.framework/Versions/3.9/lib/python3.9/site-packages/pandas/core/generic.py:5912\u001b[0m, in \u001b[0;36mNDFrame.astype\u001b[0;34m(self, dtype, copy, errors)\u001b[0m\n\u001b[1;32m   5905\u001b[0m     results \u001b[39m=\u001b[39m [\n\u001b[1;32m   5906\u001b[0m         \u001b[39mself\u001b[39m\u001b[39m.\u001b[39miloc[:, i]\u001b[39m.\u001b[39mastype(dtype, copy\u001b[39m=\u001b[39mcopy)\n\u001b[1;32m   5907\u001b[0m         \u001b[39mfor\u001b[39;00m i \u001b[39min\u001b[39;00m \u001b[39mrange\u001b[39m(\u001b[39mlen\u001b[39m(\u001b[39mself\u001b[39m\u001b[39m.\u001b[39mcolumns))\n\u001b[1;32m   5908\u001b[0m     ]\n\u001b[1;32m   5910\u001b[0m \u001b[39melse\u001b[39;00m:\n\u001b[1;32m   5911\u001b[0m     \u001b[39m# else, only a single dtype is given\u001b[39;00m\n\u001b[0;32m-> 5912\u001b[0m     new_data \u001b[39m=\u001b[39m \u001b[39mself\u001b[39;49m\u001b[39m.\u001b[39;49m_mgr\u001b[39m.\u001b[39;49mastype(dtype\u001b[39m=\u001b[39;49mdtype, copy\u001b[39m=\u001b[39;49mcopy, errors\u001b[39m=\u001b[39;49merrors)\n\u001b[1;32m   5913\u001b[0m     \u001b[39mreturn\u001b[39;00m \u001b[39mself\u001b[39m\u001b[39m.\u001b[39m_constructor(new_data)\u001b[39m.\u001b[39m__finalize__(\u001b[39mself\u001b[39m, method\u001b[39m=\u001b[39m\u001b[39m\"\u001b[39m\u001b[39mastype\u001b[39m\u001b[39m\"\u001b[39m)\n\u001b[1;32m   5915\u001b[0m \u001b[39m# GH 33113: handle empty frame or series\u001b[39;00m\n",
      "File \u001b[0;32m/Library/Frameworks/Python.framework/Versions/3.9/lib/python3.9/site-packages/pandas/core/internals/managers.py:419\u001b[0m, in \u001b[0;36mBaseBlockManager.astype\u001b[0;34m(self, dtype, copy, errors)\u001b[0m\n\u001b[1;32m    418\u001b[0m \u001b[39mdef\u001b[39;00m \u001b[39mastype\u001b[39m(\u001b[39mself\u001b[39m: T, dtype, copy: \u001b[39mbool\u001b[39m \u001b[39m=\u001b[39m \u001b[39mFalse\u001b[39;00m, errors: \u001b[39mstr\u001b[39m \u001b[39m=\u001b[39m \u001b[39m\"\u001b[39m\u001b[39mraise\u001b[39m\u001b[39m\"\u001b[39m) \u001b[39m-\u001b[39m\u001b[39m>\u001b[39m T:\n\u001b[0;32m--> 419\u001b[0m     \u001b[39mreturn\u001b[39;00m \u001b[39mself\u001b[39;49m\u001b[39m.\u001b[39;49mapply(\u001b[39m\"\u001b[39;49m\u001b[39mastype\u001b[39;49m\u001b[39m\"\u001b[39;49m, dtype\u001b[39m=\u001b[39;49mdtype, copy\u001b[39m=\u001b[39;49mcopy, errors\u001b[39m=\u001b[39;49merrors)\n",
      "File \u001b[0;32m/Library/Frameworks/Python.framework/Versions/3.9/lib/python3.9/site-packages/pandas/core/internals/managers.py:304\u001b[0m, in \u001b[0;36mBaseBlockManager.apply\u001b[0;34m(self, f, align_keys, ignore_failures, **kwargs)\u001b[0m\n\u001b[1;32m    302\u001b[0m         applied \u001b[39m=\u001b[39m b\u001b[39m.\u001b[39mapply(f, \u001b[39m*\u001b[39m\u001b[39m*\u001b[39mkwargs)\n\u001b[1;32m    303\u001b[0m     \u001b[39melse\u001b[39;00m:\n\u001b[0;32m--> 304\u001b[0m         applied \u001b[39m=\u001b[39m \u001b[39mgetattr\u001b[39;49m(b, f)(\u001b[39m*\u001b[39;49m\u001b[39m*\u001b[39;49mkwargs)\n\u001b[1;32m    305\u001b[0m \u001b[39mexcept\u001b[39;00m (\u001b[39mTypeError\u001b[39;00m, \u001b[39mNotImplementedError\u001b[39;00m):\n\u001b[1;32m    306\u001b[0m     \u001b[39mif\u001b[39;00m \u001b[39mnot\u001b[39;00m ignore_failures:\n",
      "File \u001b[0;32m/Library/Frameworks/Python.framework/Versions/3.9/lib/python3.9/site-packages/pandas/core/internals/blocks.py:580\u001b[0m, in \u001b[0;36mBlock.astype\u001b[0;34m(self, dtype, copy, errors)\u001b[0m\n\u001b[1;32m    562\u001b[0m \u001b[39m\"\"\"\u001b[39;00m\n\u001b[1;32m    563\u001b[0m \u001b[39mCoerce to the new dtype.\u001b[39;00m\n\u001b[1;32m    564\u001b[0m \n\u001b[0;32m   (...)\u001b[0m\n\u001b[1;32m    576\u001b[0m \u001b[39mBlock\u001b[39;00m\n\u001b[1;32m    577\u001b[0m \u001b[39m\"\"\"\u001b[39;00m\n\u001b[1;32m    578\u001b[0m values \u001b[39m=\u001b[39m \u001b[39mself\u001b[39m\u001b[39m.\u001b[39mvalues\n\u001b[0;32m--> 580\u001b[0m new_values \u001b[39m=\u001b[39m astype_array_safe(values, dtype, copy\u001b[39m=\u001b[39;49mcopy, errors\u001b[39m=\u001b[39;49merrors)\n\u001b[1;32m    582\u001b[0m new_values \u001b[39m=\u001b[39m maybe_coerce_values(new_values)\n\u001b[1;32m    583\u001b[0m newb \u001b[39m=\u001b[39m \u001b[39mself\u001b[39m\u001b[39m.\u001b[39mmake_block(new_values)\n",
      "File \u001b[0;32m/Library/Frameworks/Python.framework/Versions/3.9/lib/python3.9/site-packages/pandas/core/dtypes/cast.py:1292\u001b[0m, in \u001b[0;36mastype_array_safe\u001b[0;34m(values, dtype, copy, errors)\u001b[0m\n\u001b[1;32m   1289\u001b[0m     dtype \u001b[39m=\u001b[39m dtype\u001b[39m.\u001b[39mnumpy_dtype\n\u001b[1;32m   1291\u001b[0m \u001b[39mtry\u001b[39;00m:\n\u001b[0;32m-> 1292\u001b[0m     new_values \u001b[39m=\u001b[39m astype_array(values, dtype, copy\u001b[39m=\u001b[39;49mcopy)\n\u001b[1;32m   1293\u001b[0m \u001b[39mexcept\u001b[39;00m (\u001b[39mValueError\u001b[39;00m, \u001b[39mTypeError\u001b[39;00m):\n\u001b[1;32m   1294\u001b[0m     \u001b[39m# e.g. astype_nansafe can fail on object-dtype of strings\u001b[39;00m\n\u001b[1;32m   1295\u001b[0m     \u001b[39m#  trying to convert to float\u001b[39;00m\n\u001b[1;32m   1296\u001b[0m     \u001b[39mif\u001b[39;00m errors \u001b[39m==\u001b[39m \u001b[39m\"\u001b[39m\u001b[39mignore\u001b[39m\u001b[39m\"\u001b[39m:\n",
      "File \u001b[0;32m/Library/Frameworks/Python.framework/Versions/3.9/lib/python3.9/site-packages/pandas/core/dtypes/cast.py:1237\u001b[0m, in \u001b[0;36mastype_array\u001b[0;34m(values, dtype, copy)\u001b[0m\n\u001b[1;32m   1234\u001b[0m     values \u001b[39m=\u001b[39m values\u001b[39m.\u001b[39mastype(dtype, copy\u001b[39m=\u001b[39mcopy)\n\u001b[1;32m   1236\u001b[0m \u001b[39melse\u001b[39;00m:\n\u001b[0;32m-> 1237\u001b[0m     values \u001b[39m=\u001b[39m astype_nansafe(values, dtype, copy\u001b[39m=\u001b[39;49mcopy)\n\u001b[1;32m   1239\u001b[0m \u001b[39m# in pandas we don't store numpy str dtypes, so convert to object\u001b[39;00m\n\u001b[1;32m   1240\u001b[0m \u001b[39mif\u001b[39;00m \u001b[39misinstance\u001b[39m(dtype, np\u001b[39m.\u001b[39mdtype) \u001b[39mand\u001b[39;00m \u001b[39missubclass\u001b[39m(values\u001b[39m.\u001b[39mdtype\u001b[39m.\u001b[39mtype, \u001b[39mstr\u001b[39m):\n",
      "File \u001b[0;32m/Library/Frameworks/Python.framework/Versions/3.9/lib/python3.9/site-packages/pandas/core/dtypes/cast.py:1154\u001b[0m, in \u001b[0;36mastype_nansafe\u001b[0;34m(arr, dtype, copy, skipna)\u001b[0m\n\u001b[1;32m   1150\u001b[0m \u001b[39melif\u001b[39;00m is_object_dtype(arr\u001b[39m.\u001b[39mdtype):\n\u001b[1;32m   1151\u001b[0m \n\u001b[1;32m   1152\u001b[0m     \u001b[39m# work around NumPy brokenness, #1987\u001b[39;00m\n\u001b[1;32m   1153\u001b[0m     \u001b[39mif\u001b[39;00m np\u001b[39m.\u001b[39missubdtype(dtype\u001b[39m.\u001b[39mtype, np\u001b[39m.\u001b[39minteger):\n\u001b[0;32m-> 1154\u001b[0m         \u001b[39mreturn\u001b[39;00m lib\u001b[39m.\u001b[39;49mastype_intsafe(arr, dtype)\n\u001b[1;32m   1156\u001b[0m     \u001b[39m# if we have a datetime/timedelta array of objects\u001b[39;00m\n\u001b[1;32m   1157\u001b[0m     \u001b[39m# then coerce to a proper dtype and recall astype_nansafe\u001b[39;00m\n\u001b[1;32m   1159\u001b[0m     \u001b[39melif\u001b[39;00m is_datetime64_dtype(dtype):\n",
      "File \u001b[0;32m/Library/Frameworks/Python.framework/Versions/3.9/lib/python3.9/site-packages/pandas/_libs/lib.pyx:668\u001b[0m, in \u001b[0;36mpandas._libs.lib.astype_intsafe\u001b[0;34m()\u001b[0m\n",
      "\u001b[0;31mValueError\u001b[0m: invalid literal for int() with base 10: '---'"
     ]
    }
   ],
   "source": [
    "dataset.so2 = dataset.so2.astype(int)"
   ]
  },
  {
   "cell_type": "code",
   "execution_count": 418,
   "metadata": {},
   "outputs": [],
   "source": [
    "#Ganti \"---\" dengan suatu numerik\n",
    "dataset.so2 = dataset.so2.replace(\"---\", -1).astype(int)"
   ]
  },
  {
   "cell_type": "code",
   "execution_count": 419,
   "metadata": {},
   "outputs": [
    {
     "name": "stdout",
     "output_type": "stream",
     "text": [
      "<class 'pandas.core.frame.DataFrame'>\n",
      "RangeIndex: 765 entries, 0 to 764\n",
      "Data columns (total 11 columns):\n",
      " #   Column    Non-Null Count  Dtype         \n",
      "---  ------    --------------  -----         \n",
      " 0   tanggal   765 non-null    datetime64[ns]\n",
      " 1   stasiun   765 non-null    object        \n",
      " 2   pm10      765 non-null    int64         \n",
      " 3   pm25      765 non-null    int64         \n",
      " 4   so2       765 non-null    int64         \n",
      " 5   co        765 non-null    object        \n",
      " 6   o3        765 non-null    object        \n",
      " 7   no2       765 non-null    object        \n",
      " 8   max       765 non-null    object        \n",
      " 9   critical  757 non-null    object        \n",
      " 10  categori  764 non-null    object        \n",
      "dtypes: datetime64[ns](1), int64(3), object(7)\n",
      "memory usage: 65.9+ KB\n"
     ]
    }
   ],
   "source": [
    "dataset.info()"
   ]
  },
  {
   "cell_type": "markdown",
   "metadata": {},
   "source": [
    "3.5.5. Handling Column \"CO\""
   ]
  },
  {
   "cell_type": "code",
   "execution_count": 420,
   "metadata": {},
   "outputs": [
    {
     "ename": "ValueError",
     "evalue": "invalid literal for int() with base 10: '---'",
     "output_type": "error",
     "traceback": [
      "\u001b[0;31m---------------------------------------------------------------------------\u001b[0m",
      "\u001b[0;31mValueError\u001b[0m                                Traceback (most recent call last)",
      "\u001b[1;32m/Users/avntrr/Documents/Pacmann/tugas_akhir_pacmann.ipynb Cell 40\u001b[0m in \u001b[0;36m<cell line: 1>\u001b[0;34m()\u001b[0m\n\u001b[0;32m----> <a href='vscode-notebook-cell:/Users/avntrr/Documents/Pacmann/tugas_akhir_pacmann.ipynb#Y100sZmlsZQ%3D%3D?line=0'>1</a>\u001b[0m dataset\u001b[39m.\u001b[39mco \u001b[39m=\u001b[39m dataset\u001b[39m.\u001b[39;49mco\u001b[39m.\u001b[39;49mastype(\u001b[39mint\u001b[39;49m)\n",
      "File \u001b[0;32m/Library/Frameworks/Python.framework/Versions/3.9/lib/python3.9/site-packages/pandas/core/generic.py:5912\u001b[0m, in \u001b[0;36mNDFrame.astype\u001b[0;34m(self, dtype, copy, errors)\u001b[0m\n\u001b[1;32m   5905\u001b[0m     results \u001b[39m=\u001b[39m [\n\u001b[1;32m   5906\u001b[0m         \u001b[39mself\u001b[39m\u001b[39m.\u001b[39miloc[:, i]\u001b[39m.\u001b[39mastype(dtype, copy\u001b[39m=\u001b[39mcopy)\n\u001b[1;32m   5907\u001b[0m         \u001b[39mfor\u001b[39;00m i \u001b[39min\u001b[39;00m \u001b[39mrange\u001b[39m(\u001b[39mlen\u001b[39m(\u001b[39mself\u001b[39m\u001b[39m.\u001b[39mcolumns))\n\u001b[1;32m   5908\u001b[0m     ]\n\u001b[1;32m   5910\u001b[0m \u001b[39melse\u001b[39;00m:\n\u001b[1;32m   5911\u001b[0m     \u001b[39m# else, only a single dtype is given\u001b[39;00m\n\u001b[0;32m-> 5912\u001b[0m     new_data \u001b[39m=\u001b[39m \u001b[39mself\u001b[39;49m\u001b[39m.\u001b[39;49m_mgr\u001b[39m.\u001b[39;49mastype(dtype\u001b[39m=\u001b[39;49mdtype, copy\u001b[39m=\u001b[39;49mcopy, errors\u001b[39m=\u001b[39;49merrors)\n\u001b[1;32m   5913\u001b[0m     \u001b[39mreturn\u001b[39;00m \u001b[39mself\u001b[39m\u001b[39m.\u001b[39m_constructor(new_data)\u001b[39m.\u001b[39m__finalize__(\u001b[39mself\u001b[39m, method\u001b[39m=\u001b[39m\u001b[39m\"\u001b[39m\u001b[39mastype\u001b[39m\u001b[39m\"\u001b[39m)\n\u001b[1;32m   5915\u001b[0m \u001b[39m# GH 33113: handle empty frame or series\u001b[39;00m\n",
      "File \u001b[0;32m/Library/Frameworks/Python.framework/Versions/3.9/lib/python3.9/site-packages/pandas/core/internals/managers.py:419\u001b[0m, in \u001b[0;36mBaseBlockManager.astype\u001b[0;34m(self, dtype, copy, errors)\u001b[0m\n\u001b[1;32m    418\u001b[0m \u001b[39mdef\u001b[39;00m \u001b[39mastype\u001b[39m(\u001b[39mself\u001b[39m: T, dtype, copy: \u001b[39mbool\u001b[39m \u001b[39m=\u001b[39m \u001b[39mFalse\u001b[39;00m, errors: \u001b[39mstr\u001b[39m \u001b[39m=\u001b[39m \u001b[39m\"\u001b[39m\u001b[39mraise\u001b[39m\u001b[39m\"\u001b[39m) \u001b[39m-\u001b[39m\u001b[39m>\u001b[39m T:\n\u001b[0;32m--> 419\u001b[0m     \u001b[39mreturn\u001b[39;00m \u001b[39mself\u001b[39;49m\u001b[39m.\u001b[39;49mapply(\u001b[39m\"\u001b[39;49m\u001b[39mastype\u001b[39;49m\u001b[39m\"\u001b[39;49m, dtype\u001b[39m=\u001b[39;49mdtype, copy\u001b[39m=\u001b[39;49mcopy, errors\u001b[39m=\u001b[39;49merrors)\n",
      "File \u001b[0;32m/Library/Frameworks/Python.framework/Versions/3.9/lib/python3.9/site-packages/pandas/core/internals/managers.py:304\u001b[0m, in \u001b[0;36mBaseBlockManager.apply\u001b[0;34m(self, f, align_keys, ignore_failures, **kwargs)\u001b[0m\n\u001b[1;32m    302\u001b[0m         applied \u001b[39m=\u001b[39m b\u001b[39m.\u001b[39mapply(f, \u001b[39m*\u001b[39m\u001b[39m*\u001b[39mkwargs)\n\u001b[1;32m    303\u001b[0m     \u001b[39melse\u001b[39;00m:\n\u001b[0;32m--> 304\u001b[0m         applied \u001b[39m=\u001b[39m \u001b[39mgetattr\u001b[39;49m(b, f)(\u001b[39m*\u001b[39;49m\u001b[39m*\u001b[39;49mkwargs)\n\u001b[1;32m    305\u001b[0m \u001b[39mexcept\u001b[39;00m (\u001b[39mTypeError\u001b[39;00m, \u001b[39mNotImplementedError\u001b[39;00m):\n\u001b[1;32m    306\u001b[0m     \u001b[39mif\u001b[39;00m \u001b[39mnot\u001b[39;00m ignore_failures:\n",
      "File \u001b[0;32m/Library/Frameworks/Python.framework/Versions/3.9/lib/python3.9/site-packages/pandas/core/internals/blocks.py:580\u001b[0m, in \u001b[0;36mBlock.astype\u001b[0;34m(self, dtype, copy, errors)\u001b[0m\n\u001b[1;32m    562\u001b[0m \u001b[39m\"\"\"\u001b[39;00m\n\u001b[1;32m    563\u001b[0m \u001b[39mCoerce to the new dtype.\u001b[39;00m\n\u001b[1;32m    564\u001b[0m \n\u001b[0;32m   (...)\u001b[0m\n\u001b[1;32m    576\u001b[0m \u001b[39mBlock\u001b[39;00m\n\u001b[1;32m    577\u001b[0m \u001b[39m\"\"\"\u001b[39;00m\n\u001b[1;32m    578\u001b[0m values \u001b[39m=\u001b[39m \u001b[39mself\u001b[39m\u001b[39m.\u001b[39mvalues\n\u001b[0;32m--> 580\u001b[0m new_values \u001b[39m=\u001b[39m astype_array_safe(values, dtype, copy\u001b[39m=\u001b[39;49mcopy, errors\u001b[39m=\u001b[39;49merrors)\n\u001b[1;32m    582\u001b[0m new_values \u001b[39m=\u001b[39m maybe_coerce_values(new_values)\n\u001b[1;32m    583\u001b[0m newb \u001b[39m=\u001b[39m \u001b[39mself\u001b[39m\u001b[39m.\u001b[39mmake_block(new_values)\n",
      "File \u001b[0;32m/Library/Frameworks/Python.framework/Versions/3.9/lib/python3.9/site-packages/pandas/core/dtypes/cast.py:1292\u001b[0m, in \u001b[0;36mastype_array_safe\u001b[0;34m(values, dtype, copy, errors)\u001b[0m\n\u001b[1;32m   1289\u001b[0m     dtype \u001b[39m=\u001b[39m dtype\u001b[39m.\u001b[39mnumpy_dtype\n\u001b[1;32m   1291\u001b[0m \u001b[39mtry\u001b[39;00m:\n\u001b[0;32m-> 1292\u001b[0m     new_values \u001b[39m=\u001b[39m astype_array(values, dtype, copy\u001b[39m=\u001b[39;49mcopy)\n\u001b[1;32m   1293\u001b[0m \u001b[39mexcept\u001b[39;00m (\u001b[39mValueError\u001b[39;00m, \u001b[39mTypeError\u001b[39;00m):\n\u001b[1;32m   1294\u001b[0m     \u001b[39m# e.g. astype_nansafe can fail on object-dtype of strings\u001b[39;00m\n\u001b[1;32m   1295\u001b[0m     \u001b[39m#  trying to convert to float\u001b[39;00m\n\u001b[1;32m   1296\u001b[0m     \u001b[39mif\u001b[39;00m errors \u001b[39m==\u001b[39m \u001b[39m\"\u001b[39m\u001b[39mignore\u001b[39m\u001b[39m\"\u001b[39m:\n",
      "File \u001b[0;32m/Library/Frameworks/Python.framework/Versions/3.9/lib/python3.9/site-packages/pandas/core/dtypes/cast.py:1237\u001b[0m, in \u001b[0;36mastype_array\u001b[0;34m(values, dtype, copy)\u001b[0m\n\u001b[1;32m   1234\u001b[0m     values \u001b[39m=\u001b[39m values\u001b[39m.\u001b[39mastype(dtype, copy\u001b[39m=\u001b[39mcopy)\n\u001b[1;32m   1236\u001b[0m \u001b[39melse\u001b[39;00m:\n\u001b[0;32m-> 1237\u001b[0m     values \u001b[39m=\u001b[39m astype_nansafe(values, dtype, copy\u001b[39m=\u001b[39;49mcopy)\n\u001b[1;32m   1239\u001b[0m \u001b[39m# in pandas we don't store numpy str dtypes, so convert to object\u001b[39;00m\n\u001b[1;32m   1240\u001b[0m \u001b[39mif\u001b[39;00m \u001b[39misinstance\u001b[39m(dtype, np\u001b[39m.\u001b[39mdtype) \u001b[39mand\u001b[39;00m \u001b[39missubclass\u001b[39m(values\u001b[39m.\u001b[39mdtype\u001b[39m.\u001b[39mtype, \u001b[39mstr\u001b[39m):\n",
      "File \u001b[0;32m/Library/Frameworks/Python.framework/Versions/3.9/lib/python3.9/site-packages/pandas/core/dtypes/cast.py:1154\u001b[0m, in \u001b[0;36mastype_nansafe\u001b[0;34m(arr, dtype, copy, skipna)\u001b[0m\n\u001b[1;32m   1150\u001b[0m \u001b[39melif\u001b[39;00m is_object_dtype(arr\u001b[39m.\u001b[39mdtype):\n\u001b[1;32m   1151\u001b[0m \n\u001b[1;32m   1152\u001b[0m     \u001b[39m# work around NumPy brokenness, #1987\u001b[39;00m\n\u001b[1;32m   1153\u001b[0m     \u001b[39mif\u001b[39;00m np\u001b[39m.\u001b[39missubdtype(dtype\u001b[39m.\u001b[39mtype, np\u001b[39m.\u001b[39minteger):\n\u001b[0;32m-> 1154\u001b[0m         \u001b[39mreturn\u001b[39;00m lib\u001b[39m.\u001b[39;49mastype_intsafe(arr, dtype)\n\u001b[1;32m   1156\u001b[0m     \u001b[39m# if we have a datetime/timedelta array of objects\u001b[39;00m\n\u001b[1;32m   1157\u001b[0m     \u001b[39m# then coerce to a proper dtype and recall astype_nansafe\u001b[39;00m\n\u001b[1;32m   1159\u001b[0m     \u001b[39melif\u001b[39;00m is_datetime64_dtype(dtype):\n",
      "File \u001b[0;32m/Library/Frameworks/Python.framework/Versions/3.9/lib/python3.9/site-packages/pandas/_libs/lib.pyx:668\u001b[0m, in \u001b[0;36mpandas._libs.lib.astype_intsafe\u001b[0;34m()\u001b[0m\n",
      "\u001b[0;31mValueError\u001b[0m: invalid literal for int() with base 10: '---'"
     ]
    }
   ],
   "source": [
    "dataset.co = dataset.co.astype(int)"
   ]
  },
  {
   "cell_type": "code",
   "execution_count": 421,
   "metadata": {},
   "outputs": [],
   "source": [
    "#Ganti \"---\" dengan suatu numerik\n",
    "dataset.co = dataset.co.replace(\"---\", -1).astype(int)"
   ]
  },
  {
   "cell_type": "code",
   "execution_count": 422,
   "metadata": {},
   "outputs": [
    {
     "name": "stdout",
     "output_type": "stream",
     "text": [
      "<class 'pandas.core.frame.DataFrame'>\n",
      "RangeIndex: 765 entries, 0 to 764\n",
      "Data columns (total 11 columns):\n",
      " #   Column    Non-Null Count  Dtype         \n",
      "---  ------    --------------  -----         \n",
      " 0   tanggal   765 non-null    datetime64[ns]\n",
      " 1   stasiun   765 non-null    object        \n",
      " 2   pm10      765 non-null    int64         \n",
      " 3   pm25      765 non-null    int64         \n",
      " 4   so2       765 non-null    int64         \n",
      " 5   co        765 non-null    int64         \n",
      " 6   o3        765 non-null    object        \n",
      " 7   no2       765 non-null    object        \n",
      " 8   max       765 non-null    object        \n",
      " 9   critical  757 non-null    object        \n",
      " 10  categori  764 non-null    object        \n",
      "dtypes: datetime64[ns](1), int64(4), object(6)\n",
      "memory usage: 65.9+ KB\n"
     ]
    }
   ],
   "source": [
    "dataset.info()"
   ]
  },
  {
   "cell_type": "markdown",
   "metadata": {},
   "source": [
    "3.5.6. Handling Column \"O3\""
   ]
  },
  {
   "cell_type": "code",
   "execution_count": 423,
   "metadata": {},
   "outputs": [
    {
     "ename": "ValueError",
     "evalue": "invalid literal for int() with base 10: '---'",
     "output_type": "error",
     "traceback": [
      "\u001b[0;31m---------------------------------------------------------------------------\u001b[0m",
      "\u001b[0;31mValueError\u001b[0m                                Traceback (most recent call last)",
      "\u001b[1;32m/Users/avntrr/Documents/Pacmann/tugas_akhir_pacmann.ipynb Cell 44\u001b[0m in \u001b[0;36m<cell line: 1>\u001b[0;34m()\u001b[0m\n\u001b[0;32m----> <a href='vscode-notebook-cell:/Users/avntrr/Documents/Pacmann/tugas_akhir_pacmann.ipynb#Y106sZmlsZQ%3D%3D?line=0'>1</a>\u001b[0m dataset\u001b[39m.\u001b[39mo3 \u001b[39m=\u001b[39m dataset\u001b[39m.\u001b[39;49mo3\u001b[39m.\u001b[39;49mastype(\u001b[39mint\u001b[39;49m)\n",
      "File \u001b[0;32m/Library/Frameworks/Python.framework/Versions/3.9/lib/python3.9/site-packages/pandas/core/generic.py:5912\u001b[0m, in \u001b[0;36mNDFrame.astype\u001b[0;34m(self, dtype, copy, errors)\u001b[0m\n\u001b[1;32m   5905\u001b[0m     results \u001b[39m=\u001b[39m [\n\u001b[1;32m   5906\u001b[0m         \u001b[39mself\u001b[39m\u001b[39m.\u001b[39miloc[:, i]\u001b[39m.\u001b[39mastype(dtype, copy\u001b[39m=\u001b[39mcopy)\n\u001b[1;32m   5907\u001b[0m         \u001b[39mfor\u001b[39;00m i \u001b[39min\u001b[39;00m \u001b[39mrange\u001b[39m(\u001b[39mlen\u001b[39m(\u001b[39mself\u001b[39m\u001b[39m.\u001b[39mcolumns))\n\u001b[1;32m   5908\u001b[0m     ]\n\u001b[1;32m   5910\u001b[0m \u001b[39melse\u001b[39;00m:\n\u001b[1;32m   5911\u001b[0m     \u001b[39m# else, only a single dtype is given\u001b[39;00m\n\u001b[0;32m-> 5912\u001b[0m     new_data \u001b[39m=\u001b[39m \u001b[39mself\u001b[39;49m\u001b[39m.\u001b[39;49m_mgr\u001b[39m.\u001b[39;49mastype(dtype\u001b[39m=\u001b[39;49mdtype, copy\u001b[39m=\u001b[39;49mcopy, errors\u001b[39m=\u001b[39;49merrors)\n\u001b[1;32m   5913\u001b[0m     \u001b[39mreturn\u001b[39;00m \u001b[39mself\u001b[39m\u001b[39m.\u001b[39m_constructor(new_data)\u001b[39m.\u001b[39m__finalize__(\u001b[39mself\u001b[39m, method\u001b[39m=\u001b[39m\u001b[39m\"\u001b[39m\u001b[39mastype\u001b[39m\u001b[39m\"\u001b[39m)\n\u001b[1;32m   5915\u001b[0m \u001b[39m# GH 33113: handle empty frame or series\u001b[39;00m\n",
      "File \u001b[0;32m/Library/Frameworks/Python.framework/Versions/3.9/lib/python3.9/site-packages/pandas/core/internals/managers.py:419\u001b[0m, in \u001b[0;36mBaseBlockManager.astype\u001b[0;34m(self, dtype, copy, errors)\u001b[0m\n\u001b[1;32m    418\u001b[0m \u001b[39mdef\u001b[39;00m \u001b[39mastype\u001b[39m(\u001b[39mself\u001b[39m: T, dtype, copy: \u001b[39mbool\u001b[39m \u001b[39m=\u001b[39m \u001b[39mFalse\u001b[39;00m, errors: \u001b[39mstr\u001b[39m \u001b[39m=\u001b[39m \u001b[39m\"\u001b[39m\u001b[39mraise\u001b[39m\u001b[39m\"\u001b[39m) \u001b[39m-\u001b[39m\u001b[39m>\u001b[39m T:\n\u001b[0;32m--> 419\u001b[0m     \u001b[39mreturn\u001b[39;00m \u001b[39mself\u001b[39;49m\u001b[39m.\u001b[39;49mapply(\u001b[39m\"\u001b[39;49m\u001b[39mastype\u001b[39;49m\u001b[39m\"\u001b[39;49m, dtype\u001b[39m=\u001b[39;49mdtype, copy\u001b[39m=\u001b[39;49mcopy, errors\u001b[39m=\u001b[39;49merrors)\n",
      "File \u001b[0;32m/Library/Frameworks/Python.framework/Versions/3.9/lib/python3.9/site-packages/pandas/core/internals/managers.py:304\u001b[0m, in \u001b[0;36mBaseBlockManager.apply\u001b[0;34m(self, f, align_keys, ignore_failures, **kwargs)\u001b[0m\n\u001b[1;32m    302\u001b[0m         applied \u001b[39m=\u001b[39m b\u001b[39m.\u001b[39mapply(f, \u001b[39m*\u001b[39m\u001b[39m*\u001b[39mkwargs)\n\u001b[1;32m    303\u001b[0m     \u001b[39melse\u001b[39;00m:\n\u001b[0;32m--> 304\u001b[0m         applied \u001b[39m=\u001b[39m \u001b[39mgetattr\u001b[39;49m(b, f)(\u001b[39m*\u001b[39;49m\u001b[39m*\u001b[39;49mkwargs)\n\u001b[1;32m    305\u001b[0m \u001b[39mexcept\u001b[39;00m (\u001b[39mTypeError\u001b[39;00m, \u001b[39mNotImplementedError\u001b[39;00m):\n\u001b[1;32m    306\u001b[0m     \u001b[39mif\u001b[39;00m \u001b[39mnot\u001b[39;00m ignore_failures:\n",
      "File \u001b[0;32m/Library/Frameworks/Python.framework/Versions/3.9/lib/python3.9/site-packages/pandas/core/internals/blocks.py:580\u001b[0m, in \u001b[0;36mBlock.astype\u001b[0;34m(self, dtype, copy, errors)\u001b[0m\n\u001b[1;32m    562\u001b[0m \u001b[39m\"\"\"\u001b[39;00m\n\u001b[1;32m    563\u001b[0m \u001b[39mCoerce to the new dtype.\u001b[39;00m\n\u001b[1;32m    564\u001b[0m \n\u001b[0;32m   (...)\u001b[0m\n\u001b[1;32m    576\u001b[0m \u001b[39mBlock\u001b[39;00m\n\u001b[1;32m    577\u001b[0m \u001b[39m\"\"\"\u001b[39;00m\n\u001b[1;32m    578\u001b[0m values \u001b[39m=\u001b[39m \u001b[39mself\u001b[39m\u001b[39m.\u001b[39mvalues\n\u001b[0;32m--> 580\u001b[0m new_values \u001b[39m=\u001b[39m astype_array_safe(values, dtype, copy\u001b[39m=\u001b[39;49mcopy, errors\u001b[39m=\u001b[39;49merrors)\n\u001b[1;32m    582\u001b[0m new_values \u001b[39m=\u001b[39m maybe_coerce_values(new_values)\n\u001b[1;32m    583\u001b[0m newb \u001b[39m=\u001b[39m \u001b[39mself\u001b[39m\u001b[39m.\u001b[39mmake_block(new_values)\n",
      "File \u001b[0;32m/Library/Frameworks/Python.framework/Versions/3.9/lib/python3.9/site-packages/pandas/core/dtypes/cast.py:1292\u001b[0m, in \u001b[0;36mastype_array_safe\u001b[0;34m(values, dtype, copy, errors)\u001b[0m\n\u001b[1;32m   1289\u001b[0m     dtype \u001b[39m=\u001b[39m dtype\u001b[39m.\u001b[39mnumpy_dtype\n\u001b[1;32m   1291\u001b[0m \u001b[39mtry\u001b[39;00m:\n\u001b[0;32m-> 1292\u001b[0m     new_values \u001b[39m=\u001b[39m astype_array(values, dtype, copy\u001b[39m=\u001b[39;49mcopy)\n\u001b[1;32m   1293\u001b[0m \u001b[39mexcept\u001b[39;00m (\u001b[39mValueError\u001b[39;00m, \u001b[39mTypeError\u001b[39;00m):\n\u001b[1;32m   1294\u001b[0m     \u001b[39m# e.g. astype_nansafe can fail on object-dtype of strings\u001b[39;00m\n\u001b[1;32m   1295\u001b[0m     \u001b[39m#  trying to convert to float\u001b[39;00m\n\u001b[1;32m   1296\u001b[0m     \u001b[39mif\u001b[39;00m errors \u001b[39m==\u001b[39m \u001b[39m\"\u001b[39m\u001b[39mignore\u001b[39m\u001b[39m\"\u001b[39m:\n",
      "File \u001b[0;32m/Library/Frameworks/Python.framework/Versions/3.9/lib/python3.9/site-packages/pandas/core/dtypes/cast.py:1237\u001b[0m, in \u001b[0;36mastype_array\u001b[0;34m(values, dtype, copy)\u001b[0m\n\u001b[1;32m   1234\u001b[0m     values \u001b[39m=\u001b[39m values\u001b[39m.\u001b[39mastype(dtype, copy\u001b[39m=\u001b[39mcopy)\n\u001b[1;32m   1236\u001b[0m \u001b[39melse\u001b[39;00m:\n\u001b[0;32m-> 1237\u001b[0m     values \u001b[39m=\u001b[39m astype_nansafe(values, dtype, copy\u001b[39m=\u001b[39;49mcopy)\n\u001b[1;32m   1239\u001b[0m \u001b[39m# in pandas we don't store numpy str dtypes, so convert to object\u001b[39;00m\n\u001b[1;32m   1240\u001b[0m \u001b[39mif\u001b[39;00m \u001b[39misinstance\u001b[39m(dtype, np\u001b[39m.\u001b[39mdtype) \u001b[39mand\u001b[39;00m \u001b[39missubclass\u001b[39m(values\u001b[39m.\u001b[39mdtype\u001b[39m.\u001b[39mtype, \u001b[39mstr\u001b[39m):\n",
      "File \u001b[0;32m/Library/Frameworks/Python.framework/Versions/3.9/lib/python3.9/site-packages/pandas/core/dtypes/cast.py:1154\u001b[0m, in \u001b[0;36mastype_nansafe\u001b[0;34m(arr, dtype, copy, skipna)\u001b[0m\n\u001b[1;32m   1150\u001b[0m \u001b[39melif\u001b[39;00m is_object_dtype(arr\u001b[39m.\u001b[39mdtype):\n\u001b[1;32m   1151\u001b[0m \n\u001b[1;32m   1152\u001b[0m     \u001b[39m# work around NumPy brokenness, #1987\u001b[39;00m\n\u001b[1;32m   1153\u001b[0m     \u001b[39mif\u001b[39;00m np\u001b[39m.\u001b[39missubdtype(dtype\u001b[39m.\u001b[39mtype, np\u001b[39m.\u001b[39minteger):\n\u001b[0;32m-> 1154\u001b[0m         \u001b[39mreturn\u001b[39;00m lib\u001b[39m.\u001b[39;49mastype_intsafe(arr, dtype)\n\u001b[1;32m   1156\u001b[0m     \u001b[39m# if we have a datetime/timedelta array of objects\u001b[39;00m\n\u001b[1;32m   1157\u001b[0m     \u001b[39m# then coerce to a proper dtype and recall astype_nansafe\u001b[39;00m\n\u001b[1;32m   1159\u001b[0m     \u001b[39melif\u001b[39;00m is_datetime64_dtype(dtype):\n",
      "File \u001b[0;32m/Library/Frameworks/Python.framework/Versions/3.9/lib/python3.9/site-packages/pandas/_libs/lib.pyx:668\u001b[0m, in \u001b[0;36mpandas._libs.lib.astype_intsafe\u001b[0;34m()\u001b[0m\n",
      "\u001b[0;31mValueError\u001b[0m: invalid literal for int() with base 10: '---'"
     ]
    }
   ],
   "source": [
    "dataset.o3 = dataset.o3.astype(int)"
   ]
  },
  {
   "cell_type": "code",
   "execution_count": 424,
   "metadata": {},
   "outputs": [],
   "source": [
    "#Ganti \"---\" dengan suatu numerik\n",
    "dataset.o3 = dataset.o3.replace(\"---\", -1).astype(int)"
   ]
  },
  {
   "cell_type": "code",
   "execution_count": 425,
   "metadata": {},
   "outputs": [
    {
     "name": "stdout",
     "output_type": "stream",
     "text": [
      "<class 'pandas.core.frame.DataFrame'>\n",
      "RangeIndex: 765 entries, 0 to 764\n",
      "Data columns (total 11 columns):\n",
      " #   Column    Non-Null Count  Dtype         \n",
      "---  ------    --------------  -----         \n",
      " 0   tanggal   765 non-null    datetime64[ns]\n",
      " 1   stasiun   765 non-null    object        \n",
      " 2   pm10      765 non-null    int64         \n",
      " 3   pm25      765 non-null    int64         \n",
      " 4   so2       765 non-null    int64         \n",
      " 5   co        765 non-null    int64         \n",
      " 6   o3        765 non-null    int64         \n",
      " 7   no2       765 non-null    object        \n",
      " 8   max       765 non-null    object        \n",
      " 9   critical  757 non-null    object        \n",
      " 10  categori  764 non-null    object        \n",
      "dtypes: datetime64[ns](1), int64(5), object(5)\n",
      "memory usage: 65.9+ KB\n"
     ]
    }
   ],
   "source": [
    "dataset.info()"
   ]
  },
  {
   "cell_type": "markdown",
   "metadata": {},
   "source": [
    "3.5.7. Handling Column \"NO2\""
   ]
  },
  {
   "cell_type": "code",
   "execution_count": 426,
   "metadata": {},
   "outputs": [
    {
     "ename": "ValueError",
     "evalue": "invalid literal for int() with base 10: '---'",
     "output_type": "error",
     "traceback": [
      "\u001b[0;31m---------------------------------------------------------------------------\u001b[0m",
      "\u001b[0;31mValueError\u001b[0m                                Traceback (most recent call last)",
      "\u001b[1;32m/Users/avntrr/Documents/Pacmann/tugas_akhir_pacmann.ipynb Cell 48\u001b[0m in \u001b[0;36m<cell line: 1>\u001b[0;34m()\u001b[0m\n\u001b[0;32m----> <a href='vscode-notebook-cell:/Users/avntrr/Documents/Pacmann/tugas_akhir_pacmann.ipynb#Y115sZmlsZQ%3D%3D?line=0'>1</a>\u001b[0m dataset\u001b[39m.\u001b[39mno2 \u001b[39m=\u001b[39m dataset\u001b[39m.\u001b[39;49mno2\u001b[39m.\u001b[39;49mastype(\u001b[39mint\u001b[39;49m)\n",
      "File \u001b[0;32m/Library/Frameworks/Python.framework/Versions/3.9/lib/python3.9/site-packages/pandas/core/generic.py:5912\u001b[0m, in \u001b[0;36mNDFrame.astype\u001b[0;34m(self, dtype, copy, errors)\u001b[0m\n\u001b[1;32m   5905\u001b[0m     results \u001b[39m=\u001b[39m [\n\u001b[1;32m   5906\u001b[0m         \u001b[39mself\u001b[39m\u001b[39m.\u001b[39miloc[:, i]\u001b[39m.\u001b[39mastype(dtype, copy\u001b[39m=\u001b[39mcopy)\n\u001b[1;32m   5907\u001b[0m         \u001b[39mfor\u001b[39;00m i \u001b[39min\u001b[39;00m \u001b[39mrange\u001b[39m(\u001b[39mlen\u001b[39m(\u001b[39mself\u001b[39m\u001b[39m.\u001b[39mcolumns))\n\u001b[1;32m   5908\u001b[0m     ]\n\u001b[1;32m   5910\u001b[0m \u001b[39melse\u001b[39;00m:\n\u001b[1;32m   5911\u001b[0m     \u001b[39m# else, only a single dtype is given\u001b[39;00m\n\u001b[0;32m-> 5912\u001b[0m     new_data \u001b[39m=\u001b[39m \u001b[39mself\u001b[39;49m\u001b[39m.\u001b[39;49m_mgr\u001b[39m.\u001b[39;49mastype(dtype\u001b[39m=\u001b[39;49mdtype, copy\u001b[39m=\u001b[39;49mcopy, errors\u001b[39m=\u001b[39;49merrors)\n\u001b[1;32m   5913\u001b[0m     \u001b[39mreturn\u001b[39;00m \u001b[39mself\u001b[39m\u001b[39m.\u001b[39m_constructor(new_data)\u001b[39m.\u001b[39m__finalize__(\u001b[39mself\u001b[39m, method\u001b[39m=\u001b[39m\u001b[39m\"\u001b[39m\u001b[39mastype\u001b[39m\u001b[39m\"\u001b[39m)\n\u001b[1;32m   5915\u001b[0m \u001b[39m# GH 33113: handle empty frame or series\u001b[39;00m\n",
      "File \u001b[0;32m/Library/Frameworks/Python.framework/Versions/3.9/lib/python3.9/site-packages/pandas/core/internals/managers.py:419\u001b[0m, in \u001b[0;36mBaseBlockManager.astype\u001b[0;34m(self, dtype, copy, errors)\u001b[0m\n\u001b[1;32m    418\u001b[0m \u001b[39mdef\u001b[39;00m \u001b[39mastype\u001b[39m(\u001b[39mself\u001b[39m: T, dtype, copy: \u001b[39mbool\u001b[39m \u001b[39m=\u001b[39m \u001b[39mFalse\u001b[39;00m, errors: \u001b[39mstr\u001b[39m \u001b[39m=\u001b[39m \u001b[39m\"\u001b[39m\u001b[39mraise\u001b[39m\u001b[39m\"\u001b[39m) \u001b[39m-\u001b[39m\u001b[39m>\u001b[39m T:\n\u001b[0;32m--> 419\u001b[0m     \u001b[39mreturn\u001b[39;00m \u001b[39mself\u001b[39;49m\u001b[39m.\u001b[39;49mapply(\u001b[39m\"\u001b[39;49m\u001b[39mastype\u001b[39;49m\u001b[39m\"\u001b[39;49m, dtype\u001b[39m=\u001b[39;49mdtype, copy\u001b[39m=\u001b[39;49mcopy, errors\u001b[39m=\u001b[39;49merrors)\n",
      "File \u001b[0;32m/Library/Frameworks/Python.framework/Versions/3.9/lib/python3.9/site-packages/pandas/core/internals/managers.py:304\u001b[0m, in \u001b[0;36mBaseBlockManager.apply\u001b[0;34m(self, f, align_keys, ignore_failures, **kwargs)\u001b[0m\n\u001b[1;32m    302\u001b[0m         applied \u001b[39m=\u001b[39m b\u001b[39m.\u001b[39mapply(f, \u001b[39m*\u001b[39m\u001b[39m*\u001b[39mkwargs)\n\u001b[1;32m    303\u001b[0m     \u001b[39melse\u001b[39;00m:\n\u001b[0;32m--> 304\u001b[0m         applied \u001b[39m=\u001b[39m \u001b[39mgetattr\u001b[39;49m(b, f)(\u001b[39m*\u001b[39;49m\u001b[39m*\u001b[39;49mkwargs)\n\u001b[1;32m    305\u001b[0m \u001b[39mexcept\u001b[39;00m (\u001b[39mTypeError\u001b[39;00m, \u001b[39mNotImplementedError\u001b[39;00m):\n\u001b[1;32m    306\u001b[0m     \u001b[39mif\u001b[39;00m \u001b[39mnot\u001b[39;00m ignore_failures:\n",
      "File \u001b[0;32m/Library/Frameworks/Python.framework/Versions/3.9/lib/python3.9/site-packages/pandas/core/internals/blocks.py:580\u001b[0m, in \u001b[0;36mBlock.astype\u001b[0;34m(self, dtype, copy, errors)\u001b[0m\n\u001b[1;32m    562\u001b[0m \u001b[39m\"\"\"\u001b[39;00m\n\u001b[1;32m    563\u001b[0m \u001b[39mCoerce to the new dtype.\u001b[39;00m\n\u001b[1;32m    564\u001b[0m \n\u001b[0;32m   (...)\u001b[0m\n\u001b[1;32m    576\u001b[0m \u001b[39mBlock\u001b[39;00m\n\u001b[1;32m    577\u001b[0m \u001b[39m\"\"\"\u001b[39;00m\n\u001b[1;32m    578\u001b[0m values \u001b[39m=\u001b[39m \u001b[39mself\u001b[39m\u001b[39m.\u001b[39mvalues\n\u001b[0;32m--> 580\u001b[0m new_values \u001b[39m=\u001b[39m astype_array_safe(values, dtype, copy\u001b[39m=\u001b[39;49mcopy, errors\u001b[39m=\u001b[39;49merrors)\n\u001b[1;32m    582\u001b[0m new_values \u001b[39m=\u001b[39m maybe_coerce_values(new_values)\n\u001b[1;32m    583\u001b[0m newb \u001b[39m=\u001b[39m \u001b[39mself\u001b[39m\u001b[39m.\u001b[39mmake_block(new_values)\n",
      "File \u001b[0;32m/Library/Frameworks/Python.framework/Versions/3.9/lib/python3.9/site-packages/pandas/core/dtypes/cast.py:1292\u001b[0m, in \u001b[0;36mastype_array_safe\u001b[0;34m(values, dtype, copy, errors)\u001b[0m\n\u001b[1;32m   1289\u001b[0m     dtype \u001b[39m=\u001b[39m dtype\u001b[39m.\u001b[39mnumpy_dtype\n\u001b[1;32m   1291\u001b[0m \u001b[39mtry\u001b[39;00m:\n\u001b[0;32m-> 1292\u001b[0m     new_values \u001b[39m=\u001b[39m astype_array(values, dtype, copy\u001b[39m=\u001b[39;49mcopy)\n\u001b[1;32m   1293\u001b[0m \u001b[39mexcept\u001b[39;00m (\u001b[39mValueError\u001b[39;00m, \u001b[39mTypeError\u001b[39;00m):\n\u001b[1;32m   1294\u001b[0m     \u001b[39m# e.g. astype_nansafe can fail on object-dtype of strings\u001b[39;00m\n\u001b[1;32m   1295\u001b[0m     \u001b[39m#  trying to convert to float\u001b[39;00m\n\u001b[1;32m   1296\u001b[0m     \u001b[39mif\u001b[39;00m errors \u001b[39m==\u001b[39m \u001b[39m\"\u001b[39m\u001b[39mignore\u001b[39m\u001b[39m\"\u001b[39m:\n",
      "File \u001b[0;32m/Library/Frameworks/Python.framework/Versions/3.9/lib/python3.9/site-packages/pandas/core/dtypes/cast.py:1237\u001b[0m, in \u001b[0;36mastype_array\u001b[0;34m(values, dtype, copy)\u001b[0m\n\u001b[1;32m   1234\u001b[0m     values \u001b[39m=\u001b[39m values\u001b[39m.\u001b[39mastype(dtype, copy\u001b[39m=\u001b[39mcopy)\n\u001b[1;32m   1236\u001b[0m \u001b[39melse\u001b[39;00m:\n\u001b[0;32m-> 1237\u001b[0m     values \u001b[39m=\u001b[39m astype_nansafe(values, dtype, copy\u001b[39m=\u001b[39;49mcopy)\n\u001b[1;32m   1239\u001b[0m \u001b[39m# in pandas we don't store numpy str dtypes, so convert to object\u001b[39;00m\n\u001b[1;32m   1240\u001b[0m \u001b[39mif\u001b[39;00m \u001b[39misinstance\u001b[39m(dtype, np\u001b[39m.\u001b[39mdtype) \u001b[39mand\u001b[39;00m \u001b[39missubclass\u001b[39m(values\u001b[39m.\u001b[39mdtype\u001b[39m.\u001b[39mtype, \u001b[39mstr\u001b[39m):\n",
      "File \u001b[0;32m/Library/Frameworks/Python.framework/Versions/3.9/lib/python3.9/site-packages/pandas/core/dtypes/cast.py:1154\u001b[0m, in \u001b[0;36mastype_nansafe\u001b[0;34m(arr, dtype, copy, skipna)\u001b[0m\n\u001b[1;32m   1150\u001b[0m \u001b[39melif\u001b[39;00m is_object_dtype(arr\u001b[39m.\u001b[39mdtype):\n\u001b[1;32m   1151\u001b[0m \n\u001b[1;32m   1152\u001b[0m     \u001b[39m# work around NumPy brokenness, #1987\u001b[39;00m\n\u001b[1;32m   1153\u001b[0m     \u001b[39mif\u001b[39;00m np\u001b[39m.\u001b[39missubdtype(dtype\u001b[39m.\u001b[39mtype, np\u001b[39m.\u001b[39minteger):\n\u001b[0;32m-> 1154\u001b[0m         \u001b[39mreturn\u001b[39;00m lib\u001b[39m.\u001b[39;49mastype_intsafe(arr, dtype)\n\u001b[1;32m   1156\u001b[0m     \u001b[39m# if we have a datetime/timedelta array of objects\u001b[39;00m\n\u001b[1;32m   1157\u001b[0m     \u001b[39m# then coerce to a proper dtype and recall astype_nansafe\u001b[39;00m\n\u001b[1;32m   1159\u001b[0m     \u001b[39melif\u001b[39;00m is_datetime64_dtype(dtype):\n",
      "File \u001b[0;32m/Library/Frameworks/Python.framework/Versions/3.9/lib/python3.9/site-packages/pandas/_libs/lib.pyx:668\u001b[0m, in \u001b[0;36mpandas._libs.lib.astype_intsafe\u001b[0;34m()\u001b[0m\n",
      "\u001b[0;31mValueError\u001b[0m: invalid literal for int() with base 10: '---'"
     ]
    }
   ],
   "source": [
    "dataset.no2 = dataset.no2.astype(int)"
   ]
  },
  {
   "cell_type": "code",
   "execution_count": 427,
   "metadata": {},
   "outputs": [],
   "source": [
    "#Ganti \"---\" dengan suatu numerik\n",
    "dataset.no2 = dataset.no2.replace(\"---\", -1).astype(int)"
   ]
  },
  {
   "cell_type": "markdown",
   "metadata": {},
   "source": [
    "3.5.8. Handling Column \"Max\""
   ]
  },
  {
   "cell_type": "code",
   "execution_count": 428,
   "metadata": {},
   "outputs": [
    {
     "ename": "ValueError",
     "evalue": "invalid literal for int() with base 10: 'PM25'",
     "output_type": "error",
     "traceback": [
      "\u001b[0;31m---------------------------------------------------------------------------\u001b[0m",
      "\u001b[0;31mValueError\u001b[0m                                Traceback (most recent call last)",
      "\u001b[1;32m/Users/avntrr/Documents/Pacmann/tugas_akhir_pacmann.ipynb Cell 51\u001b[0m in \u001b[0;36m<cell line: 1>\u001b[0;34m()\u001b[0m\n\u001b[0;32m----> <a href='vscode-notebook-cell:/Users/avntrr/Documents/Pacmann/tugas_akhir_pacmann.ipynb#Y124sZmlsZQ%3D%3D?line=0'>1</a>\u001b[0m dataset[\u001b[39m\"\u001b[39m\u001b[39mmax\u001b[39m\u001b[39m\"\u001b[39m] \u001b[39m=\u001b[39m dataset[\u001b[39m\"\u001b[39;49m\u001b[39mmax\u001b[39;49m\u001b[39m\"\u001b[39;49m]\u001b[39m.\u001b[39;49mastype(\u001b[39mint\u001b[39;49m)\n",
      "File \u001b[0;32m/Library/Frameworks/Python.framework/Versions/3.9/lib/python3.9/site-packages/pandas/core/generic.py:5912\u001b[0m, in \u001b[0;36mNDFrame.astype\u001b[0;34m(self, dtype, copy, errors)\u001b[0m\n\u001b[1;32m   5905\u001b[0m     results \u001b[39m=\u001b[39m [\n\u001b[1;32m   5906\u001b[0m         \u001b[39mself\u001b[39m\u001b[39m.\u001b[39miloc[:, i]\u001b[39m.\u001b[39mastype(dtype, copy\u001b[39m=\u001b[39mcopy)\n\u001b[1;32m   5907\u001b[0m         \u001b[39mfor\u001b[39;00m i \u001b[39min\u001b[39;00m \u001b[39mrange\u001b[39m(\u001b[39mlen\u001b[39m(\u001b[39mself\u001b[39m\u001b[39m.\u001b[39mcolumns))\n\u001b[1;32m   5908\u001b[0m     ]\n\u001b[1;32m   5910\u001b[0m \u001b[39melse\u001b[39;00m:\n\u001b[1;32m   5911\u001b[0m     \u001b[39m# else, only a single dtype is given\u001b[39;00m\n\u001b[0;32m-> 5912\u001b[0m     new_data \u001b[39m=\u001b[39m \u001b[39mself\u001b[39;49m\u001b[39m.\u001b[39;49m_mgr\u001b[39m.\u001b[39;49mastype(dtype\u001b[39m=\u001b[39;49mdtype, copy\u001b[39m=\u001b[39;49mcopy, errors\u001b[39m=\u001b[39;49merrors)\n\u001b[1;32m   5913\u001b[0m     \u001b[39mreturn\u001b[39;00m \u001b[39mself\u001b[39m\u001b[39m.\u001b[39m_constructor(new_data)\u001b[39m.\u001b[39m__finalize__(\u001b[39mself\u001b[39m, method\u001b[39m=\u001b[39m\u001b[39m\"\u001b[39m\u001b[39mastype\u001b[39m\u001b[39m\"\u001b[39m)\n\u001b[1;32m   5915\u001b[0m \u001b[39m# GH 33113: handle empty frame or series\u001b[39;00m\n",
      "File \u001b[0;32m/Library/Frameworks/Python.framework/Versions/3.9/lib/python3.9/site-packages/pandas/core/internals/managers.py:419\u001b[0m, in \u001b[0;36mBaseBlockManager.astype\u001b[0;34m(self, dtype, copy, errors)\u001b[0m\n\u001b[1;32m    418\u001b[0m \u001b[39mdef\u001b[39;00m \u001b[39mastype\u001b[39m(\u001b[39mself\u001b[39m: T, dtype, copy: \u001b[39mbool\u001b[39m \u001b[39m=\u001b[39m \u001b[39mFalse\u001b[39;00m, errors: \u001b[39mstr\u001b[39m \u001b[39m=\u001b[39m \u001b[39m\"\u001b[39m\u001b[39mraise\u001b[39m\u001b[39m\"\u001b[39m) \u001b[39m-\u001b[39m\u001b[39m>\u001b[39m T:\n\u001b[0;32m--> 419\u001b[0m     \u001b[39mreturn\u001b[39;00m \u001b[39mself\u001b[39;49m\u001b[39m.\u001b[39;49mapply(\u001b[39m\"\u001b[39;49m\u001b[39mastype\u001b[39;49m\u001b[39m\"\u001b[39;49m, dtype\u001b[39m=\u001b[39;49mdtype, copy\u001b[39m=\u001b[39;49mcopy, errors\u001b[39m=\u001b[39;49merrors)\n",
      "File \u001b[0;32m/Library/Frameworks/Python.framework/Versions/3.9/lib/python3.9/site-packages/pandas/core/internals/managers.py:304\u001b[0m, in \u001b[0;36mBaseBlockManager.apply\u001b[0;34m(self, f, align_keys, ignore_failures, **kwargs)\u001b[0m\n\u001b[1;32m    302\u001b[0m         applied \u001b[39m=\u001b[39m b\u001b[39m.\u001b[39mapply(f, \u001b[39m*\u001b[39m\u001b[39m*\u001b[39mkwargs)\n\u001b[1;32m    303\u001b[0m     \u001b[39melse\u001b[39;00m:\n\u001b[0;32m--> 304\u001b[0m         applied \u001b[39m=\u001b[39m \u001b[39mgetattr\u001b[39;49m(b, f)(\u001b[39m*\u001b[39;49m\u001b[39m*\u001b[39;49mkwargs)\n\u001b[1;32m    305\u001b[0m \u001b[39mexcept\u001b[39;00m (\u001b[39mTypeError\u001b[39;00m, \u001b[39mNotImplementedError\u001b[39;00m):\n\u001b[1;32m    306\u001b[0m     \u001b[39mif\u001b[39;00m \u001b[39mnot\u001b[39;00m ignore_failures:\n",
      "File \u001b[0;32m/Library/Frameworks/Python.framework/Versions/3.9/lib/python3.9/site-packages/pandas/core/internals/blocks.py:580\u001b[0m, in \u001b[0;36mBlock.astype\u001b[0;34m(self, dtype, copy, errors)\u001b[0m\n\u001b[1;32m    562\u001b[0m \u001b[39m\"\"\"\u001b[39;00m\n\u001b[1;32m    563\u001b[0m \u001b[39mCoerce to the new dtype.\u001b[39;00m\n\u001b[1;32m    564\u001b[0m \n\u001b[0;32m   (...)\u001b[0m\n\u001b[1;32m    576\u001b[0m \u001b[39mBlock\u001b[39;00m\n\u001b[1;32m    577\u001b[0m \u001b[39m\"\"\"\u001b[39;00m\n\u001b[1;32m    578\u001b[0m values \u001b[39m=\u001b[39m \u001b[39mself\u001b[39m\u001b[39m.\u001b[39mvalues\n\u001b[0;32m--> 580\u001b[0m new_values \u001b[39m=\u001b[39m astype_array_safe(values, dtype, copy\u001b[39m=\u001b[39;49mcopy, errors\u001b[39m=\u001b[39;49merrors)\n\u001b[1;32m    582\u001b[0m new_values \u001b[39m=\u001b[39m maybe_coerce_values(new_values)\n\u001b[1;32m    583\u001b[0m newb \u001b[39m=\u001b[39m \u001b[39mself\u001b[39m\u001b[39m.\u001b[39mmake_block(new_values)\n",
      "File \u001b[0;32m/Library/Frameworks/Python.framework/Versions/3.9/lib/python3.9/site-packages/pandas/core/dtypes/cast.py:1292\u001b[0m, in \u001b[0;36mastype_array_safe\u001b[0;34m(values, dtype, copy, errors)\u001b[0m\n\u001b[1;32m   1289\u001b[0m     dtype \u001b[39m=\u001b[39m dtype\u001b[39m.\u001b[39mnumpy_dtype\n\u001b[1;32m   1291\u001b[0m \u001b[39mtry\u001b[39;00m:\n\u001b[0;32m-> 1292\u001b[0m     new_values \u001b[39m=\u001b[39m astype_array(values, dtype, copy\u001b[39m=\u001b[39;49mcopy)\n\u001b[1;32m   1293\u001b[0m \u001b[39mexcept\u001b[39;00m (\u001b[39mValueError\u001b[39;00m, \u001b[39mTypeError\u001b[39;00m):\n\u001b[1;32m   1294\u001b[0m     \u001b[39m# e.g. astype_nansafe can fail on object-dtype of strings\u001b[39;00m\n\u001b[1;32m   1295\u001b[0m     \u001b[39m#  trying to convert to float\u001b[39;00m\n\u001b[1;32m   1296\u001b[0m     \u001b[39mif\u001b[39;00m errors \u001b[39m==\u001b[39m \u001b[39m\"\u001b[39m\u001b[39mignore\u001b[39m\u001b[39m\"\u001b[39m:\n",
      "File \u001b[0;32m/Library/Frameworks/Python.framework/Versions/3.9/lib/python3.9/site-packages/pandas/core/dtypes/cast.py:1237\u001b[0m, in \u001b[0;36mastype_array\u001b[0;34m(values, dtype, copy)\u001b[0m\n\u001b[1;32m   1234\u001b[0m     values \u001b[39m=\u001b[39m values\u001b[39m.\u001b[39mastype(dtype, copy\u001b[39m=\u001b[39mcopy)\n\u001b[1;32m   1236\u001b[0m \u001b[39melse\u001b[39;00m:\n\u001b[0;32m-> 1237\u001b[0m     values \u001b[39m=\u001b[39m astype_nansafe(values, dtype, copy\u001b[39m=\u001b[39;49mcopy)\n\u001b[1;32m   1239\u001b[0m \u001b[39m# in pandas we don't store numpy str dtypes, so convert to object\u001b[39;00m\n\u001b[1;32m   1240\u001b[0m \u001b[39mif\u001b[39;00m \u001b[39misinstance\u001b[39m(dtype, np\u001b[39m.\u001b[39mdtype) \u001b[39mand\u001b[39;00m \u001b[39missubclass\u001b[39m(values\u001b[39m.\u001b[39mdtype\u001b[39m.\u001b[39mtype, \u001b[39mstr\u001b[39m):\n",
      "File \u001b[0;32m/Library/Frameworks/Python.framework/Versions/3.9/lib/python3.9/site-packages/pandas/core/dtypes/cast.py:1154\u001b[0m, in \u001b[0;36mastype_nansafe\u001b[0;34m(arr, dtype, copy, skipna)\u001b[0m\n\u001b[1;32m   1150\u001b[0m \u001b[39melif\u001b[39;00m is_object_dtype(arr\u001b[39m.\u001b[39mdtype):\n\u001b[1;32m   1151\u001b[0m \n\u001b[1;32m   1152\u001b[0m     \u001b[39m# work around NumPy brokenness, #1987\u001b[39;00m\n\u001b[1;32m   1153\u001b[0m     \u001b[39mif\u001b[39;00m np\u001b[39m.\u001b[39missubdtype(dtype\u001b[39m.\u001b[39mtype, np\u001b[39m.\u001b[39minteger):\n\u001b[0;32m-> 1154\u001b[0m         \u001b[39mreturn\u001b[39;00m lib\u001b[39m.\u001b[39;49mastype_intsafe(arr, dtype)\n\u001b[1;32m   1156\u001b[0m     \u001b[39m# if we have a datetime/timedelta array of objects\u001b[39;00m\n\u001b[1;32m   1157\u001b[0m     \u001b[39m# then coerce to a proper dtype and recall astype_nansafe\u001b[39;00m\n\u001b[1;32m   1159\u001b[0m     \u001b[39melif\u001b[39;00m is_datetime64_dtype(dtype):\n",
      "File \u001b[0;32m/Library/Frameworks/Python.framework/Versions/3.9/lib/python3.9/site-packages/pandas/_libs/lib.pyx:668\u001b[0m, in \u001b[0;36mpandas._libs.lib.astype_intsafe\u001b[0;34m()\u001b[0m\n",
      "\u001b[0;31mValueError\u001b[0m: invalid literal for int() with base 10: 'PM25'"
     ]
    }
   ],
   "source": [
    "dataset[\"max\"] = dataset[\"max\"].astype(int)"
   ]
  },
  {
   "cell_type": "code",
   "execution_count": 429,
   "metadata": {},
   "outputs": [
    {
     "data": {
      "text/html": [
       "<div>\n",
       "<style scoped>\n",
       "    .dataframe tbody tr th:only-of-type {\n",
       "        vertical-align: middle;\n",
       "    }\n",
       "\n",
       "    .dataframe tbody tr th {\n",
       "        vertical-align: top;\n",
       "    }\n",
       "\n",
       "    .dataframe thead th {\n",
       "        text-align: right;\n",
       "    }\n",
       "</style>\n",
       "<table border=\"1\" class=\"dataframe\">\n",
       "  <thead>\n",
       "    <tr style=\"text-align: right;\">\n",
       "      <th></th>\n",
       "      <th>tanggal</th>\n",
       "      <th>stasiun</th>\n",
       "      <th>pm10</th>\n",
       "      <th>pm25</th>\n",
       "      <th>so2</th>\n",
       "      <th>co</th>\n",
       "      <th>o3</th>\n",
       "      <th>no2</th>\n",
       "      <th>max</th>\n",
       "      <th>critical</th>\n",
       "      <th>categori</th>\n",
       "    </tr>\n",
       "  </thead>\n",
       "  <tbody>\n",
       "    <tr>\n",
       "      <th>612</th>\n",
       "      <td>2021-12-03</td>\n",
       "      <td>DKI1 (Bunderan HI)</td>\n",
       "      <td>49</td>\n",
       "      <td>31</td>\n",
       "      <td>9</td>\n",
       "      <td>19</td>\n",
       "      <td>7</td>\n",
       "      <td>49</td>\n",
       "      <td>PM25</td>\n",
       "      <td>BAIK</td>\n",
       "      <td>NaN</td>\n",
       "    </tr>\n",
       "  </tbody>\n",
       "</table>\n",
       "</div>"
      ],
      "text/plain": [
       "       tanggal             stasiun  pm10  pm25  so2  co  o3  no2   max  \\\n",
       "612 2021-12-03  DKI1 (Bunderan HI)    49    31    9  19   7   49  PM25   \n",
       "\n",
       "    critical categori  \n",
       "612     BAIK      NaN  "
      ]
     },
     "execution_count": 429,
     "metadata": {},
     "output_type": "execute_result"
    }
   ],
   "source": [
    "#cek data yang salah input\n",
    "dataset[dataset[\"max\"] == \"PM25\"]"
   ]
  },
  {
   "cell_type": "code",
   "execution_count": 430,
   "metadata": {},
   "outputs": [],
   "source": [
    "# quick fix the problem\n",
    "dataset.loc[612, \"max\"] = 49\n",
    "dataset.loc[612, \"critical\"] = \"PM10\"\n",
    "dataset.loc[612, \"categori\"] = \"BAIK\""
   ]
  },
  {
   "cell_type": "code",
   "execution_count": 431,
   "metadata": {},
   "outputs": [
    {
     "data": {
      "text/html": [
       "<div>\n",
       "<style scoped>\n",
       "    .dataframe tbody tr th:only-of-type {\n",
       "        vertical-align: middle;\n",
       "    }\n",
       "\n",
       "    .dataframe tbody tr th {\n",
       "        vertical-align: top;\n",
       "    }\n",
       "\n",
       "    .dataframe thead th {\n",
       "        text-align: right;\n",
       "    }\n",
       "</style>\n",
       "<table border=\"1\" class=\"dataframe\">\n",
       "  <thead>\n",
       "    <tr style=\"text-align: right;\">\n",
       "      <th></th>\n",
       "      <th>tanggal</th>\n",
       "      <th>stasiun</th>\n",
       "      <th>pm10</th>\n",
       "      <th>pm25</th>\n",
       "      <th>so2</th>\n",
       "      <th>co</th>\n",
       "      <th>o3</th>\n",
       "      <th>no2</th>\n",
       "      <th>max</th>\n",
       "      <th>critical</th>\n",
       "      <th>categori</th>\n",
       "    </tr>\n",
       "  </thead>\n",
       "  <tbody>\n",
       "  </tbody>\n",
       "</table>\n",
       "</div>"
      ],
      "text/plain": [
       "Empty DataFrame\n",
       "Columns: [tanggal, stasiun, pm10, pm25, so2, co, o3, no2, max, critical, categori]\n",
       "Index: []"
      ]
     },
     "execution_count": 431,
     "metadata": {},
     "output_type": "execute_result"
    }
   ],
   "source": [
    "dataset[dataset[\"max\"] == \"PM25\"]"
   ]
  },
  {
   "cell_type": "code",
   "execution_count": 432,
   "metadata": {},
   "outputs": [
    {
     "data": {
      "text/plain": [
       "tanggal     2021-12-03 00:00:00\n",
       "stasiun      DKI1 (Bunderan HI)\n",
       "pm10                         49\n",
       "pm25                         31\n",
       "so2                           9\n",
       "co                           19\n",
       "o3                            7\n",
       "no2                          49\n",
       "max                          49\n",
       "critical                   PM10\n",
       "categori                   BAIK\n",
       "Name: 612, dtype: object"
      ]
     },
     "execution_count": 432,
     "metadata": {},
     "output_type": "execute_result"
    }
   ],
   "source": [
    "dataset.loc[612]"
   ]
  },
  {
   "cell_type": "code",
   "execution_count": 433,
   "metadata": {},
   "outputs": [],
   "source": [
    "dataset[\"max\"] = dataset[\"max\"].astype(int)"
   ]
  },
  {
   "cell_type": "markdown",
   "metadata": {},
   "source": [
    "3.5.9. Handling Column \"Categori\" "
   ]
  },
  {
   "cell_type": "code",
   "execution_count": 434,
   "metadata": {},
   "outputs": [
    {
     "data": {
      "text/plain": [
       "BAIK              671\n",
       "TIDAK SEHAT        86\n",
       "TIDAK ADA DATA      8\n",
       "Name: categori, dtype: int64"
      ]
     },
     "execution_count": 434,
     "metadata": {},
     "output_type": "execute_result"
    }
   ],
   "source": [
    "dataset.categori.value_counts()"
   ]
  },
  {
   "cell_type": "code",
   "execution_count": 435,
   "metadata": {},
   "outputs": [],
   "source": [
    "dataset.drop(index = dataset[dataset.categori == \"TIDAK ADA DATA\"].index, inplace = True)"
   ]
  },
  {
   "cell_type": "code",
   "execution_count": 436,
   "metadata": {},
   "outputs": [
    {
     "data": {
      "text/plain": [
       "BAIK           671\n",
       "TIDAK SEHAT     86\n",
       "Name: categori, dtype: int64"
      ]
     },
     "execution_count": 436,
     "metadata": {},
     "output_type": "execute_result"
    }
   ],
   "source": [
    "dataset.categori.value_counts()"
   ]
  },
  {
   "cell_type": "code",
   "execution_count": 437,
   "metadata": {},
   "outputs": [
    {
     "name": "stdout",
     "output_type": "stream",
     "text": [
      "<class 'pandas.core.frame.DataFrame'>\n",
      "Int64Index: 757 entries, 0 to 764\n",
      "Data columns (total 11 columns):\n",
      " #   Column    Non-Null Count  Dtype         \n",
      "---  ------    --------------  -----         \n",
      " 0   tanggal   757 non-null    datetime64[ns]\n",
      " 1   stasiun   757 non-null    object        \n",
      " 2   pm10      757 non-null    int64         \n",
      " 3   pm25      757 non-null    int64         \n",
      " 4   so2       757 non-null    int64         \n",
      " 5   co        757 non-null    int64         \n",
      " 6   o3        757 non-null    int64         \n",
      " 7   no2       757 non-null    int64         \n",
      " 8   max       757 non-null    int64         \n",
      " 9   critical  757 non-null    object        \n",
      " 10  categori  757 non-null    object        \n",
      "dtypes: datetime64[ns](1), int64(7), object(3)\n",
      "memory usage: 71.0+ KB\n"
     ]
    }
   ],
   "source": [
    "dataset.info()"
   ]
  },
  {
   "cell_type": "code",
   "execution_count": 438,
   "metadata": {},
   "outputs": [
    {
     "data": {
      "text/plain": [
       "BAIK           671\n",
       "TIDAK SEHAT     86\n",
       "Name: categori, dtype: int64"
      ]
     },
     "execution_count": 438,
     "metadata": {},
     "output_type": "execute_result"
    }
   ],
   "source": [
    "dataset.categori.value_counts()"
   ]
  },
  {
   "cell_type": "code",
   "execution_count": 439,
   "metadata": {},
   "outputs": [
    {
     "data": {
      "text/plain": [
       "['/Users/avntrr/Documents/Pacmann/dataset_clean.pkl']"
      ]
     },
     "execution_count": 439,
     "metadata": {},
     "output_type": "execute_result"
    }
   ],
   "source": [
    "joblib.dump(dataset, \"/Users/avntrr/Documents/Pacmann/dataset_clean.pkl\")"
   ]
  },
  {
   "cell_type": "markdown",
   "metadata": {},
   "source": [
    "## 4. DATA DEFENSE"
   ]
  },
  {
   "cell_type": "code",
   "execution_count": 440,
   "metadata": {},
   "outputs": [],
   "source": [
    "def check_data(input_data, params):\n",
    "    # check data types\n",
    "    assert input_data.select_dtypes(\"datetime\").columns.to_list() == params[\"datetime_columns\"], \"an error occurs in datetime column(s).\"\n",
    "    assert input_data.select_dtypes(\"object\").columns.to_list() == params[\"object_columns\"], \"an error occurs in object column(s).\"\n",
    "    assert input_data.select_dtypes(\"int\").columns.to_list() == params[\"int32_columns\"], \"an error occurs in int32 column(s).\"\n",
    "\n",
    "    # check range of data\n",
    "    assert set(input_data.stasiun).issubset(set(params[\"range_stasiun\"])), \"an error occurs in stasiun range.\"\n",
    "    assert input_data.pm10.between(params[\"range_pm10\"][0], params[\"range_pm10\"][1]).sum() == len(input_data), \"an error occurs in pm10 range.\"\n",
    "    assert input_data.pm25.between(params[\"range_pm25\"][0], params[\"range_pm25\"][1]).sum() == len(input_data), \"an error occurs in pm25 range.\"\n",
    "    assert input_data.so2.between(params[\"range_so2\"][0], params[\"range_so2\"][1]).sum() == len(input_data), \"an error occurs in so2 range.\"\n",
    "    assert input_data.co.between(params[\"range_co\"][0], params[\"range_co\"][1]).sum() == len(input_data), \"an error occurs in co range.\"\n",
    "    assert input_data.o3.between(params[\"range_o3\"][0], params[\"range_o3\"][1]).sum() == len(input_data), \"an error occurs in o3 range.\"\n",
    "    assert input_data.no2.between(params[\"range_no2\"][0], params[\"range_no2\"][1]).sum() == len(input_data), \"an error occurs in no2 range.\""
   ]
  },
  {
   "cell_type": "code",
   "execution_count": 441,
   "metadata": {},
   "outputs": [],
   "source": [
    "# jika tidak ada error berarti data sudah sesuai dengan desain kita\n",
    "check_data(dataset, params)"
   ]
  },
  {
   "cell_type": "markdown",
   "metadata": {},
   "source": [
    "## 5. DATA SPLITTING"
   ]
  },
  {
   "cell_type": "code",
   "execution_count": 442,
   "metadata": {},
   "outputs": [],
   "source": [
    "x = dataset[params[\"predictors\"]].copy()\n",
    "y = dataset.categori.copy()"
   ]
  },
  {
   "cell_type": "code",
   "execution_count": 443,
   "metadata": {},
   "outputs": [],
   "source": [
    "x = dataset[params[\"predictors\"]].copy()\n",
    "y = dataset.categori.copy()"
   ]
  },
  {
   "cell_type": "code",
   "execution_count": 444,
   "metadata": {},
   "outputs": [
    {
     "name": "stdout",
     "output_type": "stream",
     "text": [
      "<class 'pandas.core.frame.DataFrame'>\n",
      "Int64Index: 757 entries, 0 to 764\n",
      "Data columns (total 7 columns):\n",
      " #   Column   Non-Null Count  Dtype \n",
      "---  ------   --------------  ----- \n",
      " 0   stasiun  757 non-null    object\n",
      " 1   pm10     757 non-null    int64 \n",
      " 2   pm25     757 non-null    int64 \n",
      " 3   so2      757 non-null    int64 \n",
      " 4   co       757 non-null    int64 \n",
      " 5   o3       757 non-null    int64 \n",
      " 6   no2      757 non-null    int64 \n",
      "dtypes: int64(6), object(1)\n",
      "memory usage: 47.3+ KB\n"
     ]
    }
   ],
   "source": [
    "x.info()"
   ]
  },
  {
   "cell_type": "code",
   "execution_count": 445,
   "metadata": {},
   "outputs": [
    {
     "data": {
      "text/plain": [
       "BAIK           671\n",
       "TIDAK SEHAT     86\n",
       "Name: categori, dtype: int64"
      ]
     },
     "execution_count": 445,
     "metadata": {},
     "output_type": "execute_result"
    }
   ],
   "source": [
    "y.value_counts()"
   ]
  },
  {
   "cell_type": "code",
   "execution_count": 446,
   "metadata": {},
   "outputs": [],
   "source": [
    "x_train, x_test, y_train, y_test = train_test_split(x, y, test_size = 0.3, random_state = 42, stratify = y)"
   ]
  },
  {
   "cell_type": "code",
   "execution_count": 447,
   "metadata": {},
   "outputs": [],
   "source": [
    "x_valid, x_test, y_valid, y_test = train_test_split(x_test, y_test, test_size = 0.5, random_state = 42, stratify = y_test)"
   ]
  },
  {
   "cell_type": "code",
   "execution_count": 448,
   "metadata": {},
   "outputs": [
    {
     "data": {
      "text/plain": [
       "['/Users/avntrr/Documents/Pacmann/y_test.pkl']"
      ]
     },
     "execution_count": 448,
     "metadata": {},
     "output_type": "execute_result"
    }
   ],
   "source": [
    "joblib.dump(x_train, \"/Users/avntrr/Documents/Pacmann/x_train.pkl\")\n",
    "joblib.dump(y_train, \"/Users/avntrr/Documents/Pacmann/y_train.pkl\")\n",
    "joblib.dump(x_valid, \"/Users/avntrr/Documents/Pacmann/x_valid.pkl\")\n",
    "joblib.dump(y_valid, \"/Users/avntrr/Documents/Pacmann/y_valid.pkl\")\n",
    "joblib.dump(x_test, \"/Users/avntrr/Documents/Pacmann/x_test.pkl\")\n",
    "joblib.dump(y_test, \"/Users/avntrr/Documents/Pacmann/y_test.pkl\")"
   ]
  },
  {
   "cell_type": "code",
   "execution_count": 449,
   "metadata": {},
   "outputs": [],
   "source": [
    "dataset = pd.concat([x_train, y_train], axis = 1)"
   ]
  },
  {
   "cell_type": "markdown",
   "metadata": {},
   "source": [
    "## 6. EDA"
   ]
  },
  {
   "cell_type": "markdown",
   "metadata": {},
   "source": [
    "6.1. Cek Missing Value"
   ]
  },
  {
   "cell_type": "code",
   "execution_count": 450,
   "metadata": {},
   "outputs": [],
   "source": [
    "dataset.replace(-1, np.nan, inplace = True)"
   ]
  },
  {
   "cell_type": "code",
   "execution_count": 451,
   "metadata": {},
   "outputs": [
    {
     "data": {
      "text/plain": [
       "stasiun      0\n",
       "pm10        18\n",
       "pm25         8\n",
       "so2         57\n",
       "co           2\n",
       "o3          19\n",
       "no2          4\n",
       "categori     0\n",
       "dtype: int64"
      ]
     },
     "execution_count": 451,
     "metadata": {},
     "output_type": "execute_result"
    }
   ],
   "source": [
    "dataset.isnull().sum()"
   ]
  },
  {
   "cell_type": "markdown",
   "metadata": {},
   "source": [
    "6.2. Cek Informasi Statistik"
   ]
  },
  {
   "cell_type": "markdown",
   "metadata": {},
   "source": [
    "6.2.1. Cek Skewness"
   ]
  },
  {
   "cell_type": "code",
   "execution_count": 452,
   "metadata": {},
   "outputs": [
    {
     "data": {
      "text/plain": [
       "pm10   -0.583481\n",
       "pm25    0.030411\n",
       "so2    -0.096708\n",
       "co      1.545073\n",
       "o3      0.875801\n",
       "no2     1.160850\n",
       "dtype: float64"
      ]
     },
     "execution_count": 452,
     "metadata": {},
     "output_type": "execute_result"
    }
   ],
   "source": [
    "dataset.skew(numeric_only = True)"
   ]
  },
  {
   "cell_type": "markdown",
   "metadata": {},
   "source": [
    "6.2.2. Pemisahan Data Berdasarkan Kelas"
   ]
  },
  {
   "cell_type": "code",
   "execution_count": 453,
   "metadata": {},
   "outputs": [],
   "source": [
    "dataset_baik = dataset[dataset.categori == \"BAIK\"].copy()\n",
    "dataset_tidak_sehat = dataset[dataset.categori != \"BAIK\"].copy()"
   ]
  },
  {
   "cell_type": "code",
   "execution_count": 454,
   "metadata": {},
   "outputs": [
    {
     "data": {
      "text/html": [
       "<div>\n",
       "<style scoped>\n",
       "    .dataframe tbody tr th:only-of-type {\n",
       "        vertical-align: middle;\n",
       "    }\n",
       "\n",
       "    .dataframe tbody tr th {\n",
       "        vertical-align: top;\n",
       "    }\n",
       "\n",
       "    .dataframe thead th {\n",
       "        text-align: right;\n",
       "    }\n",
       "</style>\n",
       "<table border=\"1\" class=\"dataframe\">\n",
       "  <thead>\n",
       "    <tr style=\"text-align: right;\">\n",
       "      <th></th>\n",
       "      <th>pm10</th>\n",
       "      <th>pm25</th>\n",
       "      <th>so2</th>\n",
       "      <th>co</th>\n",
       "      <th>o3</th>\n",
       "      <th>no2</th>\n",
       "    </tr>\n",
       "  </thead>\n",
       "  <tbody>\n",
       "    <tr>\n",
       "      <th>count</th>\n",
       "      <td>459.000000</td>\n",
       "      <td>461.000000</td>\n",
       "      <td>415.000000</td>\n",
       "      <td>467.000000</td>\n",
       "      <td>452.000000</td>\n",
       "      <td>465.000000</td>\n",
       "    </tr>\n",
       "    <tr>\n",
       "      <th>mean</th>\n",
       "      <td>50.830065</td>\n",
       "      <td>73.132321</td>\n",
       "      <td>38.274699</td>\n",
       "      <td>10.813704</td>\n",
       "      <td>31.079646</td>\n",
       "      <td>20.266667</td>\n",
       "    </tr>\n",
       "    <tr>\n",
       "      <th>std</th>\n",
       "      <td>11.796190</td>\n",
       "      <td>16.452760</td>\n",
       "      <td>13.397913</td>\n",
       "      <td>4.304602</td>\n",
       "      <td>12.721399</td>\n",
       "      <td>10.169992</td>\n",
       "    </tr>\n",
       "    <tr>\n",
       "      <th>min</th>\n",
       "      <td>15.000000</td>\n",
       "      <td>26.000000</td>\n",
       "      <td>3.000000</td>\n",
       "      <td>2.000000</td>\n",
       "      <td>7.000000</td>\n",
       "      <td>5.000000</td>\n",
       "    </tr>\n",
       "    <tr>\n",
       "      <th>25%</th>\n",
       "      <td>45.000000</td>\n",
       "      <td>63.000000</td>\n",
       "      <td>29.000000</td>\n",
       "      <td>8.000000</td>\n",
       "      <td>22.000000</td>\n",
       "      <td>13.000000</td>\n",
       "    </tr>\n",
       "    <tr>\n",
       "      <th>50%</th>\n",
       "      <td>53.000000</td>\n",
       "      <td>75.000000</td>\n",
       "      <td>39.000000</td>\n",
       "      <td>10.000000</td>\n",
       "      <td>29.000000</td>\n",
       "      <td>17.000000</td>\n",
       "    </tr>\n",
       "    <tr>\n",
       "      <th>75%</th>\n",
       "      <td>58.500000</td>\n",
       "      <td>85.000000</td>\n",
       "      <td>49.000000</td>\n",
       "      <td>13.000000</td>\n",
       "      <td>37.250000</td>\n",
       "      <td>26.000000</td>\n",
       "    </tr>\n",
       "    <tr>\n",
       "      <th>max</th>\n",
       "      <td>87.000000</td>\n",
       "      <td>100.000000</td>\n",
       "      <td>81.000000</td>\n",
       "      <td>44.000000</td>\n",
       "      <td>78.000000</td>\n",
       "      <td>65.000000</td>\n",
       "    </tr>\n",
       "  </tbody>\n",
       "</table>\n",
       "</div>"
      ],
      "text/plain": [
       "             pm10        pm25         so2          co          o3         no2\n",
       "count  459.000000  461.000000  415.000000  467.000000  452.000000  465.000000\n",
       "mean    50.830065   73.132321   38.274699   10.813704   31.079646   20.266667\n",
       "std     11.796190   16.452760   13.397913    4.304602   12.721399   10.169992\n",
       "min     15.000000   26.000000    3.000000    2.000000    7.000000    5.000000\n",
       "25%     45.000000   63.000000   29.000000    8.000000   22.000000   13.000000\n",
       "50%     53.000000   75.000000   39.000000   10.000000   29.000000   17.000000\n",
       "75%     58.500000   85.000000   49.000000   13.000000   37.250000   26.000000\n",
       "max     87.000000  100.000000   81.000000   44.000000   78.000000   65.000000"
      ]
     },
     "execution_count": 454,
     "metadata": {},
     "output_type": "execute_result"
    }
   ],
   "source": [
    "#Kelas 1\n",
    "dataset_baik.describe()"
   ]
  },
  {
   "cell_type": "code",
   "execution_count": 455,
   "metadata": {},
   "outputs": [
    {
     "data": {
      "text/html": [
       "<div>\n",
       "<style scoped>\n",
       "    .dataframe tbody tr th:only-of-type {\n",
       "        vertical-align: middle;\n",
       "    }\n",
       "\n",
       "    .dataframe tbody tr th {\n",
       "        vertical-align: top;\n",
       "    }\n",
       "\n",
       "    .dataframe thead th {\n",
       "        text-align: right;\n",
       "    }\n",
       "</style>\n",
       "<table border=\"1\" class=\"dataframe\">\n",
       "  <thead>\n",
       "    <tr style=\"text-align: right;\">\n",
       "      <th></th>\n",
       "      <th>pm10</th>\n",
       "      <th>pm25</th>\n",
       "      <th>so2</th>\n",
       "      <th>co</th>\n",
       "      <th>o3</th>\n",
       "      <th>no2</th>\n",
       "    </tr>\n",
       "  </thead>\n",
       "  <tbody>\n",
       "    <tr>\n",
       "      <th>count</th>\n",
       "      <td>52.000000</td>\n",
       "      <td>60.000000</td>\n",
       "      <td>57.000000</td>\n",
       "      <td>60.000000</td>\n",
       "      <td>58.000000</td>\n",
       "      <td>60.000000</td>\n",
       "    </tr>\n",
       "    <tr>\n",
       "      <th>mean</th>\n",
       "      <td>67.057692</td>\n",
       "      <td>110.933333</td>\n",
       "      <td>43.280702</td>\n",
       "      <td>12.500000</td>\n",
       "      <td>33.258621</td>\n",
       "      <td>22.850000</td>\n",
       "    </tr>\n",
       "    <tr>\n",
       "      <th>std</th>\n",
       "      <td>7.609111</td>\n",
       "      <td>10.254171</td>\n",
       "      <td>9.238418</td>\n",
       "      <td>3.367341</td>\n",
       "      <td>11.019218</td>\n",
       "      <td>5.873886</td>\n",
       "    </tr>\n",
       "    <tr>\n",
       "      <th>min</th>\n",
       "      <td>55.000000</td>\n",
       "      <td>101.000000</td>\n",
       "      <td>17.000000</td>\n",
       "      <td>8.000000</td>\n",
       "      <td>13.000000</td>\n",
       "      <td>12.000000</td>\n",
       "    </tr>\n",
       "    <tr>\n",
       "      <th>25%</th>\n",
       "      <td>62.000000</td>\n",
       "      <td>104.000000</td>\n",
       "      <td>39.000000</td>\n",
       "      <td>10.000000</td>\n",
       "      <td>26.000000</td>\n",
       "      <td>18.750000</td>\n",
       "    </tr>\n",
       "    <tr>\n",
       "      <th>50%</th>\n",
       "      <td>66.000000</td>\n",
       "      <td>107.500000</td>\n",
       "      <td>42.000000</td>\n",
       "      <td>12.000000</td>\n",
       "      <td>32.000000</td>\n",
       "      <td>22.000000</td>\n",
       "    </tr>\n",
       "    <tr>\n",
       "      <th>75%</th>\n",
       "      <td>71.250000</td>\n",
       "      <td>115.250000</td>\n",
       "      <td>45.000000</td>\n",
       "      <td>14.000000</td>\n",
       "      <td>39.000000</td>\n",
       "      <td>25.000000</td>\n",
       "    </tr>\n",
       "    <tr>\n",
       "      <th>max</th>\n",
       "      <td>100.000000</td>\n",
       "      <td>157.000000</td>\n",
       "      <td>82.000000</td>\n",
       "      <td>23.000000</td>\n",
       "      <td>70.000000</td>\n",
       "      <td>41.000000</td>\n",
       "    </tr>\n",
       "  </tbody>\n",
       "</table>\n",
       "</div>"
      ],
      "text/plain": [
       "             pm10        pm25        so2         co         o3        no2\n",
       "count   52.000000   60.000000  57.000000  60.000000  58.000000  60.000000\n",
       "mean    67.057692  110.933333  43.280702  12.500000  33.258621  22.850000\n",
       "std      7.609111   10.254171   9.238418   3.367341  11.019218   5.873886\n",
       "min     55.000000  101.000000  17.000000   8.000000  13.000000  12.000000\n",
       "25%     62.000000  104.000000  39.000000  10.000000  26.000000  18.750000\n",
       "50%     66.000000  107.500000  42.000000  12.000000  32.000000  22.000000\n",
       "75%     71.250000  115.250000  45.000000  14.000000  39.000000  25.000000\n",
       "max    100.000000  157.000000  82.000000  23.000000  70.000000  41.000000"
      ]
     },
     "execution_count": 455,
     "metadata": {},
     "output_type": "execute_result"
    }
   ],
   "source": [
    "#Kelas 0\n",
    "dataset_tidak_sehat.describe()"
   ]
  },
  {
   "cell_type": "markdown",
   "metadata": {},
   "source": [
    "6.2.3. Visualisasi untuk Fitur PM10"
   ]
  },
  {
   "cell_type": "code",
   "execution_count": 456,
   "metadata": {},
   "outputs": [
    {
     "data": {
      "text/plain": [
       "<matplotlib.lines.Line2D at 0x176579280>"
      ]
     },
     "execution_count": 456,
     "metadata": {},
     "output_type": "execute_result"
    },
    {
     "data": {
      "image/png": "[encoded data removed]",
      "text/plain": [
       "<Figure size 432x288 with 1 Axes>"
      ]
     },
     "metadata": {
      "needs_background": "light"
     },
     "output_type": "display_data"
    }
   ],
   "source": [
    "# distribusi pm10 tanpa melihat categori\n",
    "sns.kdeplot(data = dataset, x = \"pm10\")\n",
    "plt.axvline(dataset.pm10.mean(), 0, 1, color = \"g\")"
   ]
  },
  {
   "cell_type": "code",
   "execution_count": 457,
   "metadata": {},
   "outputs": [
    {
     "data": {
      "text/plain": [
       "<matplotlib.lines.Line2D at 0x151530a00>"
      ]
     },
     "execution_count": 457,
     "metadata": {},
     "output_type": "execute_result"
    },
    {
     "data": {
      "image/png": "[encoded data removed]",
      "text/plain": [
       "<Figure size 432x288 with 1 Axes>"
      ]
     },
     "metadata": {
      "needs_background": "light"
     },
     "output_type": "display_data"
    }
   ],
   "source": [
    "# distribusi pm10 berdasarkan categori\n",
    "\n",
    "sns.kdeplot(data = dataset, x = \"pm10\", hue = \"categori\")\n",
    "plt.axvline(dataset_tidak_sehat.pm10.mean(), 0, 1, color = \"g\")\n",
    "plt.axvline(dataset_baik.pm10.mean(), 0, 1, color = \"k\")"
   ]
  },
  {
   "cell_type": "code",
   "execution_count": 458,
   "metadata": {},
   "outputs": [],
   "source": [
    "# distribusi sedikit skew ke kanan namun tidak signifikan, imputasi mean\n",
    "# mean 2 kelas berbeda jauh, imputasi berdasarkan kelas\n",
    "# kesimpulan: untuk pm10 akan menggunakan mean dari perkelas untuk imputasi"
   ]
  },
  {
   "cell_type": "markdown",
   "metadata": {},
   "source": [
    "6.2.4. Visualisasi untuk Fitur PM25"
   ]
  },
  {
   "cell_type": "code",
   "execution_count": 459,
   "metadata": {},
   "outputs": [
    {
     "data": {
      "text/plain": [
       "<matplotlib.lines.Line2D at 0x147f30e80>"
      ]
     },
     "execution_count": 459,
     "metadata": {},
     "output_type": "execute_result"
    },
    {
     "data": {
      "image/png": "[encoded data removed]",
      "text/plain": [
       "<Figure size 432x288 with 1 Axes>"
      ]
     },
     "metadata": {
      "needs_background": "light"
     },
     "output_type": "display_data"
    }
   ],
   "source": [
    "sns.kdeplot(data = dataset, x = \"pm25\")\n",
    "plt.axvline(dataset.pm25.mean(), 0, 1, color = \"g\")"
   ]
  },
  {
   "cell_type": "code",
   "execution_count": 460,
   "metadata": {},
   "outputs": [
    {
     "data": {
      "text/plain": [
       "<matplotlib.lines.Line2D at 0x15166beb0>"
      ]
     },
     "execution_count": 460,
     "metadata": {},
     "output_type": "execute_result"
    },
    {
     "data": {
      "image/png": "[encoded data removed]",
      "text/plain": [
       "<Figure size 432x288 with 1 Axes>"
      ]
     },
     "metadata": {
      "needs_background": "light"
     },
     "output_type": "display_data"
    }
   ],
   "source": [
    "sns.kdeplot(data = dataset, x = \"pm25\", hue = \"categori\")\n",
    "plt.axvline(dataset_tidak_sehat.pm25.mean(), 0, 1, color = \"g\")\n",
    "plt.axvline(dataset_baik.pm25.mean(), 0, 1, color = \"k\")"
   ]
  },
  {
   "cell_type": "code",
   "execution_count": 461,
   "metadata": {},
   "outputs": [],
   "source": [
    "# distribusi sangat dekat dengan normal (nilai skew fisher-pearson mendekati nol), imputasi mean\n",
    "# mean 2 kelas berbeda jauh, imputasi berdasarkan kelas\n",
    "# kesimpulan: untuk pm25 akan menggunakan mean dari perkelas untuk imputasi"
   ]
  },
  {
   "cell_type": "markdown",
   "metadata": {},
   "source": [
    "6.2.5. Visualisasi untuk Fitur SO25"
   ]
  },
  {
   "cell_type": "code",
   "execution_count": 462,
   "metadata": {},
   "outputs": [
    {
     "data": {
      "text/plain": [
       "<matplotlib.lines.Line2D at 0x151560df0>"
      ]
     },
     "execution_count": 462,
     "metadata": {},
     "output_type": "execute_result"
    },
    {
     "data": {
      "image/png": "[encoded data removed]",
      "text/plain": [
       "<Figure size 432x288 with 1 Axes>"
      ]
     },
     "metadata": {
      "needs_background": "light"
     },
     "output_type": "display_data"
    }
   ],
   "source": [
    "sns.kdeplot(data = dataset, x = \"so2\")\n",
    "plt.axvline(dataset.so2.mean(), 0, 1, color = \"g\")"
   ]
  },
  {
   "cell_type": "code",
   "execution_count": 463,
   "metadata": {},
   "outputs": [
    {
     "data": {
      "text/plain": [
       "<matplotlib.lines.Line2D at 0x151767940>"
      ]
     },
     "execution_count": 463,
     "metadata": {},
     "output_type": "execute_result"
    },
    {
     "data": {
      "image/png": "[encoded data removed]",
      "text/plain": [
       "<Figure size 432x288 with 1 Axes>"
      ]
     },
     "metadata": {
      "needs_background": "light"
     },
     "output_type": "display_data"
    }
   ],
   "source": [
    "sns.kdeplot(data = dataset, x = \"so2\", hue = \"categori\")\n",
    "plt.axvline(dataset_tidak_sehat.so2.mean(), 0, 1, color = \"g\")\n",
    "plt.axvline(dataset_baik.so2.mean(), 0, 1, color = \"k\")"
   ]
  },
  {
   "cell_type": "markdown",
   "metadata": {},
   "source": [
    "6.2.6. Visualisasi untuk Fitur CO"
   ]
  },
  {
   "cell_type": "code",
   "execution_count": 464,
   "metadata": {},
   "outputs": [
    {
     "data": {
      "text/plain": [
       "<matplotlib.lines.Line2D at 0x1517b2310>"
      ]
     },
     "execution_count": 464,
     "metadata": {},
     "output_type": "execute_result"
    },
    {
     "data": {
      "image/png": "[encoded data removed]",
      "text/plain": [
       "<Figure size 432x288 with 1 Axes>"
      ]
     },
     "metadata": {
      "needs_background": "light"
     },
     "output_type": "display_data"
    }
   ],
   "source": [
    "sns.kdeplot(data = dataset, x = \"co\")\n",
    "plt.axvline(dataset.co.mean(), 0, 1, color = \"g\")"
   ]
  },
  {
   "cell_type": "code",
   "execution_count": 465,
   "metadata": {},
   "outputs": [
    {
     "data": {
      "text/plain": [
       "<matplotlib.lines.Line2D at 0x151866a90>"
      ]
     },
     "execution_count": 465,
     "metadata": {},
     "output_type": "execute_result"
    },
    {
     "data": {
      "image/png": "[encoded data removed]",
      "text/plain": [
       "<Figure size 432x288 with 1 Axes>"
      ]
     },
     "metadata": {
      "needs_background": "light"
     },
     "output_type": "display_data"
    }
   ],
   "source": [
    "sns.kdeplot(data = dataset, x = \"co\", hue = \"categori\")\n",
    "plt.axvline(dataset_tidak_sehat.co.median(), 0, 1, color = \"g\")\n",
    "plt.axvline(dataset_baik.co.median(), 0, 1, color = \"k\")"
   ]
  },
  {
   "cell_type": "markdown",
   "metadata": {},
   "source": [
    "6.2.7. Visualisasi untuk Fitur O3"
   ]
  },
  {
   "cell_type": "code",
   "execution_count": 466,
   "metadata": {},
   "outputs": [
    {
     "data": {
      "text/plain": [
       "<matplotlib.lines.Line2D at 0x151875160>"
      ]
     },
     "execution_count": 466,
     "metadata": {},
     "output_type": "execute_result"
    },
    {
     "data": {
      "image/png": "[encoded data removed]",
      "text/plain": [
       "<Figure size 432x288 with 1 Axes>"
      ]
     },
     "metadata": {
      "needs_background": "light"
     },
     "output_type": "display_data"
    }
   ],
   "source": [
    "sns.kdeplot(data = dataset, x = \"o3\")\n",
    "plt.axvline(dataset.o3.mean(), 0, 1, color = \"g\")"
   ]
  },
  {
   "cell_type": "code",
   "execution_count": 467,
   "metadata": {},
   "outputs": [
    {
     "data": {
      "text/plain": [
       "<matplotlib.lines.Line2D at 0x1519544f0>"
      ]
     },
     "execution_count": 467,
     "metadata": {},
     "output_type": "execute_result"
    },
    {
     "data": {
      "image/png": "[encoded data removed]",
      "text/plain": [
       "<Figure size 432x288 with 1 Axes>"
      ]
     },
     "metadata": {
      "needs_background": "light"
     },
     "output_type": "display_data"
    }
   ],
   "source": [
    "sns.kdeplot(data = dataset, x = \"o3\", hue = \"categori\")\n",
    "plt.axvline(dataset_tidak_sehat.o3.median(), 0, 1, color = \"g\")\n",
    "plt.axvline(dataset_baik.o3.median(), 0, 1, color = \"k\")"
   ]
  },
  {
   "cell_type": "markdown",
   "metadata": {},
   "source": [
    "6.2.8. Visualisasi untuk Fitur NO2"
   ]
  },
  {
   "cell_type": "code",
   "execution_count": 468,
   "metadata": {},
   "outputs": [
    {
     "data": {
      "text/plain": [
       "<matplotlib.lines.Line2D at 0x1519af7f0>"
      ]
     },
     "execution_count": 468,
     "metadata": {},
     "output_type": "execute_result"
    },
    {
     "data": {
      "image/png": "[encoded data removed]",
      "text/plain": [
       "<Figure size 432x288 with 1 Axes>"
      ]
     },
     "metadata": {
      "needs_background": "light"
     },
     "output_type": "display_data"
    }
   ],
   "source": [
    "sns.kdeplot(data = dataset, x = \"no2\")\n",
    "plt.axvline(dataset.no2.mean(), 0, 1, color = \"g\")"
   ]
  },
  {
   "cell_type": "code",
   "execution_count": 469,
   "metadata": {},
   "outputs": [
    {
     "data": {
      "text/plain": [
       "<matplotlib.lines.Line2D at 0x151a62460>"
      ]
     },
     "execution_count": 469,
     "metadata": {},
     "output_type": "execute_result"
    },
    {
     "data": {
      "image/png": "[encoded data removed]",
      "text/plain": [
       "<Figure size 432x288 with 1 Axes>"
      ]
     },
     "metadata": {
      "needs_background": "light"
     },
     "output_type": "display_data"
    }
   ],
   "source": [
    "sns.kdeplot(data = dataset, x = \"no2\", hue = \"categori\")\n",
    "plt.axvline(dataset_tidak_sehat.no2.median(), 0, 1, color = \"g\")\n",
    "plt.axvline(dataset_baik.no2.median(), 0, 1, color = \"k\")"
   ]
  },
  {
   "cell_type": "markdown",
   "metadata": {},
   "source": [
    "6.2.9. Pearson Correlation"
   ]
  },
  {
   "cell_type": "code",
   "execution_count": 470,
   "metadata": {},
   "outputs": [
    {
     "data": {
      "text/plain": [
       "<AxesSubplot: >"
      ]
     },
     "execution_count": 470,
     "metadata": {},
     "output_type": "execute_result"
    },
    {
     "data": {
      "image/png": "[encoded data removed]",
      "text/plain": [
       "<Figure size 432x288 with 2 Axes>"
      ]
     },
     "metadata": {
      "needs_background": "light"
     },
     "output_type": "display_data"
    }
   ],
   "source": [
    "sns.heatmap(dataset.corr())"
   ]
  },
  {
   "cell_type": "markdown",
   "metadata": {},
   "source": [
    "6.2.10. T Test untuk PM10"
   ]
  },
  {
   "cell_type": "code",
   "execution_count": 471,
   "metadata": {},
   "outputs": [],
   "source": [
    "# h0    = mean pm10 untuk kelas 0 = mean pm10 untuk kelas 1\n",
    "# h1    = mean pm10 untuk kelas 0 != mean pm10 untuk kelas 1"
   ]
  },
  {
   "cell_type": "code",
   "execution_count": 472,
   "metadata": {},
   "outputs": [
    {
     "data": {
      "text/plain": [
       "Ttest_indResult(statistic=-9.689515085773392, pvalue=1.727350498362646e-20)"
      ]
     },
     "execution_count": 472,
     "metadata": {},
     "output_type": "execute_result"
    }
   ],
   "source": [
    "# perform t-test untuk 2 variabel\n",
    "scs.ttest_ind(\n",
    "    dataset_baik[dataset_baik.pm10.isnull() != True].pm10,\n",
    "    dataset_tidak_baik[dataset_tidak_sehat.pm10.isnull() != True].pm10\n",
    ")"
   ]
  },
  {
   "cell_type": "code",
   "execution_count": 473,
   "metadata": {},
   "outputs": [
    {
     "data": {
      "text/plain": [
       "-1.647750149859035"
      ]
     },
     "execution_count": 473,
     "metadata": {},
     "output_type": "execute_result"
    }
   ],
   "source": [
    "# nilai t critical untuk alpha 0.05\n",
    "scs.t.ppf(0.05, df = (len(dataset) - 2))"
   ]
  },
  {
   "cell_type": "markdown",
   "metadata": {},
   "source": [
    "6.2.11. T Test untuk PM25"
   ]
  },
  {
   "cell_type": "code",
   "execution_count": 474,
   "metadata": {},
   "outputs": [
    {
     "data": {
      "text/plain": [
       "Ttest_indResult(statistic=-17.354771270048253, pvalue=1.5333725489334524e-53)"
      ]
     },
     "execution_count": 474,
     "metadata": {},
     "output_type": "execute_result"
    }
   ],
   "source": [
    "# perform t-test untuk 2 variabel\n",
    "scs.ttest_ind(\n",
    "    dataset_baik[dataset_baik.pm25.isnull() != True].pm25,\n",
    "    dataset_tidak_baik[dataset_tidak_sehat.pm25.isnull() != True].pm25\n",
    ")"
   ]
  },
  {
   "cell_type": "code",
   "execution_count": 475,
   "metadata": {},
   "outputs": [
    {
     "data": {
      "text/plain": [
       "-1.647750149859035"
      ]
     },
     "execution_count": 475,
     "metadata": {},
     "output_type": "execute_result"
    }
   ],
   "source": [
    "# nilai t critical untuk alpha 0.05\n",
    "scs.t.ppf(0.05, df = (len(dataset) - 2))"
   ]
  },
  {
   "cell_type": "markdown",
   "metadata": {},
   "source": [
    "6.2.12. T Test untuk SO2"
   ]
  },
  {
   "cell_type": "code",
   "execution_count": 476,
   "metadata": {},
   "outputs": [
    {
     "data": {
      "text/plain": [
       "Ttest_indResult(statistic=-2.7318585448100086, pvalue=0.00653488648090878)"
      ]
     },
     "execution_count": 476,
     "metadata": {},
     "output_type": "execute_result"
    }
   ],
   "source": [
    "# perform t-test untuk 2 variabel\n",
    "scs.ttest_ind(\n",
    "    dataset_baik[dataset_baik.so2.isnull() != True].so2,\n",
    "    dataset_tidak_baik[dataset_tidak_sehat.so2.isnull() != True].so2\n",
    ")"
   ]
  },
  {
   "cell_type": "code",
   "execution_count": 477,
   "metadata": {},
   "outputs": [
    {
     "data": {
      "text/plain": [
       "-1.647750149859035"
      ]
     },
     "execution_count": 477,
     "metadata": {},
     "output_type": "execute_result"
    }
   ],
   "source": [
    "# nilai t critical untuk alpha 0.05\n",
    "scs.t.ppf(0.05, df = (len(dataset) - 2))"
   ]
  },
  {
   "cell_type": "markdown",
   "metadata": {},
   "source": [
    "6.2.13. T Test untuk CO"
   ]
  },
  {
   "cell_type": "code",
   "execution_count": 478,
   "metadata": {},
   "outputs": [
    {
     "data": {
      "text/plain": [
       "Ttest_indResult(statistic=-2.920869060226972, pvalue=0.003640707328131908)"
      ]
     },
     "execution_count": 478,
     "metadata": {},
     "output_type": "execute_result"
    }
   ],
   "source": [
    "# perform t-test untuk 2 variabel\n",
    "scs.ttest_ind(\n",
    "    dataset_baik[dataset_baik.co.isnull() != True].co,\n",
    "    dataset_tidak_baik[dataset_tidak_sehat.co.isnull() != True].co\n",
    ")"
   ]
  },
  {
   "cell_type": "code",
   "execution_count": 479,
   "metadata": {},
   "outputs": [
    {
     "data": {
      "text/plain": [
       "-1.647750149859035"
      ]
     },
     "execution_count": 479,
     "metadata": {},
     "output_type": "execute_result"
    }
   ],
   "source": [
    "# nilai t critical untuk alpha 0.05\n",
    "scs.t.ppf(0.05, df = (len(dataset) - 2))"
   ]
  },
  {
   "cell_type": "markdown",
   "metadata": {},
   "source": [
    "6.2.14. T Test untuk O3"
   ]
  },
  {
   "cell_type": "code",
   "execution_count": 480,
   "metadata": {},
   "outputs": [
    {
     "data": {
      "text/plain": [
       "Ttest_indResult(statistic=-1.3916577640410066, pvalue=0.16798841142750007)"
      ]
     },
     "execution_count": 480,
     "metadata": {},
     "output_type": "execute_result"
    }
   ],
   "source": [
    "# perform t-test untuk 2 variabel\n",
    "scs.ttest_ind(\n",
    "    dataset_baik[dataset_baik.o3.isnull() != True].o3,\n",
    "    dataset_tidak_baik[dataset_tidak_sehat.o3.isnull() != True].o3,\n",
    "    equal_var = False\n",
    ")"
   ]
  },
  {
   "cell_type": "code",
   "execution_count": 481,
   "metadata": {},
   "outputs": [
    {
     "data": {
      "text/plain": [
       "-1.647750149859035"
      ]
     },
     "execution_count": 481,
     "metadata": {},
     "output_type": "execute_result"
    }
   ],
   "source": [
    "# nilai t critical untuk alpha 0.05\n",
    "scs.t.ppf(0.05, df = (len(dataset) - 2))"
   ]
  },
  {
   "cell_type": "markdown",
   "metadata": {},
   "source": [
    "6.2.15. T Test untuk NO2"
   ]
  },
  {
   "cell_type": "code",
   "execution_count": 482,
   "metadata": {},
   "outputs": [
    {
     "data": {
      "text/plain": [
       "Ttest_indResult(statistic=-1.9255434400964688, pvalue=0.054703254945911294)"
      ]
     },
     "execution_count": 482,
     "metadata": {},
     "output_type": "execute_result"
    }
   ],
   "source": [
    "# perform t-test untuk 2 variabel\n",
    "scs.ttest_ind(\n",
    "    dataset_baik[dataset_baik.no2.isnull() != True].no2,\n",
    "    dataset_tidak_baik[dataset_tidak_sehat.no2.isnull() != True].no2\n",
    ")"
   ]
  },
  {
   "cell_type": "code",
   "execution_count": 483,
   "metadata": {},
   "outputs": [
    {
     "data": {
      "text/plain": [
       "-1.647750149859035"
      ]
     },
     "execution_count": 483,
     "metadata": {},
     "output_type": "execute_result"
    }
   ],
   "source": [
    "# nilai t critical untuk alpha 0.05\n",
    "scs.t.ppf(0.05, df = (len(dataset) - 2))"
   ]
  },
  {
   "cell_type": "markdown",
   "metadata": {},
   "source": [
    "6.3. Cek Imbalance"
   ]
  },
  {
   "cell_type": "code",
   "execution_count": 484,
   "metadata": {},
   "outputs": [
    {
     "data": {
      "text/plain": [
       "BAIK           469\n",
       "TIDAK SEHAT     60\n",
       "Name: categori, dtype: int64"
      ]
     },
     "execution_count": 484,
     "metadata": {},
     "output_type": "execute_result"
    }
   ],
   "source": [
    "dataset.categori.value_counts()"
   ]
  },
  {
   "cell_type": "code",
   "execution_count": 485,
   "metadata": {},
   "outputs": [
    {
     "data": {
      "text/plain": [
       "<AxesSubplot: xlabel='categori', ylabel='Count'>"
      ]
     },
     "execution_count": 485,
     "metadata": {},
     "output_type": "execute_result"
    },
    {
     "data": {
      "image/png": "[encoded data removed]",
      "text/plain": [
       "<Figure size 432x288 with 1 Axes>"
      ]
     },
     "metadata": {
      "needs_background": "light"
     },
     "output_type": "display_data"
    }
   ],
   "source": [
    "sns.histplot(data = dataset, x = \"categori\", hue = \"categori\")"
   ]
  },
  {
   "cell_type": "markdown",
   "metadata": {},
   "source": [
    "6.4. Cek Outliers"
   ]
  },
  {
   "cell_type": "code",
   "execution_count": 486,
   "metadata": {},
   "outputs": [
    {
     "data": {
      "text/plain": [
       "<AxesSubplot: xlabel='pm10'>"
      ]
     },
     "execution_count": 486,
     "metadata": {},
     "output_type": "execute_result"
    },
    {
     "data": {
      "image/png": "[encoded data removed]",
      "text/plain": [
       "<Figure size 432x288 with 1 Axes>"
      ]
     },
     "metadata": {
      "needs_background": "light"
     },
     "output_type": "display_data"
    }
   ],
   "source": [
    "sns.boxplot(data = dataset, x = \"pm10\")"
   ]
  },
  {
   "cell_type": "code",
   "execution_count": 487,
   "metadata": {},
   "outputs": [
    {
     "data": {
      "text/plain": [
       "<AxesSubplot: xlabel='pm25'>"
      ]
     },
     "execution_count": 487,
     "metadata": {},
     "output_type": "execute_result"
    },
    {
     "data": {
      "image/png": "[encoded data removed]",
      "text/plain": [
       "<Figure size 432x288 with 1 Axes>"
      ]
     },
     "metadata": {
      "needs_background": "light"
     },
     "output_type": "display_data"
    }
   ],
   "source": [
    "sns.boxplot(data = dataset, x = \"pm25\")"
   ]
  },
  {
   "cell_type": "code",
   "execution_count": 488,
   "metadata": {},
   "outputs": [
    {
     "data": {
      "text/plain": [
       "<AxesSubplot: xlabel='so2'>"
      ]
     },
     "execution_count": 488,
     "metadata": {},
     "output_type": "execute_result"
    },
    {
     "data": {
      "image/png": "[encoded data removed]",
      "text/plain": [
       "<Figure size 432x288 with 1 Axes>"
      ]
     },
     "metadata": {
      "needs_background": "light"
     },
     "output_type": "display_data"
    }
   ],
   "source": [
    "sns.boxplot(data = dataset, x = \"so2\")"
   ]
  },
  {
   "cell_type": "code",
   "execution_count": 489,
   "metadata": {},
   "outputs": [
    {
     "data": {
      "text/plain": [
       "<AxesSubplot: xlabel='co'>"
      ]
     },
     "execution_count": 489,
     "metadata": {},
     "output_type": "execute_result"
    },
    {
     "data": {
      "image/png": "[encoded data removed]",
      "text/plain": [
       "<Figure size 432x288 with 1 Axes>"
      ]
     },
     "metadata": {
      "needs_background": "light"
     },
     "output_type": "display_data"
    }
   ],
   "source": [
    "sns.boxplot(data = dataset, x = \"co\")"
   ]
  },
  {
   "cell_type": "code",
   "execution_count": 490,
   "metadata": {},
   "outputs": [
    {
     "data": {
      "text/plain": [
       "<AxesSubplot: xlabel='o3'>"
      ]
     },
     "execution_count": 490,
     "metadata": {},
     "output_type": "execute_result"
    },
    {
     "data": {
      "image/png": "[encoded data removed]",
      "text/plain": [
       "<Figure size 432x288 with 1 Axes>"
      ]
     },
     "metadata": {
      "needs_background": "light"
     },
     "output_type": "display_data"
    }
   ],
   "source": [
    "sns.boxplot(data = dataset, x = \"o3\")"
   ]
  },
  {
   "cell_type": "code",
   "execution_count": 491,
   "metadata": {},
   "outputs": [
    {
     "data": {
      "text/plain": [
       "<AxesSubplot: xlabel='no2'>"
      ]
     },
     "execution_count": 491,
     "metadata": {},
     "output_type": "execute_result"
    },
    {
     "data": {
      "image/png": "[encoded data removed]",
      "text/plain": [
       "<Figure size 432x288 with 1 Axes>"
      ]
     },
     "metadata": {
      "needs_background": "light"
     },
     "output_type": "display_data"
    }
   ],
   "source": [
    "sns.boxplot(data = dataset, x = \"no2\")"
   ]
  },
  {
   "cell_type": "markdown",
   "metadata": {},
   "source": [
    "## 7. KESIMPULAN"
   ]
  },
  {
   "cell_type": "markdown",
   "metadata": {},
   "source": [
    "1. Missing value handling\n",
    "1.1. pm10      : mean kelas\n",
    "1.2. pm25      : mean kelas\n",
    "1.3. so2       : mean\n",
    "1.4. co        : median\n",
    "1.5. o3        : median\n",
    "1.6. no2       : median\n",
    "\n",
    "2. Join kategori sedang dan tidak sehat menjadi tidak baik\n",
    "\n",
    "3. Balancing label baik dan tidak baik\n",
    "\n",
    "4. Outlier removal"
   ]
  },
  {
   "cell_type": "markdown",
   "metadata": {},
   "source": [
    "## 8. JOIN CATEGORIES"
   ]
  },
  {
   "cell_type": "code",
   "execution_count": 492,
   "metadata": {},
   "outputs": [],
   "source": [
    "params_dir = \"/Users/avntrr/Documents/Pacmann/params.yml\""
   ]
  },
  {
   "cell_type": "code",
   "execution_count": 493,
   "metadata": {},
   "outputs": [],
   "source": [
    "def load_params(param_dir):\n",
    "    with open(param_dir, \"r\") as file:\n",
    "        params = yaml.safe_load(file)\n",
    "        \n",
    "    return params"
   ]
  },
  {
   "cell_type": "code",
   "execution_count": 494,
   "metadata": {},
   "outputs": [],
   "source": [
    "def params_updater(key, value, params, params_dir):\n",
    "    params = params.copy()\n",
    "    params[key] = value\n",
    "\n",
    "    with open(params_dir, \"w\") as file:\n",
    "        yaml.dump(params, file)\n",
    "    \n",
    "    params = load_params(params_dir)\n",
    "\n",
    "    return params"
   ]
  },
  {
   "cell_type": "code",
   "execution_count": 495,
   "metadata": {},
   "outputs": [],
   "source": [
    "params = load_params(params_dir)"
   ]
  },
  {
   "cell_type": "code",
   "execution_count": 496,
   "metadata": {},
   "outputs": [],
   "source": [
    "dataset = pd.concat([x_train, y_train], axis = 1)\n",
    "\n",
    "valid_set = pd.concat([x_valid, y_valid], axis = 1)\n",
    "\n",
    "test_set = pd.concat([x_test, y_test], axis = 1)"
   ]
  },
  {
   "cell_type": "code",
   "execution_count": 497,
   "metadata": {},
   "outputs": [],
   "source": [
    "def join_cat(set_data, params):\n",
    "    if params[\"label\"] in set_data.columns.to_list():\n",
    "        set_data = set_data.copy()\n",
    "        set_data.categori.replace(params[\"label_categories\"][1], params[\"label_categories\"][2], inplace = True)\n",
    "        set_data.categori.replace(params[\"label_categories\"][2], params[\"label_categories_new\"][1], inplace = True)\n",
    "        return set_data\n",
    "    else:\n",
    "        raise RuntimeError(\"Kolom label tidak terdeteksi pada set data yang diberikan!\")"
   ]
  },
  {
   "cell_type": "code",
   "execution_count": 498,
   "metadata": {},
   "outputs": [],
   "source": [
    "params = params_updater(\"label\", \"categori\", params, params_dir)\n",
    "params = params_updater(\"label_categories\", [\"BAIK\", \"SEDANG\", \"TIDAK SEHAT\"], params, params_dir)\n",
    "params = params_updater(\"label_categories_new\", [\"BAIK\", \"TIDAK SEHAT\"], params, params_dir)"
   ]
  },
  {
   "cell_type": "markdown",
   "metadata": {},
   "source": [
    "8.1. Train Set"
   ]
  },
  {
   "cell_type": "code",
   "execution_count": 499,
   "metadata": {},
   "outputs": [
    {
     "data": {
      "text/plain": [
       "BAIK           469\n",
       "TIDAK SEHAT     60\n",
       "Name: categori, dtype: int64"
      ]
     },
     "execution_count": 499,
     "metadata": {},
     "output_type": "execute_result"
    }
   ],
   "source": [
    "dataset.categori.value_counts()"
   ]
  },
  {
   "cell_type": "code",
   "execution_count": 500,
   "metadata": {},
   "outputs": [],
   "source": [
    "dataset = join_cat(dataset, params)"
   ]
  },
  {
   "cell_type": "code",
   "execution_count": 501,
   "metadata": {},
   "outputs": [
    {
     "data": {
      "text/plain": [
       "BAIK           469\n",
       "TIDAK SEHAT     60\n",
       "Name: categori, dtype: int64"
      ]
     },
     "execution_count": 501,
     "metadata": {},
     "output_type": "execute_result"
    }
   ],
   "source": [
    "dataset.categori.value_counts()"
   ]
  },
  {
   "cell_type": "markdown",
   "metadata": {},
   "source": [
    "8.2. Valid Set"
   ]
  },
  {
   "cell_type": "code",
   "execution_count": 502,
   "metadata": {},
   "outputs": [
    {
     "data": {
      "text/plain": [
       "BAIK           101\n",
       "TIDAK SEHAT     13\n",
       "Name: categori, dtype: int64"
      ]
     },
     "execution_count": 502,
     "metadata": {},
     "output_type": "execute_result"
    }
   ],
   "source": [
    "valid_set.categori.value_counts()"
   ]
  },
  {
   "cell_type": "code",
   "execution_count": 503,
   "metadata": {},
   "outputs": [],
   "source": [
    "valid_set = join_cat(valid_set, params)"
   ]
  },
  {
   "cell_type": "code",
   "execution_count": 504,
   "metadata": {},
   "outputs": [
    {
     "data": {
      "text/plain": [
       "BAIK           101\n",
       "TIDAK SEHAT     13\n",
       "Name: categori, dtype: int64"
      ]
     },
     "execution_count": 504,
     "metadata": {},
     "output_type": "execute_result"
    }
   ],
   "source": [
    "valid_set.categori.value_counts()"
   ]
  },
  {
   "cell_type": "markdown",
   "metadata": {},
   "source": [
    "8.3. Test Set"
   ]
  },
  {
   "cell_type": "code",
   "execution_count": 505,
   "metadata": {},
   "outputs": [
    {
     "data": {
      "text/plain": [
       "BAIK           101\n",
       "TIDAK SEHAT     13\n",
       "Name: categori, dtype: int64"
      ]
     },
     "execution_count": 505,
     "metadata": {},
     "output_type": "execute_result"
    }
   ],
   "source": [
    "test_set.categori.value_counts()"
   ]
  },
  {
   "cell_type": "code",
   "execution_count": 506,
   "metadata": {},
   "outputs": [],
   "source": [
    "test_set = join_cat(test_set, params)"
   ]
  },
  {
   "cell_type": "code",
   "execution_count": 507,
   "metadata": {},
   "outputs": [
    {
     "data": {
      "text/plain": [
       "BAIK           101\n",
       "TIDAK SEHAT     13\n",
       "Name: categori, dtype: int64"
      ]
     },
     "execution_count": 507,
     "metadata": {},
     "output_type": "execute_result"
    }
   ],
   "source": [
    "test_set.categori.value_counts()"
   ]
  },
  {
   "cell_type": "markdown",
   "metadata": {},
   "source": [
    "## 9. HANDLING MISSING VALUE"
   ]
  },
  {
   "cell_type": "code",
   "execution_count": 508,
   "metadata": {},
   "outputs": [],
   "source": [
    "def nan_detector(set_data):\n",
    "    set_data = set_data.copy()\n",
    "    set_data.replace(-1, np.nan, inplace = True)\n",
    "    return set_data"
   ]
  },
  {
   "cell_type": "markdown",
   "metadata": {},
   "source": [
    "9.1. Convert -1 to NaN"
   ]
  },
  {
   "cell_type": "markdown",
   "metadata": {},
   "source": [
    "9.1.1. Trainset"
   ]
  },
  {
   "cell_type": "code",
   "execution_count": 509,
   "metadata": {},
   "outputs": [
    {
     "data": {
      "text/html": [
       "<div>\n",
       "<style scoped>\n",
       "    .dataframe tbody tr th:only-of-type {\n",
       "        vertical-align: middle;\n",
       "    }\n",
       "\n",
       "    .dataframe tbody tr th {\n",
       "        vertical-align: top;\n",
       "    }\n",
       "\n",
       "    .dataframe thead th {\n",
       "        text-align: right;\n",
       "    }\n",
       "</style>\n",
       "<table border=\"1\" class=\"dataframe\">\n",
       "  <thead>\n",
       "    <tr style=\"text-align: right;\">\n",
       "      <th></th>\n",
       "      <th>pm10</th>\n",
       "      <th>pm25</th>\n",
       "      <th>so2</th>\n",
       "      <th>co</th>\n",
       "      <th>o3</th>\n",
       "      <th>no2</th>\n",
       "    </tr>\n",
       "  </thead>\n",
       "  <tbody>\n",
       "    <tr>\n",
       "      <th>count</th>\n",
       "      <td>529.000000</td>\n",
       "      <td>529.000000</td>\n",
       "      <td>529.000000</td>\n",
       "      <td>529.000000</td>\n",
       "      <td>529.000000</td>\n",
       "      <td>529.000000</td>\n",
       "    </tr>\n",
       "    <tr>\n",
       "      <th>mean</th>\n",
       "      <td>50.661626</td>\n",
       "      <td>76.298677</td>\n",
       "      <td>34.582231</td>\n",
       "      <td>10.960302</td>\n",
       "      <td>30.166352</td>\n",
       "      <td>20.398866</td>\n",
       "    </tr>\n",
       "    <tr>\n",
       "      <th>std</th>\n",
       "      <td>15.613492</td>\n",
       "      <td>21.981346</td>\n",
       "      <td>17.474693</td>\n",
       "      <td>4.295471</td>\n",
       "      <td>13.713475</td>\n",
       "      <td>9.945575</td>\n",
       "    </tr>\n",
       "    <tr>\n",
       "      <th>min</th>\n",
       "      <td>-1.000000</td>\n",
       "      <td>-1.000000</td>\n",
       "      <td>-1.000000</td>\n",
       "      <td>-1.000000</td>\n",
       "      <td>-1.000000</td>\n",
       "      <td>-1.000000</td>\n",
       "    </tr>\n",
       "    <tr>\n",
       "      <th>25%</th>\n",
       "      <td>45.000000</td>\n",
       "      <td>64.000000</td>\n",
       "      <td>27.000000</td>\n",
       "      <td>8.000000</td>\n",
       "      <td>22.000000</td>\n",
       "      <td>13.000000</td>\n",
       "    </tr>\n",
       "    <tr>\n",
       "      <th>50%</th>\n",
       "      <td>54.000000</td>\n",
       "      <td>77.000000</td>\n",
       "      <td>38.000000</td>\n",
       "      <td>10.000000</td>\n",
       "      <td>29.000000</td>\n",
       "      <td>18.000000</td>\n",
       "    </tr>\n",
       "    <tr>\n",
       "      <th>75%</th>\n",
       "      <td>61.000000</td>\n",
       "      <td>90.000000</td>\n",
       "      <td>47.000000</td>\n",
       "      <td>13.000000</td>\n",
       "      <td>37.000000</td>\n",
       "      <td>26.000000</td>\n",
       "    </tr>\n",
       "    <tr>\n",
       "      <th>max</th>\n",
       "      <td>100.000000</td>\n",
       "      <td>157.000000</td>\n",
       "      <td>82.000000</td>\n",
       "      <td>44.000000</td>\n",
       "      <td>78.000000</td>\n",
       "      <td>65.000000</td>\n",
       "    </tr>\n",
       "  </tbody>\n",
       "</table>\n",
       "</div>"
      ],
      "text/plain": [
       "             pm10        pm25         so2          co          o3         no2\n",
       "count  529.000000  529.000000  529.000000  529.000000  529.000000  529.000000\n",
       "mean    50.661626   76.298677   34.582231   10.960302   30.166352   20.398866\n",
       "std     15.613492   21.981346   17.474693    4.295471   13.713475    9.945575\n",
       "min     -1.000000   -1.000000   -1.000000   -1.000000   -1.000000   -1.000000\n",
       "25%     45.000000   64.000000   27.000000    8.000000   22.000000   13.000000\n",
       "50%     54.000000   77.000000   38.000000   10.000000   29.000000   18.000000\n",
       "75%     61.000000   90.000000   47.000000   13.000000   37.000000   26.000000\n",
       "max    100.000000  157.000000   82.000000   44.000000   78.000000   65.000000"
      ]
     },
     "execution_count": 509,
     "metadata": {},
     "output_type": "execute_result"
    }
   ],
   "source": [
    "dataset.describe()"
   ]
  },
  {
   "cell_type": "code",
   "execution_count": 510,
   "metadata": {},
   "outputs": [
    {
     "data": {
      "text/plain": [
       "stasiun     0\n",
       "pm10        0\n",
       "pm25        0\n",
       "so2         0\n",
       "co          0\n",
       "o3          0\n",
       "no2         0\n",
       "categori    0\n",
       "dtype: int64"
      ]
     },
     "execution_count": 510,
     "metadata": {},
     "output_type": "execute_result"
    }
   ],
   "source": [
    "dataset.isnull().sum()"
   ]
  },
  {
   "cell_type": "code",
   "execution_count": 511,
   "metadata": {},
   "outputs": [],
   "source": [
    "dataset = nan_detector(dataset)"
   ]
  },
  {
   "cell_type": "code",
   "execution_count": 512,
   "metadata": {},
   "outputs": [
    {
     "data": {
      "text/plain": [
       "stasiun      0\n",
       "pm10        18\n",
       "pm25         8\n",
       "so2         57\n",
       "co           2\n",
       "o3          19\n",
       "no2          4\n",
       "categori     0\n",
       "dtype: int64"
      ]
     },
     "execution_count": 512,
     "metadata": {},
     "output_type": "execute_result"
    }
   ],
   "source": [
    "dataset.isnull().sum()"
   ]
  },
  {
   "cell_type": "markdown",
   "metadata": {},
   "source": [
    "9.1.2. Validset"
   ]
  },
  {
   "cell_type": "code",
   "execution_count": 513,
   "metadata": {},
   "outputs": [
    {
     "data": {
      "text/html": [
       "<div>\n",
       "<style scoped>\n",
       "    .dataframe tbody tr th:only-of-type {\n",
       "        vertical-align: middle;\n",
       "    }\n",
       "\n",
       "    .dataframe tbody tr th {\n",
       "        vertical-align: top;\n",
       "    }\n",
       "\n",
       "    .dataframe thead th {\n",
       "        text-align: right;\n",
       "    }\n",
       "</style>\n",
       "<table border=\"1\" class=\"dataframe\">\n",
       "  <thead>\n",
       "    <tr style=\"text-align: right;\">\n",
       "      <th></th>\n",
       "      <th>pm10</th>\n",
       "      <th>pm25</th>\n",
       "      <th>so2</th>\n",
       "      <th>co</th>\n",
       "      <th>o3</th>\n",
       "      <th>no2</th>\n",
       "    </tr>\n",
       "  </thead>\n",
       "  <tbody>\n",
       "    <tr>\n",
       "      <th>count</th>\n",
       "      <td>114.000000</td>\n",
       "      <td>114.000000</td>\n",
       "      <td>114.000000</td>\n",
       "      <td>114.000000</td>\n",
       "      <td>114.000000</td>\n",
       "      <td>114.000000</td>\n",
       "    </tr>\n",
       "    <tr>\n",
       "      <th>mean</th>\n",
       "      <td>47.175439</td>\n",
       "      <td>73.192982</td>\n",
       "      <td>32.307018</td>\n",
       "      <td>10.394737</td>\n",
       "      <td>29.649123</td>\n",
       "      <td>18.982456</td>\n",
       "    </tr>\n",
       "    <tr>\n",
       "      <th>std</th>\n",
       "      <td>15.584338</td>\n",
       "      <td>22.843398</td>\n",
       "      <td>17.220140</td>\n",
       "      <td>3.905110</td>\n",
       "      <td>10.772780</td>\n",
       "      <td>8.296478</td>\n",
       "    </tr>\n",
       "    <tr>\n",
       "      <th>min</th>\n",
       "      <td>-1.000000</td>\n",
       "      <td>-1.000000</td>\n",
       "      <td>-1.000000</td>\n",
       "      <td>3.000000</td>\n",
       "      <td>11.000000</td>\n",
       "      <td>4.000000</td>\n",
       "    </tr>\n",
       "    <tr>\n",
       "      <th>25%</th>\n",
       "      <td>38.250000</td>\n",
       "      <td>59.250000</td>\n",
       "      <td>26.000000</td>\n",
       "      <td>8.000000</td>\n",
       "      <td>22.000000</td>\n",
       "      <td>13.250000</td>\n",
       "    </tr>\n",
       "    <tr>\n",
       "      <th>50%</th>\n",
       "      <td>50.000000</td>\n",
       "      <td>75.000000</td>\n",
       "      <td>38.000000</td>\n",
       "      <td>9.500000</td>\n",
       "      <td>28.500000</td>\n",
       "      <td>17.000000</td>\n",
       "    </tr>\n",
       "    <tr>\n",
       "      <th>75%</th>\n",
       "      <td>58.000000</td>\n",
       "      <td>86.000000</td>\n",
       "      <td>44.000000</td>\n",
       "      <td>14.000000</td>\n",
       "      <td>36.000000</td>\n",
       "      <td>24.000000</td>\n",
       "    </tr>\n",
       "    <tr>\n",
       "      <th>max</th>\n",
       "      <td>76.000000</td>\n",
       "      <td>140.000000</td>\n",
       "      <td>62.000000</td>\n",
       "      <td>19.000000</td>\n",
       "      <td>59.000000</td>\n",
       "      <td>49.000000</td>\n",
       "    </tr>\n",
       "  </tbody>\n",
       "</table>\n",
       "</div>"
      ],
      "text/plain": [
       "             pm10        pm25         so2          co          o3         no2\n",
       "count  114.000000  114.000000  114.000000  114.000000  114.000000  114.000000\n",
       "mean    47.175439   73.192982   32.307018   10.394737   29.649123   18.982456\n",
       "std     15.584338   22.843398   17.220140    3.905110   10.772780    8.296478\n",
       "min     -1.000000   -1.000000   -1.000000    3.000000   11.000000    4.000000\n",
       "25%     38.250000   59.250000   26.000000    8.000000   22.000000   13.250000\n",
       "50%     50.000000   75.000000   38.000000    9.500000   28.500000   17.000000\n",
       "75%     58.000000   86.000000   44.000000   14.000000   36.000000   24.000000\n",
       "max     76.000000  140.000000   62.000000   19.000000   59.000000   49.000000"
      ]
     },
     "execution_count": 513,
     "metadata": {},
     "output_type": "execute_result"
    }
   ],
   "source": [
    "valid_set.describe()"
   ]
  },
  {
   "cell_type": "code",
   "execution_count": 514,
   "metadata": {},
   "outputs": [
    {
     "data": {
      "text/plain": [
       "stasiun     0\n",
       "pm10        0\n",
       "pm25        0\n",
       "so2         0\n",
       "co          0\n",
       "o3          0\n",
       "no2         0\n",
       "categori    0\n",
       "dtype: int64"
      ]
     },
     "execution_count": 514,
     "metadata": {},
     "output_type": "execute_result"
    }
   ],
   "source": [
    "valid_set.isnull().sum()"
   ]
  },
  {
   "cell_type": "code",
   "execution_count": 515,
   "metadata": {},
   "outputs": [],
   "source": [
    "valid_set = nan_detector(valid_set)"
   ]
  },
  {
   "cell_type": "code",
   "execution_count": 516,
   "metadata": {},
   "outputs": [
    {
     "data": {
      "text/plain": [
       "stasiun      0\n",
       "pm10         4\n",
       "pm25         2\n",
       "so2         16\n",
       "co           0\n",
       "o3           0\n",
       "no2          0\n",
       "categori     0\n",
       "dtype: int64"
      ]
     },
     "execution_count": 516,
     "metadata": {},
     "output_type": "execute_result"
    }
   ],
   "source": [
    "valid_set.isnull().sum()"
   ]
  },
  {
   "cell_type": "markdown",
   "metadata": {},
   "source": [
    "9.1.3. Testset"
   ]
  },
  {
   "cell_type": "code",
   "execution_count": 517,
   "metadata": {},
   "outputs": [
    {
     "data": {
      "text/html": [
       "<div>\n",
       "<style scoped>\n",
       "    .dataframe tbody tr th:only-of-type {\n",
       "        vertical-align: middle;\n",
       "    }\n",
       "\n",
       "    .dataframe tbody tr th {\n",
       "        vertical-align: top;\n",
       "    }\n",
       "\n",
       "    .dataframe thead th {\n",
       "        text-align: right;\n",
       "    }\n",
       "</style>\n",
       "<table border=\"1\" class=\"dataframe\">\n",
       "  <thead>\n",
       "    <tr style=\"text-align: right;\">\n",
       "      <th></th>\n",
       "      <th>pm10</th>\n",
       "      <th>pm25</th>\n",
       "      <th>so2</th>\n",
       "      <th>co</th>\n",
       "      <th>o3</th>\n",
       "      <th>no2</th>\n",
       "    </tr>\n",
       "  </thead>\n",
       "  <tbody>\n",
       "    <tr>\n",
       "      <th>count</th>\n",
       "      <td>114.000000</td>\n",
       "      <td>114.000000</td>\n",
       "      <td>114.000000</td>\n",
       "      <td>114.000000</td>\n",
       "      <td>114.000000</td>\n",
       "      <td>114.000000</td>\n",
       "    </tr>\n",
       "    <tr>\n",
       "      <th>mean</th>\n",
       "      <td>52.938596</td>\n",
       "      <td>74.938596</td>\n",
       "      <td>35.877193</td>\n",
       "      <td>11.236842</td>\n",
       "      <td>28.921053</td>\n",
       "      <td>20.342105</td>\n",
       "    </tr>\n",
       "    <tr>\n",
       "      <th>std</th>\n",
       "      <td>18.943458</td>\n",
       "      <td>23.614637</td>\n",
       "      <td>18.114748</td>\n",
       "      <td>4.396907</td>\n",
       "      <td>13.670034</td>\n",
       "      <td>8.930240</td>\n",
       "    </tr>\n",
       "    <tr>\n",
       "      <th>min</th>\n",
       "      <td>-1.000000</td>\n",
       "      <td>-1.000000</td>\n",
       "      <td>-1.000000</td>\n",
       "      <td>-1.000000</td>\n",
       "      <td>-1.000000</td>\n",
       "      <td>-1.000000</td>\n",
       "    </tr>\n",
       "    <tr>\n",
       "      <th>25%</th>\n",
       "      <td>47.250000</td>\n",
       "      <td>63.000000</td>\n",
       "      <td>29.000000</td>\n",
       "      <td>9.000000</td>\n",
       "      <td>20.000000</td>\n",
       "      <td>14.250000</td>\n",
       "    </tr>\n",
       "    <tr>\n",
       "      <th>50%</th>\n",
       "      <td>53.500000</td>\n",
       "      <td>77.000000</td>\n",
       "      <td>39.000000</td>\n",
       "      <td>11.000000</td>\n",
       "      <td>27.000000</td>\n",
       "      <td>19.000000</td>\n",
       "    </tr>\n",
       "    <tr>\n",
       "      <th>75%</th>\n",
       "      <td>61.000000</td>\n",
       "      <td>88.000000</td>\n",
       "      <td>48.000000</td>\n",
       "      <td>14.000000</td>\n",
       "      <td>38.000000</td>\n",
       "      <td>26.750000</td>\n",
       "    </tr>\n",
       "    <tr>\n",
       "      <th>max</th>\n",
       "      <td>179.000000</td>\n",
       "      <td>134.000000</td>\n",
       "      <td>76.000000</td>\n",
       "      <td>28.000000</td>\n",
       "      <td>64.000000</td>\n",
       "      <td>44.000000</td>\n",
       "    </tr>\n",
       "  </tbody>\n",
       "</table>\n",
       "</div>"
      ],
      "text/plain": [
       "             pm10        pm25         so2          co          o3         no2\n",
       "count  114.000000  114.000000  114.000000  114.000000  114.000000  114.000000\n",
       "mean    52.938596   74.938596   35.877193   11.236842   28.921053   20.342105\n",
       "std     18.943458   23.614637   18.114748    4.396907   13.670034    8.930240\n",
       "min     -1.000000   -1.000000   -1.000000   -1.000000   -1.000000   -1.000000\n",
       "25%     47.250000   63.000000   29.000000    9.000000   20.000000   14.250000\n",
       "50%     53.500000   77.000000   39.000000   11.000000   27.000000   19.000000\n",
       "75%     61.000000   88.000000   48.000000   14.000000   38.000000   26.750000\n",
       "max    179.000000  134.000000   76.000000   28.000000   64.000000   44.000000"
      ]
     },
     "execution_count": 517,
     "metadata": {},
     "output_type": "execute_result"
    }
   ],
   "source": [
    "test_set.describe()"
   ]
  },
  {
   "cell_type": "code",
   "execution_count": 518,
   "metadata": {},
   "outputs": [
    {
     "data": {
      "text/plain": [
       "stasiun     0\n",
       "pm10        0\n",
       "pm25        0\n",
       "so2         0\n",
       "co          0\n",
       "o3          0\n",
       "no2         0\n",
       "categori    0\n",
       "dtype: int64"
      ]
     },
     "execution_count": 518,
     "metadata": {},
     "output_type": "execute_result"
    }
   ],
   "source": [
    "test_set.isnull().sum()"
   ]
  },
  {
   "cell_type": "code",
   "execution_count": 519,
   "metadata": {},
   "outputs": [],
   "source": [
    "test_set = nan_detector(test_set)"
   ]
  },
  {
   "cell_type": "code",
   "execution_count": 520,
   "metadata": {},
   "outputs": [
    {
     "data": {
      "text/plain": [
       "stasiun      0\n",
       "pm10         2\n",
       "pm25         2\n",
       "so2         14\n",
       "co           1\n",
       "o3           5\n",
       "no2          1\n",
       "categori     0\n",
       "dtype: int64"
      ]
     },
     "execution_count": 520,
     "metadata": {},
     "output_type": "execute_result"
    }
   ],
   "source": [
    "test_set.isnull().sum()"
   ]
  },
  {
   "cell_type": "markdown",
   "metadata": {},
   "source": [
    "9.2. Handling in PM10"
   ]
  },
  {
   "cell_type": "markdown",
   "metadata": {},
   "source": [
    "9.2.1. Trainset"
   ]
  },
  {
   "cell_type": "code",
   "execution_count": 521,
   "metadata": {},
   "outputs": [],
   "source": [
    "impute_1 = int(dataset[dataset.categori == \"BAIK\"].pm10.mean())\n",
    "impute_0 = int(dataset[dataset.categori == \"TIDAK SEHAT\"].pm10.mean())"
   ]
  },
  {
   "cell_type": "code",
   "execution_count": 522,
   "metadata": {},
   "outputs": [
    {
     "data": {
      "text/plain": [
       "(50, 67)"
      ]
     },
     "execution_count": 522,
     "metadata": {},
     "output_type": "execute_result"
    }
   ],
   "source": [
    "impute_1, impute_0"
   ]
  },
  {
   "cell_type": "code",
   "execution_count": 523,
   "metadata": {},
   "outputs": [],
   "source": [
    "params = params_updater(\"missing_value_pm10\", {\"BAIK\": 28, \"TIDAK SEHAT\": 55}, params, params_dir)"
   ]
  },
  {
   "cell_type": "code",
   "execution_count": 524,
   "metadata": {},
   "outputs": [],
   "source": [
    "dataset.loc[dataset[(dataset.categori == \"BAIK\") & (dataset.pm10.isnull() == True)].index, \"pm10\"] = impute_1\n",
    "dataset.loc[dataset[(dataset.categori == \"TIDAK SEHAT\") & (dataset.pm10.isnull() == True)].index, \"pm10\"] = impute_0"
   ]
  },
  {
   "cell_type": "code",
   "execution_count": 525,
   "metadata": {},
   "outputs": [
    {
     "data": {
      "text/plain": [
       "(0, 0)"
      ]
     },
     "execution_count": 525,
     "metadata": {},
     "output_type": "execute_result"
    }
   ],
   "source": [
    "dataset[dataset.categori == \"BAIK\"].pm10.isnull().sum(), dataset[dataset.categori == \"TIDAK SEHAT\"].pm10.isnull().sum()"
   ]
  },
  {
   "cell_type": "markdown",
   "metadata": {},
   "source": [
    "9.2.2. Validset"
   ]
  },
  {
   "cell_type": "code",
   "execution_count": 526,
   "metadata": {},
   "outputs": [
    {
     "data": {
      "text/plain": [
       "(2, 2)"
      ]
     },
     "execution_count": 526,
     "metadata": {},
     "output_type": "execute_result"
    }
   ],
   "source": [
    "valid_set[valid_set.categori == \"BAIK\"].pm10.isnull().sum(), valid_set[valid_set.categori == \"TIDAK SEHAT\"].pm10.isnull().sum()"
   ]
  },
  {
   "cell_type": "code",
   "execution_count": 527,
   "metadata": {},
   "outputs": [],
   "source": [
    "valid_set.loc[valid_set[(valid_set.categori == \"BAIK\") & (valid_set.pm10.isnull() == True)].index, \"pm10\"] = impute_1\n",
    "valid_set.loc[valid_set[(valid_set.categori == \"TIDAK SEHAT\") & (valid_set.pm10.isnull() == True)].index, \"pm10\"] = impute_0"
   ]
  },
  {
   "cell_type": "code",
   "execution_count": 528,
   "metadata": {},
   "outputs": [
    {
     "data": {
      "text/plain": [
       "(0, 0)"
      ]
     },
     "execution_count": 528,
     "metadata": {},
     "output_type": "execute_result"
    }
   ],
   "source": [
    "valid_set[valid_set.categori == \"BAIK\"].pm10.isnull().sum(), valid_set[valid_set.categori == \"TIDAK SEHAT\"].pm10.isnull().sum()"
   ]
  },
  {
   "cell_type": "markdown",
   "metadata": {},
   "source": [
    "9.2.3. Testset"
   ]
  },
  {
   "cell_type": "code",
   "execution_count": 529,
   "metadata": {},
   "outputs": [
    {
     "data": {
      "text/plain": [
       "(2, 0)"
      ]
     },
     "execution_count": 529,
     "metadata": {},
     "output_type": "execute_result"
    }
   ],
   "source": [
    "test_set[test_set.categori == \"BAIK\"].pm10.isnull().sum(), test_set[test_set.categori == \"TIDAK SEHAT\"].pm10.isnull().sum()"
   ]
  },
  {
   "cell_type": "code",
   "execution_count": 530,
   "metadata": {},
   "outputs": [],
   "source": [
    "test_set.loc[test_set[(test_set.categori == \"BAIK\") & (test_set.pm10.isnull() == True)].index, \"pm10\"] = impute_1\n",
    "test_set.loc[test_set[(test_set.categori == \"TIDAK SEHAT\") & (test_set.pm10.isnull() == True)].index, \"pm10\"] = impute_0"
   ]
  },
  {
   "cell_type": "code",
   "execution_count": 531,
   "metadata": {},
   "outputs": [
    {
     "data": {
      "text/plain": [
       "(0, 0)"
      ]
     },
     "execution_count": 531,
     "metadata": {},
     "output_type": "execute_result"
    }
   ],
   "source": [
    "test_set[test_set.categori == \"BAIK\"].pm10.isnull().sum(), test_set[test_set.categori == \"TIDAK SEHAT\"].pm10.isnull().sum()"
   ]
  },
  {
   "cell_type": "markdown",
   "metadata": {},
   "source": [
    "9.3. Handling in PM25"
   ]
  },
  {
   "cell_type": "markdown",
   "metadata": {},
   "source": [
    "9.3.1. Trainset"
   ]
  },
  {
   "cell_type": "code",
   "execution_count": 532,
   "metadata": {},
   "outputs": [],
   "source": [
    "impute_1 = int(dataset[dataset.categori == \"BAIK\"].pm25.mean())\n",
    "impute_0 = int(dataset[dataset.categori == \"TIDAK SEHAT\"].pm25.mean())"
   ]
  },
  {
   "cell_type": "code",
   "execution_count": 533,
   "metadata": {},
   "outputs": [
    {
     "data": {
      "text/plain": [
       "(73, 110)"
      ]
     },
     "execution_count": 533,
     "metadata": {},
     "output_type": "execute_result"
    }
   ],
   "source": [
    "impute_1, impute_0"
   ]
  },
  {
   "cell_type": "code",
   "execution_count": 534,
   "metadata": {},
   "outputs": [],
   "source": [
    "params = params_updater(\"missing_value_pm25\", {\"BAIK\": 38, \"TIDAK SEHAT\": 82}, params, params_dir)"
   ]
  },
  {
   "cell_type": "code",
   "execution_count": 535,
   "metadata": {},
   "outputs": [
    {
     "data": {
      "text/plain": [
       "(8, 0)"
      ]
     },
     "execution_count": 535,
     "metadata": {},
     "output_type": "execute_result"
    }
   ],
   "source": [
    "dataset[dataset.categori == \"BAIK\"].pm25.isnull().sum(), dataset[dataset.categori == \"TIDAK SEHAT\"].pm25.isnull().sum()"
   ]
  },
  {
   "cell_type": "code",
   "execution_count": 536,
   "metadata": {},
   "outputs": [],
   "source": [
    "dataset.loc[dataset[(dataset.categori == \"BAIK\") & (dataset.pm25.isnull() == True)].index, \"pm25\"] = impute_1\n",
    "dataset.loc[dataset[(dataset.categori == \"TIDAK SEHAT\") & (dataset.pm25.isnull() == True)].index, \"pm25\"] = impute_0"
   ]
  },
  {
   "cell_type": "code",
   "execution_count": 537,
   "metadata": {},
   "outputs": [
    {
     "data": {
      "text/plain": [
       "(0, 0)"
      ]
     },
     "execution_count": 537,
     "metadata": {},
     "output_type": "execute_result"
    }
   ],
   "source": [
    "dataset[dataset.categori == \"BAIK\"].pm10.isnull().sum(), dataset[dataset.categori == \"TIDAK SEHAT\"].pm10.isnull().sum()"
   ]
  },
  {
   "cell_type": "markdown",
   "metadata": {},
   "source": [
    "9.3.2. Validset"
   ]
  },
  {
   "cell_type": "code",
   "execution_count": 538,
   "metadata": {},
   "outputs": [
    {
     "data": {
      "text/plain": [
       "(2, 0)"
      ]
     },
     "execution_count": 538,
     "metadata": {},
     "output_type": "execute_result"
    }
   ],
   "source": [
    "valid_set[valid_set.categori == \"BAIK\"].pm25.isnull().sum(), valid_set[valid_set.categori == \"TIDAK SEHAT\"].pm25.isnull().sum()"
   ]
  },
  {
   "cell_type": "code",
   "execution_count": 539,
   "metadata": {},
   "outputs": [],
   "source": [
    "valid_set.loc[valid_set[(valid_set.categori == \"BAIK\") & (valid_set.pm25.isnull() == True)].index, \"pm25\"] = impute_1\n",
    "valid_set.loc[valid_set[(valid_set.categori == \"TIDAK SEHAT\") & (valid_set.pm25.isnull() == True)].index, \"pm25\"] = impute_0"
   ]
  },
  {
   "cell_type": "code",
   "execution_count": 540,
   "metadata": {},
   "outputs": [
    {
     "data": {
      "text/plain": [
       "(0, 0)"
      ]
     },
     "execution_count": 540,
     "metadata": {},
     "output_type": "execute_result"
    }
   ],
   "source": [
    "dataset[dataset.categori == \"BAIK\"].pm10.isnull().sum(), dataset[dataset.categori == \"TIDAK SEHAT\"].pm10.isnull().sum()"
   ]
  },
  {
   "cell_type": "markdown",
   "metadata": {},
   "source": [
    "9.3.3. Testset"
   ]
  },
  {
   "cell_type": "code",
   "execution_count": 541,
   "metadata": {},
   "outputs": [
    {
     "data": {
      "text/plain": [
       "(2, 0)"
      ]
     },
     "execution_count": 541,
     "metadata": {},
     "output_type": "execute_result"
    }
   ],
   "source": [
    "test_set[test_set.categori == \"BAIK\"].pm25.isnull().sum(), test_set[test_set.categori == \"TIDAK SEHAT\"].pm25.isnull().sum()"
   ]
  },
  {
   "cell_type": "code",
   "execution_count": 542,
   "metadata": {},
   "outputs": [],
   "source": [
    "test_set.loc[test_set[(test_set.categori == \"BAIK\") & (test_set.pm25.isnull() == True)].index, \"pm25\"] = impute_1\n",
    "test_set.loc[test_set[(test_set.categori == \"TIDAK SEHAT\") & (test_set.pm25.isnull() == True)].index, \"pm25\"] = impute_0"
   ]
  },
  {
   "cell_type": "code",
   "execution_count": 543,
   "metadata": {},
   "outputs": [
    {
     "data": {
      "text/plain": [
       "(0, 0)"
      ]
     },
     "execution_count": 543,
     "metadata": {},
     "output_type": "execute_result"
    }
   ],
   "source": [
    "test_set[test_set.categori == \"BAIK\"].pm10.isnull().sum(), test_set[test_set.categori == \"TIDAK SEHAT\"].pm10.isnull().sum()"
   ]
  },
  {
   "cell_type": "markdown",
   "metadata": {},
   "source": [
    "9.4. Handling in SO2, CO, O3, NO2"
   ]
  },
  {
   "cell_type": "markdown",
   "metadata": {},
   "source": [
    "9.4.1. Trainset"
   ]
  },
  {
   "cell_type": "code",
   "execution_count": 544,
   "metadata": {},
   "outputs": [],
   "source": [
    "impute_so2 = int(dataset.so2.mean())\n",
    "impute_co = int(dataset.co.median())\n",
    "impute_o3 = int(dataset.o3.median())\n",
    "impute_no2 = int(dataset.no2.median())\n"
   ]
  },
  {
   "cell_type": "code",
   "execution_count": 545,
   "metadata": {},
   "outputs": [],
   "source": [
    "impute_values = {\"so2\" : impute_so2, \"co\" : impute_co, \"o3\" : impute_o3, \"no2\" : impute_no2}"
   ]
  },
  {
   "cell_type": "code",
   "execution_count": 546,
   "metadata": {},
   "outputs": [
    {
     "data": {
      "text/plain": [
       "{'so2': 38, 'co': 10, 'o3': 29, 'no2': 18}"
      ]
     },
     "execution_count": 546,
     "metadata": {},
     "output_type": "execute_result"
    }
   ],
   "source": [
    "impute_values"
   ]
  },
  {
   "cell_type": "code",
   "execution_count": 547,
   "metadata": {},
   "outputs": [],
   "source": [
    "params = params_updater(\"missing_value_so2\", 35, params, params_dir)\n",
    "params = params_updater(\"missing_value_co\", 11, params, params_dir)\n",
    "params = params_updater(\"missing_value_o3\", 29, params, params_dir)\n",
    "params = params_updater(\"missing_value_no2\", 18, params, params_dir)"
   ]
  },
  {
   "cell_type": "code",
   "execution_count": 548,
   "metadata": {},
   "outputs": [
    {
     "data": {
      "text/plain": [
       "stasiun      0\n",
       "pm10         0\n",
       "pm25         0\n",
       "so2         57\n",
       "co           2\n",
       "o3          19\n",
       "no2          4\n",
       "categori     0\n",
       "dtype: int64"
      ]
     },
     "execution_count": 548,
     "metadata": {},
     "output_type": "execute_result"
    }
   ],
   "source": [
    "dataset.isnull().sum()"
   ]
  },
  {
   "cell_type": "code",
   "execution_count": 549,
   "metadata": {},
   "outputs": [],
   "source": [
    "dataset.fillna(value = impute_values, inplace = True)"
   ]
  },
  {
   "cell_type": "code",
   "execution_count": 550,
   "metadata": {},
   "outputs": [
    {
     "data": {
      "text/plain": [
       "stasiun     0\n",
       "pm10        0\n",
       "pm25        0\n",
       "so2         0\n",
       "co          0\n",
       "o3          0\n",
       "no2         0\n",
       "categori    0\n",
       "dtype: int64"
      ]
     },
     "execution_count": 550,
     "metadata": {},
     "output_type": "execute_result"
    }
   ],
   "source": [
    "dataset.isnull().sum()"
   ]
  },
  {
   "cell_type": "markdown",
   "metadata": {},
   "source": [
    "9.4.2. Validset"
   ]
  },
  {
   "cell_type": "code",
   "execution_count": 551,
   "metadata": {},
   "outputs": [
    {
     "data": {
      "text/plain": [
       "stasiun      0\n",
       "pm10         0\n",
       "pm25         0\n",
       "so2         16\n",
       "co           0\n",
       "o3           0\n",
       "no2          0\n",
       "categori     0\n",
       "dtype: int64"
      ]
     },
     "execution_count": 551,
     "metadata": {},
     "output_type": "execute_result"
    }
   ],
   "source": [
    "valid_set.isnull().sum()"
   ]
  },
  {
   "cell_type": "code",
   "execution_count": 552,
   "metadata": {},
   "outputs": [],
   "source": [
    "valid_set.fillna(value = impute_values, inplace = True)"
   ]
  },
  {
   "cell_type": "code",
   "execution_count": 553,
   "metadata": {},
   "outputs": [
    {
     "data": {
      "text/plain": [
       "stasiun     0\n",
       "pm10        0\n",
       "pm25        0\n",
       "so2         0\n",
       "co          0\n",
       "o3          0\n",
       "no2         0\n",
       "categori    0\n",
       "dtype: int64"
      ]
     },
     "execution_count": 553,
     "metadata": {},
     "output_type": "execute_result"
    }
   ],
   "source": [
    "valid_set.isnull().sum()"
   ]
  },
  {
   "cell_type": "markdown",
   "metadata": {},
   "source": [
    "9.4.3. Testset"
   ]
  },
  {
   "cell_type": "code",
   "execution_count": 554,
   "metadata": {},
   "outputs": [
    {
     "data": {
      "text/plain": [
       "stasiun      0\n",
       "pm10         0\n",
       "pm25         0\n",
       "so2         14\n",
       "co           1\n",
       "o3           5\n",
       "no2          1\n",
       "categori     0\n",
       "dtype: int64"
      ]
     },
     "execution_count": 554,
     "metadata": {},
     "output_type": "execute_result"
    }
   ],
   "source": [
    "test_set.isnull().sum()"
   ]
  },
  {
   "cell_type": "code",
   "execution_count": 555,
   "metadata": {},
   "outputs": [],
   "source": [
    "test_set.fillna(value = impute_values, inplace = True)"
   ]
  },
  {
   "cell_type": "code",
   "execution_count": 556,
   "metadata": {},
   "outputs": [
    {
     "data": {
      "text/plain": [
       "stasiun     0\n",
       "pm10        0\n",
       "pm25        0\n",
       "so2         0\n",
       "co          0\n",
       "o3          0\n",
       "no2         0\n",
       "categori    0\n",
       "dtype: int64"
      ]
     },
     "execution_count": 556,
     "metadata": {},
     "output_type": "execute_result"
    }
   ],
   "source": [
    "test_set.isnull().sum()"
   ]
  },
  {
   "cell_type": "markdown",
   "metadata": {},
   "source": [
    "## 10. ENCODING STASIUN"
   ]
  },
  {
   "cell_type": "code",
   "execution_count": 557,
   "metadata": {},
   "outputs": [],
   "source": [
    "ohe_statiun = OneHotEncoder(sparse = False)"
   ]
  },
  {
   "cell_type": "code",
   "execution_count": 558,
   "metadata": {},
   "outputs": [
    {
     "data": {
      "text/html": [
       "<style>#sk-container-id-3 {color: black;background-color: white;}#sk-container-id-3 pre{padding: 0;}#sk-container-id-3 div.sk-toggleable {background-color: white;}#sk-container-id-3 label.sk-toggleable__label {cursor: pointer;display: block;width: 100%;margin-bottom: 0;padding: 0.3em;box-sizing: border-box;text-align: center;}#sk-container-id-3 label.sk-toggleable__label-arrow:before {content: \"▸\";float: left;margin-right: 0.25em;color: #696969;}#sk-container-id-3 label.sk-toggleable__label-arrow:hover:before {color: black;}#sk-container-id-3 div.sk-estimator:hover label.sk-toggleable__label-arrow:before {color: black;}#sk-container-id-3 div.sk-toggleable__content {max-height: 0;max-width: 0;overflow: hidden;text-align: left;background-color: #f0f8ff;}#sk-container-id-3 div.sk-toggleable__content pre {margin: 0.2em;color: black;border-radius: 0.25em;background-color: #f0f8ff;}#sk-container-id-3 input.sk-toggleable__control:checked~div.sk-toggleable__content {max-height: 200px;max-width: 100%;overflow: auto;}#sk-container-id-3 input.sk-toggleable__control:checked~label.sk-toggleable__label-arrow:before {content: \"▾\";}#sk-container-id-3 div.sk-estimator input.sk-toggleable__control:checked~label.sk-toggleable__label {background-color: #d4ebff;}#sk-container-id-3 div.sk-label input.sk-toggleable__control:checked~label.sk-toggleable__label {background-color: #d4ebff;}#sk-container-id-3 input.sk-hidden--visually {border: 0;clip: rect(1px 1px 1px 1px);clip: rect(1px, 1px, 1px, 1px);height: 1px;margin: -1px;overflow: hidden;padding: 0;position: absolute;width: 1px;}#sk-container-id-3 div.sk-estimator {font-family: monospace;background-color: #f0f8ff;border: 1px dotted black;border-radius: 0.25em;box-sizing: border-box;margin-bottom: 0.5em;}#sk-container-id-3 div.sk-estimator:hover {background-color: #d4ebff;}#sk-container-id-3 div.sk-parallel-item::after {content: \"\";width: 100%;border-bottom: 1px solid gray;flex-grow: 1;}#sk-container-id-3 div.sk-label:hover label.sk-toggleable__label {background-color: #d4ebff;}#sk-container-id-3 div.sk-serial::before {content: \"\";position: absolute;border-left: 1px solid gray;box-sizing: border-box;top: 0;bottom: 0;left: 50%;z-index: 0;}#sk-container-id-3 div.sk-serial {display: flex;flex-direction: column;align-items: center;background-color: white;padding-right: 0.2em;padding-left: 0.2em;position: relative;}#sk-container-id-3 div.sk-item {position: relative;z-index: 1;}#sk-container-id-3 div.sk-parallel {display: flex;align-items: stretch;justify-content: center;background-color: white;position: relative;}#sk-container-id-3 div.sk-item::before, #sk-container-id-3 div.sk-parallel-item::before {content: \"\";position: absolute;border-left: 1px solid gray;box-sizing: border-box;top: 0;bottom: 0;left: 50%;z-index: -1;}#sk-container-id-3 div.sk-parallel-item {display: flex;flex-direction: column;z-index: 1;position: relative;background-color: white;}#sk-container-id-3 div.sk-parallel-item:first-child::after {align-self: flex-end;width: 50%;}#sk-container-id-3 div.sk-parallel-item:last-child::after {align-self: flex-start;width: 50%;}#sk-container-id-3 div.sk-parallel-item:only-child::after {width: 0;}#sk-container-id-3 div.sk-dashed-wrapped {border: 1px dashed gray;margin: 0 0.4em 0.5em 0.4em;box-sizing: border-box;padding-bottom: 0.4em;background-color: white;}#sk-container-id-3 div.sk-label label {font-family: monospace;font-weight: bold;display: inline-block;line-height: 1.2em;}#sk-container-id-3 div.sk-label-container {text-align: center;}#sk-container-id-3 div.sk-container {/* jupyter's `normalize.less` sets `[hidden] { display: none; }` but bootstrap.min.css set `[hidden] { display: none !important; }` so we also need the `!important` here to be able to override the default hidden behavior on the sphinx rendered scikit-learn.org. See: https://github.com/scikit-learn/scikit-learn/issues/21755 */display: inline-block !important;position: relative;}#sk-container-id-3 div.sk-text-repr-fallback {display: none;}</style><div id=\"sk-container-id-3\" class=\"sk-top-container\"><div class=\"sk-text-repr-fallback\"><pre>OneHotEncoder(sparse=False)</pre><b>In a Jupyter environment, please rerun this cell to show the HTML representation or trust the notebook. <br />On GitHub, the HTML representation is unable to render, please try loading this page with nbviewer.org.</b></div><div class=\"sk-container\" hidden><div class=\"sk-item\"><div class=\"sk-estimator sk-toggleable\"><input class=\"sk-toggleable__control sk-hidden--visually\" id=\"sk-estimator-id-3\" type=\"checkbox\" checked><label for=\"sk-estimator-id-3\" class=\"sk-toggleable__label sk-toggleable__label-arrow\">OneHotEncoder</label><div class=\"sk-toggleable__content\"><pre>OneHotEncoder(sparse=False)</pre></div></div></div></div></div>"
      ],
      "text/plain": [
       "OneHotEncoder(sparse=False)"
      ]
     },
     "execution_count": 558,
     "metadata": {},
     "output_type": "execute_result"
    }
   ],
   "source": [
    "ohe_statiun.fit(np.array(params[\"range_stasiun\"]).reshape(-1, 1))"
   ]
  },
  {
   "cell_type": "code",
   "execution_count": 559,
   "metadata": {},
   "outputs": [
    {
     "data": {
      "text/plain": [
       "[array(['DKI1 (Bunderan HI)', 'DKI2 (Kelapa Gading)', 'DKI3 (Jagakarsa)',\n",
       "        'DKI4 (Lubang Buaya)', 'DKI5 (Kebon Jeruk) Jakarta Barat'],\n",
       "       dtype='<U32')]"
      ]
     },
     "execution_count": 559,
     "metadata": {},
     "output_type": "execute_result"
    }
   ],
   "source": [
    "ohe_statiun.categories_"
   ]
  },
  {
   "cell_type": "code",
   "execution_count": 560,
   "metadata": {},
   "outputs": [
    {
     "data": {
      "text/plain": [
       "['/Users/avntrr/Documents/Pacmann/ohe_stasiun.pkl']"
      ]
     },
     "execution_count": 560,
     "metadata": {},
     "output_type": "execute_result"
    }
   ],
   "source": [
    "joblib.dump(ohe_statiun, \"/Users/avntrr/Documents/Pacmann/ohe_stasiun.pkl\")"
   ]
  },
  {
   "cell_type": "markdown",
   "metadata": {},
   "source": [
    "10.1. Trainset"
   ]
  },
  {
   "cell_type": "code",
   "execution_count": 561,
   "metadata": {},
   "outputs": [],
   "source": [
    "stasiun_features = ohe_statiun.transform(np.array(dataset.stasiun.to_list()).reshape(-1, 1))"
   ]
  },
  {
   "cell_type": "code",
   "execution_count": 562,
   "metadata": {},
   "outputs": [],
   "source": [
    "stasiun_features = pd.DataFrame(stasiun_features, columns = params[\"range_stasiun\"])"
   ]
  },
  {
   "cell_type": "code",
   "execution_count": 563,
   "metadata": {},
   "outputs": [],
   "source": [
    "stasiun_features.set_index(dataset.index, inplace = True)"
   ]
  },
  {
   "cell_type": "code",
   "execution_count": 564,
   "metadata": {},
   "outputs": [],
   "source": [
    "dataset = pd.concat([stasiun_features, dataset], axis = 1)"
   ]
  },
  {
   "cell_type": "code",
   "execution_count": 565,
   "metadata": {},
   "outputs": [],
   "source": [
    "dataset.drop(columns = \"stasiun\", inplace = True)"
   ]
  },
  {
   "cell_type": "markdown",
   "metadata": {},
   "source": [
    "10.2. Validset"
   ]
  },
  {
   "cell_type": "code",
   "execution_count": 566,
   "metadata": {},
   "outputs": [],
   "source": [
    "stasiun_features = ohe_statiun.transform(np.array(valid_set.stasiun.to_list()).reshape(-1, 1))"
   ]
  },
  {
   "cell_type": "code",
   "execution_count": 567,
   "metadata": {},
   "outputs": [],
   "source": [
    "stasiun_features = pd.DataFrame(stasiun_features, columns = params[\"range_stasiun\"])"
   ]
  },
  {
   "cell_type": "code",
   "execution_count": 568,
   "metadata": {},
   "outputs": [],
   "source": [
    "stasiun_features.set_index(valid_set.index, inplace = True)"
   ]
  },
  {
   "cell_type": "code",
   "execution_count": 569,
   "metadata": {},
   "outputs": [],
   "source": [
    "valid_set = pd.concat([stasiun_features, valid_set], axis = 1)"
   ]
  },
  {
   "cell_type": "code",
   "execution_count": 570,
   "metadata": {},
   "outputs": [],
   "source": [
    "valid_set.drop(columns = \"stasiun\", inplace = True)"
   ]
  },
  {
   "cell_type": "markdown",
   "metadata": {},
   "source": [
    "10.3. Testset"
   ]
  },
  {
   "cell_type": "code",
   "execution_count": 571,
   "metadata": {},
   "outputs": [],
   "source": [
    "stasiun_features = ohe_statiun.transform(np.array(test_set.stasiun.to_list()).reshape(-1, 1))"
   ]
  },
  {
   "cell_type": "code",
   "execution_count": 572,
   "metadata": {},
   "outputs": [],
   "source": [
    "stasiun_features = pd.DataFrame(stasiun_features, columns = params[\"range_stasiun\"])"
   ]
  },
  {
   "cell_type": "code",
   "execution_count": 573,
   "metadata": {},
   "outputs": [],
   "source": [
    "stasiun_features.set_index(test_set.index, inplace = True)"
   ]
  },
  {
   "cell_type": "code",
   "execution_count": 574,
   "metadata": {},
   "outputs": [],
   "source": [
    "test_set = pd.concat([stasiun_features, test_set], axis = 1)"
   ]
  },
  {
   "cell_type": "code",
   "execution_count": 575,
   "metadata": {},
   "outputs": [],
   "source": [
    "test_set.drop(columns = \"stasiun\", inplace = True)"
   ]
  },
  {
   "cell_type": "markdown",
   "metadata": {},
   "source": [
    "## 11. BALANCING LABEL"
   ]
  },
  {
   "cell_type": "code",
   "execution_count": 576,
   "metadata": {},
   "outputs": [
    {
     "data": {
      "text/plain": [
       "<AxesSubplot: xlabel='categori', ylabel='Count'>"
      ]
     },
     "execution_count": 576,
     "metadata": {},
     "output_type": "execute_result"
    },
    {
     "data": {
      "image/png": "[encoded data removed]",
      "text/plain": [
       "<Figure size 432x288 with 1 Axes>"
      ]
     },
     "metadata": {
      "needs_background": "light"
     },
     "output_type": "display_data"
    }
   ],
   "source": [
    "sns.histplot(data = dataset, x = \"categori\", hue = \"categori\")"
   ]
  },
  {
   "cell_type": "markdown",
   "metadata": {},
   "source": [
    "11.1. Undersampling"
   ]
  },
  {
   "cell_type": "code",
   "execution_count": 577,
   "metadata": {},
   "outputs": [],
   "source": [
    "rus = RandomUnderSampler(random_state = 26)"
   ]
  },
  {
   "cell_type": "code",
   "execution_count": 578,
   "metadata": {},
   "outputs": [],
   "source": [
    "x_rus, y_rus = rus.fit_resample(dataset.drop(\"categori\", axis = 1), dataset.categori)"
   ]
  },
  {
   "cell_type": "code",
   "execution_count": 579,
   "metadata": {},
   "outputs": [],
   "source": [
    "dataset_rus = pd.concat([x_rus, y_rus], axis = 1)"
   ]
  },
  {
   "cell_type": "code",
   "execution_count": 580,
   "metadata": {},
   "outputs": [
    {
     "data": {
      "text/plain": [
       "<AxesSubplot: xlabel='categori', ylabel='Count'>"
      ]
     },
     "execution_count": 580,
     "metadata": {},
     "output_type": "execute_result"
    },
    {
     "data": {
      "image/png": "[encoded data removed]",
      "text/plain": [
       "<Figure size 432x288 with 1 Axes>"
      ]
     },
     "metadata": {
      "needs_background": "light"
     },
     "output_type": "display_data"
    }
   ],
   "source": [
    "sns.histplot(dataset_rus, x = \"categori\", hue = \"categori\")"
   ]
  },
  {
   "cell_type": "markdown",
   "metadata": {},
   "source": [
    "11.2. Oversampling"
   ]
  },
  {
   "cell_type": "code",
   "execution_count": 581,
   "metadata": {},
   "outputs": [],
   "source": [
    "ros = RandomOverSampler(random_state = 11)"
   ]
  },
  {
   "cell_type": "code",
   "execution_count": 582,
   "metadata": {},
   "outputs": [],
   "source": [
    "x_ros, y_ros = ros.fit_resample(dataset.drop(\"categori\", axis = 1), dataset.categori)"
   ]
  },
  {
   "cell_type": "code",
   "execution_count": 583,
   "metadata": {},
   "outputs": [],
   "source": [
    "dataset_ros = pd.concat([x_ros, y_ros], axis = 1)"
   ]
  },
  {
   "cell_type": "code",
   "execution_count": 584,
   "metadata": {},
   "outputs": [
    {
     "data": {
      "text/plain": [
       "<AxesSubplot: xlabel='categori', ylabel='Count'>"
      ]
     },
     "execution_count": 584,
     "metadata": {},
     "output_type": "execute_result"
    },
    {
     "data": {
      "image/png": "[encoded data removed]",
      "text/plain": [
       "<Figure size 432x288 with 1 Axes>"
      ]
     },
     "metadata": {
      "needs_background": "light"
     },
     "output_type": "display_data"
    }
   ],
   "source": [
    "sns.histplot(dataset_ros, x = \"categori\", hue = \"categori\")"
   ]
  },
  {
   "cell_type": "markdown",
   "metadata": {},
   "source": [
    "11.3. SMOTE"
   ]
  },
  {
   "cell_type": "code",
   "execution_count": 585,
   "metadata": {},
   "outputs": [],
   "source": [
    "sm = SMOTE(random_state = 112)"
   ]
  },
  {
   "cell_type": "code",
   "execution_count": 586,
   "metadata": {},
   "outputs": [],
   "source": [
    "x_sm, y_sm = sm.fit_resample(dataset.drop(\"categori\", axis = 1), dataset.categori)"
   ]
  },
  {
   "cell_type": "code",
   "execution_count": 587,
   "metadata": {},
   "outputs": [],
   "source": [
    "dataset_ros = pd.concat([x_ros, y_ros], axis = 1)"
   ]
  },
  {
   "cell_type": "code",
   "execution_count": 588,
   "metadata": {},
   "outputs": [
    {
     "data": {
      "text/plain": [
       "<AxesSubplot: xlabel='categori', ylabel='Count'>"
      ]
     },
     "execution_count": 588,
     "metadata": {},
     "output_type": "execute_result"
    },
    {
     "data": {
      "image/png": "[encoded data removed]",
      "text/plain": [
       "<Figure size 432x288 with 1 Axes>"
      ]
     },
     "metadata": {
      "needs_background": "light"
     },
     "output_type": "display_data"
    }
   ],
   "source": [
    "sns.histplot(dataset_ros, x = \"categori\", hue = \"categori\")"
   ]
  },
  {
   "cell_type": "markdown",
   "metadata": {},
   "source": [
    "## 12. LABEL ENCODING"
   ]
  },
  {
   "cell_type": "code",
   "execution_count": 589,
   "metadata": {},
   "outputs": [],
   "source": [
    "le_categori = LabelEncoder()"
   ]
  },
  {
   "cell_type": "code",
   "execution_count": 590,
   "metadata": {},
   "outputs": [
    {
     "data": {
      "text/html": [
       "<style>#sk-container-id-4 {color: black;background-color: white;}#sk-container-id-4 pre{padding: 0;}#sk-container-id-4 div.sk-toggleable {background-color: white;}#sk-container-id-4 label.sk-toggleable__label {cursor: pointer;display: block;width: 100%;margin-bottom: 0;padding: 0.3em;box-sizing: border-box;text-align: center;}#sk-container-id-4 label.sk-toggleable__label-arrow:before {content: \"▸\";float: left;margin-right: 0.25em;color: #696969;}#sk-container-id-4 label.sk-toggleable__label-arrow:hover:before {color: black;}#sk-container-id-4 div.sk-estimator:hover label.sk-toggleable__label-arrow:before {color: black;}#sk-container-id-4 div.sk-toggleable__content {max-height: 0;max-width: 0;overflow: hidden;text-align: left;background-color: #f0f8ff;}#sk-container-id-4 div.sk-toggleable__content pre {margin: 0.2em;color: black;border-radius: 0.25em;background-color: #f0f8ff;}#sk-container-id-4 input.sk-toggleable__control:checked~div.sk-toggleable__content {max-height: 200px;max-width: 100%;overflow: auto;}#sk-container-id-4 input.sk-toggleable__control:checked~label.sk-toggleable__label-arrow:before {content: \"▾\";}#sk-container-id-4 div.sk-estimator input.sk-toggleable__control:checked~label.sk-toggleable__label {background-color: #d4ebff;}#sk-container-id-4 div.sk-label input.sk-toggleable__control:checked~label.sk-toggleable__label {background-color: #d4ebff;}#sk-container-id-4 input.sk-hidden--visually {border: 0;clip: rect(1px 1px 1px 1px);clip: rect(1px, 1px, 1px, 1px);height: 1px;margin: -1px;overflow: hidden;padding: 0;position: absolute;width: 1px;}#sk-container-id-4 div.sk-estimator {font-family: monospace;background-color: #f0f8ff;border: 1px dotted black;border-radius: 0.25em;box-sizing: border-box;margin-bottom: 0.5em;}#sk-container-id-4 div.sk-estimator:hover {background-color: #d4ebff;}#sk-container-id-4 div.sk-parallel-item::after {content: \"\";width: 100%;border-bottom: 1px solid gray;flex-grow: 1;}#sk-container-id-4 div.sk-label:hover label.sk-toggleable__label {background-color: #d4ebff;}#sk-container-id-4 div.sk-serial::before {content: \"\";position: absolute;border-left: 1px solid gray;box-sizing: border-box;top: 0;bottom: 0;left: 50%;z-index: 0;}#sk-container-id-4 div.sk-serial {display: flex;flex-direction: column;align-items: center;background-color: white;padding-right: 0.2em;padding-left: 0.2em;position: relative;}#sk-container-id-4 div.sk-item {position: relative;z-index: 1;}#sk-container-id-4 div.sk-parallel {display: flex;align-items: stretch;justify-content: center;background-color: white;position: relative;}#sk-container-id-4 div.sk-item::before, #sk-container-id-4 div.sk-parallel-item::before {content: \"\";position: absolute;border-left: 1px solid gray;box-sizing: border-box;top: 0;bottom: 0;left: 50%;z-index: -1;}#sk-container-id-4 div.sk-parallel-item {display: flex;flex-direction: column;z-index: 1;position: relative;background-color: white;}#sk-container-id-4 div.sk-parallel-item:first-child::after {align-self: flex-end;width: 50%;}#sk-container-id-4 div.sk-parallel-item:last-child::after {align-self: flex-start;width: 50%;}#sk-container-id-4 div.sk-parallel-item:only-child::after {width: 0;}#sk-container-id-4 div.sk-dashed-wrapped {border: 1px dashed gray;margin: 0 0.4em 0.5em 0.4em;box-sizing: border-box;padding-bottom: 0.4em;background-color: white;}#sk-container-id-4 div.sk-label label {font-family: monospace;font-weight: bold;display: inline-block;line-height: 1.2em;}#sk-container-id-4 div.sk-label-container {text-align: center;}#sk-container-id-4 div.sk-container {/* jupyter's `normalize.less` sets `[hidden] { display: none; }` but bootstrap.min.css set `[hidden] { display: none !important; }` so we also need the `!important` here to be able to override the default hidden behavior on the sphinx rendered scikit-learn.org. See: https://github.com/scikit-learn/scikit-learn/issues/21755 */display: inline-block !important;position: relative;}#sk-container-id-4 div.sk-text-repr-fallback {display: none;}</style><div id=\"sk-container-id-4\" class=\"sk-top-container\"><div class=\"sk-text-repr-fallback\"><pre>LabelEncoder()</pre><b>In a Jupyter environment, please rerun this cell to show the HTML representation or trust the notebook. <br />On GitHub, the HTML representation is unable to render, please try loading this page with nbviewer.org.</b></div><div class=\"sk-container\" hidden><div class=\"sk-item\"><div class=\"sk-estimator sk-toggleable\"><input class=\"sk-toggleable__control sk-hidden--visually\" id=\"sk-estimator-id-4\" type=\"checkbox\" checked><label for=\"sk-estimator-id-4\" class=\"sk-toggleable__label sk-toggleable__label-arrow\">LabelEncoder</label><div class=\"sk-toggleable__content\"><pre>LabelEncoder()</pre></div></div></div></div></div>"
      ],
      "text/plain": [
       "LabelEncoder()"
      ]
     },
     "execution_count": 590,
     "metadata": {},
     "output_type": "execute_result"
    }
   ],
   "source": [
    "le_categori.fit(params[\"label_categories_new\"])"
   ]
  },
  {
   "cell_type": "code",
   "execution_count": 591,
   "metadata": {},
   "outputs": [
    {
     "data": {
      "text/plain": [
       "['/Users/avntrr/Documents/Pacmann/le_categori.pkl']"
      ]
     },
     "execution_count": 591,
     "metadata": {},
     "output_type": "execute_result"
    }
   ],
   "source": [
    "joblib.dump(le_categori, \"/Users/avntrr/Documents/Pacmann/le_categori.pkl\")"
   ]
  },
  {
   "cell_type": "code",
   "execution_count": 592,
   "metadata": {},
   "outputs": [
    {
     "data": {
      "text/plain": [
       "['BAIK', 'TIDAK SEHAT']"
      ]
     },
     "execution_count": 592,
     "metadata": {},
     "output_type": "execute_result"
    }
   ],
   "source": [
    "params[\"label_categories_new\"]"
   ]
  },
  {
   "cell_type": "markdown",
   "metadata": {},
   "source": [
    "12.1. Undersampling Set"
   ]
  },
  {
   "cell_type": "code",
   "execution_count": 593,
   "metadata": {},
   "outputs": [
    {
     "data": {
      "text/plain": [
       "True"
      ]
     },
     "execution_count": 593,
     "metadata": {},
     "output_type": "execute_result"
    }
   ],
   "source": [
    "list(y_rus.unique()) == params[\"label_categories_new\"]"
   ]
  },
  {
   "cell_type": "code",
   "execution_count": 594,
   "metadata": {},
   "outputs": [],
   "source": [
    "y_rus = le_categori.transform(y_rus)"
   ]
  },
  {
   "cell_type": "markdown",
   "metadata": {},
   "source": [
    "12.2. Oversampling Set"
   ]
  },
  {
   "cell_type": "code",
   "execution_count": 595,
   "metadata": {},
   "outputs": [
    {
     "data": {
      "text/plain": [
       "True"
      ]
     },
     "execution_count": 595,
     "metadata": {},
     "output_type": "execute_result"
    }
   ],
   "source": [
    "list(y_ros.unique()) == params[\"label_categories_new\"]"
   ]
  },
  {
   "cell_type": "code",
   "execution_count": 596,
   "metadata": {},
   "outputs": [],
   "source": [
    "y_ros = le_categori.transform(y_ros)"
   ]
  },
  {
   "cell_type": "markdown",
   "metadata": {},
   "source": [
    "12.3. SMOTE"
   ]
  },
  {
   "cell_type": "code",
   "execution_count": 597,
   "metadata": {},
   "outputs": [
    {
     "data": {
      "text/plain": [
       "True"
      ]
     },
     "execution_count": 597,
     "metadata": {},
     "output_type": "execute_result"
    }
   ],
   "source": [
    "list(y_sm.unique()) == params[\"label_categories_new\"]"
   ]
  },
  {
   "cell_type": "code",
   "execution_count": 598,
   "metadata": {},
   "outputs": [],
   "source": [
    "y_sm = le_categori.transform(y_sm)"
   ]
  },
  {
   "cell_type": "markdown",
   "metadata": {},
   "source": [
    "12.4.Validation Set"
   ]
  },
  {
   "cell_type": "code",
   "execution_count": 599,
   "metadata": {},
   "outputs": [
    {
     "data": {
      "text/plain": [
       "True"
      ]
     },
     "execution_count": 599,
     "metadata": {},
     "output_type": "execute_result"
    }
   ],
   "source": [
    "len(set(valid_set.categori.unique()) - set(params[\"label_categories_new\"])) == 0"
   ]
  },
  {
   "cell_type": "code",
   "execution_count": 600,
   "metadata": {},
   "outputs": [],
   "source": [
    "valid_set.categori = le_categori.transform(valid_set.categori)"
   ]
  },
  {
   "cell_type": "markdown",
   "metadata": {},
   "source": [
    "12.5. Testset"
   ]
  },
  {
   "cell_type": "code",
   "execution_count": 601,
   "metadata": {},
   "outputs": [
    {
     "data": {
      "text/plain": [
       "True"
      ]
     },
     "execution_count": 601,
     "metadata": {},
     "output_type": "execute_result"
    }
   ],
   "source": [
    "len(set(test_set.categori.unique()) - set(params[\"label_categories_new\"])) == 0"
   ]
  },
  {
   "cell_type": "code",
   "execution_count": 602,
   "metadata": {},
   "outputs": [],
   "source": [
    "test_set.categori = le_categori.transform(test_set.categori)"
   ]
  },
  {
   "cell_type": "markdown",
   "metadata": {},
   "source": [
    "## 13. DUMP DATA LATIH"
   ]
  },
  {
   "cell_type": "code",
   "execution_count": 603,
   "metadata": {},
   "outputs": [
    {
     "data": {
      "text/plain": [
       "['/Users/avntrr/Documents/Pacmann/y_test_feng.pkl']"
      ]
     },
     "execution_count": 603,
     "metadata": {},
     "output_type": "execute_result"
    }
   ],
   "source": [
    "joblib.dump(x_rus, \"/Users/avntrr/Documents/Pacmann/x_rus.pkl\")\n",
    "joblib.dump(y_rus, \"/Users/avntrr/Documents/Pacmann/y_rus.pkl\")\n",
    "\n",
    "joblib.dump(x_ros, \"/Users/avntrr/Documents/Pacmann/x_ros.pkl\")\n",
    "joblib.dump(y_ros, \"/Users/avntrr/Documents/Pacmann/y_ros.pkl\")\n",
    "\n",
    "joblib.dump(x_sm, \"/Users/avntrr/Documents/Pacmann/x_sm.pkl\")\n",
    "joblib.dump(y_sm, \"/Users/avntrr/Documents/Pacmann/y_sm.pkl\")\n",
    "\n",
    "joblib.dump(valid_set.drop(columns = \"categori\"), \"/Users/avntrr/Documents/Pacmann/x_valid_feng.pkl\")\n",
    "joblib.dump(valid_set.categori, \"/Users/avntrr/Documents/Pacmann/y_valid_feng.pkl\")\n",
    "\n",
    "joblib.dump(test_set.drop(columns = \"categori\"), \"/Users/avntrr/Documents/Pacmann/x_test_feng.pkl\")\n",
    "joblib.dump(test_set.categori, \"/Users/avntrr/Documents/Pacmann/y_test_feng.pkl\")"
   ]
  },
  {
   "cell_type": "markdown",
   "metadata": {},
   "source": [
    "## 14. CREATE LOG TEMPLATE"
   ]
  },
  {
   "cell_type": "code",
   "execution_count": 605,
   "metadata": {},
   "outputs": [],
   "source": [
    "def time_stamp():\n",
    "    return datetime.now()"
   ]
  },
  {
   "cell_type": "code",
   "execution_count": 606,
   "metadata": {},
   "outputs": [],
   "source": [
    "def create_log_template():\n",
    "    logger = {\n",
    "        \"model_name\" : [],\n",
    "        \"model_uid\" : [],\n",
    "        \"training_time\" : [],\n",
    "        \"training_date\" : [],\n",
    "        \"performance\" : [],\n",
    "        \"f1_score_avg\" : [],\n",
    "        \"data_configurations\" : [],\n",
    "    }\n",
    "\n",
    "    return logger"
   ]
  },
  {
   "cell_type": "code",
   "execution_count": 607,
   "metadata": {},
   "outputs": [],
   "source": [
    "def training_log_updater(current_log, log_path):\n",
    "    current_log = current_log.copy()\n",
    "\n",
    "    try:\n",
    "        with open(log_path, \"r\") as file:\n",
    "            last_log = json.load(file)\n",
    "        file.close()\n",
    "    except FileNotFoundError as ffe:\n",
    "        with open(log_path, \"w\") as file:\n",
    "            file.write(\"[]\")\n",
    "        file.close()\n",
    "        with open(log_path, \"r\") as file:\n",
    "            last_log = json.load(file)\n",
    "        file.close()\n",
    "    \n",
    "    last_log.append(current_log)\n",
    "\n",
    "    with open(log_path, \"w\") as file:\n",
    "        json.dump(last_log, file)\n",
    "        file.close()\n",
    "\n",
    "    return last_log"
   ]
  },
  {
   "cell_type": "markdown",
   "metadata": {},
   "source": [
    "## 15. TRAINING AND EVALUATION"
   ]
  },
  {
   "cell_type": "markdown",
   "metadata": {},
   "source": [
    "15.1. Create Model Object"
   ]
  },
  {
   "cell_type": "code",
   "execution_count": 608,
   "metadata": {},
   "outputs": [],
   "source": [
    "lgr_baseline = LogisticRegression()\n",
    "dct_baseline = DecisionTreeClassifier()\n",
    "rfc_baseline = RandomForestClassifier()\n",
    "knn_baseline = KNeighborsClassifier()\n",
    "xgb_baseline = XGBClassifier()"
   ]
  },
  {
   "cell_type": "code",
   "execution_count": 609,
   "metadata": {},
   "outputs": [],
   "source": [
    "list_of_model = {\n",
    "    \"undersampling\" : [\n",
    "        { \"model_name\": lgr_baseline.__class__.__name__, \"model_object\": lgr_baseline, \"model_uid\": \"\"},\n",
    "        { \"model_name\": dct_baseline.__class__.__name__, \"model_object\": dct_baseline, \"model_uid\": \"\"},\n",
    "        { \"model_name\": rfc_baseline.__class__.__name__, \"model_object\": rfc_baseline, \"model_uid\": \"\"},\n",
    "        { \"model_name\": knn_baseline.__class__.__name__, \"model_object\": knn_baseline, \"model_uid\": \"\"},\n",
    "        { \"model_name\": xgb_baseline.__class__.__name__, \"model_object\": xgb_baseline, \"model_uid\": \"\"}\n",
    "        ],\n",
    "    \"oversampling\" : [\n",
    "        { \"model_name\": lgr_baseline.__class__.__name__, \"model_object\": lgr_baseline, \"model_uid\": \"\"},\n",
    "        { \"model_name\": dct_baseline.__class__.__name__, \"model_object\": dct_baseline, \"model_uid\": \"\"},\n",
    "        { \"model_name\": rfc_baseline.__class__.__name__, \"model_object\": rfc_baseline, \"model_uid\": \"\"},\n",
    "        { \"model_name\": knn_baseline.__class__.__name__, \"model_object\": knn_baseline, \"model_uid\": \"\"},\n",
    "        { \"model_name\": xgb_baseline.__class__.__name__, \"model_object\": xgb_baseline, \"model_uid\": \"\"}\n",
    "        ],\n",
    "    \"smote\" : [\n",
    "        { \"model_name\": lgr_baseline.__class__.__name__, \"model_object\": lgr_baseline, \"model_uid\": \"\"},\n",
    "        { \"model_name\": dct_baseline.__class__.__name__, \"model_object\": dct_baseline, \"model_uid\": \"\"},\n",
    "        { \"model_name\": rfc_baseline.__class__.__name__, \"model_object\": rfc_baseline, \"model_uid\": \"\"},\n",
    "        { \"model_name\": knn_baseline.__class__.__name__, \"model_object\": knn_baseline, \"model_uid\": \"\"},\n",
    "        { \"model_name\": xgb_baseline.__class__.__name__, \"model_object\": xgb_baseline, \"model_uid\": \"\"}\n",
    "        ],\n",
    "    }"
   ]
  },
  {
   "cell_type": "markdown",
   "metadata": {},
   "source": [
    "15.2. Training Model"
   ]
  },
  {
   "cell_type": "code",
   "execution_count": 610,
   "metadata": {},
   "outputs": [],
   "source": [
    "def train_eval_model(list_of_model, prefix_model_name, x_train, y_train, data_configuration_name, x_valid, y_valid, log_path):\n",
    "\n",
    "    list_of_model = copy.deepcopy(list_of_model)\n",
    "    logger = create_log_template()\n",
    "\n",
    "    for model in tqdm(list_of_model):    \n",
    "        model_name = prefix_model_name + \"-\" + model[\"model_name\"]\n",
    "\n",
    "        start_time = time_stamp()\n",
    "        model[\"model_object\"].fit(x_train, y_train)\n",
    "        finished_time = time_stamp()\n",
    "\n",
    "        elapsed_time = finished_time - start_time\n",
    "        elapsed_time = elapsed_time.total_seconds()\n",
    "\n",
    "        y_pred = model[\"model_object\"].predict(x_valid)\n",
    "        performance = classification_report(y_valid, y_pred, output_dict = True)\n",
    "\n",
    "        plain_id = str(start_time) + str(finished_time)\n",
    "        chiper_id = hashlib.md5(plain_id.encode()).hexdigest()\n",
    "\n",
    "        model[\"model_uid\"] = chiper_id\n",
    "\n",
    "        logger[\"model_name\"].append(model_name)\n",
    "        logger[\"model_uid\"].append(chiper_id)\n",
    "        logger[\"training_time\"].append(elapsed_time)\n",
    "        logger[\"training_date\"].append(str(start_time))\n",
    "        logger[\"performance\"].append(performance)\n",
    "        logger[\"f1_score_avg\"].append(performance[\"macro avg\"][\"f1-score\"])\n",
    "        logger[\"data_configurations\"].append(data_configuration_name)\n",
    "\n",
    "    training_log = training_log_updater(logger, log_path)\n",
    "\n",
    "    return training_log, list_of_model"
   ]
  },
  {
   "cell_type": "markdown",
   "metadata": {},
   "source": [
    "15.2.1 . Baseline Model Undersampling"
   ]
  },
  {
   "cell_type": "code",
   "execution_count": 614,
   "metadata": {},
   "outputs": [
    {
     "name": "stderr",
     "output_type": "stream",
     "text": [
      "  0%|          | 0/5 [00:00<?, ?it/s]/Library/Frameworks/Python.framework/Versions/3.9/lib/python3.9/site-packages/sklearn/linear_model/_logistic.py:444: ConvergenceWarning: lbfgs failed to converge (status=1):\n",
      "STOP: TOTAL NO. of ITERATIONS REACHED LIMIT.\n",
      "\n",
      "Increase the number of iterations (max_iter) or scale the data as shown in:\n",
      "    https://scikit-learn.org/stable/modules/preprocessing.html\n",
      "Please also refer to the documentation for alternative solver options:\n",
      "    https://scikit-learn.org/stable/modules/linear_model.html#logistic-regression\n",
      "  n_iter_i = _check_optimize_result(\n",
      "100%|██████████| 5/5 [00:00<00:00, 29.76it/s]\n"
     ]
    }
   ],
   "source": [
    "training_log, list_of_model_rus = train_eval_model(\n",
    "    list_of_model[\"undersampling\"],\n",
    "    \"baseline_model\",\n",
    "    x_rus,\n",
    "    y_rus,\n",
    "    \"undersampling\",\n",
    "    x_valid,\n",
    "    y_valid,\n",
    "    \"/Users/avntrr/Documents/Pacmann/training_log.json\"\n",
    ")"
   ]
  },
  {
   "cell_type": "code",
   "execution_count": 615,
   "metadata": {},
   "outputs": [],
   "source": [
    "list_of_model[\"undersampling\"] = copy.deepcopy(list_of_model_rus)"
   ]
  },
  {
   "cell_type": "markdown",
   "metadata": {},
   "source": [
    "15.2.2. Baseline Model Oversampling"
   ]
  },
  {
   "cell_type": "code",
   "execution_count": 617,
   "metadata": {},
   "outputs": [
    {
     "name": "stderr",
     "output_type": "stream",
     "text": [
      "  0%|          | 0/5 [00:00<?, ?it/s]/Library/Frameworks/Python.framework/Versions/3.9/lib/python3.9/site-packages/sklearn/linear_model/_logistic.py:444: ConvergenceWarning: lbfgs failed to converge (status=1):\n",
      "STOP: TOTAL NO. of ITERATIONS REACHED LIMIT.\n",
      "\n",
      "Increase the number of iterations (max_iter) or scale the data as shown in:\n",
      "    https://scikit-learn.org/stable/modules/preprocessing.html\n",
      "Please also refer to the documentation for alternative solver options:\n",
      "    https://scikit-learn.org/stable/modules/linear_model.html#logistic-regression\n",
      "  n_iter_i = _check_optimize_result(\n",
      "100%|██████████| 5/5 [00:00<00:00, 26.36it/s]\n"
     ]
    }
   ],
   "source": [
    "training_log, list_of_model_ros = train_eval_model(\n",
    "    list_of_model[\"oversampling\"],\n",
    "    \"baseline_model\",\n",
    "    x_rus,\n",
    "    y_rus,\n",
    "    \"oversampling\",\n",
    "    x_valid,\n",
    "    y_valid,\n",
    "    \"/Users/avntrr/Documents/Pacmann/training_log.json\"\n",
    ")"
   ]
  },
  {
   "cell_type": "code",
   "execution_count": 618,
   "metadata": {},
   "outputs": [],
   "source": [
    "list_of_model[\"oversampling\"] = copy.deepcopy(list_of_model_ros)"
   ]
  },
  {
   "cell_type": "markdown",
   "metadata": {},
   "source": [
    "15.2.3. Baseline Model SMOTE"
   ]
  },
  {
   "cell_type": "code",
   "execution_count": 619,
   "metadata": {},
   "outputs": [
    {
     "name": "stderr",
     "output_type": "stream",
     "text": [
      "  0%|          | 0/5 [00:00<?, ?it/s]/Library/Frameworks/Python.framework/Versions/3.9/lib/python3.9/site-packages/sklearn/linear_model/_logistic.py:444: ConvergenceWarning: lbfgs failed to converge (status=1):\n",
      "STOP: TOTAL NO. of ITERATIONS REACHED LIMIT.\n",
      "\n",
      "Increase the number of iterations (max_iter) or scale the data as shown in:\n",
      "    https://scikit-learn.org/stable/modules/preprocessing.html\n",
      "Please also refer to the documentation for alternative solver options:\n",
      "    https://scikit-learn.org/stable/modules/linear_model.html#logistic-regression\n",
      "  n_iter_i = _check_optimize_result(\n",
      "100%|██████████| 5/5 [00:00<00:00, 11.31it/s]\n"
     ]
    }
   ],
   "source": [
    "training_log, list_of_model_sm = train_eval_model(\n",
    "    list_of_model[\"smote\"],\n",
    "    \"baseline_model\",\n",
    "    x_rus,\n",
    "    y_rus,\n",
    "    \"smote\",\n",
    "    x_valid,\n",
    "    y_valid,\n",
    "    \"/Users/avntrr/Documents/Pacmann/training_log.json\"\n",
    ")"
   ]
  },
  {
   "cell_type": "code",
   "execution_count": 620,
   "metadata": {},
   "outputs": [],
   "source": [
    "list_of_model[\"smote\"] = copy.deepcopy(list_of_model_sm)"
   ]
  },
  {
   "cell_type": "markdown",
   "metadata": {},
   "source": [
    "15.2.4. Best Performance"
   ]
  },
  {
   "cell_type": "code",
   "execution_count": 621,
   "metadata": {},
   "outputs": [],
   "source": [
    "def training_log_to_df(training_log):\n",
    "    training_res = pd.DataFrame()\n",
    "\n",
    "    for log in tqdm(training_log):\n",
    "        training_res = pd.concat([training_res, pd.DataFrame(log)])\n",
    "    \n",
    "    training_res.sort_values([\"f1_score_avg\", \"training_time\"], ascending = [False, True], inplace = True)\n",
    "    training_res.reset_index(inplace = True, drop = True)\n",
    "    \n",
    "    return training_res"
   ]
  },
  {
   "cell_type": "code",
   "execution_count": 622,
   "metadata": {},
   "outputs": [
    {
     "name": "stderr",
     "output_type": "stream",
     "text": [
      "100%|██████████| 3/3 [00:00<00:00, 570.58it/s]\n"
     ]
    }
   ],
   "source": [
    "training_res = training_log_to_df(training_log)"
   ]
  },
  {
   "cell_type": "code",
   "execution_count": 623,
   "metadata": {},
   "outputs": [
    {
     "data": {
      "text/html": [
       "<div>\n",
       "<style scoped>\n",
       "    .dataframe tbody tr th:only-of-type {\n",
       "        vertical-align: middle;\n",
       "    }\n",
       "\n",
       "    .dataframe tbody tr th {\n",
       "        vertical-align: top;\n",
       "    }\n",
       "\n",
       "    .dataframe thead th {\n",
       "        text-align: right;\n",
       "    }\n",
       "</style>\n",
       "<table border=\"1\" class=\"dataframe\">\n",
       "  <thead>\n",
       "    <tr style=\"text-align: right;\">\n",
       "      <th></th>\n",
       "      <th>model_name</th>\n",
       "      <th>model_uid</th>\n",
       "      <th>training_time</th>\n",
       "      <th>training_date</th>\n",
       "      <th>performance</th>\n",
       "      <th>f1_score_avg</th>\n",
       "      <th>data_configurations</th>\n",
       "    </tr>\n",
       "  </thead>\n",
       "  <tbody>\n",
       "    <tr>\n",
       "      <th>0</th>\n",
       "      <td>baseline_model-DecisionTreeClassifier</td>\n",
       "      <td>9e43847542d768266ba57a4bdaba0c59</td>\n",
       "      <td>0.001256</td>\n",
       "      <td>2022-12-02 13:26:01.934225</td>\n",
       "      <td>{'0': {'precision': 1.0, 'recall': 1.0, 'f1-sc...</td>\n",
       "      <td>1.000000</td>\n",
       "      <td>undersampling</td>\n",
       "    </tr>\n",
       "    <tr>\n",
       "      <th>1</th>\n",
       "      <td>baseline_model-DecisionTreeClassifier</td>\n",
       "      <td>72246882b937424da92907c61cff5126</td>\n",
       "      <td>0.002083</td>\n",
       "      <td>2022-12-02 13:28:03.821411</td>\n",
       "      <td>{'0': {'precision': 1.0, 'recall': 1.0, 'f1-sc...</td>\n",
       "      <td>1.000000</td>\n",
       "      <td>smote</td>\n",
       "    </tr>\n",
       "    <tr>\n",
       "      <th>2</th>\n",
       "      <td>baseline_model-DecisionTreeClassifier</td>\n",
       "      <td>a500c9a41f3773d2a33cfdb0f4a32d3e</td>\n",
       "      <td>0.002788</td>\n",
       "      <td>2022-12-02 13:27:24.394768</td>\n",
       "      <td>{'0': {'precision': 1.0, 'recall': 1.0, 'f1-sc...</td>\n",
       "      <td>1.000000</td>\n",
       "      <td>oversampling</td>\n",
       "    </tr>\n",
       "    <tr>\n",
       "      <th>3</th>\n",
       "      <td>baseline_model-XGBClassifier</td>\n",
       "      <td>b92e8ebd095d7e5a20278d776ee13b4b</td>\n",
       "      <td>0.033118</td>\n",
       "      <td>2022-12-02 13:26:02.040617</td>\n",
       "      <td>{'0': {'precision': 1.0, 'recall': 1.0, 'f1-sc...</td>\n",
       "      <td>1.000000</td>\n",
       "      <td>undersampling</td>\n",
       "    </tr>\n",
       "    <tr>\n",
       "      <th>4</th>\n",
       "      <td>baseline_model-XGBClassifier</td>\n",
       "      <td>e47a00aa53b2169e94f8273c554cacd1</td>\n",
       "      <td>0.043428</td>\n",
       "      <td>2022-12-02 13:27:24.515507</td>\n",
       "      <td>{'0': {'precision': 1.0, 'recall': 1.0, 'f1-sc...</td>\n",
       "      <td>1.000000</td>\n",
       "      <td>oversampling</td>\n",
       "    </tr>\n",
       "    <tr>\n",
       "      <th>5</th>\n",
       "      <td>baseline_model-XGBClassifier</td>\n",
       "      <td>9d95f6d496fcec74774063e5e9044513</td>\n",
       "      <td>0.064536</td>\n",
       "      <td>2022-12-02 13:28:04.158850</td>\n",
       "      <td>{'0': {'precision': 1.0, 'recall': 1.0, 'f1-sc...</td>\n",
       "      <td>1.000000</td>\n",
       "      <td>smote</td>\n",
       "    </tr>\n",
       "    <tr>\n",
       "      <th>6</th>\n",
       "      <td>baseline_model-RandomForestClassifier</td>\n",
       "      <td>b6a9b69843ab03bcc247c4f027d24273</td>\n",
       "      <td>0.086641</td>\n",
       "      <td>2022-12-02 13:26:01.938044</td>\n",
       "      <td>{'0': {'precision': 1.0, 'recall': 1.0, 'f1-sc...</td>\n",
       "      <td>1.000000</td>\n",
       "      <td>undersampling</td>\n",
       "    </tr>\n",
       "    <tr>\n",
       "      <th>7</th>\n",
       "      <td>baseline_model-RandomForestClassifier</td>\n",
       "      <td>2410f8470278fcc59b057cebe8473937</td>\n",
       "      <td>0.090942</td>\n",
       "      <td>2022-12-02 13:27:24.403410</td>\n",
       "      <td>{'0': {'precision': 1.0, 'recall': 1.0, 'f1-sc...</td>\n",
       "      <td>1.000000</td>\n",
       "      <td>oversampling</td>\n",
       "    </tr>\n",
       "    <tr>\n",
       "      <th>8</th>\n",
       "      <td>baseline_model-RandomForestClassifier</td>\n",
       "      <td>3650ae316f2da2fa7d38ae13374cd32d</td>\n",
       "      <td>0.297437</td>\n",
       "      <td>2022-12-02 13:28:03.827917</td>\n",
       "      <td>{'0': {'precision': 1.0, 'recall': 1.0, 'f1-sc...</td>\n",
       "      <td>1.000000</td>\n",
       "      <td>smote</td>\n",
       "    </tr>\n",
       "    <tr>\n",
       "      <th>9</th>\n",
       "      <td>baseline_model-KNeighborsClassifier</td>\n",
       "      <td>0d38da7a52450ff49cd69dfe981003b1</td>\n",
       "      <td>0.001069</td>\n",
       "      <td>2022-12-02 13:26:02.034015</td>\n",
       "      <td>{'0': {'precision': 1.0, 'recall': 0.940594059...</td>\n",
       "      <td>0.890944</td>\n",
       "      <td>undersampling</td>\n",
       "    </tr>\n",
       "    <tr>\n",
       "      <th>10</th>\n",
       "      <td>baseline_model-KNeighborsClassifier</td>\n",
       "      <td>b84a7fbc48ece2eeaa65a7965220d84c</td>\n",
       "      <td>0.001291</td>\n",
       "      <td>2022-12-02 13:27:24.504161</td>\n",
       "      <td>{'0': {'precision': 1.0, 'recall': 0.940594059...</td>\n",
       "      <td>0.890944</td>\n",
       "      <td>oversampling</td>\n",
       "    </tr>\n",
       "    <tr>\n",
       "      <th>11</th>\n",
       "      <td>baseline_model-KNeighborsClassifier</td>\n",
       "      <td>4531b4b316ae37a34bcfa7718e749e14</td>\n",
       "      <td>0.002477</td>\n",
       "      <td>2022-12-02 13:28:04.144799</td>\n",
       "      <td>{'0': {'precision': 1.0, 'recall': 0.940594059...</td>\n",
       "      <td>0.890944</td>\n",
       "      <td>smote</td>\n",
       "    </tr>\n",
       "    <tr>\n",
       "      <th>12</th>\n",
       "      <td>baseline_model-LogisticRegression</td>\n",
       "      <td>d4aba80d27d6c9127f21ce3ca5382688</td>\n",
       "      <td>0.014641</td>\n",
       "      <td>2022-12-02 13:27:24.374442</td>\n",
       "      <td>{'0': {'precision': 1.0, 'recall': 0.930693069...</td>\n",
       "      <td>0.875991</td>\n",
       "      <td>oversampling</td>\n",
       "    </tr>\n",
       "    <tr>\n",
       "      <th>13</th>\n",
       "      <td>baseline_model-LogisticRegression</td>\n",
       "      <td>ca803528232ba69d3b6f185de5194400</td>\n",
       "      <td>0.019989</td>\n",
       "      <td>2022-12-02 13:26:01.909884</td>\n",
       "      <td>{'0': {'precision': 1.0, 'recall': 0.930693069...</td>\n",
       "      <td>0.875991</td>\n",
       "      <td>undersampling</td>\n",
       "    </tr>\n",
       "    <tr>\n",
       "      <th>14</th>\n",
       "      <td>baseline_model-LogisticRegression</td>\n",
       "      <td>90a1efc1961eed74a9ac2261ab437fcf</td>\n",
       "      <td>0.025496</td>\n",
       "      <td>2022-12-02 13:28:03.788685</td>\n",
       "      <td>{'0': {'precision': 1.0, 'recall': 0.930693069...</td>\n",
       "      <td>0.875991</td>\n",
       "      <td>smote</td>\n",
       "    </tr>\n",
       "  </tbody>\n",
       "</table>\n",
       "</div>"
      ],
      "text/plain": [
       "                               model_name                         model_uid  \\\n",
       "0   baseline_model-DecisionTreeClassifier  9e43847542d768266ba57a4bdaba0c59   \n",
       "1   baseline_model-DecisionTreeClassifier  72246882b937424da92907c61cff5126   \n",
       "2   baseline_model-DecisionTreeClassifier  a500c9a41f3773d2a33cfdb0f4a32d3e   \n",
       "3            baseline_model-XGBClassifier  b92e8ebd095d7e5a20278d776ee13b4b   \n",
       "4            baseline_model-XGBClassifier  e47a00aa53b2169e94f8273c554cacd1   \n",
       "5            baseline_model-XGBClassifier  9d95f6d496fcec74774063e5e9044513   \n",
       "6   baseline_model-RandomForestClassifier  b6a9b69843ab03bcc247c4f027d24273   \n",
       "7   baseline_model-RandomForestClassifier  2410f8470278fcc59b057cebe8473937   \n",
       "8   baseline_model-RandomForestClassifier  3650ae316f2da2fa7d38ae13374cd32d   \n",
       "9     baseline_model-KNeighborsClassifier  0d38da7a52450ff49cd69dfe981003b1   \n",
       "10    baseline_model-KNeighborsClassifier  b84a7fbc48ece2eeaa65a7965220d84c   \n",
       "11    baseline_model-KNeighborsClassifier  4531b4b316ae37a34bcfa7718e749e14   \n",
       "12      baseline_model-LogisticRegression  d4aba80d27d6c9127f21ce3ca5382688   \n",
       "13      baseline_model-LogisticRegression  ca803528232ba69d3b6f185de5194400   \n",
       "14      baseline_model-LogisticRegression  90a1efc1961eed74a9ac2261ab437fcf   \n",
       "\n",
       "    training_time               training_date  \\\n",
       "0        0.001256  2022-12-02 13:26:01.934225   \n",
       "1        0.002083  2022-12-02 13:28:03.821411   \n",
       "2        0.002788  2022-12-02 13:27:24.394768   \n",
       "3        0.033118  2022-12-02 13:26:02.040617   \n",
       "4        0.043428  2022-12-02 13:27:24.515507   \n",
       "5        0.064536  2022-12-02 13:28:04.158850   \n",
       "6        0.086641  2022-12-02 13:26:01.938044   \n",
       "7        0.090942  2022-12-02 13:27:24.403410   \n",
       "8        0.297437  2022-12-02 13:28:03.827917   \n",
       "9        0.001069  2022-12-02 13:26:02.034015   \n",
       "10       0.001291  2022-12-02 13:27:24.504161   \n",
       "11       0.002477  2022-12-02 13:28:04.144799   \n",
       "12       0.014641  2022-12-02 13:27:24.374442   \n",
       "13       0.019989  2022-12-02 13:26:01.909884   \n",
       "14       0.025496  2022-12-02 13:28:03.788685   \n",
       "\n",
       "                                          performance  f1_score_avg  \\\n",
       "0   {'0': {'precision': 1.0, 'recall': 1.0, 'f1-sc...      1.000000   \n",
       "1   {'0': {'precision': 1.0, 'recall': 1.0, 'f1-sc...      1.000000   \n",
       "2   {'0': {'precision': 1.0, 'recall': 1.0, 'f1-sc...      1.000000   \n",
       "3   {'0': {'precision': 1.0, 'recall': 1.0, 'f1-sc...      1.000000   \n",
       "4   {'0': {'precision': 1.0, 'recall': 1.0, 'f1-sc...      1.000000   \n",
       "5   {'0': {'precision': 1.0, 'recall': 1.0, 'f1-sc...      1.000000   \n",
       "6   {'0': {'precision': 1.0, 'recall': 1.0, 'f1-sc...      1.000000   \n",
       "7   {'0': {'precision': 1.0, 'recall': 1.0, 'f1-sc...      1.000000   \n",
       "8   {'0': {'precision': 1.0, 'recall': 1.0, 'f1-sc...      1.000000   \n",
       "9   {'0': {'precision': 1.0, 'recall': 0.940594059...      0.890944   \n",
       "10  {'0': {'precision': 1.0, 'recall': 0.940594059...      0.890944   \n",
       "11  {'0': {'precision': 1.0, 'recall': 0.940594059...      0.890944   \n",
       "12  {'0': {'precision': 1.0, 'recall': 0.930693069...      0.875991   \n",
       "13  {'0': {'precision': 1.0, 'recall': 0.930693069...      0.875991   \n",
       "14  {'0': {'precision': 1.0, 'recall': 0.930693069...      0.875991   \n",
       "\n",
       "   data_configurations  \n",
       "0        undersampling  \n",
       "1                smote  \n",
       "2         oversampling  \n",
       "3        undersampling  \n",
       "4         oversampling  \n",
       "5                smote  \n",
       "6        undersampling  \n",
       "7         oversampling  \n",
       "8                smote  \n",
       "9        undersampling  \n",
       "10        oversampling  \n",
       "11               smote  \n",
       "12        oversampling  \n",
       "13       undersampling  \n",
       "14               smote  "
      ]
     },
     "execution_count": 623,
     "metadata": {},
     "output_type": "execute_result"
    }
   ],
   "source": [
    "training_res"
   ]
  },
  {
   "cell_type": "code",
   "execution_count": 624,
   "metadata": {},
   "outputs": [],
   "source": [
    "def get_best_model(training_log_df, list_of_model):\n",
    "    model_object = None\n",
    "\n",
    "    best_model_info = training_log_df.sort_values([\"f1_score_avg\", \"training_time\"], ascending = [False, True]).iloc[0]\n",
    "    \n",
    "    for configuration_data in list_of_model:\n",
    "        for model_data in list_of_model[configuration_data]:\n",
    "            if model_data[\"model_uid\"] == best_model_info[\"model_uid\"]:\n",
    "                model_object = model_data[\"model_object\"]\n",
    "                break\n",
    "    \n",
    "    if model_object == None:\n",
    "        raise RuntimeError(\"The best model not found in your list of model.\")\n",
    "    \n",
    "    return model_object\n",
    "    "
   ]
  },
  {
   "cell_type": "code",
   "execution_count": 625,
   "metadata": {},
   "outputs": [],
   "source": [
    "model = get_best_model(training_res, list_of_model)"
   ]
  },
  {
   "cell_type": "code",
   "execution_count": 626,
   "metadata": {},
   "outputs": [
    {
     "data": {
      "text/html": [
       "<style>#sk-container-id-5 {color: black;background-color: white;}#sk-container-id-5 pre{padding: 0;}#sk-container-id-5 div.sk-toggleable {background-color: white;}#sk-container-id-5 label.sk-toggleable__label {cursor: pointer;display: block;width: 100%;margin-bottom: 0;padding: 0.3em;box-sizing: border-box;text-align: center;}#sk-container-id-5 label.sk-toggleable__label-arrow:before {content: \"▸\";float: left;margin-right: 0.25em;color: #696969;}#sk-container-id-5 label.sk-toggleable__label-arrow:hover:before {color: black;}#sk-container-id-5 div.sk-estimator:hover label.sk-toggleable__label-arrow:before {color: black;}#sk-container-id-5 div.sk-toggleable__content {max-height: 0;max-width: 0;overflow: hidden;text-align: left;background-color: #f0f8ff;}#sk-container-id-5 div.sk-toggleable__content pre {margin: 0.2em;color: black;border-radius: 0.25em;background-color: #f0f8ff;}#sk-container-id-5 input.sk-toggleable__control:checked~div.sk-toggleable__content {max-height: 200px;max-width: 100%;overflow: auto;}#sk-container-id-5 input.sk-toggleable__control:checked~label.sk-toggleable__label-arrow:before {content: \"▾\";}#sk-container-id-5 div.sk-estimator input.sk-toggleable__control:checked~label.sk-toggleable__label {background-color: #d4ebff;}#sk-container-id-5 div.sk-label input.sk-toggleable__control:checked~label.sk-toggleable__label {background-color: #d4ebff;}#sk-container-id-5 input.sk-hidden--visually {border: 0;clip: rect(1px 1px 1px 1px);clip: rect(1px, 1px, 1px, 1px);height: 1px;margin: -1px;overflow: hidden;padding: 0;position: absolute;width: 1px;}#sk-container-id-5 div.sk-estimator {font-family: monospace;background-color: #f0f8ff;border: 1px dotted black;border-radius: 0.25em;box-sizing: border-box;margin-bottom: 0.5em;}#sk-container-id-5 div.sk-estimator:hover {background-color: #d4ebff;}#sk-container-id-5 div.sk-parallel-item::after {content: \"\";width: 100%;border-bottom: 1px solid gray;flex-grow: 1;}#sk-container-id-5 div.sk-label:hover label.sk-toggleable__label {background-color: #d4ebff;}#sk-container-id-5 div.sk-serial::before {content: \"\";position: absolute;border-left: 1px solid gray;box-sizing: border-box;top: 0;bottom: 0;left: 50%;z-index: 0;}#sk-container-id-5 div.sk-serial {display: flex;flex-direction: column;align-items: center;background-color: white;padding-right: 0.2em;padding-left: 0.2em;position: relative;}#sk-container-id-5 div.sk-item {position: relative;z-index: 1;}#sk-container-id-5 div.sk-parallel {display: flex;align-items: stretch;justify-content: center;background-color: white;position: relative;}#sk-container-id-5 div.sk-item::before, #sk-container-id-5 div.sk-parallel-item::before {content: \"\";position: absolute;border-left: 1px solid gray;box-sizing: border-box;top: 0;bottom: 0;left: 50%;z-index: -1;}#sk-container-id-5 div.sk-parallel-item {display: flex;flex-direction: column;z-index: 1;position: relative;background-color: white;}#sk-container-id-5 div.sk-parallel-item:first-child::after {align-self: flex-end;width: 50%;}#sk-container-id-5 div.sk-parallel-item:last-child::after {align-self: flex-start;width: 50%;}#sk-container-id-5 div.sk-parallel-item:only-child::after {width: 0;}#sk-container-id-5 div.sk-dashed-wrapped {border: 1px dashed gray;margin: 0 0.4em 0.5em 0.4em;box-sizing: border-box;padding-bottom: 0.4em;background-color: white;}#sk-container-id-5 div.sk-label label {font-family: monospace;font-weight: bold;display: inline-block;line-height: 1.2em;}#sk-container-id-5 div.sk-label-container {text-align: center;}#sk-container-id-5 div.sk-container {/* jupyter's `normalize.less` sets `[hidden] { display: none; }` but bootstrap.min.css set `[hidden] { display: none !important; }` so we also need the `!important` here to be able to override the default hidden behavior on the sphinx rendered scikit-learn.org. See: https://github.com/scikit-learn/scikit-learn/issues/21755 */display: inline-block !important;position: relative;}#sk-container-id-5 div.sk-text-repr-fallback {display: none;}</style><div id=\"sk-container-id-5\" class=\"sk-top-container\"><div class=\"sk-text-repr-fallback\"><pre>DecisionTreeClassifier()</pre><b>In a Jupyter environment, please rerun this cell to show the HTML representation or trust the notebook. <br />On GitHub, the HTML representation is unable to render, please try loading this page with nbviewer.org.</b></div><div class=\"sk-container\" hidden><div class=\"sk-item\"><div class=\"sk-estimator sk-toggleable\"><input class=\"sk-toggleable__control sk-hidden--visually\" id=\"sk-estimator-id-5\" type=\"checkbox\" checked><label for=\"sk-estimator-id-5\" class=\"sk-toggleable__label sk-toggleable__label-arrow\">DecisionTreeClassifier</label><div class=\"sk-toggleable__content\"><pre>DecisionTreeClassifier()</pre></div></div></div></div></div>"
      ],
      "text/plain": [
       "DecisionTreeClassifier()"
      ]
     },
     "execution_count": 626,
     "metadata": {},
     "output_type": "execute_result"
    }
   ],
   "source": [
    "model"
   ]
  },
  {
   "cell_type": "code",
   "execution_count": 627,
   "metadata": {},
   "outputs": [
    {
     "data": {
      "text/plain": [
       "['/Users/avntrr/Documents/Pacmann/model.pkl']"
      ]
     },
     "execution_count": 627,
     "metadata": {},
     "output_type": "execute_result"
    }
   ],
   "source": [
    "joblib.dump(model, \"/Users/avntrr/Documents/Pacmann/model.pkl\")"
   ]
  },
  {
   "cell_type": "markdown",
   "metadata": {},
   "source": [
    "15.2.5. Hyperparameter Turning"
   ]
  },
  {
   "cell_type": "code",
   "execution_count": 628,
   "metadata": {},
   "outputs": [],
   "source": [
    "dist_params_knn = {\n",
    "    \"algorithm\" : [\"ball_tree\", \"kd_tree\", \"brute\"],\n",
    "    \"n_neighbors\" : [2, 3, 4, 5, 6, 10, 15, 20, 25],\n",
    "    \"leaf_size\" : [2, 3, 4, 5, 6, 10, 15, 20, 25],\n",
    "}"
   ]
  },
  {
   "cell_type": "code",
   "execution_count": 629,
   "metadata": {},
   "outputs": [],
   "source": [
    "knn_enh = GridSearchCV(KNeighborsClassifier(), dist_params_knn, n_jobs = -1, verbose = 420)"
   ]
  },
  {
   "cell_type": "code",
   "execution_count": 630,
   "metadata": {},
   "outputs": [],
   "source": [
    "list_of_model[\"undersampling\"].append({\"model_name\": knn_enh.__class__.__name__ + \"-\" + knn_enh.estimator.__class__.__name__, \"model_object\": copy.deepcopy(knn_enh), \"model_uid\": \"\"})\n",
    "list_of_model[\"oversampling\"].append({\"model_name\": knn_enh.__class__.__name__ + \"-\" + knn_enh.estimator.__class__.__name__, \"model_object\": copy.deepcopy(knn_enh), \"model_uid\": \"\"})\n",
    "list_of_model[\"smote\"].append({\"model_name\": knn_enh.__class__.__name__ + \"-\" + knn_enh.estimator.__class__.__name__, \"model_object\": copy.deepcopy(knn_enh), \"model_uid\": \"\"})"
   ]
  },
  {
   "cell_type": "code",
   "execution_count": 633,
   "metadata": {},
   "outputs": [
    {
     "name": "stderr",
     "output_type": "stream",
     "text": [
      "  0%|          | 0/1 [00:00<?, ?it/s]"
     ]
    },
    {
     "name": "stdout",
     "output_type": "stream",
     "text": [
      "Fitting 5 folds for each of 243 candidates, totalling 1215 fits\n",
      "[CV 1/5; 1/243] START algorithm=ball_tree, leaf_size=2, n_neighbors=2...........\n",
      "[CV 2/5; 1/243] START algorithm=ball_tree, leaf_size=2, n_neighbors=2...........\n",
      "[CV 1/5; 1/243] END algorithm=ball_tree, leaf_size=2, n_neighbors=2;, score=0.958 total time=   0.0s\n",
      "[CV 3/5; 1/243] START algorithm=ball_tree, leaf_size=2, n_neighbors=2...........\n",
      "[CV 5/5; 1/243] START algorithm=ball_tree, leaf_size=2, n_neighbors=2...........\n",
      "[CV 2/5; 1/243] END algorithm=ball_tree, leaf_size=2, n_neighbors=2;, score=0.875 total time=   0.0s\n",
      "[CV 2/5; 2/243] START algorithm=ball_tree, leaf_size=2, n_neighbors=3...........\n",
      "[CV 5/5; 1/243] END algorithm=ball_tree, leaf_size=2, n_neighbors=2;, score=0.917 total time=   0.0s\n",
      "[CV 4/5; 1/243] START algorithm=ball_tree, leaf_size=2, n_neighbors=2...........\n",
      "[CV 3/5; 2/243] START algorithm=ball_tree, leaf_size=2, n_neighbors=3...........\n",
      "[CV 2/5; 2/243] END algorithm=ball_tree, leaf_size=2, n_neighbors=3;, score=0.917 total time=   0.0s\n",
      "[CV 5/5; 2/243] START algorithm=ball_tree, leaf_size=2, n_neighbors=3...........\n",
      "[CV 1/5; 2/243] START algorithm=ball_tree, leaf_size=2, n_neighbors=3...........\n",
      "[CV 3/5; 2/243] END algorithm=ball_tree, leaf_size=2, n_neighbors=3;, score=1.000 total time=   0.0s\n",
      "[CV 1/5; 3/243] START algorithm=ball_tree, leaf_size=2, n_neighbors=4...........\n",
      "[CV 5/5; 2/243] END algorithm=ball_tree, leaf_size=2, n_neighbors=3;, score=0.917 total time=   0.0s\n",
      "[CV 2/5; 3/243] START algorithm=ball_tree, leaf_size=2, n_neighbors=4...........\n",
      "[CV 3/5; 1/243] END algorithm=ball_tree, leaf_size=2, n_neighbors=2;, score=0.958 total time=   0.0s\n",
      "[CV 4/5; 2/243] START algorithm=ball_tree, leaf_size=2, n_neighbors=3...........\n",
      "[CV 3/5; 3/243] START algorithm=ball_tree, leaf_size=2, n_neighbors=4...........\n",
      "[CV 4/5; 1/243] END algorithm=ball_tree, leaf_size=2, n_neighbors=2;, score=0.917 total time=   0.0s\n",
      "[CV 1/5; 3/243] END algorithm=ball_tree, leaf_size=2, n_neighbors=4;, score=0.958 total time=   0.0s\n",
      "[CV 5/5; 3/243] START algorithm=ball_tree, leaf_size=2, n_neighbors=4...........\n",
      "[CV 4/5; 3/243] START algorithm=ball_tree, leaf_size=2, n_neighbors=4...........\n",
      "[CV 1/5; 2/243] END algorithm=ball_tree, leaf_size=2, n_neighbors=3;, score=0.958 total time=   0.0s\n",
      "[CV 4/5; 2/243] END algorithm=ball_tree, leaf_size=2, n_neighbors=3;, score=0.958 total time=   0.0s\n",
      "[CV 1/5; 4/243] START algorithm=ball_tree, leaf_size=2, n_neighbors=5...........\n",
      "[CV 2/5; 4/243] START algorithm=ball_tree, leaf_size=2, n_neighbors=5...........\n",
      "[CV 3/5; 3/243] END algorithm=ball_tree, leaf_size=2, n_neighbors=4;, score=1.000 total time=   0.0s\n",
      "[CV 4/5; 4/243] START algorithm=ball_tree, leaf_size=2, n_neighbors=5...........\n",
      "[CV 1/5; 4/243] END algorithm=ball_tree, leaf_size=2, n_neighbors=5;, score=0.958 total time=   0.0s\n",
      "[CV 3/5; 5/243] START algorithm=ball_tree, leaf_size=2, n_neighbors=6...........\n",
      "[CV 4/5; 3/243] END algorithm=ball_tree, leaf_size=2, n_neighbors=4;, score=0.958 total time=   0.0s\n",
      "[CV 5/5; 5/243] START algorithm=ball_tree, leaf_size=2, n_neighbors=6...........\n",
      "[CV 4/5; 4/243] END algorithm=ball_tree, leaf_size=2, n_neighbors=5;, score=1.000 total time=   0.0s\n",
      "[CV 5/5; 4/243] START algorithm=ball_tree, leaf_size=2, n_neighbors=5...........\n",
      "[CV 1/5; 5/243] START algorithm=ball_tree, leaf_size=2, n_neighbors=6...........\n",
      "[CV 2/5; 3/243] END algorithm=ball_tree, leaf_size=2, n_neighbors=4;, score=0.917 total time=   0.0s\n",
      "[CV 3/5; 5/243] END algorithm=ball_tree, leaf_size=2, n_neighbors=6;, score=1.000 total time=   0.0s\n",
      "[CV 4/5; 5/243] START algorithm=ball_tree, leaf_size=2, n_neighbors=6...........\n",
      "[CV 2/5; 4/243] END algorithm=ball_tree, leaf_size=2, n_neighbors=5;, score=0.958 total time=   0.0s\n",
      "[CV 3/5; 4/243] START algorithm=ball_tree, leaf_size=2, n_neighbors=5...........\n",
      "[CV 5/5; 5/243] END algorithm=ball_tree, leaf_size=2, n_neighbors=6;, score=0.917 total time=   0.0s\n",
      "[CV 1/5; 6/243] START algorithm=ball_tree, leaf_size=2, n_neighbors=10..........\n",
      "[CV 3/5; 4/243] END algorithm=ball_tree, leaf_size=2, n_neighbors=5;, score=1.000 total time=   0.0s\n",
      "[CV 2/5; 6/243] START algorithm=ball_tree, leaf_size=2, n_neighbors=10..........\n",
      "[CV 4/5; 6/243] START algorithm=ball_tree, leaf_size=2, n_neighbors=10..........\n",
      "[CV 1/5; 6/243] END algorithm=ball_tree, leaf_size=2, n_neighbors=10;, score=0.917 total time=   0.0s\n",
      "[CV 1/5; 7/243] START algorithm=ball_tree, leaf_size=2, n_neighbors=15..........\n",
      "[CV 5/5; 3/243] END algorithm=ball_tree, leaf_size=2, n_neighbors=4;, score=0.875 total time=   0.0s\n",
      "[CV 4/5; 6/243] END algorithm=ball_tree, leaf_size=2, n_neighbors=10;, score=1.000 total time=   0.0s\n",
      "[CV 5/5; 6/243] START algorithm=ball_tree, leaf_size=2, n_neighbors=10..........\n",
      "[CV 1/5; 7/243] END algorithm=ball_tree, leaf_size=2, n_neighbors=15;, score=0.917 total time=   0.0s\n",
      "[CV 2/5; 7/243] START algorithm=ball_tree, leaf_size=2, n_neighbors=15..........\n",
      "[CV 5/5; 7/243] START algorithm=ball_tree, leaf_size=2, n_neighbors=15..........\n",
      "[CV 5/5; 6/243] END algorithm=ball_tree, leaf_size=2, n_neighbors=10;, score=0.917 total time=   0.0s\n",
      "[CV 2/5; 8/243] START algorithm=ball_tree, leaf_size=2, n_neighbors=20..........\n",
      "[CV 3/5; 7/243] START algorithm=ball_tree, leaf_size=2, n_neighbors=15..........\n",
      "[CV 1/5; 5/243] END algorithm=ball_tree, leaf_size=2, n_neighbors=6;, score=0.958 total time=   0.0s\n",
      "[CV 2/5; 5/243] START algorithm=ball_tree, leaf_size=2, n_neighbors=6...........\n",
      "[CV 5/5; 7/243] END algorithm=ball_tree, leaf_size=2, n_neighbors=15;, score=0.917 total time=   0.0s\n",
      "[CV 1/5; 8/243] START algorithm=ball_tree, leaf_size=2, n_neighbors=20..........\n",
      "[CV 5/5; 4/243] END algorithm=ball_tree, leaf_size=2, n_neighbors=5;, score=0.917 total time=   0.0s\n",
      "[CV 4/5; 8/243] START algorithm=ball_tree, leaf_size=2, n_neighbors=20..........\n",
      "[CV 2/5; 7/243] END algorithm=ball_tree, leaf_size=2, n_neighbors=15;, score=0.958 total time=   0.0s\n",
      "[CV 2/5; 8/243] END algorithm=ball_tree, leaf_size=2, n_neighbors=20;, score=0.958 total time=   0.0s\n",
      "[CV 3/5; 8/243] START algorithm=ball_tree, leaf_size=2, n_neighbors=20..........\n",
      "[CV 4/5; 5/243] END algorithm=ball_tree, leaf_size=2, n_neighbors=6;, score=1.000 total time=   0.0s\n",
      "[CV 4/5; 8/243] END algorithm=ball_tree, leaf_size=2, n_neighbors=20;, score=0.958 total time=   0.0s\n",
      "[CV 5/5; 8/243] START algorithm=ball_tree, leaf_size=2, n_neighbors=20..........\n",
      "[CV 1/5; 9/243] START algorithm=ball_tree, leaf_size=2, n_neighbors=25..........\n",
      "[CV 3/5; 9/243] START algorithm=ball_tree, leaf_size=2, n_neighbors=25..........\n",
      "[CV 2/5; 6/243] END algorithm=ball_tree, leaf_size=2, n_neighbors=10;, score=1.000 total time=   0.0s\n",
      "[CV 2/5; 5/243] END algorithm=ball_tree, leaf_size=2, n_neighbors=6;, score=1.000 total time=   0.0s\n",
      "[CV 3/5; 6/243] START algorithm=ball_tree, leaf_size=2, n_neighbors=10..........\n",
      "[CV 5/5; 9/243] START algorithm=ball_tree, leaf_size=2, n_neighbors=25..........\n",
      "[CV 3/5; 7/243] END algorithm=ball_tree, leaf_size=2, n_neighbors=15;, score=1.000 total time=   0.0s\n",
      "[CV 4/5; 7/243] START algorithm=ball_tree, leaf_size=2, n_neighbors=15..........\n",
      "[CV 3/5; 9/243] END algorithm=ball_tree, leaf_size=2, n_neighbors=25;, score=1.000 total time=   0.0s\n",
      "[CV 4/5; 9/243] START algorithm=ball_tree, leaf_size=2, n_neighbors=25..........\n",
      "[CV 3/5; 6/243] END algorithm=ball_tree, leaf_size=2, n_neighbors=10;, score=1.000 total time=   0.0s\n",
      "[CV 2/5; 10/243] START algorithm=ball_tree, leaf_size=3, n_neighbors=2..........\n",
      "[CV 5/5; 9/243] END algorithm=ball_tree, leaf_size=2, n_neighbors=25;, score=0.875 total time=   0.0s\n",
      "[CV 1/5; 10/243] START algorithm=ball_tree, leaf_size=3, n_neighbors=2..........\n",
      "[CV 3/5; 8/243] END algorithm=ball_tree, leaf_size=2, n_neighbors=20;, score=1.000 total time=   0.0s\n",
      "[CV 4/5; 7/243] END algorithm=ball_tree, leaf_size=2, n_neighbors=15;, score=0.958 total time=   0.0s\n",
      "[CV 4/5; 10/243] START algorithm=ball_tree, leaf_size=3, n_neighbors=2..........\n",
      "[CV 3/5; 11/243] START algorithm=ball_tree, leaf_size=3, n_neighbors=3..........\n",
      "[CV 4/5; 9/243] END algorithm=ball_tree, leaf_size=2, n_neighbors=25;, score=0.958 total time=   0.0s\n",
      "[CV 1/5; 10/243] END algorithm=ball_tree, leaf_size=3, n_neighbors=2;, score=0.958 total time=   0.0s\n",
      "[CV 2/5; 12/243] START algorithm=ball_tree, leaf_size=3, n_neighbors=4..........\n",
      "[CV 1/5; 13/243] START algorithm=ball_tree, leaf_size=3, n_neighbors=5..........\n",
      "[CV 3/5; 11/243] END algorithm=ball_tree, leaf_size=3, n_neighbors=3;, score=1.000 total time=   0.0s\n",
      "[CV 4/5; 11/243] START algorithm=ball_tree, leaf_size=3, n_neighbors=3..........\n",
      "[CV 1/5; 13/243] END algorithm=ball_tree, leaf_size=3, n_neighbors=5;, score=0.958 total time=   0.0s\n",
      "[CV 2/5; 13/243] START algorithm=ball_tree, leaf_size=3, n_neighbors=5..........\n",
      "[CV 5/5; 8/243] END algorithm=ball_tree, leaf_size=2, n_neighbors=20;, score=0.917 total time=   0.0s\n",
      "[CV 4/5; 11/243] END algorithm=ball_tree, leaf_size=3, n_neighbors=3;, score=0.958 total time=   0.0s\n",
      "[CV 5/5; 11/243] START algorithm=ball_tree, leaf_size=3, n_neighbors=3..........\n",
      "[CV 1/5; 8/243] END algorithm=ball_tree, leaf_size=2, n_neighbors=20;, score=0.875 total time=   0.0s[CV 5/5; 13/243] START algorithm=ball_tree, leaf_size=3, n_neighbors=5..........\n",
      "\n",
      "[CV 2/5; 13/243] END algorithm=ball_tree, leaf_size=3, n_neighbors=5;, score=0.958 total time=   0.0s\n",
      "[CV 3/5; 13/243] START algorithm=ball_tree, leaf_size=3, n_neighbors=5..........\n",
      "[CV 5/5; 11/243] END algorithm=ball_tree, leaf_size=3, n_neighbors=3;, score=0.917 total time=   0.0s\n",
      "[CV 1/5; 12/243] START algorithm=ball_tree, leaf_size=3, n_neighbors=4..........\n",
      "[CV 4/5; 14/243] START algorithm=ball_tree, leaf_size=3, n_neighbors=6..........\n",
      "[CV 1/5; 9/243] END algorithm=ball_tree, leaf_size=2, n_neighbors=25;, score=0.875 total time=   0.0s\n",
      "[CV 2/5; 9/243] START algorithm=ball_tree, leaf_size=2, n_neighbors=25..........\n",
      "[CV 2/5; 12/243] END algorithm=ball_tree, leaf_size=3, n_neighbors=4;, score=0.917 total time=   0.0s\n",
      "[CV 3/5; 12/243] START algorithm=ball_tree, leaf_size=3, n_neighbors=4..........\n",
      "[CV 5/5; 13/243] END algorithm=ball_tree, leaf_size=3, n_neighbors=5;, score=0.917 total time=   0.0s\n",
      "[CV 1/5; 14/243] START algorithm=ball_tree, leaf_size=3, n_neighbors=6..........\n",
      "[CV 1/5; 12/243] END algorithm=ball_tree, leaf_size=3, n_neighbors=4;, score=0.958 total time=   0.0s\n",
      "[CV 3/5; 15/243] START algorithm=ball_tree, leaf_size=3, n_neighbors=10.........\n",
      "[CV 4/5; 14/243] END algorithm=ball_tree, leaf_size=3, n_neighbors=6;, score=1.000 total time=   0.0s\n",
      "[CV 5/5; 14/243] START algorithm=ball_tree, leaf_size=3, n_neighbors=6..........\n",
      "[CV 4/5; 10/243] END algorithm=ball_tree, leaf_size=3, n_neighbors=2;, score=0.917 total time=   0.0s\n",
      "[CV 5/5; 10/243] START algorithm=ball_tree, leaf_size=3, n_neighbors=2..........\n",
      "[CV 3/5; 12/243] END algorithm=ball_tree, leaf_size=3, n_neighbors=4;, score=1.000 total time=   0.0s\n",
      "[CV 1/5; 14/243] END algorithm=ball_tree, leaf_size=3, n_neighbors=6;, score=0.958 total time=   0.0s[CV 4/5; 12/243] START algorithm=ball_tree, leaf_size=3, n_neighbors=4..........\n",
      "\n",
      "[CV 2/5; 14/243] START algorithm=ball_tree, leaf_size=3, n_neighbors=6..........\n",
      "[CV 3/5; 13/243] END algorithm=ball_tree, leaf_size=3, n_neighbors=5;, score=1.000 total time=   0.0s\n",
      "[CV 4/5; 13/243] START algorithm=ball_tree, leaf_size=3, n_neighbors=5..........\n",
      "[CV 2/5; 10/243] END algorithm=ball_tree, leaf_size=3, n_neighbors=2;, score=0.875 total time=   0.0s\n",
      "[CV 3/5; 10/243] START algorithm=ball_tree, leaf_size=3, n_neighbors=2..........\n",
      "[CV 3/5; 15/243] END algorithm=ball_tree, leaf_size=3, n_neighbors=10;, score=1.000 total time=   0.0s\n",
      "[CV 4/5; 15/243] START algorithm=ball_tree, leaf_size=3, n_neighbors=10.........\n",
      "[CV 5/5; 14/243] END algorithm=ball_tree, leaf_size=3, n_neighbors=6;, score=0.917 total time=   0.0s\n",
      "[CV 1/5; 15/243] START algorithm=ball_tree, leaf_size=3, n_neighbors=10.........\n",
      "[CV 2/5; 9/243] END algorithm=ball_tree, leaf_size=2, n_neighbors=25;, score=0.958 total time=   0.0s[CV 5/5; 10/243] END algorithm=ball_tree, leaf_size=3, n_neighbors=2;, score=0.917 total time=   0.0s\n",
      "\n",
      "[CV 1/5; 11/243] START algorithm=ball_tree, leaf_size=3, n_neighbors=3..........\n",
      "[CV 2/5; 16/243] START algorithm=ball_tree, leaf_size=3, n_neighbors=15.........\n",
      "[CV 4/5; 13/243] END algorithm=ball_tree, leaf_size=3, n_neighbors=5;, score=1.000 total time=   0.0s\n",
      "[CV 3/5; 10/243] END algorithm=ball_tree, leaf_size=3, n_neighbors=2;, score=0.958 total time=   0.0s\n",
      "[CV 4/5; 15/243] END algorithm=ball_tree, leaf_size=3, n_neighbors=10;, score=1.000 total time=   0.0s\n",
      "[CV 5/5; 15/243] START algorithm=ball_tree, leaf_size=3, n_neighbors=10.........\n",
      "[CV 2/5; 14/243] END algorithm=ball_tree, leaf_size=3, n_neighbors=6;, score=1.000 total time=   0.0s\n",
      "[CV 1/5; 17/243] START algorithm=ball_tree, leaf_size=3, n_neighbors=20.........\n",
      "[CV 3/5; 14/243] START algorithm=ball_tree, leaf_size=3, n_neighbors=6..........\n",
      "[CV 1/5; 15/243] END algorithm=ball_tree, leaf_size=3, n_neighbors=10;, score=0.917 total time=   0.0s\n",
      "[CV 2/5; 15/243] START algorithm=ball_tree, leaf_size=3, n_neighbors=10.........\n",
      "[CV 5/5; 17/243] START algorithm=ball_tree, leaf_size=3, n_neighbors=20.........\n",
      "[CV 1/5; 11/243] END algorithm=ball_tree, leaf_size=3, n_neighbors=3;, score=0.958 total time=   0.0s\n",
      "[CV 2/5; 11/243] START algorithm=ball_tree, leaf_size=3, n_neighbors=3..........\n",
      "[CV 5/5; 15/243] END algorithm=ball_tree, leaf_size=3, n_neighbors=10;, score=0.917 total time=   0.0s\n",
      "[CV 1/5; 16/243] START algorithm=ball_tree, leaf_size=3, n_neighbors=15.........\n",
      "[CV 1/5; 17/243] END algorithm=ball_tree, leaf_size=3, n_neighbors=20;, score=0.875 total time=   0.0s\n",
      "[CV 2/5; 17/243] START algorithm=ball_tree, leaf_size=3, n_neighbors=20.........\n",
      "[CV 5/5; 17/243] END algorithm=ball_tree, leaf_size=3, n_neighbors=20;, score=0.917 total time=   0.0s\n",
      "[CV 1/5; 18/243] START algorithm=ball_tree, leaf_size=3, n_neighbors=25.........\n",
      "[CV 2/5; 16/243] END algorithm=ball_tree, leaf_size=3, n_neighbors=15;, score=0.958 total time=   0.0s\n",
      "[CV 3/5; 16/243] START algorithm=ball_tree, leaf_size=3, n_neighbors=15.........\n",
      "[CV 2/5; 11/243] END algorithm=ball_tree, leaf_size=3, n_neighbors=3;, score=0.917 total time=   0.0s\n",
      "[CV 3/5; 14/243] END algorithm=ball_tree, leaf_size=3, n_neighbors=6;, score=1.000 total time=   0.0s\n",
      "[CV 1/5; 16/243] END algorithm=ball_tree, leaf_size=3, n_neighbors=15;, score=0.917 total time=   0.0s\n",
      "[CV 4/5; 18/243] START algorithm=ball_tree, leaf_size=3, n_neighbors=25.........\n",
      "[CV 3/5; 19/243] START algorithm=ball_tree, leaf_size=4, n_neighbors=2..........\n",
      "[CV 2/5; 20/243] START algorithm=ball_tree, leaf_size=4, n_neighbors=3..........\n",
      "[CV 4/5; 12/243] END algorithm=ball_tree, leaf_size=3, n_neighbors=4;, score=0.958 total time=   0.0s\n",
      "[CV 1/5; 18/243] END algorithm=ball_tree, leaf_size=3, n_neighbors=25;, score=0.875 total time=   0.0s\n",
      "[CV 5/5; 12/243] START algorithm=ball_tree, leaf_size=3, n_neighbors=4..........\n",
      "[CV 2/5; 18/243] START algorithm=ball_tree, leaf_size=3, n_neighbors=25.........\n",
      "[CV 2/5; 17/243] END algorithm=ball_tree, leaf_size=3, n_neighbors=20;, score=0.958 total time=   0.0s\n",
      "[CV 3/5; 17/243] START algorithm=ball_tree, leaf_size=3, n_neighbors=20.........\n",
      "[CV 3/5; 19/243] END algorithm=ball_tree, leaf_size=4, n_neighbors=2;, score=0.958 total time=   0.0s\n",
      "[CV 4/5; 19/243] START algorithm=ball_tree, leaf_size=4, n_neighbors=2..........\n",
      "[CV 2/5; 20/243] END algorithm=ball_tree, leaf_size=4, n_neighbors=3;, score=0.917 total time=   0.0s\n",
      "[CV 3/5; 20/243] START algorithm=ball_tree, leaf_size=4, n_neighbors=3..........\n",
      "[CV 2/5; 18/243] END algorithm=ball_tree, leaf_size=3, n_neighbors=25;, score=0.958 total time=   0.0s\n",
      "[CV 3/5; 18/243] START algorithm=ball_tree, leaf_size=3, n_neighbors=25.........\n",
      "[CV 5/5; 12/243] END algorithm=ball_tree, leaf_size=3, n_neighbors=4;, score=0.875 total time=   0.0s\n",
      "[CV 1/5; 21/243] START algorithm=ball_tree, leaf_size=4, n_neighbors=4..........\n",
      "[CV 4/5; 19/243] END algorithm=ball_tree, leaf_size=4, n_neighbors=2;, score=0.917 total time=   0.0s\n",
      "[CV 5/5; 19/243] START algorithm=ball_tree, leaf_size=4, n_neighbors=2..........\n",
      "[CV 3/5; 20/243] END algorithm=ball_tree, leaf_size=4, n_neighbors=3;, score=1.000 total time=   0.0s\n",
      "[CV 4/5; 20/243] START algorithm=ball_tree, leaf_size=4, n_neighbors=3..........\n",
      "[CV 3/5; 18/243] END algorithm=ball_tree, leaf_size=3, n_neighbors=25;, score=1.000 total time=   0.0s\n",
      "[CV 5/5; 21/243] START algorithm=ball_tree, leaf_size=4, n_neighbors=4..........\n",
      "[CV 2/5; 15/243] END algorithm=ball_tree, leaf_size=3, n_neighbors=10;, score=1.000 total time=   0.0s\n",
      "[CV 3/5; 16/243] END algorithm=ball_tree, leaf_size=3, n_neighbors=15;, score=1.000 total time=   0.0s[CV 4/5; 22/243] START algorithm=ball_tree, leaf_size=4, n_neighbors=5..........\n",
      "\n",
      "[CV 4/5; 16/243] START algorithm=ball_tree, leaf_size=3, n_neighbors=15.........\n",
      "[CV 4/5; 16/243] END algorithm=ball_tree, leaf_size=3, n_neighbors=15;, score=0.958 total time=   0.0s\n",
      "[CV 5/5; 16/243] START algorithm=ball_tree, leaf_size=3, n_neighbors=15.........\n",
      "[CV 4/5; 18/243] END algorithm=ball_tree, leaf_size=3, n_neighbors=25;, score=0.958 total time=   0.0s[CV 4/5; 22/243] END algorithm=ball_tree, leaf_size=4, n_neighbors=5;, score=1.000 total time=   0.0s\n",
      "\n",
      "[CV 5/5; 22/243] START algorithm=ball_tree, leaf_size=4, n_neighbors=5..........[CV 5/5; 18/243] START algorithm=ball_tree, leaf_size=3, n_neighbors=25.........\n",
      "\n",
      "[CV 5/5; 18/243] END algorithm=ball_tree, leaf_size=3, n_neighbors=25;, score=0.875 total time=   0.0s[CV 5/5; 22/243] END algorithm=ball_tree, leaf_size=4, n_neighbors=5;, score=0.917 total time=   0.0s\n",
      "\n",
      "[CV 1/5; 19/243] START algorithm=ball_tree, leaf_size=4, n_neighbors=2..........[CV 1/5; 23/243] START algorithm=ball_tree, leaf_size=4, n_neighbors=6..........\n",
      "[CV 1/5; 21/243] END algorithm=ball_tree, leaf_size=4, n_neighbors=4;, score=0.958 total time=   0.0s\n",
      "[CV 2/5; 21/243] START algorithm=ball_tree, leaf_size=4, n_neighbors=4..........\n",
      "[CV 3/5; 17/243] END algorithm=ball_tree, leaf_size=3, n_neighbors=20;, score=1.000 total time=   0.0s\n",
      "[CV 4/5; 17/243] START algorithm=ball_tree, leaf_size=3, n_neighbors=20.........\n",
      "\n",
      "[CV 2/5; 21/243] END algorithm=ball_tree, leaf_size=4, n_neighbors=4;, score=0.917 total time=   0.0s\n",
      "[CV 3/5; 21/243] START algorithm=ball_tree, leaf_size=4, n_neighbors=4..........\n",
      "[CV 5/5; 21/243] END algorithm=ball_tree, leaf_size=4, n_neighbors=4;, score=0.875 total time=   0.0s\n",
      "[CV 5/5; 16/243] END algorithm=ball_tree, leaf_size=3, n_neighbors=15;, score=0.917 total time=   0.0s[CV 1/5; 22/243] START algorithm=ball_tree, leaf_size=4, n_neighbors=5..........\n",
      "\n",
      "[CV 4/5; 17/243] END algorithm=ball_tree, leaf_size=3, n_neighbors=20;, score=0.958 total time=   0.0s\n",
      "[CV 3/5; 23/243] START algorithm=ball_tree, leaf_size=4, n_neighbors=6..........[CV 1/5; 25/243] START algorithm=ball_tree, leaf_size=4, n_neighbors=15.........\n",
      "[CV 1/5; 23/243] END algorithm=ball_tree, leaf_size=4, n_neighbors=6;, score=0.958 total time=   0.0s\n",
      "[CV 2/5; 23/243] START algorithm=ball_tree, leaf_size=4, n_neighbors=6..........\n",
      "\n",
      "[CV 1/5; 22/243] END algorithm=ball_tree, leaf_size=4, n_neighbors=5;, score=0.958 total time=   0.0s\n",
      "[CV 2/5; 22/243] START algorithm=ball_tree, leaf_size=4, n_neighbors=5..........\n",
      "[CV 5/5; 19/243] END algorithm=ball_tree, leaf_size=4, n_neighbors=2;, score=0.917 total time=   0.0s\n",
      "[CV 1/5; 20/243] START algorithm=ball_tree, leaf_size=4, n_neighbors=3..........\n",
      "[CV 4/5; 20/243] END algorithm=ball_tree, leaf_size=4, n_neighbors=3;, score=0.958 total time=   0.0s\n",
      "[CV 5/5; 20/243] START algorithm=ball_tree, leaf_size=4, n_neighbors=3..........\n",
      "[CV 3/5; 23/243] END algorithm=ball_tree, leaf_size=4, n_neighbors=6;, score=1.000 total time=   0.0s\n",
      "[CV 4/5; 23/243] START algorithm=ball_tree, leaf_size=4, n_neighbors=6..........\n",
      "[CV 2/5; 22/243] END algorithm=ball_tree, leaf_size=4, n_neighbors=5;, score=0.958 total time=   0.0s\n",
      "[CV 3/5; 22/243] START algorithm=ball_tree, leaf_size=4, n_neighbors=5..........\n",
      "[CV 5/5; 20/243] END algorithm=ball_tree, leaf_size=4, n_neighbors=3;, score=0.917 total time=   0.0s\n",
      "[CV 1/5; 25/243] END algorithm=ball_tree, leaf_size=4, n_neighbors=15;, score=0.917 total time=   0.0s\n",
      "[CV 2/5; 25/243] START algorithm=ball_tree, leaf_size=4, n_neighbors=15.........\n",
      "[CV 1/5; 20/243] END algorithm=ball_tree, leaf_size=4, n_neighbors=3;, score=0.958 total time=   0.0s\n",
      "[CV 3/5; 21/243] END algorithm=ball_tree, leaf_size=4, n_neighbors=4;, score=1.000 total time=   0.0s\n",
      "[CV 2/5; 28/243] START algorithm=ball_tree, leaf_size=5, n_neighbors=2..........\n",
      "[CV 4/5; 21/243] START algorithm=ball_tree, leaf_size=4, n_neighbors=4..........\n",
      "[CV 1/5; 19/243] END algorithm=ball_tree, leaf_size=4, n_neighbors=2;, score=0.958 total time=   0.0s\n",
      "[CV 2/5; 19/243] START algorithm=ball_tree, leaf_size=4, n_neighbors=2..........\n",
      "[CV 4/5; 23/243] END algorithm=ball_tree, leaf_size=4, n_neighbors=6;, score=1.000 total time=   0.0s\n",
      "[CV 5/5; 23/243] START algorithm=ball_tree, leaf_size=4, n_neighbors=6..........\n",
      "[CV 2/5; 25/243] END algorithm=ball_tree, leaf_size=4, n_neighbors=15;, score=0.958 total time=   0.0s\n",
      "[CV 3/5; 25/243] START algorithm=ball_tree, leaf_size=4, n_neighbors=15.........\n",
      "[CV 2/5; 28/243] END algorithm=ball_tree, leaf_size=5, n_neighbors=2;, score=0.875 total time=   0.0s\n",
      "[CV 5/5; 23/243] END algorithm=ball_tree, leaf_size=4, n_neighbors=6;, score=0.917 total time=   0.0s\n",
      "[CV 3/5; 28/243] START algorithm=ball_tree, leaf_size=5, n_neighbors=2..........\n",
      "[CV 1/5; 24/243] START algorithm=ball_tree, leaf_size=4, n_neighbors=10.........\n",
      "[CV 2/5; 23/243] END algorithm=ball_tree, leaf_size=4, n_neighbors=6;, score=1.000 total time=   0.0s\n",
      "[CV 2/5; 19/243] END algorithm=ball_tree, leaf_size=4, n_neighbors=2;, score=0.875 total time=   0.0s\n",
      "[CV 5/5; 29/243] START algorithm=ball_tree, leaf_size=5, n_neighbors=3..........\n",
      "[CV 3/5; 31/243] START algorithm=ball_tree, leaf_size=5, n_neighbors=5..........\n",
      "[CV 4/5; 26/243] START algorithm=ball_tree, leaf_size=4, n_neighbors=20.........\n",
      "[CV 3/5; 28/243] END algorithm=ball_tree, leaf_size=5, n_neighbors=2;, score=0.958 total time=   0.0s\n",
      "[CV 4/5; 28/243] START algorithm=ball_tree, leaf_size=5, n_neighbors=2..........\n",
      "[CV 4/5; 21/243] END algorithm=ball_tree, leaf_size=4, n_neighbors=4;, score=0.958 total time=   0.0s\n",
      "[CV 3/5; 31/243] END algorithm=ball_tree, leaf_size=5, n_neighbors=5;, score=1.000 total time=   0.0s\n",
      "[CV 5/5; 29/243] END algorithm=ball_tree, leaf_size=5, n_neighbors=3;, score=0.917 total time=   0.0s\n",
      "[CV 1/5; 30/243] START algorithm=ball_tree, leaf_size=5, n_neighbors=4..........\n",
      "[CV 1/5; 33/243] START algorithm=ball_tree, leaf_size=5, n_neighbors=10.........\n",
      "[CV 4/5; 31/243] START algorithm=ball_tree, leaf_size=5, n_neighbors=5..........\n",
      "[CV 4/5; 26/243] END algorithm=ball_tree, leaf_size=4, n_neighbors=20;, score=0.958 total time=   0.0s\n",
      "[CV 5/5; 26/243] START algorithm=ball_tree, leaf_size=4, n_neighbors=20.........\n",
      "[CV 3/5; 22/243] END algorithm=ball_tree, leaf_size=4, n_neighbors=5;, score=1.000 total time=   0.0s\n",
      "[CV 1/5; 33/243] END algorithm=ball_tree, leaf_size=5, n_neighbors=10;, score=0.917 total time=   0.0s\n",
      "[CV 4/5; 34/243] START algorithm=ball_tree, leaf_size=5, n_neighbors=15.........\n",
      "[CV 2/5; 33/243] START algorithm=ball_tree, leaf_size=5, n_neighbors=10.........\n",
      "[CV 4/5; 31/243] END algorithm=ball_tree, leaf_size=5, n_neighbors=5;, score=1.000 total time=   0.0s\n",
      "[CV 5/5; 31/243] START algorithm=ball_tree, leaf_size=5, n_neighbors=5..........\n",
      "[CV 1/5; 24/243] END algorithm=ball_tree, leaf_size=4, n_neighbors=10;, score=0.917 total time=   0.0s\n",
      "[CV 2/5; 24/243] START algorithm=ball_tree, leaf_size=4, n_neighbors=10.........\n",
      "[CV 2/5; 33/243] END algorithm=ball_tree, leaf_size=5, n_neighbors=10;, score=1.000 total time=   0.0s\n",
      "[CV 3/5; 33/243] START algorithm=ball_tree, leaf_size=5, n_neighbors=10.........\n",
      "[CV 3/5; 25/243] END algorithm=ball_tree, leaf_size=4, n_neighbors=15;, score=1.000 total time=   0.0s\n",
      "[CV 4/5; 34/243] END algorithm=ball_tree, leaf_size=5, n_neighbors=15;, score=0.958 total time=   0.0s\n",
      "[CV 4/5; 25/243] START algorithm=ball_tree, leaf_size=4, n_neighbors=15.........\n",
      "[CV 5/5; 34/243] START algorithm=ball_tree, leaf_size=5, n_neighbors=15.........\n",
      "[CV 5/5; 31/243] END algorithm=ball_tree, leaf_size=5, n_neighbors=5;, score=0.917 total time=   0.0s\n",
      "[CV 4/5; 28/243] END algorithm=ball_tree, leaf_size=5, n_neighbors=2;, score=0.917 total time=   0.0s\n",
      "[CV 1/5; 32/243] START algorithm=ball_tree, leaf_size=5, n_neighbors=6..........\n",
      "[CV 5/5; 28/243] START algorithm=ball_tree, leaf_size=5, n_neighbors=2..........\n",
      "[CV 3/5; 33/243] END algorithm=ball_tree, leaf_size=5, n_neighbors=10;, score=1.000 total time=   0.0s\n",
      "[CV 4/5; 33/243] START algorithm=ball_tree, leaf_size=5, n_neighbors=10.........\n",
      "[CV 2/5; 24/243] END algorithm=ball_tree, leaf_size=4, n_neighbors=10;, score=1.000 total time=   0.0s\n",
      "[CV 3/5; 24/243] START algorithm=ball_tree, leaf_size=4, n_neighbors=10.........\n",
      "[CV 1/5; 30/243] END algorithm=ball_tree, leaf_size=5, n_neighbors=4;, score=0.958 total time=   0.0s\n",
      "[CV 2/5; 30/243] START algorithm=ball_tree, leaf_size=5, n_neighbors=4..........\n",
      "[CV 4/5; 25/243] END algorithm=ball_tree, leaf_size=4, n_neighbors=15;, score=0.958 total time=   0.0s\n",
      "[CV 5/5; 25/243] START algorithm=ball_tree, leaf_size=4, n_neighbors=15.........\n",
      "[CV 1/5; 32/243] END algorithm=ball_tree, leaf_size=5, n_neighbors=6;, score=0.958 total time=   0.0s\n",
      "[CV 2/5; 32/243] START algorithm=ball_tree, leaf_size=5, n_neighbors=6..........\n",
      "[CV 5/5; 26/243] END algorithm=ball_tree, leaf_size=4, n_neighbors=20;, score=0.917 total time=   0.0s\n",
      "[CV 1/5; 27/243] START algorithm=ball_tree, leaf_size=4, n_neighbors=25.........\n",
      "[CV 5/5; 28/243] END algorithm=ball_tree, leaf_size=5, n_neighbors=2;, score=0.917 total time=   0.0s\n",
      "[CV 1/5; 29/243] START algorithm=ball_tree, leaf_size=5, n_neighbors=3..........\n",
      "[CV 1/5; 27/243] END algorithm=ball_tree, leaf_size=4, n_neighbors=25;, score=0.875 total time=   0.0s\n",
      "[CV 2/5; 27/243] START algorithm=ball_tree, leaf_size=4, n_neighbors=25.........\n",
      "[CV 5/5; 25/243] END algorithm=ball_tree, leaf_size=4, n_neighbors=15;, score=0.917 total time=   0.0s\n",
      "[CV 1/5; 26/243] START algorithm=ball_tree, leaf_size=4, n_neighbors=20.........\n",
      "[CV 2/5; 30/243] END algorithm=ball_tree, leaf_size=5, n_neighbors=4;, score=0.917 total time=   0.0s\n",
      "[CV 3/5; 30/243] START algorithm=ball_tree, leaf_size=5, n_neighbors=4..........\n",
      "[CV 5/5; 34/243] END algorithm=ball_tree, leaf_size=5, n_neighbors=15;, score=0.917 total time=   0.0s\n",
      "[CV 1/5; 35/243] START algorithm=ball_tree, leaf_size=5, n_neighbors=20.........\n",
      "[CV 2/5; 27/243] END algorithm=ball_tree, leaf_size=4, n_neighbors=25;, score=0.958 total time=   0.0s\n",
      "[CV 3/5; 27/243] START algorithm=ball_tree, leaf_size=4, n_neighbors=25.........\n",
      "[CV 3/5; 24/243] END algorithm=ball_tree, leaf_size=4, n_neighbors=10;, score=1.000 total time=   0.0s\n",
      "[CV 4/5; 24/243] START algorithm=ball_tree, leaf_size=4, n_neighbors=10.........\n",
      "[CV 1/5; 35/243] END algorithm=ball_tree, leaf_size=5, n_neighbors=20;, score=0.875 total time=   0.0s\n",
      "[CV 2/5; 35/243] START algorithm=ball_tree, leaf_size=5, n_neighbors=20.........\n",
      "[CV 1/5; 26/243] END algorithm=ball_tree, leaf_size=4, n_neighbors=20;, score=0.875 total time=   0.0s\n",
      "[CV 2/5; 26/243] START algorithm=ball_tree, leaf_size=4, n_neighbors=20.........\n",
      "[CV 3/5; 27/243] END algorithm=ball_tree, leaf_size=4, n_neighbors=25;, score=1.000 total time=   0.0s\n",
      "[CV 4/5; 27/243] START algorithm=ball_tree, leaf_size=4, n_neighbors=25.........\n",
      "[CV 4/5; 24/243] END algorithm=ball_tree, leaf_size=4, n_neighbors=10;, score=1.000 total time=   0.0s\n",
      "[CV 5/5; 24/243] START algorithm=ball_tree, leaf_size=4, n_neighbors=10.........\n",
      "[CV 2/5; 35/243] END algorithm=ball_tree, leaf_size=5, n_neighbors=20;, score=0.958 total time=   0.0s\n",
      "[CV 3/5; 35/243] START algorithm=ball_tree, leaf_size=5, n_neighbors=20.........\n",
      "[CV 2/5; 26/243] END algorithm=ball_tree, leaf_size=4, n_neighbors=20;, score=0.958 total time=   0.0s\n",
      "[CV 3/5; 26/243] START algorithm=ball_tree, leaf_size=4, n_neighbors=20.........\n",
      "[CV 2/5; 32/243] END algorithm=ball_tree, leaf_size=5, n_neighbors=6;, score=1.000 total time=   0.0s\n",
      "[CV 3/5; 32/243] START algorithm=ball_tree, leaf_size=5, n_neighbors=6..........\n",
      "[CV 1/5; 29/243] END algorithm=ball_tree, leaf_size=5, n_neighbors=3;, score=0.958 total time=   0.0s\n",
      "[CV 2/5; 29/243] START algorithm=ball_tree, leaf_size=5, n_neighbors=3..........\n",
      "[CV 3/5; 30/243] END algorithm=ball_tree, leaf_size=5, n_neighbors=4;, score=1.000 total time=   0.0s\n",
      "[CV 4/5; 30/243] START algorithm=ball_tree, leaf_size=5, n_neighbors=4..........\n",
      "[CV 3/5; 35/243] END algorithm=ball_tree, leaf_size=5, n_neighbors=20;, score=1.000 total time=   0.0s\n",
      "[CV 4/5; 35/243] START algorithm=ball_tree, leaf_size=5, n_neighbors=20.........\n",
      "[CV 5/5; 24/243] END algorithm=ball_tree, leaf_size=4, n_neighbors=10;, score=0.917 total time=   0.0s\n",
      "[CV 2/5; 36/243] START algorithm=ball_tree, leaf_size=5, n_neighbors=25.........\n",
      "[CV 3/5; 32/243] END algorithm=ball_tree, leaf_size=5, n_neighbors=6;, score=1.000 total time=   0.0s\n",
      "[CV 4/5; 32/243] START algorithm=ball_tree, leaf_size=5, n_neighbors=6..........\n",
      "[CV 2/5; 29/243] END algorithm=ball_tree, leaf_size=5, n_neighbors=3;, score=0.917 total time=   0.0s\n",
      "[CV 3/5; 29/243] START algorithm=ball_tree, leaf_size=5, n_neighbors=3..........\n",
      "[CV 4/5; 33/243] END algorithm=ball_tree, leaf_size=5, n_neighbors=10;, score=1.000 total time=   0.0s\n",
      "[CV 5/5; 33/243] START algorithm=ball_tree, leaf_size=5, n_neighbors=10.........\n",
      "[CV 4/5; 27/243] END algorithm=ball_tree, leaf_size=4, n_neighbors=25;, score=0.958 total time=   0.0s\n",
      "[CV 5/5; 27/243] START algorithm=ball_tree, leaf_size=4, n_neighbors=25.........\n",
      "[CV 2/5; 36/243] END algorithm=ball_tree, leaf_size=5, n_neighbors=25;, score=0.958 total time=   0.0s\n",
      "[CV 3/5; 36/243] START algorithm=ball_tree, leaf_size=5, n_neighbors=25.........\n",
      "[CV 3/5; 26/243] END algorithm=ball_tree, leaf_size=4, n_neighbors=20;, score=1.000 total time=   0.0s\n",
      "[CV 5/5; 27/243] END algorithm=ball_tree, leaf_size=4, n_neighbors=25;, score=0.875 total time=   0.0s\n",
      "[CV 5/5; 37/243] START algorithm=ball_tree, leaf_size=6, n_neighbors=2..........\n",
      "[CV 3/5; 36/243] END algorithm=ball_tree, leaf_size=5, n_neighbors=25;, score=1.000 total time=   0.0s\n",
      "[CV 1/5; 28/243] START algorithm=ball_tree, leaf_size=5, n_neighbors=2..........\n",
      "[CV 4/5; 36/243] START algorithm=ball_tree, leaf_size=5, n_neighbors=25.........\n",
      "[CV 4/5; 30/243] END algorithm=ball_tree, leaf_size=5, n_neighbors=4;, score=0.958 total time=   0.0s\n",
      "[CV 5/5; 30/243] START algorithm=ball_tree, leaf_size=5, n_neighbors=4..........\n",
      "[CV 5/5; 33/243] END algorithm=ball_tree, leaf_size=5, n_neighbors=10;, score=0.917 total time=   0.0s\n",
      "[CV 1/5; 34/243] START algorithm=ball_tree, leaf_size=5, n_neighbors=15.........\n",
      "[CV 4/5; 35/243] END algorithm=ball_tree, leaf_size=5, n_neighbors=20;, score=0.958 total time=   0.0s\n",
      "[CV 5/5; 35/243] START algorithm=ball_tree, leaf_size=5, n_neighbors=20.........\n",
      "[CV 5/5; 37/243] END algorithm=ball_tree, leaf_size=6, n_neighbors=2;, score=0.917 total time=   0.0s\n",
      "[CV 1/5; 38/243] START algorithm=ball_tree, leaf_size=6, n_neighbors=3..........\n",
      "[CV 4/5; 32/243] END algorithm=ball_tree, leaf_size=5, n_neighbors=6;, score=1.000 total time=   0.0s\n",
      "[CV 5/5; 32/243] START algorithm=ball_tree, leaf_size=5, n_neighbors=6..........\n",
      "[CV 3/5; 29/243] END algorithm=ball_tree, leaf_size=5, n_neighbors=3;, score=1.000 total time=   0.0s\n",
      "[CV 4/5; 29/243] START algorithm=ball_tree, leaf_size=5, n_neighbors=3..........\n",
      "[CV 1/5; 34/243] END algorithm=ball_tree, leaf_size=5, n_neighbors=15;, score=0.917 total time=   0.0s\n",
      "[CV 2/5; 34/243] START algorithm=ball_tree, leaf_size=5, n_neighbors=15.........\n",
      "[CV 5/5; 30/243] END algorithm=ball_tree, leaf_size=5, n_neighbors=4;, score=0.875 total time=   0.0s\n",
      "[CV 1/5; 31/243] START algorithm=ball_tree, leaf_size=5, n_neighbors=5..........\n",
      "[CV 4/5; 29/243] END algorithm=ball_tree, leaf_size=5, n_neighbors=3;, score=0.958 total time=   0.0s\n",
      "[CV 5/5; 32/243] END algorithm=ball_tree, leaf_size=5, n_neighbors=6;, score=0.917 total time=   0.0s\n",
      "[CV 5/5; 35/243] END algorithm=ball_tree, leaf_size=5, n_neighbors=20;, score=0.917 total time=   0.0s\n",
      "[CV 1/5; 36/243] START algorithm=ball_tree, leaf_size=5, n_neighbors=25.........\n",
      "[CV 1/5; 28/243] END algorithm=ball_tree, leaf_size=5, n_neighbors=2;, score=0.958 total time=   0.0s\n",
      "[CV 2/5; 34/243] END algorithm=ball_tree, leaf_size=5, n_neighbors=15;, score=0.958 total time=   0.0s\n",
      "[CV 3/5; 34/243] START algorithm=ball_tree, leaf_size=5, n_neighbors=15.........\n",
      "[CV 1/5; 31/243] END algorithm=ball_tree, leaf_size=5, n_neighbors=5;, score=0.958 total time=   0.0s\n",
      "[CV 2/5; 31/243] START algorithm=ball_tree, leaf_size=5, n_neighbors=5..........\n",
      "[CV 1/5; 36/243] END algorithm=ball_tree, leaf_size=5, n_neighbors=25;, score=0.875 total time=   0.0s\n",
      "[CV 3/5; 34/243] END algorithm=ball_tree, leaf_size=5, n_neighbors=15;, score=1.000 total time=   0.0s\n",
      "[CV 2/5; 31/243] END algorithm=ball_tree, leaf_size=5, n_neighbors=5;, score=0.958 total time=   0.0s\n",
      "[CV 4/5; 36/243] END algorithm=ball_tree, leaf_size=5, n_neighbors=25;, score=0.958 total time=   0.0s[CV 3/5; 39/243] START algorithm=ball_tree, leaf_size=6, n_neighbors=4..........\n",
      "\n",
      "[CV 5/5; 36/243] START algorithm=ball_tree, leaf_size=5, n_neighbors=25.........\n",
      "[CV 1/5; 41/243] START algorithm=ball_tree, leaf_size=6, n_neighbors=6..........\n",
      "[CV 4/5; 42/243] START algorithm=ball_tree, leaf_size=6, n_neighbors=10.........\n",
      "[CV 2/5; 44/243] START algorithm=ball_tree, leaf_size=6, n_neighbors=20.........\n",
      "[CV 5/5; 45/243] START algorithm=ball_tree, leaf_size=6, n_neighbors=25.........\n",
      "[CV 1/5; 38/243] END algorithm=ball_tree, leaf_size=6, n_neighbors=3;, score=0.958 total time=   0.0s\n",
      "[CV 2/5; 38/243] START algorithm=ball_tree, leaf_size=6, n_neighbors=3..........\n",
      "[CV 1/5; 41/243] END algorithm=ball_tree, leaf_size=6, n_neighbors=6;, score=0.958 total time=   0.0s\n",
      "[CV 2/5; 41/243] START algorithm=ball_tree, leaf_size=6, n_neighbors=6..........\n",
      "[CV 3/5; 47/243] START algorithm=ball_tree, leaf_size=10, n_neighbors=3.........\n",
      "[CV 2/5; 44/243] END algorithm=ball_tree, leaf_size=6, n_neighbors=20;, score=0.958 total time=   0.0s\n",
      "[CV 3/5; 44/243] START algorithm=ball_tree, leaf_size=6, n_neighbors=20.........\n",
      "[CV 5/5; 45/243] END algorithm=ball_tree, leaf_size=6, n_neighbors=25;, score=0.875 total time=   0.0s\n",
      "[CV 1/5; 46/243] START algorithm=ball_tree, leaf_size=10, n_neighbors=2.........\n",
      "[CV 3/5; 39/243] END algorithm=ball_tree, leaf_size=6, n_neighbors=4;, score=1.000 total time=   0.0s\n",
      "[CV 4/5; 39/243] START algorithm=ball_tree, leaf_size=6, n_neighbors=4..........\n",
      "[CV 5/5; 36/243] END algorithm=ball_tree, leaf_size=5, n_neighbors=25;, score=0.875 total time=   0.0s\n",
      "[CV 1/5; 37/243] START algorithm=ball_tree, leaf_size=6, n_neighbors=2..........\n",
      "[CV 2/5; 41/243] END algorithm=ball_tree, leaf_size=6, n_neighbors=6;, score=1.000 total time=   0.0s\n",
      "[CV 3/5; 41/243] START algorithm=ball_tree, leaf_size=6, n_neighbors=6..........\n",
      "[CV 2/5; 38/243] END algorithm=ball_tree, leaf_size=6, n_neighbors=3;, score=0.917 total time=   0.0s\n",
      "[CV 3/5; 38/243] START algorithm=ball_tree, leaf_size=6, n_neighbors=3..........\n",
      "[CV 3/5; 47/243] END algorithm=ball_tree, leaf_size=10, n_neighbors=3;, score=1.000 total time=   0.0s\n",
      "[CV 4/5; 47/243] START algorithm=ball_tree, leaf_size=10, n_neighbors=3.........\n",
      "[CV 1/5; 46/243] END algorithm=ball_tree, leaf_size=10, n_neighbors=2;, score=0.958 total time=   0.0s\n",
      "[CV 2/5; 46/243] START algorithm=ball_tree, leaf_size=10, n_neighbors=2.........\n",
      "[CV 4/5; 39/243] END algorithm=ball_tree, leaf_size=6, n_neighbors=4;, score=0.958 total time=   0.0s\n",
      "[CV 5/5; 39/243] START algorithm=ball_tree, leaf_size=6, n_neighbors=4..........\n",
      "[CV 3/5; 38/243] END algorithm=ball_tree, leaf_size=6, n_neighbors=3;, score=1.000 total time=   0.0s\n",
      "[CV 4/5; 38/243] START algorithm=ball_tree, leaf_size=6, n_neighbors=3..........\n",
      "[CV 4/5; 42/243] END algorithm=ball_tree, leaf_size=6, n_neighbors=10;, score=1.000 total time=   0.0s\n",
      "[CV 5/5; 42/243] START algorithm=ball_tree, leaf_size=6, n_neighbors=10.........\n",
      "[CV 5/5; 42/243] END algorithm=ball_tree, leaf_size=6, n_neighbors=10;, score=0.917 total time=   0.0s\n",
      "[CV 1/5; 43/243] START algorithm=ball_tree, leaf_size=6, n_neighbors=15.........\n",
      "[CV 4/5; 47/243] END algorithm=ball_tree, leaf_size=10, n_neighbors=3;, score=0.958 total time=   0.0s\n",
      "[CV 5/5; 47/243] START algorithm=ball_tree, leaf_size=10, n_neighbors=3.........\n",
      "[CV 1/5; 43/243] END algorithm=ball_tree, leaf_size=6, n_neighbors=15;, score=0.917 total time=   0.0s\n",
      "[CV 2/5; 43/243] START algorithm=ball_tree, leaf_size=6, n_neighbors=15.........\n",
      "[CV 3/5; 41/243] END algorithm=ball_tree, leaf_size=6, n_neighbors=6;, score=1.000 total time=   0.0s\n",
      "[CV 4/5; 41/243] START algorithm=ball_tree, leaf_size=6, n_neighbors=6..........\n",
      "[CV 5/5; 47/243] END algorithm=ball_tree, leaf_size=10, n_neighbors=3;, score=0.917 total time=   0.0s\n",
      "[CV 1/5; 48/243] START algorithm=ball_tree, leaf_size=10, n_neighbors=4.........\n",
      "[CV 3/5; 44/243] END algorithm=ball_tree, leaf_size=6, n_neighbors=20;, score=1.000 total time=   0.0s\n",
      "[CV 2/5; 43/243] END algorithm=ball_tree, leaf_size=6, n_neighbors=15;, score=0.958 total time=   0.0s\n",
      "[CV 3/5; 43/243] START algorithm=ball_tree, leaf_size=6, n_neighbors=15.........\n",
      "[CV 5/5; 39/243] END algorithm=ball_tree, leaf_size=6, n_neighbors=4;, score=0.875 total time=   0.0s\n",
      "[CV 1/5; 40/243] START algorithm=ball_tree, leaf_size=6, n_neighbors=5..........\n",
      "[CV 4/5; 44/243] START algorithm=ball_tree, leaf_size=6, n_neighbors=20.........\n",
      "[CV 4/5; 38/243] END algorithm=ball_tree, leaf_size=6, n_neighbors=3;, score=0.958 total time=   0.0s\n",
      "[CV 1/5; 37/243] END algorithm=ball_tree, leaf_size=6, n_neighbors=2;, score=0.958 total time=   0.0s\n",
      "[CV 5/5; 38/243] START algorithm=ball_tree, leaf_size=6, n_neighbors=3..........\n",
      "[CV 2/5; 37/243] START algorithm=ball_tree, leaf_size=6, n_neighbors=2..........\n",
      "[CV 1/5; 40/243] END algorithm=ball_tree, leaf_size=6, n_neighbors=5;, score=0.958 total time=   0.0s\n",
      "[CV 2/5; 40/243] START algorithm=ball_tree, leaf_size=6, n_neighbors=5..........\n",
      "[CV 2/5; 46/243] END algorithm=ball_tree, leaf_size=10, n_neighbors=2;, score=0.875 total time=   0.0s\n",
      "[CV 4/5; 44/243] END algorithm=ball_tree, leaf_size=6, n_neighbors=20;, score=0.958 total time=   0.0s\n",
      "[CV 5/5; 44/243] START algorithm=ball_tree, leaf_size=6, n_neighbors=20.........\n",
      "[CV 4/5; 41/243] END algorithm=ball_tree, leaf_size=6, n_neighbors=6;, score=1.000 total time=   0.0s\n",
      "[CV 5/5; 41/243] START algorithm=ball_tree, leaf_size=6, n_neighbors=6..........\n",
      "[CV 1/5; 48/243] END algorithm=ball_tree, leaf_size=10, n_neighbors=4;, score=0.958 total time=   0.0s\n",
      "[CV 2/5; 48/243] START algorithm=ball_tree, leaf_size=10, n_neighbors=4.........\n",
      "[CV 3/5; 46/243] START algorithm=ball_tree, leaf_size=10, n_neighbors=2.........\n",
      "[CV 2/5; 40/243] END algorithm=ball_tree, leaf_size=6, n_neighbors=5;, score=0.958 total time=   0.0s\n",
      "[CV 3/5; 40/243] START algorithm=ball_tree, leaf_size=6, n_neighbors=5..........\n",
      "[CV 3/5; 43/243] END algorithm=ball_tree, leaf_size=6, n_neighbors=15;, score=1.000 total time=   0.0s\n",
      "[CV 4/5; 43/243] START algorithm=ball_tree, leaf_size=6, n_neighbors=15.........\n",
      "[CV 2/5; 48/243] END algorithm=ball_tree, leaf_size=10, n_neighbors=4;, score=0.917 total time=   0.0s\n",
      "[CV 3/5; 48/243] START algorithm=ball_tree, leaf_size=10, n_neighbors=4.........\n",
      "[CV 3/5; 46/243] END algorithm=ball_tree, leaf_size=10, n_neighbors=2;, score=0.958 total time=   0.0s\n",
      "[CV 4/5; 46/243] START algorithm=ball_tree, leaf_size=10, n_neighbors=2.........\n",
      "[CV 2/5; 37/243] END algorithm=ball_tree, leaf_size=6, n_neighbors=2;, score=0.875 total time=   0.0s\n",
      "[CV 3/5; 37/243] START algorithm=ball_tree, leaf_size=6, n_neighbors=2..........\n",
      "[CV 3/5; 40/243] END algorithm=ball_tree, leaf_size=6, n_neighbors=5;, score=1.000 total time=   0.0s\n",
      "[CV 4/5; 40/243] START algorithm=ball_tree, leaf_size=6, n_neighbors=5..........\n",
      "[CV 4/5; 43/243] END algorithm=ball_tree, leaf_size=6, n_neighbors=15;, score=0.958 total time=   0.0s\n",
      "[CV 5/5; 43/243] START algorithm=ball_tree, leaf_size=6, n_neighbors=15.........\n",
      "[CV 5/5; 41/243] END algorithm=ball_tree, leaf_size=6, n_neighbors=6;, score=0.917 total time=   0.0s\n",
      "[CV 1/5; 42/243] START algorithm=ball_tree, leaf_size=6, n_neighbors=10.........\n",
      "[CV 5/5; 44/243] END algorithm=ball_tree, leaf_size=6, n_neighbors=20;, score=0.917 total time=   0.0s\n",
      "[CV 1/5; 45/243] START algorithm=ball_tree, leaf_size=6, n_neighbors=25.........\n",
      "[CV 5/5; 38/243] END algorithm=ball_tree, leaf_size=6, n_neighbors=3;, score=0.917 total time=   0.0s\n",
      "[CV 1/5; 39/243] START algorithm=ball_tree, leaf_size=6, n_neighbors=4..........\n",
      "[CV 3/5; 37/243] END algorithm=ball_tree, leaf_size=6, n_neighbors=2;, score=0.958 total time=   0.0s\n",
      "[CV 4/5; 37/243] START algorithm=ball_tree, leaf_size=6, n_neighbors=2..........\n",
      "[CV 5/5; 43/243] END algorithm=ball_tree, leaf_size=6, n_neighbors=15;, score=0.917 total time=   0.0s\n",
      "[CV 1/5; 44/243] START algorithm=ball_tree, leaf_size=6, n_neighbors=20.........\n",
      "[CV 1/5; 45/243] END algorithm=ball_tree, leaf_size=6, n_neighbors=25;, score=0.875 total time=   0.0s\n",
      "[CV 2/5; 45/243] START algorithm=ball_tree, leaf_size=6, n_neighbors=25.........\n",
      "[CV 1/5; 39/243] END algorithm=ball_tree, leaf_size=6, n_neighbors=4;, score=0.958 total time=   0.0s\n",
      "[CV 2/5; 39/243] START algorithm=ball_tree, leaf_size=6, n_neighbors=4..........\n",
      "[CV 4/5; 37/243] END algorithm=ball_tree, leaf_size=6, n_neighbors=2;, score=0.917 total time=   0.0s\n",
      "[CV 2/5; 39/243] END algorithm=ball_tree, leaf_size=6, n_neighbors=4;, score=0.917 total time=   0.0s\n",
      "[CV 2/5; 45/243] END algorithm=ball_tree, leaf_size=6, n_neighbors=25;, score=0.958 total time=   0.0s\n",
      "[CV 3/5; 45/243] START algorithm=ball_tree, leaf_size=6, n_neighbors=25.........\n",
      "[CV 1/5; 42/243] END algorithm=ball_tree, leaf_size=6, n_neighbors=10;, score=0.917 total time=   0.0s\n",
      "[CV 2/5; 42/243] START algorithm=ball_tree, leaf_size=6, n_neighbors=10.........\n",
      "[CV 4/5; 40/243] END algorithm=ball_tree, leaf_size=6, n_neighbors=5;, score=1.000 total time=   0.0s\n",
      "[CV 5/5; 40/243] START algorithm=ball_tree, leaf_size=6, n_neighbors=5..........\n",
      "[CV 1/5; 49/243] START algorithm=ball_tree, leaf_size=10, n_neighbors=5.........\n",
      "[CV 3/5; 45/243] END algorithm=ball_tree, leaf_size=6, n_neighbors=25;, score=1.000 total time=   0.0s\n",
      "[CV 4/5; 45/243] START algorithm=ball_tree, leaf_size=6, n_neighbors=25.........\n",
      "[CV 2/5; 52/243] START algorithm=ball_tree, leaf_size=10, n_neighbors=15........\n",
      "[CV 2/5; 42/243] END algorithm=ball_tree, leaf_size=6, n_neighbors=10;, score=1.000 total time=   0.0s\n",
      "[CV 3/5; 42/243] START algorithm=ball_tree, leaf_size=6, n_neighbors=10.........\n",
      "[CV 5/5; 40/243] END algorithm=ball_tree, leaf_size=6, n_neighbors=5;, score=0.917 total time=   0.0s\n",
      "[CV 2/5; 52/243] END algorithm=ball_tree, leaf_size=10, n_neighbors=15;, score=0.958 total time=   0.0s\n",
      "[CV 3/5; 42/243] END algorithm=ball_tree, leaf_size=6, n_neighbors=10;, score=1.000 total time=   0.0s\n",
      "[CV 3/5; 52/243] START algorithm=ball_tree, leaf_size=10, n_neighbors=15........\n",
      "[CV 3/5; 55/243] START algorithm=ball_tree, leaf_size=15, n_neighbors=2.........\n",
      "[CV 1/5; 49/243] END algorithm=ball_tree, leaf_size=10, n_neighbors=5;, score=0.958 total time=   0.0s\n",
      "[CV 2/5; 49/243] START algorithm=ball_tree, leaf_size=10, n_neighbors=5.........\n",
      "[CV 4/5; 58/243] START algorithm=ball_tree, leaf_size=15, n_neighbors=5.........\n",
      "[CV 4/5; 46/243] END algorithm=ball_tree, leaf_size=10, n_neighbors=2;, score=0.917 total time=   0.0s\n",
      "[CV 5/5; 46/243] START algorithm=ball_tree, leaf_size=10, n_neighbors=2.........\n",
      "[CV 3/5; 48/243] END algorithm=ball_tree, leaf_size=10, n_neighbors=4;, score=1.000 total time=   0.0s\n",
      "[CV 4/5; 48/243] START algorithm=ball_tree, leaf_size=10, n_neighbors=4.........\n",
      "[CV 3/5; 55/243] END algorithm=ball_tree, leaf_size=15, n_neighbors=2;, score=0.958 total time=   0.0s\n",
      "[CV 4/5; 55/243] START algorithm=ball_tree, leaf_size=15, n_neighbors=2.........\n",
      "[CV 4/5; 45/243] END algorithm=ball_tree, leaf_size=6, n_neighbors=25;, score=0.958 total time=   0.0s\n",
      "[CV 4/5; 48/243] END algorithm=ball_tree, leaf_size=10, n_neighbors=4;, score=0.958 total time=   0.0s\n",
      "[CV 5/5; 48/243] START algorithm=ball_tree, leaf_size=10, n_neighbors=4.........\n",
      "[CV 5/5; 46/243] END algorithm=ball_tree, leaf_size=10, n_neighbors=2;, score=0.917 total time=   0.0s\n",
      "[CV 1/5; 47/243] START algorithm=ball_tree, leaf_size=10, n_neighbors=3.........\n",
      "[CV 5/5; 61/243] START algorithm=ball_tree, leaf_size=15, n_neighbors=15........\n",
      "[CV 5/5; 48/243] END algorithm=ball_tree, leaf_size=10, n_neighbors=4;, score=0.875 total time=   0.0s\n",
      "[CV 1/5; 47/243] END algorithm=ball_tree, leaf_size=10, n_neighbors=3;, score=0.958 total time=   0.0s\n",
      "[CV 2/5; 47/243] START algorithm=ball_tree, leaf_size=10, n_neighbors=3.........\n",
      "[CV 1/5; 65/243] START algorithm=ball_tree, leaf_size=20, n_neighbors=3.........\n",
      "[CV 4/5; 58/243] END algorithm=ball_tree, leaf_size=15, n_neighbors=5;, score=1.000 total time=   0.0s\n",
      "[CV 5/5; 58/243] START algorithm=ball_tree, leaf_size=15, n_neighbors=5.........\n",
      "[CV 2/5; 47/243] END algorithm=ball_tree, leaf_size=10, n_neighbors=3;, score=0.917 total time=   0.0s\n",
      "[CV 2/5; 68/243] START algorithm=ball_tree, leaf_size=20, n_neighbors=6.........[CV 1/5; 65/243] END algorithm=ball_tree, leaf_size=20, n_neighbors=3;, score=0.958 total time=   0.0s\n",
      "\n",
      "[CV 2/5; 65/243] START algorithm=ball_tree, leaf_size=20, n_neighbors=3.........\n",
      "[CV 2/5; 49/243] END algorithm=ball_tree, leaf_size=10, n_neighbors=5;, score=0.958 total time=   0.0s\n",
      "[CV 3/5; 49/243] START algorithm=ball_tree, leaf_size=10, n_neighbors=5.........\n",
      "[CV 2/5; 65/243] END algorithm=ball_tree, leaf_size=20, n_neighbors=3;, score=0.917 total time=   0.0s\n",
      "[CV 5/5; 61/243] END algorithm=ball_tree, leaf_size=15, n_neighbors=15;, score=0.917 total time=   0.0s\n",
      "[CV 3/5; 65/243] START algorithm=ball_tree, leaf_size=20, n_neighbors=3.........[CV 2/5; 68/243] END algorithm=ball_tree, leaf_size=20, n_neighbors=6;, score=1.000 total time=   0.0s\n",
      "\n",
      "[CV 3/5; 68/243] START algorithm=ball_tree, leaf_size=20, n_neighbors=6.........\n",
      "[CV 1/5; 62/243] START algorithm=ball_tree, leaf_size=15, n_neighbors=20........\n",
      "[CV 3/5; 49/243] END algorithm=ball_tree, leaf_size=10, n_neighbors=5;, score=1.000 total time=   0.0s\n",
      "[CV 4/5; 49/243] START algorithm=ball_tree, leaf_size=10, n_neighbors=5.........\n",
      "[CV 1/5; 44/243] END algorithm=ball_tree, leaf_size=6, n_neighbors=20;, score=0.875 total time=   0.0s\n",
      "[CV 5/5; 58/243] END algorithm=ball_tree, leaf_size=15, n_neighbors=5;, score=0.917 total time=   0.0s\n",
      "[CV 1/5; 59/243] START algorithm=ball_tree, leaf_size=15, n_neighbors=6.........\n",
      "[CV 3/5; 71/243] START algorithm=ball_tree, leaf_size=20, n_neighbors=20........\n",
      "[CV 4/5; 49/243] END algorithm=ball_tree, leaf_size=10, n_neighbors=5;, score=1.000 total time=   0.0s\n",
      "[CV 5/5; 49/243] START algorithm=ball_tree, leaf_size=10, n_neighbors=5.........\n",
      "[CV 1/5; 62/243] END algorithm=ball_tree, leaf_size=15, n_neighbors=20;, score=0.875 total time=   0.0s\n",
      "[CV 2/5; 62/243] START algorithm=ball_tree, leaf_size=15, n_neighbors=20........\n",
      "[CV 1/5; 59/243] END algorithm=ball_tree, leaf_size=15, n_neighbors=6;, score=0.958 total time=   0.0s\n",
      "[CV 2/5; 59/243] START algorithm=ball_tree, leaf_size=15, n_neighbors=6.........\n",
      "[CV 3/5; 71/243] END algorithm=ball_tree, leaf_size=20, n_neighbors=20;, score=1.000 total time=   0.0s\n",
      "[CV 4/5; 55/243] END algorithm=ball_tree, leaf_size=15, n_neighbors=2;, score=0.917 total time=   0.0s\n",
      "[CV 4/5; 71/243] START algorithm=ball_tree, leaf_size=20, n_neighbors=20........\n",
      "[CV 5/5; 55/243] START algorithm=ball_tree, leaf_size=15, n_neighbors=2.........\n",
      "[CV 5/5; 49/243] END algorithm=ball_tree, leaf_size=10, n_neighbors=5;, score=0.917 total time=   0.0s\n",
      "[CV 1/5; 50/243] START algorithm=ball_tree, leaf_size=10, n_neighbors=6.........\n",
      "[CV 2/5; 62/243] END algorithm=ball_tree, leaf_size=15, n_neighbors=20;, score=0.958 total time=   0.0s\n",
      "[CV 3/5; 62/243] START algorithm=ball_tree, leaf_size=15, n_neighbors=20........\n",
      "[CV 2/5; 59/243] END algorithm=ball_tree, leaf_size=15, n_neighbors=6;, score=1.000 total time=   0.0s\n",
      "[CV 3/5; 59/243] START algorithm=ball_tree, leaf_size=15, n_neighbors=6.........\n",
      "[CV 3/5; 52/243] END algorithm=ball_tree, leaf_size=10, n_neighbors=15;, score=1.000 total time=   0.0s\n",
      "[CV 4/5; 52/243] START algorithm=ball_tree, leaf_size=10, n_neighbors=15........\n",
      "[CV 3/5; 59/243] END algorithm=ball_tree, leaf_size=15, n_neighbors=6;, score=1.000 total time=   0.0s\n",
      "[CV 4/5; 59/243] START algorithm=ball_tree, leaf_size=15, n_neighbors=6.........\n",
      "[CV 4/5; 71/243] END algorithm=ball_tree, leaf_size=20, n_neighbors=20;, score=0.958 total time=   0.0s\n",
      "[CV 5/5; 71/243] START algorithm=ball_tree, leaf_size=20, n_neighbors=20........\n",
      "[CV 5/5; 55/243] END algorithm=ball_tree, leaf_size=15, n_neighbors=2;, score=0.917 total time=   0.0s\n",
      "[CV 1/5; 56/243] START algorithm=ball_tree, leaf_size=15, n_neighbors=3.........\n",
      "[CV 3/5; 68/243] END algorithm=ball_tree, leaf_size=20, n_neighbors=6;, score=1.000 total time=   0.0s\n",
      "[CV 4/5; 68/243] START algorithm=ball_tree, leaf_size=20, n_neighbors=6.........\n",
      "[CV 4/5; 59/243] END algorithm=ball_tree, leaf_size=15, n_neighbors=6;, score=1.000 total time=   0.0s\n",
      "[CV 3/5; 65/243] END algorithm=ball_tree, leaf_size=20, n_neighbors=3;, score=1.000 total time=   0.0s\n",
      "[CV 5/5; 59/243] START algorithm=ball_tree, leaf_size=15, n_neighbors=6.........\n",
      "[CV 4/5; 65/243] START algorithm=ball_tree, leaf_size=20, n_neighbors=3.........\n",
      "[CV 5/5; 71/243] END algorithm=ball_tree, leaf_size=20, n_neighbors=20;, score=0.917 total time=   0.0s\n",
      "[CV 4/5; 52/243] END algorithm=ball_tree, leaf_size=10, n_neighbors=15;, score=0.958 total time=   0.0s\n",
      "[CV 1/5; 72/243] START algorithm=ball_tree, leaf_size=20, n_neighbors=25........\n",
      "[CV 5/5; 52/243] START algorithm=ball_tree, leaf_size=10, n_neighbors=15........\n",
      "[CV 4/5; 68/243] END algorithm=ball_tree, leaf_size=20, n_neighbors=6;, score=1.000 total time=   0.0s\n",
      "[CV 5/5; 68/243] START algorithm=ball_tree, leaf_size=20, n_neighbors=6.........\n",
      "[CV 4/5; 65/243] END algorithm=ball_tree, leaf_size=20, n_neighbors=3;, score=0.958 total time=   0.0s\n",
      "[CV 1/5; 72/243] END algorithm=ball_tree, leaf_size=20, n_neighbors=25;, score=0.875 total time=   0.0s\n",
      "[CV 5/5; 65/243] START algorithm=ball_tree, leaf_size=20, n_neighbors=3.........[CV 2/5; 72/243] START algorithm=ball_tree, leaf_size=20, n_neighbors=25........\n",
      "\n",
      "[CV 1/5; 56/243] END algorithm=ball_tree, leaf_size=15, n_neighbors=3;, score=0.958 total time=   0.0s\n",
      "[CV 2/5; 56/243] START algorithm=ball_tree, leaf_size=15, n_neighbors=3.........\n",
      "[CV 5/5; 52/243] END algorithm=ball_tree, leaf_size=10, n_neighbors=15;, score=0.917 total time=   0.0s\n",
      "[CV 1/5; 53/243] START algorithm=ball_tree, leaf_size=10, n_neighbors=20........\n",
      "[CV 2/5; 56/243] END algorithm=ball_tree, leaf_size=15, n_neighbors=3;, score=0.917 total time=   0.0s\n",
      "[CV 3/5; 56/243] START algorithm=ball_tree, leaf_size=15, n_neighbors=3.........\n",
      "[CV 5/5; 68/243] END algorithm=ball_tree, leaf_size=20, n_neighbors=6;, score=0.917 total time=   0.0s\n",
      "[CV 1/5; 69/243] START algorithm=ball_tree, leaf_size=20, n_neighbors=10........\n",
      "[CV 1/5; 53/243] END algorithm=ball_tree, leaf_size=10, n_neighbors=20;, score=0.875 total time=   0.0s\n",
      "[CV 2/5; 53/243] START algorithm=ball_tree, leaf_size=10, n_neighbors=20........\n",
      "[CV 2/5; 72/243] END algorithm=ball_tree, leaf_size=20, n_neighbors=25;, score=0.958 total time=   0.0s\n",
      "[CV 3/5; 72/243] START algorithm=ball_tree, leaf_size=20, n_neighbors=25........\n",
      "[CV 1/5; 50/243] END algorithm=ball_tree, leaf_size=10, n_neighbors=6;, score=0.958 total time=   0.0s\n",
      "[CV 2/5; 50/243] START algorithm=ball_tree, leaf_size=10, n_neighbors=6.........\n",
      "[CV 1/5; 69/243] END algorithm=ball_tree, leaf_size=20, n_neighbors=10;, score=0.917 total time=   0.0s\n",
      "[CV 2/5; 69/243] START algorithm=ball_tree, leaf_size=20, n_neighbors=10........\n",
      "[CV 2/5; 53/243] END algorithm=ball_tree, leaf_size=10, n_neighbors=20;, score=0.958 total time=   0.0s\n",
      "[CV 3/5; 53/243] START algorithm=ball_tree, leaf_size=10, n_neighbors=20........\n",
      "[CV 3/5; 72/243] END algorithm=ball_tree, leaf_size=20, n_neighbors=25;, score=1.000 total time=   0.0s\n",
      "[CV 4/5; 72/243] START algorithm=ball_tree, leaf_size=20, n_neighbors=25........\n",
      "[CV 3/5; 62/243] END algorithm=ball_tree, leaf_size=15, n_neighbors=20;, score=1.000 total time=   0.0s\n",
      "[CV 4/5; 62/243] START algorithm=ball_tree, leaf_size=15, n_neighbors=20........\n",
      "[CV 5/5; 59/243] END algorithm=ball_tree, leaf_size=15, n_neighbors=6;, score=0.917 total time=   0.0s\n",
      "[CV 1/5; 60/243] START algorithm=ball_tree, leaf_size=15, n_neighbors=10........\n",
      "[CV 4/5; 72/243] END algorithm=ball_tree, leaf_size=20, n_neighbors=25;, score=0.958 total time=   0.0s\n",
      "[CV 5/5; 72/243] START algorithm=ball_tree, leaf_size=20, n_neighbors=25........\n",
      "[CV 2/5; 50/243] END algorithm=ball_tree, leaf_size=10, n_neighbors=6;, score=1.000 total time=   0.0s\n",
      "[CV 3/5; 50/243] START algorithm=ball_tree, leaf_size=10, n_neighbors=6.........\n",
      "[CV 4/5; 62/243] END algorithm=ball_tree, leaf_size=15, n_neighbors=20;, score=0.958 total time=   0.0s\n",
      "[CV 5/5; 62/243] START algorithm=ball_tree, leaf_size=15, n_neighbors=20........\n",
      "[CV 3/5; 53/243] END algorithm=ball_tree, leaf_size=10, n_neighbors=20;, score=1.000 total time=   0.0s\n",
      "[CV 4/5; 53/243] START algorithm=ball_tree, leaf_size=10, n_neighbors=20........\n",
      "[CV 1/5; 60/243] END algorithm=ball_tree, leaf_size=15, n_neighbors=10;, score=0.917 total time=   0.0s\n",
      "[CV 2/5; 60/243] START algorithm=ball_tree, leaf_size=15, n_neighbors=10........\n",
      "[CV 5/5; 72/243] END algorithm=ball_tree, leaf_size=20, n_neighbors=25;, score=0.875 total time=   0.0s\n",
      "[CV 1/5; 73/243] START algorithm=ball_tree, leaf_size=25, n_neighbors=2.........\n",
      "[CV 5/5; 62/243] END algorithm=ball_tree, leaf_size=15, n_neighbors=20;, score=0.917 total time=   0.0s\n",
      "[CV 2/5; 69/243] END algorithm=ball_tree, leaf_size=20, n_neighbors=10;, score=1.000 total time=   0.0s[CV 1/5; 63/243] START algorithm=ball_tree, leaf_size=15, n_neighbors=25........\n",
      "[CV 5/5; 65/243] END algorithm=ball_tree, leaf_size=20, n_neighbors=3;, score=0.917 total time=   0.0s\n",
      "[CV 1/5; 66/243] START algorithm=ball_tree, leaf_size=20, n_neighbors=4.........\n",
      "[CV 3/5; 56/243] END algorithm=ball_tree, leaf_size=15, n_neighbors=3;, score=1.000 total time=   0.0s\n",
      "[CV 4/5; 56/243] START algorithm=ball_tree, leaf_size=15, n_neighbors=3.........\n",
      "[CV 4/5; 53/243] END algorithm=ball_tree, leaf_size=10, n_neighbors=20;, score=0.958 total time=   0.0s\n",
      "[CV 5/5; 53/243] START algorithm=ball_tree, leaf_size=10, n_neighbors=20........\n",
      "[CV 2/5; 60/243] END algorithm=ball_tree, leaf_size=15, n_neighbors=10;, score=1.000 total time=   0.0s\n",
      "[CV 3/5; 60/243] START algorithm=ball_tree, leaf_size=15, n_neighbors=10........\n",
      "[CV 1/5; 63/243] END algorithm=ball_tree, leaf_size=15, n_neighbors=25;, score=0.875 total time=   0.0s\n",
      "[CV 2/5; 63/243] START algorithm=ball_tree, leaf_size=15, n_neighbors=25........\n",
      "[CV 4/5; 56/243] END algorithm=ball_tree, leaf_size=15, n_neighbors=3;, score=0.958 total time=   0.0s\n",
      "[CV 5/5; 56/243] START algorithm=ball_tree, leaf_size=15, n_neighbors=3.........\n",
      "[CV 5/5; 53/243] END algorithm=ball_tree, leaf_size=10, n_neighbors=20;, score=0.917 total time=   0.0s\n",
      "[CV 3/5; 60/243] END algorithm=ball_tree, leaf_size=15, n_neighbors=10;, score=1.000 total time=   0.0s\n",
      "[CV 1/5; 54/243] START algorithm=ball_tree, leaf_size=10, n_neighbors=25........\n",
      "[CV 4/5; 60/243] START algorithm=ball_tree, leaf_size=15, n_neighbors=10........\n",
      "[CV 1/5; 66/243] END algorithm=ball_tree, leaf_size=20, n_neighbors=4;, score=0.958 total time=   0.0s\n",
      "[CV 2/5; 66/243] START algorithm=ball_tree, leaf_size=20, n_neighbors=4.........\n",
      "[CV 3/5; 50/243] END algorithm=ball_tree, leaf_size=10, n_neighbors=6;, score=1.000 total time=   0.0s\n",
      "[CV 4/5; 50/243] START algorithm=ball_tree, leaf_size=10, n_neighbors=6.........\n",
      "[CV 1/5; 54/243] END algorithm=ball_tree, leaf_size=10, n_neighbors=25;, score=0.875 total time=   0.0s\n",
      "[CV 2/5; 54/243] START algorithm=ball_tree, leaf_size=10, n_neighbors=25........\n",
      "\n",
      "[CV 3/5; 69/243] START algorithm=ball_tree, leaf_size=20, n_neighbors=10........\n",
      "[CV 2/5; 63/243] END algorithm=ball_tree, leaf_size=15, n_neighbors=25;, score=0.958 total time=   0.0s\n",
      "[CV 3/5; 63/243] START algorithm=ball_tree, leaf_size=15, n_neighbors=25........\n",
      "[CV 2/5; 66/243] END algorithm=ball_tree, leaf_size=20, n_neighbors=4;, score=0.917 total time=   0.0s\n",
      "[CV 3/5; 66/243] START algorithm=ball_tree, leaf_size=20, n_neighbors=4.........\n",
      "[CV 4/5; 50/243] END algorithm=ball_tree, leaf_size=10, n_neighbors=6;, score=1.000 total time=   0.0s\n",
      "[CV 5/5; 50/243] START algorithm=ball_tree, leaf_size=10, n_neighbors=6.........\n",
      "[CV 3/5; 69/243] END algorithm=ball_tree, leaf_size=20, n_neighbors=10;, score=1.000 total time=   0.0s\n",
      "[CV 3/5; 63/243] END algorithm=ball_tree, leaf_size=15, n_neighbors=25;, score=1.000 total time=   0.0s\n",
      "[CV 4/5; 69/243] START algorithm=ball_tree, leaf_size=20, n_neighbors=10........\n",
      "[CV 4/5; 63/243] START algorithm=ball_tree, leaf_size=15, n_neighbors=25........\n",
      "[CV 3/5; 66/243] END algorithm=ball_tree, leaf_size=20, n_neighbors=4;, score=1.000 total time=   0.0s\n",
      "[CV 4/5; 66/243] START algorithm=ball_tree, leaf_size=20, n_neighbors=4.........\n",
      "[CV 4/5; 60/243] END algorithm=ball_tree, leaf_size=15, n_neighbors=10;, score=1.000 total time=   0.0s\n",
      "[CV 5/5; 60/243] START algorithm=ball_tree, leaf_size=15, n_neighbors=10........\n",
      "[CV 4/5; 66/243] END algorithm=ball_tree, leaf_size=20, n_neighbors=4;, score=0.958 total time=   0.0s\n",
      "[CV 5/5; 66/243] START algorithm=ball_tree, leaf_size=20, n_neighbors=4.........\n",
      "[CV 4/5; 69/243] END algorithm=ball_tree, leaf_size=20, n_neighbors=10;, score=1.000 total time=   0.0s\n",
      "[CV 5/5; 69/243] START algorithm=ball_tree, leaf_size=20, n_neighbors=10........\n",
      "[CV 5/5; 60/243] END algorithm=ball_tree, leaf_size=15, n_neighbors=10;, score=0.917 total time=   0.0s\n",
      "[CV 1/5; 61/243] START algorithm=ball_tree, leaf_size=15, n_neighbors=15........\n",
      "[CV 5/5; 50/243] END algorithm=ball_tree, leaf_size=10, n_neighbors=6;, score=0.917 total time=   0.0s\n",
      "[CV 1/5; 51/243] START algorithm=ball_tree, leaf_size=10, n_neighbors=10........\n",
      "[CV 5/5; 56/243] END algorithm=ball_tree, leaf_size=15, n_neighbors=3;, score=0.917 total time=   0.0s\n",
      "[CV 5/5; 69/243] END algorithm=ball_tree, leaf_size=20, n_neighbors=10;, score=0.917 total time=   0.0s\n",
      "[CV 1/5; 57/243] START algorithm=ball_tree, leaf_size=15, n_neighbors=4.........[CV 1/5; 70/243] START algorithm=ball_tree, leaf_size=20, n_neighbors=15........\n",
      "\n",
      "[CV 1/5; 61/243] END algorithm=ball_tree, leaf_size=15, n_neighbors=15;, score=0.917 total time=   0.0s\n",
      "[CV 2/5; 61/243] START algorithm=ball_tree, leaf_size=15, n_neighbors=15........\n",
      "[CV 1/5; 57/243] END algorithm=ball_tree, leaf_size=15, n_neighbors=4;, score=0.958 total time=   0.0s\n",
      "[CV 2/5; 57/243] START algorithm=ball_tree, leaf_size=15, n_neighbors=4.........\n",
      "[CV 1/5; 51/243] END algorithm=ball_tree, leaf_size=10, n_neighbors=10;, score=0.917 total time=   0.0s\n",
      "[CV 2/5; 51/243] START algorithm=ball_tree, leaf_size=10, n_neighbors=10........\n",
      "[CV 2/5; 61/243] END algorithm=ball_tree, leaf_size=15, n_neighbors=15;, score=0.958 total time=   0.0s\n",
      "[CV 3/5; 61/243] START algorithm=ball_tree, leaf_size=15, n_neighbors=15........\n",
      "[CV 2/5; 54/243] END algorithm=ball_tree, leaf_size=10, n_neighbors=25;, score=0.958 total time=   0.0s\n",
      "[CV 3/5; 54/243] START algorithm=ball_tree, leaf_size=10, n_neighbors=25........\n",
      "[CV 4/5; 63/243] END algorithm=ball_tree, leaf_size=15, n_neighbors=25;, score=0.958 total time=   0.0s\n",
      "[CV 5/5; 63/243] START algorithm=ball_tree, leaf_size=15, n_neighbors=25........\n",
      "[CV 2/5; 51/243] END algorithm=ball_tree, leaf_size=10, n_neighbors=10;, score=1.000 total time=   0.0s\n",
      "[CV 3/5; 51/243] START algorithm=ball_tree, leaf_size=10, n_neighbors=10........[CV 5/5; 66/243] END algorithm=ball_tree, leaf_size=20, n_neighbors=4;, score=0.875 total time=   0.0s\n",
      "\n",
      "[CV 1/5; 67/243] START algorithm=ball_tree, leaf_size=20, n_neighbors=5.........\n",
      "[CV 3/5; 54/243] END algorithm=ball_tree, leaf_size=10, n_neighbors=25;, score=1.000 total time=   0.0s\n",
      "[CV 4/5; 54/243] START algorithm=ball_tree, leaf_size=10, n_neighbors=25........\n",
      "[CV 1/5; 67/243] END algorithm=ball_tree, leaf_size=20, n_neighbors=5;, score=0.958 total time=   0.0s\n",
      "[CV 2/5; 67/243] START algorithm=ball_tree, leaf_size=20, n_neighbors=5.........\n",
      "[CV 5/5; 63/243] END algorithm=ball_tree, leaf_size=15, n_neighbors=25;, score=0.875 total time=   0.0s\n",
      "[CV 1/5; 64/243] START algorithm=ball_tree, leaf_size=20, n_neighbors=2.........\n",
      "[CV 1/5; 70/243] END algorithm=ball_tree, leaf_size=20, n_neighbors=15;, score=0.917 total time=   0.0s\n",
      "[CV 2/5; 70/243] START algorithm=ball_tree, leaf_size=20, n_neighbors=15........\n",
      "[CV 4/5; 54/243] END algorithm=ball_tree, leaf_size=10, n_neighbors=25;, score=0.958 total time=   0.0s\n",
      "[CV 5/5; 54/243] START algorithm=ball_tree, leaf_size=10, n_neighbors=25........\n",
      "[CV 3/5; 51/243] END algorithm=ball_tree, leaf_size=10, n_neighbors=10;, score=1.000 total time=   0.0s\n",
      "[CV 4/5; 51/243] START algorithm=ball_tree, leaf_size=10, n_neighbors=10........\n",
      "[CV 2/5; 57/243] END algorithm=ball_tree, leaf_size=15, n_neighbors=4;, score=0.917 total time=   0.0s\n",
      "[CV 3/5; 57/243] START algorithm=ball_tree, leaf_size=15, n_neighbors=4.........\n",
      "[CV 5/5; 54/243] END algorithm=ball_tree, leaf_size=10, n_neighbors=25;, score=0.875 total time=   0.0s\n",
      "[CV 1/5; 55/243] START algorithm=ball_tree, leaf_size=15, n_neighbors=2.........\n",
      "[CV 2/5; 67/243] END algorithm=ball_tree, leaf_size=20, n_neighbors=5;, score=0.958 total time=   0.0s\n",
      "[CV 3/5; 67/243] START algorithm=ball_tree, leaf_size=20, n_neighbors=5.........\n",
      "[CV 3/5; 57/243] END algorithm=ball_tree, leaf_size=15, n_neighbors=4;, score=1.000 total time=   0.0s\n",
      "[CV 4/5; 57/243] START algorithm=ball_tree, leaf_size=15, n_neighbors=4.........\n",
      "[CV 2/5; 70/243] END algorithm=ball_tree, leaf_size=20, n_neighbors=15;, score=0.958 total time=   0.0s\n",
      "[CV 3/5; 70/243] START algorithm=ball_tree, leaf_size=20, n_neighbors=15........\n",
      "[CV 4/5; 51/243] END algorithm=ball_tree, leaf_size=10, n_neighbors=10;, score=1.000 total time=   0.0s\n",
      "[CV 5/5; 51/243] START algorithm=ball_tree, leaf_size=10, n_neighbors=10........\n",
      "[CV 3/5; 67/243] END algorithm=ball_tree, leaf_size=20, n_neighbors=5;, score=1.000 total time=   0.0s\n",
      "[CV 4/5; 67/243] START algorithm=ball_tree, leaf_size=20, n_neighbors=5.........\n",
      "[CV 3/5; 61/243] END algorithm=ball_tree, leaf_size=15, n_neighbors=15;, score=1.000 total time=   0.0s\n",
      "[CV 4/5; 61/243] START algorithm=ball_tree, leaf_size=15, n_neighbors=15........\n",
      "[CV 5/5; 51/243] END algorithm=ball_tree, leaf_size=10, n_neighbors=10;, score=0.917 total time=   0.0s\n",
      "[CV 1/5; 52/243] START algorithm=ball_tree, leaf_size=10, n_neighbors=15........\n",
      "[CV 3/5; 70/243] END algorithm=ball_tree, leaf_size=20, n_neighbors=15;, score=1.000 total time=   0.0s\n",
      "[CV 4/5; 70/243] START algorithm=ball_tree, leaf_size=20, n_neighbors=15........\n",
      "[CV 4/5; 61/243] END algorithm=ball_tree, leaf_size=15, n_neighbors=15;, score=0.958 total time=   0.0s\n",
      "[CV 1/5; 64/243] END algorithm=ball_tree, leaf_size=20, n_neighbors=2;, score=0.958 total time=   0.0s[CV 4/5; 74/243] START algorithm=ball_tree, leaf_size=25, n_neighbors=3.........\n",
      "[CV 1/5; 52/243] END algorithm=ball_tree, leaf_size=10, n_neighbors=15;, score=0.917 total time=   0.0s\n",
      "[CV 4/5; 70/243] END algorithm=ball_tree, leaf_size=20, n_neighbors=15;, score=0.958 total time=   0.0s\n",
      "[CV 5/5; 70/243] START algorithm=ball_tree, leaf_size=20, n_neighbors=15........\n",
      "\n",
      "[CV 2/5; 64/243] START algorithm=ball_tree, leaf_size=20, n_neighbors=2.........\n",
      "[CV 4/5; 57/243] END algorithm=ball_tree, leaf_size=15, n_neighbors=4;, score=0.958 total time=   0.0s\n",
      "[CV 5/5; 57/243] START algorithm=ball_tree, leaf_size=15, n_neighbors=4.........\n",
      "[CV 4/5; 74/243] END algorithm=ball_tree, leaf_size=25, n_neighbors=3;, score=0.958 total time=   0.0s\n",
      "[CV 5/5; 74/243] START algorithm=ball_tree, leaf_size=25, n_neighbors=3.........\n",
      "[CV 2/5; 64/243] END algorithm=ball_tree, leaf_size=20, n_neighbors=2;, score=0.875 total time=   0.0s\n",
      "[CV 3/5; 64/243] START algorithm=ball_tree, leaf_size=20, n_neighbors=2.........\n",
      "[CV 4/5; 67/243] END algorithm=ball_tree, leaf_size=20, n_neighbors=5;, score=1.000 total time=   0.0s\n",
      "[CV 5/5; 67/243] START algorithm=ball_tree, leaf_size=20, n_neighbors=5.........\n",
      "[CV 5/5; 74/243] END algorithm=ball_tree, leaf_size=25, n_neighbors=3;, score=0.917 total time=   0.0s\n",
      "[CV 1/5; 75/243] START algorithm=ball_tree, leaf_size=25, n_neighbors=4.........\n",
      "[CV 5/5; 67/243] END algorithm=ball_tree, leaf_size=20, n_neighbors=5;, score=0.917 total time=   0.0s\n",
      "[CV 1/5; 68/243] START algorithm=ball_tree, leaf_size=20, n_neighbors=6.........\n",
      "[CV 5/5; 57/243] END algorithm=ball_tree, leaf_size=15, n_neighbors=4;, score=0.875 total time=   0.0s\n",
      "[CV 1/5; 58/243] START algorithm=ball_tree, leaf_size=15, n_neighbors=5.........\n",
      "[CV 5/5; 77/243] START algorithm=ball_tree, leaf_size=25, n_neighbors=6.........\n",
      "[CV 3/5; 64/243] END algorithm=ball_tree, leaf_size=20, n_neighbors=2;, score=0.958 total time=   0.0s\n",
      "[CV 4/5; 64/243] START algorithm=ball_tree, leaf_size=20, n_neighbors=2.........\n",
      "[CV 1/5; 55/243] END algorithm=ball_tree, leaf_size=15, n_neighbors=2;, score=0.958 total time=   0.0s\n",
      "[CV 2/5; 55/243] START algorithm=ball_tree, leaf_size=15, n_neighbors=2.........\n",
      "[CV 1/5; 58/243] END algorithm=ball_tree, leaf_size=15, n_neighbors=5;, score=0.958 total time=   0.0s\n",
      "[CV 2/5; 58/243] START algorithm=ball_tree, leaf_size=15, n_neighbors=5.........\n",
      "[CV 5/5; 77/243] END algorithm=ball_tree, leaf_size=25, n_neighbors=6;, score=0.917 total time=   0.0s\n",
      "[CV 1/5; 78/243] START algorithm=ball_tree, leaf_size=25, n_neighbors=10........\n",
      "[CV 5/5; 70/243] END algorithm=ball_tree, leaf_size=20, n_neighbors=15;, score=0.917 total time=   0.0s\n",
      "[CV 4/5; 64/243] END algorithm=ball_tree, leaf_size=20, n_neighbors=2;, score=0.917 total time=   0.0s\n",
      "[CV 1/5; 71/243] START algorithm=ball_tree, leaf_size=20, n_neighbors=20........\n",
      "[CV 5/5; 64/243] START algorithm=ball_tree, leaf_size=20, n_neighbors=2.........\n",
      "[CV 2/5; 55/243] END algorithm=ball_tree, leaf_size=15, n_neighbors=2;, score=0.875 total time=   0.0s\n",
      "[CV 1/5; 81/243] START algorithm=ball_tree, leaf_size=25, n_neighbors=25........\n",
      "[CV 1/5; 78/243] END algorithm=ball_tree, leaf_size=25, n_neighbors=10;, score=0.917 total time=   0.0s\n",
      "[CV 2/5; 78/243] START algorithm=ball_tree, leaf_size=25, n_neighbors=10........\n",
      "[CV 1/5; 68/243] END algorithm=ball_tree, leaf_size=20, n_neighbors=6;, score=0.958 total time=   0.0s\n",
      "[CV 2/5; 84/243] START algorithm=kd_tree, leaf_size=2, n_neighbors=4............\n",
      "[CV 2/5; 58/243] END algorithm=ball_tree, leaf_size=15, n_neighbors=5;, score=0.958 total time=   0.0s\n",
      "[CV 3/5; 58/243] START algorithm=ball_tree, leaf_size=15, n_neighbors=5.........\n",
      "[CV 1/5; 75/243] END algorithm=ball_tree, leaf_size=25, n_neighbors=4;, score=0.958 total time=   0.0s\n",
      "[CV 2/5; 75/243] START algorithm=ball_tree, leaf_size=25, n_neighbors=4.........\n",
      "[CV 2/5; 84/243] END algorithm=kd_tree, leaf_size=2, n_neighbors=4;, score=0.917 total time=   0.0s\n",
      "[CV 3/5; 84/243] START algorithm=kd_tree, leaf_size=2, n_neighbors=4............\n",
      "[CV 2/5; 78/243] END algorithm=ball_tree, leaf_size=25, n_neighbors=10;, score=1.000 total time=   0.0s\n",
      "[CV 3/5; 78/243] START algorithm=ball_tree, leaf_size=25, n_neighbors=10........\n",
      "[CV 3/5; 78/243] END algorithm=ball_tree, leaf_size=25, n_neighbors=10;, score=1.000 total time=   0.0s\n",
      "[CV 4/5; 78/243] START algorithm=ball_tree, leaf_size=25, n_neighbors=10........\n",
      "[CV 2/5; 75/243] END algorithm=ball_tree, leaf_size=25, n_neighbors=4;, score=0.917 total time=   0.0s\n",
      "[CV 3/5; 75/243] START algorithm=ball_tree, leaf_size=25, n_neighbors=4.........\n",
      "[CV 3/5; 84/243] END algorithm=kd_tree, leaf_size=2, n_neighbors=4;, score=1.000 total time=   0.0s\n",
      "[CV 4/5; 84/243] START algorithm=kd_tree, leaf_size=2, n_neighbors=4............\n",
      "[CV 1/5; 71/243] END algorithm=ball_tree, leaf_size=20, n_neighbors=20;, score=0.875 total time=   0.0s\n",
      "[CV 2/5; 71/243] START algorithm=ball_tree, leaf_size=20, n_neighbors=20........\n",
      "[CV 3/5; 58/243] END algorithm=ball_tree, leaf_size=15, n_neighbors=5;, score=1.000 total time=   0.0s\n",
      "[CV 3/5; 75/243] END algorithm=ball_tree, leaf_size=25, n_neighbors=4;, score=1.000 total time=   0.0s\n",
      "[CV 4/5; 75/243] START algorithm=ball_tree, leaf_size=25, n_neighbors=4.........[CV 1/5; 73/243] END algorithm=ball_tree, leaf_size=25, n_neighbors=2;, score=0.958 total time=   0.1s\n",
      "[CV 2/5; 73/243] START algorithm=ball_tree, leaf_size=25, n_neighbors=2.........\n",
      "[CV 5/5; 64/243] END algorithm=ball_tree, leaf_size=20, n_neighbors=2;, score=0.917 total time=   0.0s\n",
      "[CV 4/5; 84/243] END algorithm=kd_tree, leaf_size=2, n_neighbors=4;, score=0.958 total time=   0.0s\n",
      "[CV 5/5; 84/243] START algorithm=kd_tree, leaf_size=2, n_neighbors=4............\n",
      "[CV 4/5; 90/243] START algorithm=kd_tree, leaf_size=2, n_neighbors=25...........\n",
      "[CV 1/5; 81/243] END algorithm=ball_tree, leaf_size=25, n_neighbors=25;, score=0.875 total time=   0.0s\n",
      "[CV 2/5; 81/243] START algorithm=ball_tree, leaf_size=25, n_neighbors=25........\n",
      "[CV 3/5; 87/243] START algorithm=kd_tree, leaf_size=2, n_neighbors=10...........\n",
      "[CV 2/5; 71/243] END algorithm=ball_tree, leaf_size=20, n_neighbors=20;, score=0.958 total time=   0.0s\n",
      "[CV 5/5; 93/243] START algorithm=kd_tree, leaf_size=3, n_neighbors=4............\n",
      "[CV 2/5; 73/243] END algorithm=ball_tree, leaf_size=25, n_neighbors=2;, score=0.875 total time=   0.0s\n",
      "[CV 3/5; 73/243] START algorithm=ball_tree, leaf_size=25, n_neighbors=2.........\n",
      "\n",
      "[CV 2/5; 81/243] END algorithm=ball_tree, leaf_size=25, n_neighbors=25;, score=0.958 total time=   0.0s\n",
      "[CV 3/5; 81/243] START algorithm=ball_tree, leaf_size=25, n_neighbors=25........\n",
      "[CV 3/5; 87/243] END algorithm=kd_tree, leaf_size=2, n_neighbors=10;, score=1.000 total time=   0.0s\n",
      "[CV 4/5; 87/243] START algorithm=kd_tree, leaf_size=2, n_neighbors=10...........\n",
      "[CV 3/5; 73/243] END algorithm=ball_tree, leaf_size=25, n_neighbors=2;, score=0.958 total time=   0.0s\n",
      "[CV 4/5; 73/243] START algorithm=ball_tree, leaf_size=25, n_neighbors=2.........\n",
      "[CV 4/5; 90/243] END algorithm=kd_tree, leaf_size=2, n_neighbors=25;, score=0.958 total time=   0.0s\n",
      "[CV 5/5; 90/243] START algorithm=kd_tree, leaf_size=2, n_neighbors=25...........\n",
      "[CV 4/5; 78/243] END algorithm=ball_tree, leaf_size=25, n_neighbors=10;, score=1.000 total time=   0.0s[CV 3/5; 81/243] END algorithm=ball_tree, leaf_size=25, n_neighbors=25;, score=1.000 total time=   0.0s\n",
      "[CV 4/5; 81/243] START algorithm=ball_tree, leaf_size=25, n_neighbors=25........\n",
      "[CV 4/5; 75/243] END algorithm=ball_tree, leaf_size=25, n_neighbors=4;, score=0.958 total time=   0.0s\n",
      "[CV 4/5; 73/243] END algorithm=ball_tree, leaf_size=25, n_neighbors=2;, score=0.917 total time=   0.0s\n",
      "[CV 5/5; 75/243] START algorithm=ball_tree, leaf_size=25, n_neighbors=4.........\n",
      "[CV 5/5; 73/243] START algorithm=ball_tree, leaf_size=25, n_neighbors=2.........\n",
      "[CV 5/5; 84/243] END algorithm=kd_tree, leaf_size=2, n_neighbors=4;, score=0.875 total time=   0.0s\n",
      "[CV 1/5; 85/243] START algorithm=kd_tree, leaf_size=2, n_neighbors=5............\n",
      "\n",
      "[CV 5/5; 78/243] START algorithm=ball_tree, leaf_size=25, n_neighbors=10........\n",
      "[CV 4/5; 81/243] END algorithm=ball_tree, leaf_size=25, n_neighbors=25;, score=0.958 total time=   0.0s\n",
      "[CV 5/5; 81/243] START algorithm=ball_tree, leaf_size=25, n_neighbors=25........\n",
      "[CV 5/5; 73/243] END algorithm=ball_tree, leaf_size=25, n_neighbors=2;, score=0.917 total time=   0.0s\n",
      "[CV 1/5; 74/243] START algorithm=ball_tree, leaf_size=25, n_neighbors=3.........\n",
      "[CV 5/5; 90/243] END algorithm=kd_tree, leaf_size=2, n_neighbors=25;, score=0.875 total time=   0.0s\n",
      "[CV 1/5; 91/243] START algorithm=kd_tree, leaf_size=3, n_neighbors=2............\n",
      "[CV 1/5; 85/243] END algorithm=kd_tree, leaf_size=2, n_neighbors=5;, score=0.958 total time=   0.0s\n",
      "[CV 2/5; 85/243] START algorithm=kd_tree, leaf_size=2, n_neighbors=5............\n",
      "[CV 5/5; 78/243] END algorithm=ball_tree, leaf_size=25, n_neighbors=10;, score=0.917 total time=   0.0s\n",
      "[CV 1/5; 79/243] START algorithm=ball_tree, leaf_size=25, n_neighbors=15........\n",
      "[CV 1/5; 74/243] END algorithm=ball_tree, leaf_size=25, n_neighbors=3;, score=0.958 total time=   0.0s\n",
      "[CV 2/5; 74/243] START algorithm=ball_tree, leaf_size=25, n_neighbors=3.........\n",
      "[CV 5/5; 75/243] END algorithm=ball_tree, leaf_size=25, n_neighbors=4;, score=0.875 total time=   0.0s\n",
      "[CV 1/5; 76/243] START algorithm=ball_tree, leaf_size=25, n_neighbors=5.........\n",
      "[CV 4/5; 87/243] END algorithm=kd_tree, leaf_size=2, n_neighbors=10;, score=1.000 total time=   0.0s\n",
      "[CV 5/5; 87/243] START algorithm=kd_tree, leaf_size=2, n_neighbors=10...........\n",
      "[CV 5/5; 93/243] END algorithm=kd_tree, leaf_size=3, n_neighbors=4;, score=0.875 total time=   0.0s\n",
      "[CV 1/5; 94/243] START algorithm=kd_tree, leaf_size=3, n_neighbors=5............\n",
      "[CV 2/5; 74/243] END algorithm=ball_tree, leaf_size=25, n_neighbors=3;, score=0.917 total time=   0.0s\n",
      "[CV 3/5; 74/243] START algorithm=ball_tree, leaf_size=25, n_neighbors=3.........\n",
      "[CV 3/5; 74/243] END algorithm=ball_tree, leaf_size=25, n_neighbors=3;, score=1.000 total time=   0.0s\n",
      "[CV 1/5; 94/243] END algorithm=kd_tree, leaf_size=3, n_neighbors=5;, score=0.958 total time=   0.0s\n",
      "[CV 2/5; 94/243] START algorithm=kd_tree, leaf_size=3, n_neighbors=5............\n",
      "[CV 5/5; 87/243] END algorithm=kd_tree, leaf_size=2, n_neighbors=10;, score=0.917 total time=   0.0s\n",
      "[CV 1/5; 88/243] START algorithm=kd_tree, leaf_size=2, n_neighbors=15...........\n",
      "[CV 1/5; 97/243] START algorithm=kd_tree, leaf_size=3, n_neighbors=15...........\n",
      "[CV 1/5; 76/243] END algorithm=ball_tree, leaf_size=25, n_neighbors=5;, score=0.958 total time=   0.0s\n",
      "[CV 2/5; 76/243] START algorithm=ball_tree, leaf_size=25, n_neighbors=5.........\n",
      "[CV 1/5; 79/243] END algorithm=ball_tree, leaf_size=25, n_neighbors=15;, score=0.917 total time=   0.0s\n",
      "[CV 2/5; 79/243] START algorithm=ball_tree, leaf_size=25, n_neighbors=15........\n",
      "[CV 5/5; 81/243] END algorithm=ball_tree, leaf_size=25, n_neighbors=25;, score=0.875 total time=   0.0s\n",
      "[CV 1/5; 82/243] START algorithm=kd_tree, leaf_size=2, n_neighbors=2............\n",
      "[CV 1/5; 91/243] END algorithm=kd_tree, leaf_size=3, n_neighbors=2;, score=0.958 total time=   0.0s\n",
      "[CV 1/5; 97/243] END algorithm=kd_tree, leaf_size=3, n_neighbors=15;, score=0.917 total time=   0.0s\n",
      "[CV 2/5; 97/243] START algorithm=kd_tree, leaf_size=3, n_neighbors=15...........\n",
      "[CV 2/5; 91/243] START algorithm=kd_tree, leaf_size=3, n_neighbors=2............\n",
      "[CV 2/5; 97/243] END algorithm=kd_tree, leaf_size=3, n_neighbors=15;, score=0.958 total time=   0.0s\n",
      "[CV 3/5; 97/243] START algorithm=kd_tree, leaf_size=3, n_neighbors=15...........\n",
      "[CV 2/5; 85/243] END algorithm=kd_tree, leaf_size=2, n_neighbors=5;, score=0.958 total time=   0.0s\n",
      "[CV 2/5; 79/243] END algorithm=ball_tree, leaf_size=25, n_neighbors=15;, score=0.958 total time=   0.0s\n",
      "[CV 3/5; 85/243] START algorithm=kd_tree, leaf_size=2, n_neighbors=5............\n",
      "[CV 3/5; 79/243] START algorithm=ball_tree, leaf_size=25, n_neighbors=15........\n",
      "[CV 2/5; 91/243] END algorithm=kd_tree, leaf_size=3, n_neighbors=2;, score=0.875 total time=   0.0s\n",
      "[CV 3/5; 91/243] START algorithm=kd_tree, leaf_size=3, n_neighbors=2............\n",
      "[CV 2/5; 94/243] END algorithm=kd_tree, leaf_size=3, n_neighbors=5;, score=0.958 total time=   0.0s\n",
      "[CV 3/5; 94/243] START algorithm=kd_tree, leaf_size=3, n_neighbors=5............\n",
      "[CV 1/5; 82/243] END algorithm=kd_tree, leaf_size=2, n_neighbors=2;, score=0.958 total time=   0.0s\n",
      "[CV 2/5; 82/243] START algorithm=kd_tree, leaf_size=2, n_neighbors=2............\n",
      "[CV 1/5; 88/243] END algorithm=kd_tree, leaf_size=2, n_neighbors=15;, score=0.917 total time=   0.0s\n",
      "[CV 2/5; 88/243] START algorithm=kd_tree, leaf_size=2, n_neighbors=15...........\n",
      "[CV 3/5; 97/243] END algorithm=kd_tree, leaf_size=3, n_neighbors=15;, score=1.000 total time=   0.0s\n",
      "[CV 4/5; 97/243] START algorithm=kd_tree, leaf_size=3, n_neighbors=15...........\n",
      "[CV 3/5; 94/243] END algorithm=kd_tree, leaf_size=3, n_neighbors=5;, score=1.000 total time=   0.0s\n",
      "[CV 4/5; 94/243] START algorithm=kd_tree, leaf_size=3, n_neighbors=5............\n",
      "[CV 3/5; 85/243] END algorithm=kd_tree, leaf_size=2, n_neighbors=5;, score=1.000 total time=   0.0s\n",
      "[CV 4/5; 85/243] START algorithm=kd_tree, leaf_size=2, n_neighbors=5............\n",
      "[CV 2/5; 82/243] END algorithm=kd_tree, leaf_size=2, n_neighbors=2;, score=0.875 total time=   0.0s\n",
      "[CV 3/5; 82/243] START algorithm=kd_tree, leaf_size=2, n_neighbors=2............\n",
      "[CV 2/5; 88/243] END algorithm=kd_tree, leaf_size=2, n_neighbors=15;, score=0.958 total time=   0.0s\n",
      "[CV 4/5; 94/243] END algorithm=kd_tree, leaf_size=3, n_neighbors=5;, score=1.000 total time=   0.0s\n",
      "[CV 3/5; 88/243] START algorithm=kd_tree, leaf_size=2, n_neighbors=15...........\n",
      "[CV 5/5; 94/243] START algorithm=kd_tree, leaf_size=3, n_neighbors=5............\n",
      "[CV 4/5; 97/243] END algorithm=kd_tree, leaf_size=3, n_neighbors=15;, score=0.958 total time=   0.0s\n",
      "[CV 5/5; 97/243] START algorithm=kd_tree, leaf_size=3, n_neighbors=15...........\n",
      "[CV 2/5; 76/243] END algorithm=ball_tree, leaf_size=25, n_neighbors=5;, score=0.958 total time=   0.0s\n",
      "[CV 3/5; 76/243] START algorithm=ball_tree, leaf_size=25, n_neighbors=5.........\n",
      "[CV 3/5; 91/243] END algorithm=kd_tree, leaf_size=3, n_neighbors=2;, score=0.958 total time=   0.0s\n",
      "[CV 4/5; 91/243] START algorithm=kd_tree, leaf_size=3, n_neighbors=2............\n",
      "[CV 3/5; 79/243] END algorithm=ball_tree, leaf_size=25, n_neighbors=15;, score=1.000 total time=   0.0s\n",
      "[CV 4/5; 79/243] START algorithm=ball_tree, leaf_size=25, n_neighbors=15........\n",
      "[CV 3/5; 76/243] END algorithm=ball_tree, leaf_size=25, n_neighbors=5;, score=1.000 total time=   0.0s\n",
      "[CV 4/5; 76/243] START algorithm=ball_tree, leaf_size=25, n_neighbors=5.........\n",
      "[CV 4/5; 91/243] END algorithm=kd_tree, leaf_size=3, n_neighbors=2;, score=0.917 total time=   0.0s\n",
      "[CV 4/5; 85/243] END algorithm=kd_tree, leaf_size=2, n_neighbors=5;, score=1.000 total time=   0.0s\n",
      "[CV 5/5; 85/243] START algorithm=kd_tree, leaf_size=2, n_neighbors=5............\n",
      "[CV 4/5; 79/243] END algorithm=ball_tree, leaf_size=25, n_neighbors=15;, score=0.958 total time=   0.0s\n",
      "[CV 5/5; 79/243] START algorithm=ball_tree, leaf_size=25, n_neighbors=15........\n",
      "[CV 5/5; 94/243] END algorithm=kd_tree, leaf_size=3, n_neighbors=5;, score=0.917 total time=   0.0s\n",
      "[CV 1/5; 95/243] START algorithm=kd_tree, leaf_size=3, n_neighbors=6............\n",
      "[CV 5/5; 97/243] END algorithm=kd_tree, leaf_size=3, n_neighbors=15;, score=0.917 total time=   0.0s\n",
      "[CV 1/5; 98/243] START algorithm=kd_tree, leaf_size=3, n_neighbors=20...........\n",
      "[CV 5/5; 91/243] START algorithm=kd_tree, leaf_size=3, n_neighbors=2............\n",
      "[CV 3/5; 88/243] END algorithm=kd_tree, leaf_size=2, n_neighbors=15;, score=1.000 total time=   0.0s\n",
      "[CV 4/5; 88/243] START algorithm=kd_tree, leaf_size=2, n_neighbors=15...........\n",
      "[CV 4/5; 76/243] END algorithm=ball_tree, leaf_size=25, n_neighbors=5;, score=1.000 total time=   0.0s\n",
      "[CV 5/5; 76/243] START algorithm=ball_tree, leaf_size=25, n_neighbors=5.........\n",
      "[CV 1/5; 95/243] END algorithm=kd_tree, leaf_size=3, n_neighbors=6;, score=0.958 total time=   0.0s\n",
      "[CV 2/5; 95/243] START algorithm=kd_tree, leaf_size=3, n_neighbors=6............\n",
      "[CV 5/5; 85/243] END algorithm=kd_tree, leaf_size=2, n_neighbors=5;, score=0.917 total time=   0.0s\n",
      "[CV 1/5; 86/243] START algorithm=kd_tree, leaf_size=2, n_neighbors=6............[CV 1/5; 98/243] END algorithm=kd_tree, leaf_size=3, n_neighbors=20;, score=0.875 total time=   0.0s\n",
      "[CV 2/5; 98/243] START algorithm=kd_tree, leaf_size=3, n_neighbors=20...........\n",
      "[CV 5/5; 91/243] END algorithm=kd_tree, leaf_size=3, n_neighbors=2;, score=0.917 total time=   0.0s\n",
      "[CV 1/5; 92/243] START algorithm=kd_tree, leaf_size=3, n_neighbors=3............\n",
      "\n",
      "[CV 5/5; 76/243] END algorithm=ball_tree, leaf_size=25, n_neighbors=5;, score=0.917 total time=   0.0s\n",
      "[CV 1/5; 77/243] START algorithm=ball_tree, leaf_size=25, n_neighbors=6.........\n",
      "[CV 4/5; 88/243] END algorithm=kd_tree, leaf_size=2, n_neighbors=15;, score=0.958 total time=   0.0s\n",
      "[CV 5/5; 88/243] START algorithm=kd_tree, leaf_size=2, n_neighbors=15...........\n",
      "[CV 2/5; 98/243] END algorithm=kd_tree, leaf_size=3, n_neighbors=20;, score=0.958 total time=   0.0s\n",
      "[CV 3/5; 98/243] START algorithm=kd_tree, leaf_size=3, n_neighbors=20...........\n",
      "[CV 1/5; 86/243] END algorithm=kd_tree, leaf_size=2, n_neighbors=6;, score=0.958 total time=   0.0s\n",
      "[CV 2/5; 86/243] START algorithm=kd_tree, leaf_size=2, n_neighbors=6............\n",
      "[CV 5/5; 88/243] END algorithm=kd_tree, leaf_size=2, n_neighbors=15;, score=0.917 total time=   0.0s\n",
      "[CV 1/5; 89/243] START algorithm=kd_tree, leaf_size=2, n_neighbors=20...........\n",
      "[CV 3/5; 98/243] END algorithm=kd_tree, leaf_size=3, n_neighbors=20;, score=1.000 total time=   0.0s\n",
      "[CV 3/5; 82/243] END algorithm=kd_tree, leaf_size=2, n_neighbors=2;, score=0.958 total time=   0.0s\n",
      "[CV 4/5; 82/243] START algorithm=kd_tree, leaf_size=2, n_neighbors=2............\n",
      "[CV 1/5; 92/243] END algorithm=kd_tree, leaf_size=3, n_neighbors=3;, score=0.958 total time=   0.0s\n",
      "[CV 5/5; 79/243] END algorithm=ball_tree, leaf_size=25, n_neighbors=15;, score=0.917 total time=   0.0s\n",
      "[CV 1/5; 80/243] START algorithm=ball_tree, leaf_size=25, n_neighbors=20........\n",
      "[CV 2/5; 86/243] END algorithm=kd_tree, leaf_size=2, n_neighbors=6;, score=1.000 total time=   0.0s\n",
      "[CV 3/5; 86/243] START algorithm=kd_tree, leaf_size=2, n_neighbors=6............\n",
      "[CV 4/5; 98/243] START algorithm=kd_tree, leaf_size=3, n_neighbors=20...........\n",
      "[CV 2/5; 95/243] END algorithm=kd_tree, leaf_size=3, n_neighbors=6;, score=1.000 total time=   0.0s\n",
      "[CV 3/5; 95/243] START algorithm=kd_tree, leaf_size=3, n_neighbors=6............\n",
      "[CV 4/5; 82/243] END algorithm=kd_tree, leaf_size=2, n_neighbors=2;, score=0.917 total time=   0.0s\n",
      "[CV 5/5; 82/243] START algorithm=kd_tree, leaf_size=2, n_neighbors=2............\n",
      "[CV 2/5; 92/243] START algorithm=kd_tree, leaf_size=3, n_neighbors=3............\n",
      "[CV 1/5; 80/243] END algorithm=ball_tree, leaf_size=25, n_neighbors=20;, score=0.875 total time=   0.0s\n",
      "[CV 2/5; 80/243] START algorithm=ball_tree, leaf_size=25, n_neighbors=20........\n",
      "[CV 3/5; 86/243] END algorithm=kd_tree, leaf_size=2, n_neighbors=6;, score=1.000 total time=   0.0s\n",
      "[CV 4/5; 86/243] START algorithm=kd_tree, leaf_size=2, n_neighbors=6............\n",
      "[CV 4/5; 98/243] END algorithm=kd_tree, leaf_size=3, n_neighbors=20;, score=0.958 total time=   0.0s\n",
      "[CV 5/5; 98/243] START algorithm=kd_tree, leaf_size=3, n_neighbors=20...........\n",
      "[CV 3/5; 95/243] END algorithm=kd_tree, leaf_size=3, n_neighbors=6;, score=1.000 total time=   0.0s\n",
      "[CV 4/5; 95/243] START algorithm=kd_tree, leaf_size=3, n_neighbors=6............\n",
      "[CV 1/5; 77/243] END algorithm=ball_tree, leaf_size=25, n_neighbors=6;, score=0.958 total time=   0.0s\n",
      "[CV 2/5; 77/243] START algorithm=ball_tree, leaf_size=25, n_neighbors=6.........\n",
      "[CV 5/5; 82/243] END algorithm=kd_tree, leaf_size=2, n_neighbors=2;, score=0.917 total time=   0.0s\n",
      "[CV 1/5; 83/243] START algorithm=kd_tree, leaf_size=2, n_neighbors=3............\n",
      "[CV 2/5; 80/243] END algorithm=ball_tree, leaf_size=25, n_neighbors=20;, score=0.958 total time=   0.0s\n",
      "[CV 3/5; 80/243] START algorithm=ball_tree, leaf_size=25, n_neighbors=20........\n",
      "[CV 2/5; 77/243] END algorithm=ball_tree, leaf_size=25, n_neighbors=6;, score=1.000 total time=   0.0s\n",
      "[CV 3/5; 77/243] START algorithm=ball_tree, leaf_size=25, n_neighbors=6.........\n",
      "[CV 4/5; 95/243] END algorithm=kd_tree, leaf_size=3, n_neighbors=6;, score=1.000 total time=   0.0s\n",
      "[CV 5/5; 95/243] START algorithm=kd_tree, leaf_size=3, n_neighbors=6............\n",
      "[CV 1/5; 89/243] END algorithm=kd_tree, leaf_size=2, n_neighbors=20;, score=0.875 total time=   0.0s\n",
      "[CV 2/5; 89/243] START algorithm=kd_tree, leaf_size=2, n_neighbors=20...........\n",
      "[CV 1/5; 83/243] END algorithm=kd_tree, leaf_size=2, n_neighbors=3;, score=0.958 total time=   0.0s\n",
      "[CV 2/5; 83/243] START algorithm=kd_tree, leaf_size=2, n_neighbors=3............\n",
      "[CV 3/5; 80/243] END algorithm=ball_tree, leaf_size=25, n_neighbors=20;, score=1.000 total time=   0.0s[CV 2/5; 92/243] END algorithm=kd_tree, leaf_size=3, n_neighbors=3;, score=0.917 total time=   0.0s\n",
      "\n",
      "[CV 3/5; 92/243] START algorithm=kd_tree, leaf_size=3, n_neighbors=3............\n",
      "[CV 4/5; 80/243] START algorithm=ball_tree, leaf_size=25, n_neighbors=20........\n",
      "[CV 3/5; 77/243] END algorithm=ball_tree, leaf_size=25, n_neighbors=6;, score=1.000 total time=   0.0s\n",
      "[CV 5/5; 95/243] END algorithm=kd_tree, leaf_size=3, n_neighbors=6;, score=0.917 total time=   0.0s\n",
      "[CV 4/5; 77/243] START algorithm=ball_tree, leaf_size=25, n_neighbors=6.........\n",
      "[CV 1/5; 96/243] START algorithm=kd_tree, leaf_size=3, n_neighbors=10...........\n",
      "[CV 3/5; 92/243] END algorithm=kd_tree, leaf_size=3, n_neighbors=3;, score=1.000 total time=   0.0s\n",
      "[CV 2/5; 89/243] END algorithm=kd_tree, leaf_size=2, n_neighbors=20;, score=0.958 total time=   0.0s\n",
      "[CV 4/5; 92/243] START algorithm=kd_tree, leaf_size=3, n_neighbors=3............\n",
      "[CV 4/5; 80/243] END algorithm=ball_tree, leaf_size=25, n_neighbors=20;, score=0.958 total time=   0.0s\n",
      "[CV 3/5; 89/243] START algorithm=kd_tree, leaf_size=2, n_neighbors=20...........\n",
      "[CV 5/5; 80/243] START algorithm=ball_tree, leaf_size=25, n_neighbors=20........\n",
      "[CV 2/5; 83/243] END algorithm=kd_tree, leaf_size=2, n_neighbors=3;, score=0.917 total time=   0.0s\n",
      "[CV 3/5; 83/243] START algorithm=kd_tree, leaf_size=2, n_neighbors=3............\n",
      "[CV 5/5; 98/243] END algorithm=kd_tree, leaf_size=3, n_neighbors=20;, score=0.917 total time=   0.0s\n",
      "[CV 1/5; 99/243] START algorithm=kd_tree, leaf_size=3, n_neighbors=25...........\n",
      "[CV 1/5; 96/243] END algorithm=kd_tree, leaf_size=3, n_neighbors=10;, score=0.917 total time=   0.0s\n",
      "[CV 2/5; 96/243] START algorithm=kd_tree, leaf_size=3, n_neighbors=10...........\n",
      "[CV 4/5; 77/243] END algorithm=ball_tree, leaf_size=25, n_neighbors=6;, score=1.000 total time=   0.0s\n",
      "[CV 5/5; 80/243] END algorithm=ball_tree, leaf_size=25, n_neighbors=20;, score=0.917 total time=   0.0s\n",
      "[CV 2/5; 100/243] START algorithm=kd_tree, leaf_size=4, n_neighbors=2...........\n",
      "[CV 4/5; 86/243] END algorithm=kd_tree, leaf_size=2, n_neighbors=6;, score=1.000 total time=   0.0s\n",
      "[CV 5/5; 86/243] START algorithm=kd_tree, leaf_size=2, n_neighbors=6............\n",
      "[CV 3/5; 89/243] END algorithm=kd_tree, leaf_size=2, n_neighbors=20;, score=1.000 total time=   0.0s\n",
      "[CV 4/5; 89/243] START algorithm=kd_tree, leaf_size=2, n_neighbors=20...........\n",
      "[CV 3/5; 83/243] END algorithm=kd_tree, leaf_size=2, n_neighbors=3;, score=1.000 total time=   0.0s\n",
      "[CV 4/5; 83/243] START algorithm=kd_tree, leaf_size=2, n_neighbors=3............\n",
      "[CV 1/5; 99/243] END algorithm=kd_tree, leaf_size=3, n_neighbors=25;, score=0.875 total time=   0.0s\n",
      "[CV 2/5; 99/243] START algorithm=kd_tree, leaf_size=3, n_neighbors=25...........\n",
      "[CV 4/5; 92/243] END algorithm=kd_tree, leaf_size=3, n_neighbors=3;, score=0.958 total time=   0.0s\n",
      "[CV 5/5; 92/243] START algorithm=kd_tree, leaf_size=3, n_neighbors=3............\n",
      "[CV 5/5; 86/243] END algorithm=kd_tree, leaf_size=2, n_neighbors=6;, score=0.917 total time=   0.0s\n",
      "[CV 1/5; 87/243] START algorithm=kd_tree, leaf_size=2, n_neighbors=10...........\n",
      "[CV 4/5; 89/243] END algorithm=kd_tree, leaf_size=2, n_neighbors=20;, score=0.958 total time=   0.0s\n",
      "[CV 5/5; 89/243] START algorithm=kd_tree, leaf_size=2, n_neighbors=20...........\n",
      "[CV 3/5; 103/243] START algorithm=kd_tree, leaf_size=4, n_neighbors=5...........\n",
      "[CV 5/5; 92/243] END algorithm=kd_tree, leaf_size=3, n_neighbors=3;, score=0.917 total time=   0.0s\n",
      "[CV 1/5; 93/243] START algorithm=kd_tree, leaf_size=3, n_neighbors=4............\n",
      "[CV 2/5; 96/243] END algorithm=kd_tree, leaf_size=3, n_neighbors=10;, score=1.000 total time=   0.0s\n",
      "[CV 3/5; 96/243] START algorithm=kd_tree, leaf_size=3, n_neighbors=10...........\n",
      "[CV 1/5; 87/243] END algorithm=kd_tree, leaf_size=2, n_neighbors=10;, score=0.917 total time=   0.0s\n",
      "[CV 2/5; 87/243] START algorithm=kd_tree, leaf_size=2, n_neighbors=10...........\n",
      "[CV 3/5; 96/243] END algorithm=kd_tree, leaf_size=3, n_neighbors=10;, score=1.000 total time=   0.0s\n",
      "[CV 2/5; 100/243] END algorithm=kd_tree, leaf_size=4, n_neighbors=2;, score=0.875 total time=   0.0s\n",
      "[CV 4/5; 96/243] START algorithm=kd_tree, leaf_size=3, n_neighbors=10...........\n",
      "[CV 3/5; 100/243] START algorithm=kd_tree, leaf_size=4, n_neighbors=2...........\n",
      "[CV 2/5; 87/243] END algorithm=kd_tree, leaf_size=2, n_neighbors=10;, score=1.000 total time=   0.0s\n",
      "[CV 4/5; 106/243] START algorithm=kd_tree, leaf_size=4, n_neighbors=15..........\n",
      "[CV 3/5; 103/243] END algorithm=kd_tree, leaf_size=4, n_neighbors=5;, score=1.000 total time=   0.0s\n",
      "[CV 4/5; 103/243] START algorithm=kd_tree, leaf_size=4, n_neighbors=5...........\n",
      "[CV 2/5; 99/243] END algorithm=kd_tree, leaf_size=3, n_neighbors=25;, score=0.958 total time=   0.0s\n",
      "[CV 3/5; 99/243] START algorithm=kd_tree, leaf_size=3, n_neighbors=25...........\n",
      "[CV 3/5; 100/243] END algorithm=kd_tree, leaf_size=4, n_neighbors=2;, score=0.958 total time=   0.0s\n",
      "[CV 4/5; 100/243] START algorithm=kd_tree, leaf_size=4, n_neighbors=2...........\n",
      "[CV 4/5; 83/243] END algorithm=kd_tree, leaf_size=2, n_neighbors=3;, score=0.958 total time=   0.0s\n",
      "[CV 5/5; 83/243] START algorithm=kd_tree, leaf_size=2, n_neighbors=3............\n",
      "[CV 1/5; 93/243] END algorithm=kd_tree, leaf_size=3, n_neighbors=4;, score=0.958 total time=   0.0s\n",
      "[CV 2/5; 93/243] START algorithm=kd_tree, leaf_size=3, n_neighbors=4............\n",
      "[CV 4/5; 100/243] END algorithm=kd_tree, leaf_size=4, n_neighbors=2;, score=0.917 total time=   0.0s\n",
      "[CV 5/5; 89/243] END algorithm=kd_tree, leaf_size=2, n_neighbors=20;, score=0.917 total time=   0.0s\n",
      "[CV 5/5; 100/243] START algorithm=kd_tree, leaf_size=4, n_neighbors=2...........\n",
      "[CV 1/5; 90/243] START algorithm=kd_tree, leaf_size=2, n_neighbors=25...........\n",
      "[CV 3/5; 99/243] END algorithm=kd_tree, leaf_size=3, n_neighbors=25;, score=1.000 total time=   0.0s\n",
      "[CV 4/5; 99/243] START algorithm=kd_tree, leaf_size=3, n_neighbors=25...........\n",
      "[CV 5/5; 83/243] END algorithm=kd_tree, leaf_size=2, n_neighbors=3;, score=0.917 total time=   0.0s\n",
      "[CV 1/5; 84/243] START algorithm=kd_tree, leaf_size=2, n_neighbors=4............\n",
      "[CV 2/5; 93/243] END algorithm=kd_tree, leaf_size=3, n_neighbors=4;, score=0.917 total time=   0.0s\n",
      "[CV 3/5; 93/243] START algorithm=kd_tree, leaf_size=3, n_neighbors=4............\n",
      "[CV 1/5; 84/243] END algorithm=kd_tree, leaf_size=2, n_neighbors=4;, score=0.958 total time=   0.0s\n",
      "[CV 4/5; 103/243] END algorithm=kd_tree, leaf_size=4, n_neighbors=5;, score=1.000 total time=   0.0s\n",
      "[CV 5/5; 103/243] START algorithm=kd_tree, leaf_size=4, n_neighbors=5...........\n",
      "[CV 4/5; 96/243] END algorithm=kd_tree, leaf_size=3, n_neighbors=10;, score=1.000 total time=   0.0s[CV 4/5; 106/243] END algorithm=kd_tree, leaf_size=4, n_neighbors=15;, score=0.958 total time=   0.0s\n",
      "[CV 5/5; 106/243] START algorithm=kd_tree, leaf_size=4, n_neighbors=15..........\n",
      "[CV 5/5; 109/243] START algorithm=kd_tree, leaf_size=5, n_neighbors=2...........\n",
      "\n",
      "[CV 5/5; 96/243] START algorithm=kd_tree, leaf_size=3, n_neighbors=10...........\n",
      "[CV 3/5; 93/243] END algorithm=kd_tree, leaf_size=3, n_neighbors=4;, score=1.000 total time=   0.0s\n",
      "[CV 4/5; 93/243] START algorithm=kd_tree, leaf_size=3, n_neighbors=4............\n",
      "[CV 5/5; 103/243] END algorithm=kd_tree, leaf_size=4, n_neighbors=5;, score=0.917 total time=   0.0s\n",
      "[CV 1/5; 104/243] START algorithm=kd_tree, leaf_size=4, n_neighbors=6...........\n",
      "[CV 5/5; 106/243] END algorithm=kd_tree, leaf_size=4, n_neighbors=15;, score=0.917 total time=   0.0s\n",
      "[CV 1/5; 107/243] START algorithm=kd_tree, leaf_size=4, n_neighbors=20..........\n",
      "[CV 5/5; 100/243] END algorithm=kd_tree, leaf_size=4, n_neighbors=2;, score=0.917 total time=   0.0s\n",
      "[CV 1/5; 90/243] END algorithm=kd_tree, leaf_size=2, n_neighbors=25;, score=0.875 total time=   0.0s\n",
      "[CV 1/5; 101/243] START algorithm=kd_tree, leaf_size=4, n_neighbors=3...........\n",
      "[CV 2/5; 90/243] START algorithm=kd_tree, leaf_size=2, n_neighbors=25...........\n",
      "[CV 1/5; 104/243] END algorithm=kd_tree, leaf_size=4, n_neighbors=6;, score=0.958 total time=   0.0s\n",
      "[CV 4/5; 99/243] END algorithm=kd_tree, leaf_size=3, n_neighbors=25;, score=0.958 total time=   0.0s\n",
      "[CV 2/5; 104/243] START algorithm=kd_tree, leaf_size=4, n_neighbors=6...........\n",
      "[CV 5/5; 99/243] START algorithm=kd_tree, leaf_size=3, n_neighbors=25...........\n",
      "[CV 5/5; 96/243] END algorithm=kd_tree, leaf_size=3, n_neighbors=10;, score=0.917 total time=   0.0s\n",
      "[CV 1/5; 101/243] END algorithm=kd_tree, leaf_size=4, n_neighbors=3;, score=0.958 total time=   0.0s\n",
      "[CV 1/5; 113/243] START algorithm=kd_tree, leaf_size=5, n_neighbors=6...........\n",
      "[CV 4/5; 93/243] END algorithm=kd_tree, leaf_size=3, n_neighbors=4;, score=0.958 total time=   0.0s\n",
      "[CV 2/5; 101/243] START algorithm=kd_tree, leaf_size=4, n_neighbors=3...........\n",
      "[CV 2/5; 116/243] START algorithm=kd_tree, leaf_size=5, n_neighbors=20..........\n",
      "[CV 2/5; 90/243] END algorithm=kd_tree, leaf_size=2, n_neighbors=25;, score=0.958 total time=   0.0s\n",
      "[CV 3/5; 90/243] START algorithm=kd_tree, leaf_size=2, n_neighbors=25...........\n",
      "[CV 5/5; 99/243] END algorithm=kd_tree, leaf_size=3, n_neighbors=25;, score=0.875 total time=   0.0s\n",
      "[CV 1/5; 100/243] START algorithm=kd_tree, leaf_size=4, n_neighbors=2...........\n",
      "[CV 1/5; 113/243] END algorithm=kd_tree, leaf_size=5, n_neighbors=6;, score=0.958 total time=   0.0s\n",
      "[CV 2/5; 113/243] START algorithm=kd_tree, leaf_size=5, n_neighbors=6...........\n",
      "[CV 2/5; 116/243] END algorithm=kd_tree, leaf_size=5, n_neighbors=20;, score=0.958 total time=   0.0s\n",
      "[CV 3/5; 116/243] START algorithm=kd_tree, leaf_size=5, n_neighbors=20..........\n",
      "[CV 1/5; 107/243] END algorithm=kd_tree, leaf_size=4, n_neighbors=20;, score=0.875 total time=   0.0s\n",
      "[CV 2/5; 107/243] START algorithm=kd_tree, leaf_size=4, n_neighbors=20..........\n",
      "[CV 5/5; 109/243] END algorithm=kd_tree, leaf_size=5, n_neighbors=2;, score=0.917 total time=   0.0s\n",
      "[CV 1/5; 110/243] START algorithm=kd_tree, leaf_size=5, n_neighbors=3...........\n",
      "[CV 3/5; 90/243] END algorithm=kd_tree, leaf_size=2, n_neighbors=25;, score=1.000 total time=   0.0s\n",
      "[CV 1/5; 100/243] END algorithm=kd_tree, leaf_size=4, n_neighbors=2;, score=0.958 total time=   0.0s\n",
      "[CV 2/5; 101/243] END algorithm=kd_tree, leaf_size=4, n_neighbors=3;, score=0.917 total time=   0.0s\n",
      "[CV 3/5; 101/243] START algorithm=kd_tree, leaf_size=4, n_neighbors=3...........\n",
      "[CV 2/5; 107/243] END algorithm=kd_tree, leaf_size=4, n_neighbors=20;, score=0.958 total time=   0.0s\n",
      "[CV 3/5; 116/243] END algorithm=kd_tree, leaf_size=5, n_neighbors=20;, score=1.000 total time=   0.0s\n",
      "[CV 3/5; 107/243] START algorithm=kd_tree, leaf_size=4, n_neighbors=20..........\n",
      "[CV 4/5; 116/243] START algorithm=kd_tree, leaf_size=5, n_neighbors=20..........\n",
      "[CV 1/5; 110/243] END algorithm=kd_tree, leaf_size=5, n_neighbors=3;, score=0.958 total time=   0.0s\n",
      "[CV 2/5; 110/243] START algorithm=kd_tree, leaf_size=5, n_neighbors=3...........\n",
      "[CV 4/5; 122/243] START algorithm=kd_tree, leaf_size=6, n_neighbors=6...........\n",
      "[CV 3/5; 119/243] START algorithm=kd_tree, leaf_size=6, n_neighbors=3...........\n",
      "[CV 3/5; 101/243] END algorithm=kd_tree, leaf_size=4, n_neighbors=3;, score=1.000 total time=   0.0s\n",
      "[CV 4/5; 101/243] START algorithm=kd_tree, leaf_size=4, n_neighbors=3...........\n",
      "[CV 4/5; 122/243] END algorithm=kd_tree, leaf_size=6, n_neighbors=6;, score=1.000 total time=   0.0s\n",
      "[CV 5/5; 122/243] START algorithm=kd_tree, leaf_size=6, n_neighbors=6...........\n",
      "[CV 3/5; 119/243] END algorithm=kd_tree, leaf_size=6, n_neighbors=3;, score=1.000 total time=   0.0s\n",
      "[CV 4/5; 119/243] START algorithm=kd_tree, leaf_size=6, n_neighbors=3...........\n",
      "[CV 4/5; 101/243] END algorithm=kd_tree, leaf_size=4, n_neighbors=3;, score=0.958 total time=   0.0s\n",
      "[CV 5/5; 101/243] START algorithm=kd_tree, leaf_size=4, n_neighbors=3...........\n",
      "[CV 2/5; 104/243] END algorithm=kd_tree, leaf_size=4, n_neighbors=6;, score=1.000 total time=   0.0s\n",
      "[CV 3/5; 104/243] START algorithm=kd_tree, leaf_size=4, n_neighbors=6...........\n",
      "[CV 5/5; 101/243] END algorithm=kd_tree, leaf_size=4, n_neighbors=3;, score=0.917 total time=   0.0s\n",
      "[CV 1/5; 102/243] START algorithm=kd_tree, leaf_size=4, n_neighbors=4...........\n",
      "[CV 2/5; 113/243] END algorithm=kd_tree, leaf_size=5, n_neighbors=6;, score=1.000 total time=   0.0s\n",
      "[CV 3/5; 113/243] START algorithm=kd_tree, leaf_size=5, n_neighbors=6...........\n",
      "[CV 4/5; 119/243] END algorithm=kd_tree, leaf_size=6, n_neighbors=3;, score=0.958 total time=   0.0s\n",
      "[CV 5/5; 119/243] START algorithm=kd_tree, leaf_size=6, n_neighbors=3...........[CV 5/5; 122/243] END algorithm=kd_tree, leaf_size=6, n_neighbors=6;, score=0.917 total time=   0.0s\n",
      "\n",
      "[CV 1/5; 123/243] START algorithm=kd_tree, leaf_size=6, n_neighbors=10..........\n",
      "[CV 3/5; 107/243] END algorithm=kd_tree, leaf_size=4, n_neighbors=20;, score=1.000 total time=   0.0s\n",
      "[CV 4/5; 107/243] START algorithm=kd_tree, leaf_size=4, n_neighbors=20..........\n",
      "[CV 3/5; 113/243] END algorithm=kd_tree, leaf_size=5, n_neighbors=6;, score=1.000 total time=   0.0s\n",
      "[CV 4/5; 113/243] START algorithm=kd_tree, leaf_size=5, n_neighbors=6...........\n",
      "[CV 4/5; 116/243] END algorithm=kd_tree, leaf_size=5, n_neighbors=20;, score=0.958 total time=   0.0s\n",
      "[CV 4/5; 107/243] END algorithm=kd_tree, leaf_size=4, n_neighbors=20;, score=0.958 total time=   0.0s\n",
      "[CV 5/5; 107/243] START algorithm=kd_tree, leaf_size=4, n_neighbors=20..........[CV 5/5; 119/243] END algorithm=kd_tree, leaf_size=6, n_neighbors=3;, score=0.917 total time=   0.0s\n",
      "[CV 1/5; 120/243] START algorithm=kd_tree, leaf_size=6, n_neighbors=4...........\n",
      "\n",
      "[CV 2/5; 110/243] END algorithm=kd_tree, leaf_size=5, n_neighbors=3;, score=0.917 total time=   0.0s\n",
      "[CV 1/5; 123/243] END algorithm=kd_tree, leaf_size=6, n_neighbors=10;, score=0.917 total time=   0.0s\n",
      "[CV 2/5; 123/243] START algorithm=kd_tree, leaf_size=6, n_neighbors=10..........\n",
      "[CV 3/5; 110/243] START algorithm=kd_tree, leaf_size=5, n_neighbors=3...........\n",
      "[CV 5/5; 116/243] START algorithm=kd_tree, leaf_size=5, n_neighbors=20..........\n",
      "[CV 1/5; 120/243] END algorithm=kd_tree, leaf_size=6, n_neighbors=4;, score=0.958 total time=   0.0s\n",
      "[CV 2/5; 120/243] START algorithm=kd_tree, leaf_size=6, n_neighbors=4...........\n",
      "[CV 3/5; 104/243] END algorithm=kd_tree, leaf_size=4, n_neighbors=6;, score=1.000 total time=   0.0s\n",
      "[CV 4/5; 104/243] START algorithm=kd_tree, leaf_size=4, n_neighbors=6...........\n",
      "[CV 3/5; 110/243] END algorithm=kd_tree, leaf_size=5, n_neighbors=3;, score=1.000 total time=   0.0s\n",
      "[CV 4/5; 110/243] START algorithm=kd_tree, leaf_size=5, n_neighbors=3...........\n",
      "[CV 4/5; 113/243] END algorithm=kd_tree, leaf_size=5, n_neighbors=6;, score=1.000 total time=   0.0s\n",
      "[CV 5/5; 113/243] START algorithm=kd_tree, leaf_size=5, n_neighbors=6...........\n",
      "[CV 2/5; 120/243] END algorithm=kd_tree, leaf_size=6, n_neighbors=4;, score=0.917 total time=   0.0s\n",
      "[CV 5/5; 116/243] END algorithm=kd_tree, leaf_size=5, n_neighbors=20;, score=0.917 total time=   0.0s\n",
      "[CV 1/5; 117/243] START algorithm=kd_tree, leaf_size=5, n_neighbors=25..........\n",
      "[CV 5/5; 107/243] END algorithm=kd_tree, leaf_size=4, n_neighbors=20;, score=0.917 total time=   0.0s\n",
      "[CV 1/5; 108/243] START algorithm=kd_tree, leaf_size=4, n_neighbors=25..........\n",
      "[CV 4/5; 104/243] END algorithm=kd_tree, leaf_size=4, n_neighbors=6;, score=1.000 total time=   0.0s\n",
      "[CV 5/5; 104/243] START algorithm=kd_tree, leaf_size=4, n_neighbors=6...........\n",
      "[CV 2/5; 123/243] END algorithm=kd_tree, leaf_size=6, n_neighbors=10;, score=1.000 total time=   0.0s\n",
      "[CV 3/5; 123/243] START algorithm=kd_tree, leaf_size=6, n_neighbors=10..........\n",
      "[CV 5/5; 104/243] END algorithm=kd_tree, leaf_size=4, n_neighbors=6;, score=0.917 total time=   0.0s\n",
      "[CV 1/5; 105/243] START algorithm=kd_tree, leaf_size=4, n_neighbors=10..........\n",
      "[CV 1/5; 117/243] END algorithm=kd_tree, leaf_size=5, n_neighbors=25;, score=0.875 total time=   0.0s\n",
      "[CV 1/5; 102/243] END algorithm=kd_tree, leaf_size=4, n_neighbors=4;, score=0.958 total time=   0.0s\n",
      "[CV 2/5; 102/243] START algorithm=kd_tree, leaf_size=4, n_neighbors=4...........\n",
      "[CV 2/5; 117/243] START algorithm=kd_tree, leaf_size=5, n_neighbors=25..........[CV 5/5; 113/243] END algorithm=kd_tree, leaf_size=5, n_neighbors=6;, score=0.917 total time=   0.0s\n",
      "[CV 1/5; 114/243] START algorithm=kd_tree, leaf_size=5, n_neighbors=10..........\n",
      "[CV 4/5; 110/243] END algorithm=kd_tree, leaf_size=5, n_neighbors=3;, score=0.958 total time=   0.0s\n",
      "[CV 5/5; 110/243] START algorithm=kd_tree, leaf_size=5, n_neighbors=3...........\n",
      "\n",
      "[CV 3/5; 123/243] END algorithm=kd_tree, leaf_size=6, n_neighbors=10;, score=1.000 total time=   0.0s\n",
      "[CV 4/5; 123/243] START algorithm=kd_tree, leaf_size=6, n_neighbors=10..........\n",
      "[CV 1/5; 105/243] END algorithm=kd_tree, leaf_size=4, n_neighbors=10;, score=0.917 total time=   0.0s\n",
      "[CV 2/5; 102/243] END algorithm=kd_tree, leaf_size=4, n_neighbors=4;, score=0.917 total time=   0.0s\n",
      "[CV 2/5; 105/243] START algorithm=kd_tree, leaf_size=4, n_neighbors=10..........\n",
      "[CV 3/5; 102/243] START algorithm=kd_tree, leaf_size=4, n_neighbors=4...........\n",
      "[CV 5/5; 110/243] END algorithm=kd_tree, leaf_size=5, n_neighbors=3;, score=0.917 total time=   0.0s\n",
      "[CV 1/5; 111/243] START algorithm=kd_tree, leaf_size=5, n_neighbors=4...........\n",
      "[CV 1/5; 108/243] END algorithm=kd_tree, leaf_size=4, n_neighbors=25;, score=0.875 total time=   0.0s\n",
      "[CV 2/5; 108/243] START algorithm=kd_tree, leaf_size=4, n_neighbors=25..........[CV 3/5; 120/243] START algorithm=kd_tree, leaf_size=6, n_neighbors=4...........\n",
      "[CV 2/5; 117/243] END algorithm=kd_tree, leaf_size=5, n_neighbors=25;, score=0.958 total time=   0.0s\n",
      "[CV 3/5; 117/243] START algorithm=kd_tree, leaf_size=5, n_neighbors=25..........\n",
      "[CV 1/5; 114/243] END algorithm=kd_tree, leaf_size=5, n_neighbors=10;, score=0.917 total time=   0.0s\n",
      "[CV 2/5; 114/243] START algorithm=kd_tree, leaf_size=5, n_neighbors=10..........\n",
      "\n",
      "[CV 4/5; 123/243] END algorithm=kd_tree, leaf_size=6, n_neighbors=10;, score=1.000 total time=   0.0s\n",
      "[CV 5/5; 123/243] START algorithm=kd_tree, leaf_size=6, n_neighbors=10..........\n",
      "[CV 2/5; 105/243] END algorithm=kd_tree, leaf_size=4, n_neighbors=10;, score=1.000 total time=   0.0s\n",
      "[CV 3/5; 105/243] START algorithm=kd_tree, leaf_size=4, n_neighbors=10..........\n",
      "[CV 1/5; 111/243] END algorithm=kd_tree, leaf_size=5, n_neighbors=4;, score=0.958 total time=   0.0s\n",
      "[CV 3/5; 105/243] END algorithm=kd_tree, leaf_size=4, n_neighbors=10;, score=1.000 total time=   0.0s\n",
      "[CV 2/5; 111/243] START algorithm=kd_tree, leaf_size=5, n_neighbors=4...........\n",
      "[CV 4/5; 105/243] START algorithm=kd_tree, leaf_size=4, n_neighbors=10..........\n",
      "[CV 2/5; 108/243] END algorithm=kd_tree, leaf_size=4, n_neighbors=25;, score=0.958 total time=   0.0s\n",
      "[CV 3/5; 108/243] START algorithm=kd_tree, leaf_size=4, n_neighbors=25..........\n",
      "[CV 5/5; 123/243] END algorithm=kd_tree, leaf_size=6, n_neighbors=10;, score=0.917 total time=   0.0s\n",
      "[CV 1/5; 124/243] START algorithm=kd_tree, leaf_size=6, n_neighbors=15..........\n",
      "[CV 3/5; 120/243] END algorithm=kd_tree, leaf_size=6, n_neighbors=4;, score=1.000 total time=   0.0s\n",
      "[CV 4/5; 120/243] START algorithm=kd_tree, leaf_size=6, n_neighbors=4...........\n",
      "[CV 3/5; 102/243] END algorithm=kd_tree, leaf_size=4, n_neighbors=4;, score=1.000 total time=   0.0s\n",
      "[CV 4/5; 102/243] START algorithm=kd_tree, leaf_size=4, n_neighbors=4...........\n",
      "[CV 4/5; 105/243] END algorithm=kd_tree, leaf_size=4, n_neighbors=10;, score=1.000 total time=   0.0s\n",
      "[CV 5/5; 105/243] START algorithm=kd_tree, leaf_size=4, n_neighbors=10..........\n",
      "[CV 2/5; 111/243] END algorithm=kd_tree, leaf_size=5, n_neighbors=4;, score=0.917 total time=   0.0s\n",
      "[CV 3/5; 111/243] START algorithm=kd_tree, leaf_size=5, n_neighbors=4...........\n",
      "[CV 1/5; 124/243] END algorithm=kd_tree, leaf_size=6, n_neighbors=15;, score=0.917 total time=   0.0s\n",
      "[CV 2/5; 114/243] END algorithm=kd_tree, leaf_size=5, n_neighbors=10;, score=1.000 total time=   0.0s\n",
      "[CV 3/5; 114/243] START algorithm=kd_tree, leaf_size=5, n_neighbors=10..........\n",
      "[CV 3/5; 108/243] END algorithm=kd_tree, leaf_size=4, n_neighbors=25;, score=1.000 total time=   0.0s\n",
      "[CV 4/5; 108/243] START algorithm=kd_tree, leaf_size=4, n_neighbors=25..........\n",
      "[CV 4/5; 120/243] END algorithm=kd_tree, leaf_size=6, n_neighbors=4;, score=0.958 total time=   0.0s\n",
      "[CV 5/5; 120/243] START algorithm=kd_tree, leaf_size=6, n_neighbors=4...........\n",
      "[CV 5/5; 105/243] END algorithm=kd_tree, leaf_size=4, n_neighbors=10;, score=0.917 total time=   0.0s\n",
      "[CV 1/5; 106/243] START algorithm=kd_tree, leaf_size=4, n_neighbors=15..........\n",
      "[CV 3/5; 117/243] END algorithm=kd_tree, leaf_size=5, n_neighbors=25;, score=1.000 total time=   0.0s\n",
      "[CV 4/5; 117/243] START algorithm=kd_tree, leaf_size=5, n_neighbors=25..........\n",
      "[CV 5/5; 120/243] END algorithm=kd_tree, leaf_size=6, n_neighbors=4;, score=0.875 total time=   0.0s\n",
      "[CV 1/5; 121/243] START algorithm=kd_tree, leaf_size=6, n_neighbors=5...........\n",
      "[CV 4/5; 108/243] END algorithm=kd_tree, leaf_size=4, n_neighbors=25;, score=0.958 total time=   0.0s\n",
      "[CV 5/5; 108/243] START algorithm=kd_tree, leaf_size=4, n_neighbors=25..........\n",
      "[CV 3/5; 114/243] END algorithm=kd_tree, leaf_size=5, n_neighbors=10;, score=1.000 total time=   0.0s\n",
      "[CV 4/5; 114/243] START algorithm=kd_tree, leaf_size=5, n_neighbors=10..........\n",
      "[CV 2/5; 124/243] START algorithm=kd_tree, leaf_size=6, n_neighbors=15..........\n",
      "[CV 4/5; 102/243] END algorithm=kd_tree, leaf_size=4, n_neighbors=4;, score=0.958 total time=   0.0s\n",
      "[CV 5/5; 102/243] START algorithm=kd_tree, leaf_size=4, n_neighbors=4...........\n",
      "[CV 4/5; 117/243] END algorithm=kd_tree, leaf_size=5, n_neighbors=25;, score=0.958 total time=   0.0s\n",
      "[CV 5/5; 117/243] START algorithm=kd_tree, leaf_size=5, n_neighbors=25..........\n",
      "[CV 5/5; 108/243] END algorithm=kd_tree, leaf_size=4, n_neighbors=25;, score=0.875 total time=   0.0s\n",
      "[CV 1/5; 109/243] START algorithm=kd_tree, leaf_size=5, n_neighbors=2...........\n",
      "[CV 3/5; 111/243] END algorithm=kd_tree, leaf_size=5, n_neighbors=4;, score=1.000 total time=   0.0s\n",
      "[CV 4/5; 111/243] START algorithm=kd_tree, leaf_size=5, n_neighbors=4...........\n",
      "[CV 5/5; 102/243] END algorithm=kd_tree, leaf_size=4, n_neighbors=4;, score=0.875 total time=   0.0s\n",
      "[CV 5/5; 117/243] END algorithm=kd_tree, leaf_size=5, n_neighbors=25;, score=0.875 total time=   0.0s\n",
      "[CV 1/5; 103/243] START algorithm=kd_tree, leaf_size=4, n_neighbors=5...........\n",
      "[CV 1/5; 118/243] START algorithm=kd_tree, leaf_size=6, n_neighbors=2...........\n",
      "[CV 4/5; 114/243] END algorithm=kd_tree, leaf_size=5, n_neighbors=10;, score=1.000 total time=   0.0s\n",
      "[CV 5/5; 114/243] START algorithm=kd_tree, leaf_size=5, n_neighbors=10..........\n",
      "[CV 1/5; 109/243] END algorithm=kd_tree, leaf_size=5, n_neighbors=2;, score=0.958 total time=   0.0s\n",
      "[CV 2/5; 109/243] START algorithm=kd_tree, leaf_size=5, n_neighbors=2...........\n",
      "[CV 2/5; 124/243] END algorithm=kd_tree, leaf_size=6, n_neighbors=15;, score=0.958 total time=   0.0s\n",
      "[CV 3/5; 124/243] START algorithm=kd_tree, leaf_size=6, n_neighbors=15..........\n",
      "[CV 1/5; 103/243] END algorithm=kd_tree, leaf_size=4, n_neighbors=5;, score=0.958 total time=   0.0s\n",
      "[CV 2/5; 103/243] START algorithm=kd_tree, leaf_size=4, n_neighbors=5...........\n",
      "[CV 4/5; 111/243] END algorithm=kd_tree, leaf_size=5, n_neighbors=4;, score=0.958 total time=   0.0s\n",
      "[CV 5/5; 111/243] START algorithm=kd_tree, leaf_size=5, n_neighbors=4...........\n",
      "[CV 1/5; 121/243] END algorithm=kd_tree, leaf_size=6, n_neighbors=5;, score=0.958 total time=   0.0s\n",
      "[CV 2/5; 121/243] START algorithm=kd_tree, leaf_size=6, n_neighbors=5...........\n",
      "[CV 5/5; 114/243] END algorithm=kd_tree, leaf_size=5, n_neighbors=10;, score=0.917 total time=   0.0s\n",
      "[CV 1/5; 115/243] START algorithm=kd_tree, leaf_size=5, n_neighbors=15..........\n",
      "[CV 1/5; 106/243] END algorithm=kd_tree, leaf_size=4, n_neighbors=15;, score=0.917 total time=   0.0s\n",
      "[CV 2/5; 106/243] START algorithm=kd_tree, leaf_size=4, n_neighbors=15..........\n",
      "[CV 3/5; 124/243] END algorithm=kd_tree, leaf_size=6, n_neighbors=15;, score=1.000 total time=   0.0s\n",
      "[CV 4/5; 124/243] START algorithm=kd_tree, leaf_size=6, n_neighbors=15..........\n",
      "[CV 5/5; 111/243] END algorithm=kd_tree, leaf_size=5, n_neighbors=4;, score=0.875 total time=   0.0s\n",
      "[CV 1/5; 112/243] START algorithm=kd_tree, leaf_size=5, n_neighbors=5...........\n",
      "[CV 2/5; 121/243] END algorithm=kd_tree, leaf_size=6, n_neighbors=5;, score=0.958 total time=   0.0s\n",
      "[CV 3/5; 121/243] START algorithm=kd_tree, leaf_size=6, n_neighbors=5...........\n",
      "[CV 3/5; 121/243] END algorithm=kd_tree, leaf_size=6, n_neighbors=5;, score=1.000 total time=   0.0s\n",
      "[CV 4/5; 121/243] START algorithm=kd_tree, leaf_size=6, n_neighbors=5...........\n",
      "[CV 4/5; 124/243] END algorithm=kd_tree, leaf_size=6, n_neighbors=15;, score=0.958 total time=   0.0s\n",
      "[CV 5/5; 124/243] START algorithm=kd_tree, leaf_size=6, n_neighbors=15..........\n",
      "[CV 4/5; 121/243] END algorithm=kd_tree, leaf_size=6, n_neighbors=5;, score=1.000 total time=   0.0s\n",
      "[CV 5/5; 121/243] START algorithm=kd_tree, leaf_size=6, n_neighbors=5...........\n",
      "[CV 1/5; 118/243] END algorithm=kd_tree, leaf_size=6, n_neighbors=2;, score=0.958 total time=   0.0s\n",
      "[CV 2/5; 118/243] START algorithm=kd_tree, leaf_size=6, n_neighbors=2...........\n",
      "[CV 2/5; 106/243] END algorithm=kd_tree, leaf_size=4, n_neighbors=15;, score=0.958 total time=   0.0s\n",
      "[CV 3/5; 106/243] START algorithm=kd_tree, leaf_size=4, n_neighbors=15..........\n",
      "[CV 2/5; 109/243] END algorithm=kd_tree, leaf_size=5, n_neighbors=2;, score=0.875 total time=   0.0s\n",
      "[CV 3/5; 109/243] START algorithm=kd_tree, leaf_size=5, n_neighbors=2...........\n",
      "[CV 1/5; 112/243] END algorithm=kd_tree, leaf_size=5, n_neighbors=5;, score=0.958 total time=   0.0s\n",
      "[CV 1/5; 115/243] END algorithm=kd_tree, leaf_size=5, n_neighbors=15;, score=0.917 total time=   0.0s\n",
      "[CV 2/5; 115/243] START algorithm=kd_tree, leaf_size=5, n_neighbors=15..........\n",
      "[CV 2/5; 112/243] START algorithm=kd_tree, leaf_size=5, n_neighbors=5...........\n",
      "[CV 3/5; 109/243] END algorithm=kd_tree, leaf_size=5, n_neighbors=2;, score=0.958 total time=   0.0s\n",
      "[CV 4/5; 109/243] START algorithm=kd_tree, leaf_size=5, n_neighbors=2...........\n",
      "[CV 3/5; 106/243] END algorithm=kd_tree, leaf_size=4, n_neighbors=15;, score=1.000 total time=   0.0s\n",
      "[CV 2/5; 103/243] END algorithm=kd_tree, leaf_size=4, n_neighbors=5;, score=0.958 total time=   0.0s\n",
      "[CV 2/5; 118/243] END algorithm=kd_tree, leaf_size=6, n_neighbors=2;, score=0.875 total time=   0.0s\n",
      "[CV 3/5; 118/243] START algorithm=kd_tree, leaf_size=6, n_neighbors=2...........\n",
      "[CV 5/5; 125/243] START algorithm=kd_tree, leaf_size=6, n_neighbors=20..........\n",
      "[CV 2/5; 115/243] END algorithm=kd_tree, leaf_size=5, n_neighbors=15;, score=0.958 total time=   0.0s\n",
      "[CV 3/5; 115/243] START algorithm=kd_tree, leaf_size=5, n_neighbors=15..........\n",
      "[CV 5/5; 121/243] END algorithm=kd_tree, leaf_size=6, n_neighbors=5;, score=0.917 total time=   0.0s\n",
      "[CV 1/5; 122/243] START algorithm=kd_tree, leaf_size=6, n_neighbors=6...........\n",
      "[CV 2/5; 112/243] END algorithm=kd_tree, leaf_size=5, n_neighbors=5;, score=0.958 total time=   0.0s\n",
      "[CV 3/5; 112/243] START algorithm=kd_tree, leaf_size=5, n_neighbors=5...........\n",
      "[CV 5/5; 125/243] END algorithm=kd_tree, leaf_size=6, n_neighbors=20;, score=0.917 total time=   0.0s\n",
      "[CV 1/5; 126/243] START algorithm=kd_tree, leaf_size=6, n_neighbors=25..........\n",
      "[CV 5/5; 124/243] END algorithm=kd_tree, leaf_size=6, n_neighbors=15;, score=0.917 total time=   0.0s\n",
      "[CV 1/5; 125/243] START algorithm=kd_tree, leaf_size=6, n_neighbors=20..........\n",
      "[CV 1/5; 129/243] START algorithm=kd_tree, leaf_size=10, n_neighbors=4..........\n",
      "[CV 3/5; 112/243] END algorithm=kd_tree, leaf_size=5, n_neighbors=5;, score=1.000 total time=   0.0s\n",
      "[CV 4/5; 112/243] START algorithm=kd_tree, leaf_size=5, n_neighbors=5...........\n",
      "[CV 1/5; 126/243] END algorithm=kd_tree, leaf_size=6, n_neighbors=25;, score=0.875 total time=   0.0s\n",
      "[CV 2/5; 126/243] START algorithm=kd_tree, leaf_size=6, n_neighbors=25..........\n",
      "[CV 1/5; 122/243] END algorithm=kd_tree, leaf_size=6, n_neighbors=6;, score=0.958 total time=   0.0s\n",
      "[CV 2/5; 122/243] START algorithm=kd_tree, leaf_size=6, n_neighbors=6...........\n",
      "[CV 1/5; 129/243] END algorithm=kd_tree, leaf_size=10, n_neighbors=4;, score=0.958 total time=   0.0s\n",
      "[CV 2/5; 129/243] START algorithm=kd_tree, leaf_size=10, n_neighbors=4..........\n",
      "[CV 1/5; 125/243] END algorithm=kd_tree, leaf_size=6, n_neighbors=20;, score=0.875 total time=   0.0s\n",
      "[CV 4/5; 112/243] END algorithm=kd_tree, leaf_size=5, n_neighbors=5;, score=1.000 total time=   0.0s\n",
      "[CV 2/5; 125/243] START algorithm=kd_tree, leaf_size=6, n_neighbors=20..........\n",
      "[CV 5/5; 112/243] START algorithm=kd_tree, leaf_size=5, n_neighbors=5...........\n",
      "[CV 3/5; 118/243] END algorithm=kd_tree, leaf_size=6, n_neighbors=2;, score=0.958 total time=   0.0s\n",
      "[CV 4/5; 118/243] START algorithm=kd_tree, leaf_size=6, n_neighbors=2...........\n",
      "[CV 2/5; 129/243] END algorithm=kd_tree, leaf_size=10, n_neighbors=4;, score=0.917 total time=   0.0s\n",
      "[CV 3/5; 129/243] START algorithm=kd_tree, leaf_size=10, n_neighbors=4..........\n",
      "[CV 2/5; 122/243] END algorithm=kd_tree, leaf_size=6, n_neighbors=6;, score=1.000 total time=   0.0s\n",
      "[CV 3/5; 122/243] START algorithm=kd_tree, leaf_size=6, n_neighbors=6...........\n",
      "[CV 4/5; 118/243] END algorithm=kd_tree, leaf_size=6, n_neighbors=2;, score=0.917 total time=   0.0s[CV 3/5; 115/243] END algorithm=kd_tree, leaf_size=5, n_neighbors=15;, score=1.000 total time=   0.0s\n",
      "\n",
      "[CV 5/5; 118/243] START algorithm=kd_tree, leaf_size=6, n_neighbors=2...........\n",
      "[CV 4/5; 115/243] START algorithm=kd_tree, leaf_size=5, n_neighbors=15..........\n",
      "[CV 2/5; 125/243] END algorithm=kd_tree, leaf_size=6, n_neighbors=20;, score=0.958 total time=   0.0s\n",
      "[CV 3/5; 125/243] START algorithm=kd_tree, leaf_size=6, n_neighbors=20..........\n",
      "[CV 3/5; 122/243] END algorithm=kd_tree, leaf_size=6, n_neighbors=6;, score=1.000 total time=   0.0s\n",
      "[CV 2/5; 132/243] START algorithm=kd_tree, leaf_size=10, n_neighbors=10.........\n",
      "[CV 4/5; 109/243] END algorithm=kd_tree, leaf_size=5, n_neighbors=2;, score=0.917 total time=   0.0s\n",
      "[CV 3/5; 125/243] END algorithm=kd_tree, leaf_size=6, n_neighbors=20;, score=1.000 total time=   0.0s\n",
      "[CV 4/5; 125/243] START algorithm=kd_tree, leaf_size=6, n_neighbors=20..........\n",
      "[CV 4/5; 115/243] END algorithm=kd_tree, leaf_size=5, n_neighbors=15;, score=0.958 total time=   0.0s\n",
      "[CV 5/5; 115/243] START algorithm=kd_tree, leaf_size=5, n_neighbors=15..........\n",
      "[CV 3/5; 135/243] START algorithm=kd_tree, leaf_size=10, n_neighbors=25.........\n",
      "[CV 2/5; 126/243] END algorithm=kd_tree, leaf_size=6, n_neighbors=25;, score=0.958 total time=   0.0s\n",
      "[CV 3/5; 126/243] START algorithm=kd_tree, leaf_size=6, n_neighbors=25..........\n",
      "[CV 5/5; 118/243] END algorithm=kd_tree, leaf_size=6, n_neighbors=2;, score=0.917 total time=   0.0s\n",
      "[CV 1/5; 119/243] START algorithm=kd_tree, leaf_size=6, n_neighbors=3...........\n",
      "[CV 3/5; 129/243] END algorithm=kd_tree, leaf_size=10, n_neighbors=4;, score=1.000 total time=   0.0s\n",
      "[CV 5/5; 115/243] END algorithm=kd_tree, leaf_size=5, n_neighbors=15;, score=0.917 total time=   0.0s\n",
      "[CV 1/5; 116/243] START algorithm=kd_tree, leaf_size=5, n_neighbors=20..........\n",
      "[CV 4/5; 129/243] START algorithm=kd_tree, leaf_size=10, n_neighbors=4..........\n",
      "[CV 5/5; 112/243] END algorithm=kd_tree, leaf_size=5, n_neighbors=5;, score=0.917 total time=   0.0s\n",
      "[CV 3/5; 135/243] END algorithm=kd_tree, leaf_size=10, n_neighbors=25;, score=1.000 total time=   0.0s\n",
      "[CV 4/5; 135/243] START algorithm=kd_tree, leaf_size=10, n_neighbors=25.........\n",
      "[CV 4/5; 138/243] START algorithm=kd_tree, leaf_size=15, n_neighbors=4..........\n",
      "[CV 3/5; 126/243] END algorithm=kd_tree, leaf_size=6, n_neighbors=25;, score=1.000 total time=   0.0s\n",
      "[CV 4/5; 126/243] START algorithm=kd_tree, leaf_size=6, n_neighbors=25..........\n",
      "[CV 1/5; 119/243] END algorithm=kd_tree, leaf_size=6, n_neighbors=3;, score=0.958 total time=   0.0s\n",
      "[CV 2/5; 119/243] START algorithm=kd_tree, leaf_size=6, n_neighbors=3...........\n",
      "[CV 4/5; 129/243] END algorithm=kd_tree, leaf_size=10, n_neighbors=4;, score=0.958 total time=   0.0s\n",
      "[CV 5/5; 129/243] START algorithm=kd_tree, leaf_size=10, n_neighbors=4..........\n",
      "[CV 4/5; 126/243] END algorithm=kd_tree, leaf_size=6, n_neighbors=25;, score=0.958 total time=   0.0s\n",
      "[CV 5/5; 126/243] START algorithm=kd_tree, leaf_size=6, n_neighbors=25..........\n",
      "[CV 1/5; 116/243] END algorithm=kd_tree, leaf_size=5, n_neighbors=20;, score=0.875 total time=   0.0s\n",
      "[CV 4/5; 135/243] END algorithm=kd_tree, leaf_size=10, n_neighbors=25;, score=0.958 total time=   0.0s\n",
      "[CV 5/5; 135/243] START algorithm=kd_tree, leaf_size=10, n_neighbors=25.........\n",
      "[CV 5/5; 141/243] START algorithm=kd_tree, leaf_size=15, n_neighbors=10.........\n",
      "[CV 5/5; 129/243] END algorithm=kd_tree, leaf_size=10, n_neighbors=4;, score=0.875 total time=   0.0s\n",
      "[CV 1/5; 130/243] START algorithm=kd_tree, leaf_size=10, n_neighbors=5..........\n",
      "[CV 5/5; 126/243] END algorithm=kd_tree, leaf_size=6, n_neighbors=25;, score=0.875 total time=   0.0s\n",
      "[CV 1/5; 127/243] START algorithm=kd_tree, leaf_size=10, n_neighbors=2..........\n",
      "[CV 5/5; 135/243] END algorithm=kd_tree, leaf_size=10, n_neighbors=25;, score=0.875 total time=   0.0s\n",
      "[CV 1/5; 136/243] START algorithm=kd_tree, leaf_size=15, n_neighbors=2..........\n",
      "[CV 4/5; 138/243] END algorithm=kd_tree, leaf_size=15, n_neighbors=4;, score=0.958 total time=   0.0s\n",
      "[CV 5/5; 138/243] START algorithm=kd_tree, leaf_size=15, n_neighbors=4..........\n",
      "[CV 1/5; 130/243] END algorithm=kd_tree, leaf_size=10, n_neighbors=5;, score=0.958 total time=   0.0s\n",
      "[CV 2/5; 130/243] START algorithm=kd_tree, leaf_size=10, n_neighbors=5..........\n",
      "[CV 1/5; 127/243] END algorithm=kd_tree, leaf_size=10, n_neighbors=2;, score=0.958 total time=   0.0s\n",
      "[CV 2/5; 127/243] START algorithm=kd_tree, leaf_size=10, n_neighbors=2..........\n",
      "[CV 1/5; 136/243] END algorithm=kd_tree, leaf_size=15, n_neighbors=2;, score=0.958 total time=   0.0s\n",
      "[CV 2/5; 136/243] START algorithm=kd_tree, leaf_size=15, n_neighbors=2..........\n",
      "[CV 4/5; 125/243] END algorithm=kd_tree, leaf_size=6, n_neighbors=20;, score=0.958 total time=   0.0s\n",
      "[CV 1/5; 145/243] START algorithm=kd_tree, leaf_size=20, n_neighbors=2..........\n",
      "[CV 5/5; 138/243] END algorithm=kd_tree, leaf_size=15, n_neighbors=4;, score=0.875 total time=   0.0s\n",
      "[CV 1/5; 139/243] START algorithm=kd_tree, leaf_size=15, n_neighbors=5..........\n",
      "[CV 2/5; 127/243] END algorithm=kd_tree, leaf_size=10, n_neighbors=2;, score=0.875 total time=   0.0s\n",
      "[CV 3/5; 127/243] START algorithm=kd_tree, leaf_size=10, n_neighbors=2..........\n",
      "[CV 2/5; 132/243] END algorithm=kd_tree, leaf_size=10, n_neighbors=10;, score=1.000 total time=   0.0s\n",
      "[CV 3/5; 132/243] START algorithm=kd_tree, leaf_size=10, n_neighbors=10.........\n",
      "[CV 1/5; 139/243] END algorithm=kd_tree, leaf_size=15, n_neighbors=5;, score=0.958 total time=   0.0s\n",
      "[CV 2/5; 139/243] START algorithm=kd_tree, leaf_size=15, n_neighbors=5..........\n",
      "[CV 1/5; 145/243] END algorithm=kd_tree, leaf_size=20, n_neighbors=2;, score=0.958 total time=   0.0s\n",
      "[CV 2/5; 145/243] START algorithm=kd_tree, leaf_size=20, n_neighbors=2..........\n",
      "[CV 5/5; 141/243] END algorithm=kd_tree, leaf_size=15, n_neighbors=10;, score=0.917 total time=   0.0s\n",
      "[CV 1/5; 142/243] START algorithm=kd_tree, leaf_size=15, n_neighbors=15.........\n",
      "[CV 2/5; 119/243] END algorithm=kd_tree, leaf_size=6, n_neighbors=3;, score=0.917 total time=   0.0s\n",
      "[CV 2/5; 136/243] END algorithm=kd_tree, leaf_size=15, n_neighbors=2;, score=0.875 total time=   0.0s\n",
      "[CV 2/5; 148/243] START algorithm=kd_tree, leaf_size=20, n_neighbors=5..........\n",
      "[CV 3/5; 136/243] START algorithm=kd_tree, leaf_size=15, n_neighbors=2..........\n",
      "[CV 1/5; 142/243] END algorithm=kd_tree, leaf_size=15, n_neighbors=15;, score=0.917 total time=   0.0s\n",
      "[CV 2/5; 142/243] START algorithm=kd_tree, leaf_size=15, n_neighbors=15.........\n",
      "[CV 2/5; 148/243] END algorithm=kd_tree, leaf_size=20, n_neighbors=5;, score=0.958 total time=   0.0s\n",
      "[CV 2/5; 130/243] END algorithm=kd_tree, leaf_size=10, n_neighbors=5;, score=0.958 total time=   0.0s\n",
      "[CV 3/5; 148/243] START algorithm=kd_tree, leaf_size=20, n_neighbors=5..........\n",
      "[CV 3/5; 130/243] START algorithm=kd_tree, leaf_size=10, n_neighbors=5..........\n",
      "[CV 3/5; 136/243] END algorithm=kd_tree, leaf_size=15, n_neighbors=2;, score=0.958 total time=   0.0s\n",
      "[CV 4/5; 136/243] START algorithm=kd_tree, leaf_size=15, n_neighbors=2..........\n",
      "[CV 2/5; 139/243] END algorithm=kd_tree, leaf_size=15, n_neighbors=5;, score=0.958 total time=   0.0s\n",
      "[CV 3/5; 139/243] START algorithm=kd_tree, leaf_size=15, n_neighbors=5..........\n",
      "[CV 2/5; 142/243] END algorithm=kd_tree, leaf_size=15, n_neighbors=15;, score=0.958 total time=   0.0s\n",
      "[CV 3/5; 142/243] START algorithm=kd_tree, leaf_size=15, n_neighbors=15.........\n",
      "[CV 3/5; 132/243] END algorithm=kd_tree, leaf_size=10, n_neighbors=10;, score=1.000 total time=   0.0s\n",
      "[CV 4/5; 132/243] START algorithm=kd_tree, leaf_size=10, n_neighbors=10.........\n",
      "[CV 3/5; 127/243] END algorithm=kd_tree, leaf_size=10, n_neighbors=2;, score=0.958 total time=   0.0s\n",
      "[CV 3/5; 142/243] END algorithm=kd_tree, leaf_size=15, n_neighbors=15;, score=1.000 total time=   0.0s\n",
      "[CV 4/5; 142/243] START algorithm=kd_tree, leaf_size=15, n_neighbors=15.........\n",
      "[CV 4/5; 127/243] START algorithm=kd_tree, leaf_size=10, n_neighbors=2..........\n",
      "[CV 4/5; 132/243] END algorithm=kd_tree, leaf_size=10, n_neighbors=10;, score=1.000 total time=   0.0s\n",
      "[CV 5/5; 132/243] START algorithm=kd_tree, leaf_size=10, n_neighbors=10.........[CV 2/5; 145/243] END algorithm=kd_tree, leaf_size=20, n_neighbors=2;, score=0.875 total time=   0.0s\n",
      "\n",
      "[CV 3/5; 145/243] START algorithm=kd_tree, leaf_size=20, n_neighbors=2..........\n",
      "[CV 3/5; 130/243] END algorithm=kd_tree, leaf_size=10, n_neighbors=5;, score=1.000 total time=   0.0s\n",
      "[CV 4/5; 130/243] START algorithm=kd_tree, leaf_size=10, n_neighbors=5..........\n",
      "[CV 4/5; 127/243] END algorithm=kd_tree, leaf_size=10, n_neighbors=2;, score=0.917 total time=   0.0s\n",
      "[CV 5/5; 127/243] START algorithm=kd_tree, leaf_size=10, n_neighbors=2..........\n",
      "[CV 3/5; 148/243] END algorithm=kd_tree, leaf_size=20, n_neighbors=5;, score=1.000 total time=   0.0s\n",
      "[CV 4/5; 148/243] START algorithm=kd_tree, leaf_size=20, n_neighbors=5..........\n",
      "[CV 4/5; 142/243] END algorithm=kd_tree, leaf_size=15, n_neighbors=15;, score=0.958 total time=   0.0s\n",
      "[CV 3/5; 145/243] END algorithm=kd_tree, leaf_size=20, n_neighbors=2;, score=0.958 total time=   0.0s\n",
      "[CV 4/5; 145/243] START algorithm=kd_tree, leaf_size=20, n_neighbors=2..........\n",
      "[CV 5/5; 142/243] START algorithm=kd_tree, leaf_size=15, n_neighbors=15.........\n",
      "[CV 4/5; 130/243] END algorithm=kd_tree, leaf_size=10, n_neighbors=5;, score=1.000 total time=   0.0s\n",
      "[CV 5/5; 130/243] START algorithm=kd_tree, leaf_size=10, n_neighbors=5..........\n",
      "[CV 5/5; 127/243] END algorithm=kd_tree, leaf_size=10, n_neighbors=2;, score=0.917 total time=   0.0s\n",
      "[CV 1/5; 128/243] START algorithm=kd_tree, leaf_size=10, n_neighbors=3..........\n",
      "[CV 4/5; 148/243] END algorithm=kd_tree, leaf_size=20, n_neighbors=5;, score=1.000 total time=   0.0s\n",
      "[CV 5/5; 148/243] START algorithm=kd_tree, leaf_size=20, n_neighbors=5..........\n",
      "[CV 4/5; 136/243] END algorithm=kd_tree, leaf_size=15, n_neighbors=2;, score=0.917 total time=   0.0s[CV 4/5; 145/243] END algorithm=kd_tree, leaf_size=20, n_neighbors=2;, score=0.917 total time=   0.0s\n",
      "[CV 5/5; 136/243] START algorithm=kd_tree, leaf_size=15, n_neighbors=2..........\n",
      "[CV 5/5; 130/243] END algorithm=kd_tree, leaf_size=10, n_neighbors=5;, score=0.917 total time=   0.0s\n",
      "[CV 1/5; 131/243] START algorithm=kd_tree, leaf_size=10, n_neighbors=6..........\n",
      "[CV 5/5; 132/243] END algorithm=kd_tree, leaf_size=10, n_neighbors=10;, score=0.917 total time=   0.0s\n",
      "[CV 1/5; 133/243] START algorithm=kd_tree, leaf_size=10, n_neighbors=15.........\n",
      "[CV 5/5; 148/243] END algorithm=kd_tree, leaf_size=20, n_neighbors=5;, score=0.917 total time=   0.0s\n",
      "[CV 1/5; 149/243] START algorithm=kd_tree, leaf_size=20, n_neighbors=6..........\n",
      "[CV 3/5; 139/243] END algorithm=kd_tree, leaf_size=15, n_neighbors=5;, score=1.000 total time=   0.0s\n",
      "[CV 1/5; 128/243] END algorithm=kd_tree, leaf_size=10, n_neighbors=3;, score=0.958 total time=   0.0s\n",
      "[CV 4/5; 139/243] START algorithm=kd_tree, leaf_size=15, n_neighbors=5..........\n",
      "[CV 2/5; 128/243] START algorithm=kd_tree, leaf_size=10, n_neighbors=3..........\n",
      "[CV 5/5; 142/243] END algorithm=kd_tree, leaf_size=15, n_neighbors=15;, score=0.917 total time=   0.0s\n",
      "[CV 1/5; 143/243] START algorithm=kd_tree, leaf_size=15, n_neighbors=20.........\n",
      "\n",
      "[CV 5/5; 145/243] START algorithm=kd_tree, leaf_size=20, n_neighbors=2..........\n",
      "[CV 5/5; 136/243] END algorithm=kd_tree, leaf_size=15, n_neighbors=2;, score=0.917 total time=   0.0s\n",
      "[CV 1/5; 137/243] START algorithm=kd_tree, leaf_size=15, n_neighbors=3..........\n",
      "[CV 1/5; 133/243] END algorithm=kd_tree, leaf_size=10, n_neighbors=15;, score=0.917 total time=   0.0s\n",
      "[CV 2/5; 133/243] START algorithm=kd_tree, leaf_size=10, n_neighbors=15.........\n",
      "[CV 1/5; 149/243] END algorithm=kd_tree, leaf_size=20, n_neighbors=6;, score=0.958 total time=   0.0s\n",
      "[CV 2/5; 149/243] START algorithm=kd_tree, leaf_size=20, n_neighbors=6..........\n",
      "[CV 2/5; 128/243] END algorithm=kd_tree, leaf_size=10, n_neighbors=3;, score=0.917 total time=   0.0s\n",
      "[CV 1/5; 131/243] END algorithm=kd_tree, leaf_size=10, n_neighbors=6;, score=0.958 total time=   0.0s\n",
      "[CV 3/5; 128/243] START algorithm=kd_tree, leaf_size=10, n_neighbors=3..........\n",
      "[CV 2/5; 131/243] START algorithm=kd_tree, leaf_size=10, n_neighbors=6..........\n",
      "[CV 5/5; 145/243] END algorithm=kd_tree, leaf_size=20, n_neighbors=2;, score=0.917 total time=   0.0s\n",
      "[CV 1/5; 146/243] START algorithm=kd_tree, leaf_size=20, n_neighbors=3..........\n",
      "[CV 2/5; 133/243] END algorithm=kd_tree, leaf_size=10, n_neighbors=15;, score=0.958 total time=   0.0s\n",
      "[CV 3/5; 133/243] START algorithm=kd_tree, leaf_size=10, n_neighbors=15.........\n",
      "[CV 2/5; 149/243] END algorithm=kd_tree, leaf_size=20, n_neighbors=6;, score=1.000 total time=   0.0s\n",
      "[CV 3/5; 149/243] START algorithm=kd_tree, leaf_size=20, n_neighbors=6..........\n",
      "[CV 1/5; 137/243] END algorithm=kd_tree, leaf_size=15, n_neighbors=3;, score=0.958 total time=   0.0s\n",
      "[CV 2/5; 137/243] START algorithm=kd_tree, leaf_size=15, n_neighbors=3..........\n",
      "[CV 2/5; 131/243] END algorithm=kd_tree, leaf_size=10, n_neighbors=6;, score=1.000 total time=   0.0s\n",
      "[CV 3/5; 131/243] START algorithm=kd_tree, leaf_size=10, n_neighbors=6..........\n",
      "[CV 3/5; 128/243] END algorithm=kd_tree, leaf_size=10, n_neighbors=3;, score=1.000 total time=   0.0s\n",
      "[CV 4/5; 128/243] START algorithm=kd_tree, leaf_size=10, n_neighbors=3..........\n",
      "[CV 3/5; 149/243] END algorithm=kd_tree, leaf_size=20, n_neighbors=6;, score=1.000 total time=   0.0s\n",
      "[CV 4/5; 149/243] START algorithm=kd_tree, leaf_size=20, n_neighbors=6..........\n",
      "[CV 3/5; 133/243] END algorithm=kd_tree, leaf_size=10, n_neighbors=15;, score=1.000 total time=   0.0s\n",
      "[CV 4/5; 133/243] START algorithm=kd_tree, leaf_size=10, n_neighbors=15.........\n",
      "[CV 2/5; 137/243] END algorithm=kd_tree, leaf_size=15, n_neighbors=3;, score=0.917 total time=   0.0s\n",
      "[CV 3/5; 137/243] START algorithm=kd_tree, leaf_size=15, n_neighbors=3..........\n",
      "[CV 3/5; 131/243] END algorithm=kd_tree, leaf_size=10, n_neighbors=6;, score=1.000 total time=   0.0s\n",
      "[CV 4/5; 131/243] START algorithm=kd_tree, leaf_size=10, n_neighbors=6..........\n",
      "[CV 4/5; 128/243] END algorithm=kd_tree, leaf_size=10, n_neighbors=3;, score=0.958 total time=   0.0s\n",
      "[CV 5/5; 128/243] START algorithm=kd_tree, leaf_size=10, n_neighbors=3..........\n",
      "[CV 4/5; 139/243] END algorithm=kd_tree, leaf_size=15, n_neighbors=5;, score=1.000 total time=   0.0s\n",
      "[CV 5/5; 139/243] START algorithm=kd_tree, leaf_size=15, n_neighbors=5..........\n",
      "[CV 4/5; 149/243] END algorithm=kd_tree, leaf_size=20, n_neighbors=6;, score=1.000 total time=   0.0s\n",
      "[CV 5/5; 149/243] START algorithm=kd_tree, leaf_size=20, n_neighbors=6..........\n",
      "[CV 4/5; 133/243] END algorithm=kd_tree, leaf_size=10, n_neighbors=15;, score=0.958 total time=   0.0s\n",
      "[CV 5/5; 133/243] START algorithm=kd_tree, leaf_size=10, n_neighbors=15.........\n",
      "[CV 3/5; 137/243] END algorithm=kd_tree, leaf_size=15, n_neighbors=3;, score=1.000 total time=   0.0s\n",
      "[CV 4/5; 137/243] START algorithm=kd_tree, leaf_size=15, n_neighbors=3..........\n",
      "[CV 1/5; 143/243] END algorithm=kd_tree, leaf_size=15, n_neighbors=20;, score=0.875 total time=   0.0s\n",
      "[CV 2/5; 143/243] START algorithm=kd_tree, leaf_size=15, n_neighbors=20.........\n",
      "[CV 5/5; 128/243] END algorithm=kd_tree, leaf_size=10, n_neighbors=3;, score=0.917 total time=   0.0s\n",
      "[CV 1/5; 146/243] END algorithm=kd_tree, leaf_size=20, n_neighbors=3;, score=0.958 total time=   0.0s[CV 5/5; 139/243] END algorithm=kd_tree, leaf_size=15, n_neighbors=5;, score=0.917 total time=   0.0s\n",
      "[CV 1/5; 140/243] START algorithm=kd_tree, leaf_size=15, n_neighbors=6..........\n",
      "[CV 3/5; 151/243] START algorithm=kd_tree, leaf_size=20, n_neighbors=15.........\n",
      "[CV 5/5; 149/243] END algorithm=kd_tree, leaf_size=20, n_neighbors=6;, score=0.917 total time=   0.0s\n",
      "[CV 1/5; 150/243] START algorithm=kd_tree, leaf_size=20, n_neighbors=10.........\n",
      "[CV 4/5; 137/243] END algorithm=kd_tree, leaf_size=15, n_neighbors=3;, score=0.958 total time=   0.0s\n",
      "[CV 5/5; 137/243] START algorithm=kd_tree, leaf_size=15, n_neighbors=3..........\n",
      "[CV 5/5; 133/243] END algorithm=kd_tree, leaf_size=10, n_neighbors=15;, score=0.917 total time=   0.0s\n",
      "[CV 1/5; 134/243] START algorithm=kd_tree, leaf_size=10, n_neighbors=20.........\n",
      "[CV 3/5; 151/243] END algorithm=kd_tree, leaf_size=20, n_neighbors=15;, score=1.000 total time=   0.0s\n",
      "[CV 4/5; 151/243] START algorithm=kd_tree, leaf_size=20, n_neighbors=15.........\n",
      "[CV 2/5; 143/243] END algorithm=kd_tree, leaf_size=15, n_neighbors=20;, score=0.958 total time=   0.0s\n",
      "[CV 1/5; 150/243] END algorithm=kd_tree, leaf_size=20, n_neighbors=10;, score=0.917 total time=   0.0s\n",
      "[CV 3/5; 143/243] START algorithm=kd_tree, leaf_size=15, n_neighbors=20.........\n",
      "[CV 2/5; 150/243] START algorithm=kd_tree, leaf_size=20, n_neighbors=10.........\n",
      "[CV 5/5; 137/243] END algorithm=kd_tree, leaf_size=15, n_neighbors=3;, score=0.917 total time=   0.0s\n",
      "[CV 1/5; 138/243] START algorithm=kd_tree, leaf_size=15, n_neighbors=4..........\n",
      "\n",
      "[CV 2/5; 146/243] START algorithm=kd_tree, leaf_size=20, n_neighbors=3..........\n",
      "[CV 1/5; 134/243] END algorithm=kd_tree, leaf_size=10, n_neighbors=20;, score=0.875 total time=   0.0s\n",
      "[CV 2/5; 134/243] START algorithm=kd_tree, leaf_size=10, n_neighbors=20.........\n",
      "[CV 1/5; 140/243] END algorithm=kd_tree, leaf_size=15, n_neighbors=6;, score=0.958 total time=   0.0s\n",
      "[CV 2/5; 140/243] START algorithm=kd_tree, leaf_size=15, n_neighbors=6..........\n",
      "[CV 2/5; 150/243] END algorithm=kd_tree, leaf_size=20, n_neighbors=10;, score=1.000 total time=   0.0s\n",
      "[CV 3/5; 150/243] START algorithm=kd_tree, leaf_size=20, n_neighbors=10.........\n",
      "[CV 3/5; 143/243] END algorithm=kd_tree, leaf_size=15, n_neighbors=20;, score=1.000 total time=   0.0s\n",
      "[CV 4/5; 143/243] START algorithm=kd_tree, leaf_size=15, n_neighbors=20.........\n",
      "[CV 2/5; 146/243] END algorithm=kd_tree, leaf_size=20, n_neighbors=3;, score=0.917 total time=   0.0s\n",
      "[CV 3/5; 146/243] START algorithm=kd_tree, leaf_size=20, n_neighbors=3..........\n",
      "[CV 2/5; 134/243] END algorithm=kd_tree, leaf_size=10, n_neighbors=20;, score=0.958 total time=   0.0s\n",
      "[CV 3/5; 134/243] START algorithm=kd_tree, leaf_size=10, n_neighbors=20.........\n",
      "[CV 2/5; 140/243] END algorithm=kd_tree, leaf_size=15, n_neighbors=6;, score=1.000 total time=   0.0s\n",
      "[CV 3/5; 140/243] START algorithm=kd_tree, leaf_size=15, n_neighbors=6..........\n",
      "[CV 4/5; 143/243] END algorithm=kd_tree, leaf_size=15, n_neighbors=20;, score=0.958 total time=   0.0s\n",
      "[CV 5/5; 143/243] START algorithm=kd_tree, leaf_size=15, n_neighbors=20.........\n",
      "[CV 3/5; 134/243] END algorithm=kd_tree, leaf_size=10, n_neighbors=20;, score=1.000 total time=   0.0s\n",
      "[CV 4/5; 134/243] START algorithm=kd_tree, leaf_size=10, n_neighbors=20.........\n",
      "[CV 3/5; 140/243] END algorithm=kd_tree, leaf_size=15, n_neighbors=6;, score=1.000 total time=   0.0s\n",
      "[CV 4/5; 140/243] START algorithm=kd_tree, leaf_size=15, n_neighbors=6..........\n",
      "[CV 3/5; 146/243] END algorithm=kd_tree, leaf_size=20, n_neighbors=3;, score=1.000 total time=   0.0s\n",
      "[CV 4/5; 146/243] START algorithm=kd_tree, leaf_size=20, n_neighbors=3..........\n",
      "[CV 5/5; 143/243] END algorithm=kd_tree, leaf_size=15, n_neighbors=20;, score=0.917 total time=   0.0s\n",
      "[CV 1/5; 144/243] START algorithm=kd_tree, leaf_size=15, n_neighbors=25.........\n",
      "[CV 4/5; 140/243] END algorithm=kd_tree, leaf_size=15, n_neighbors=6;, score=1.000 total time=   0.0s\n",
      "[CV 5/5; 140/243] START algorithm=kd_tree, leaf_size=15, n_neighbors=6..........\n",
      "[CV 4/5; 131/243] END algorithm=kd_tree, leaf_size=10, n_neighbors=6;, score=1.000 total time=   0.0s\n",
      "[CV 5/5; 131/243] START algorithm=kd_tree, leaf_size=10, n_neighbors=6..........\n",
      "[CV 4/5; 146/243] END algorithm=kd_tree, leaf_size=20, n_neighbors=3;, score=0.958 total time=   0.0s\n",
      "[CV 5/5; 146/243] START algorithm=kd_tree, leaf_size=20, n_neighbors=3..........\n",
      "[CV 1/5; 144/243] END algorithm=kd_tree, leaf_size=15, n_neighbors=25;, score=0.875 total time=   0.0s\n",
      "[CV 2/5; 144/243] START algorithm=kd_tree, leaf_size=15, n_neighbors=25.........\n",
      "[CV 1/5; 138/243] END algorithm=kd_tree, leaf_size=15, n_neighbors=4;, score=0.958 total time=   0.0s\n",
      "[CV 2/5; 138/243] START algorithm=kd_tree, leaf_size=15, n_neighbors=4..........\n",
      "[CV 5/5; 140/243] END algorithm=kd_tree, leaf_size=15, n_neighbors=6;, score=0.917 total time=   0.0s\n",
      "[CV 1/5; 141/243] START algorithm=kd_tree, leaf_size=15, n_neighbors=10.........\n",
      "[CV 5/5; 131/243] END algorithm=kd_tree, leaf_size=10, n_neighbors=6;, score=0.917 total time=   0.0s\n",
      "[CV 1/5; 132/243] START algorithm=kd_tree, leaf_size=10, n_neighbors=10.........\n",
      "[CV 2/5; 138/243] END algorithm=kd_tree, leaf_size=15, n_neighbors=4;, score=0.917 total time=   0.0s\n",
      "[CV 4/5; 151/243] END algorithm=kd_tree, leaf_size=20, n_neighbors=15;, score=0.958 total time=   0.0s\n",
      "[CV 3/5; 138/243] START algorithm=kd_tree, leaf_size=15, n_neighbors=4..........\n",
      "[CV 5/5; 151/243] START algorithm=kd_tree, leaf_size=20, n_neighbors=15.........\n",
      "[CV 3/5; 150/243] END algorithm=kd_tree, leaf_size=20, n_neighbors=10;, score=1.000 total time=   0.0s\n",
      "[CV 4/5; 150/243] START algorithm=kd_tree, leaf_size=20, n_neighbors=10.........\n",
      "[CV 1/5; 132/243] END algorithm=kd_tree, leaf_size=10, n_neighbors=10;, score=0.917 total time=   0.0s\n",
      "[CV 4/5; 154/243] START algorithm=kd_tree, leaf_size=25, n_neighbors=2..........\n",
      "[CV 4/5; 134/243] END algorithm=kd_tree, leaf_size=10, n_neighbors=20;, score=0.958 total time=   0.0s\n",
      "[CV 5/5; 134/243] START algorithm=kd_tree, leaf_size=10, n_neighbors=20.........\n",
      "[CV 5/5; 146/243] END algorithm=kd_tree, leaf_size=20, n_neighbors=3;, score=0.917 total time=   0.0s\n",
      "[CV 1/5; 147/243] START algorithm=kd_tree, leaf_size=20, n_neighbors=4..........\n",
      "[CV 1/5; 141/243] END algorithm=kd_tree, leaf_size=15, n_neighbors=10;, score=0.917 total time=   0.0s\n",
      "[CV 2/5; 141/243] START algorithm=kd_tree, leaf_size=15, n_neighbors=10.........\n",
      "[CV 1/5; 147/243] END algorithm=kd_tree, leaf_size=20, n_neighbors=4;, score=0.958 total time=   0.0s\n",
      "[CV 2/5; 147/243] START algorithm=kd_tree, leaf_size=20, n_neighbors=4..........\n",
      "[CV 2/5; 144/243] END algorithm=kd_tree, leaf_size=15, n_neighbors=25;, score=0.958 total time=   0.0s\n",
      "[CV 3/5; 144/243] START algorithm=kd_tree, leaf_size=15, n_neighbors=25.........\n",
      "[CV 2/5; 141/243] END algorithm=kd_tree, leaf_size=15, n_neighbors=10;, score=1.000 total time=   0.0s\n",
      "[CV 3/5; 141/243] START algorithm=kd_tree, leaf_size=15, n_neighbors=10.........\n",
      "[CV 4/5; 150/243] END algorithm=kd_tree, leaf_size=20, n_neighbors=10;, score=1.000 total time=   0.0s\n",
      "[CV 5/5; 150/243] START algorithm=kd_tree, leaf_size=20, n_neighbors=10.........\n",
      "[CV 3/5; 138/243] END algorithm=kd_tree, leaf_size=15, n_neighbors=4;, score=1.000 total time=   0.0s\n",
      "[CV 5/5; 151/243] END algorithm=kd_tree, leaf_size=20, n_neighbors=15;, score=0.917 total time=   0.0s\n",
      "[CV 1/5; 152/243] START algorithm=kd_tree, leaf_size=20, n_neighbors=20.........\n",
      "[CV 5/5; 150/243] END algorithm=kd_tree, leaf_size=20, n_neighbors=10;, score=0.917 total time=   0.0s\n",
      "[CV 1/5; 151/243] START algorithm=kd_tree, leaf_size=20, n_neighbors=15.........\n",
      "[CV 5/5; 157/243] START algorithm=kd_tree, leaf_size=25, n_neighbors=5..........\n",
      "[CV 3/5; 144/243] END algorithm=kd_tree, leaf_size=15, n_neighbors=25;, score=1.000 total time=   0.0s\n",
      "[CV 4/5; 144/243] START algorithm=kd_tree, leaf_size=15, n_neighbors=25.........\n",
      "[CV 1/5; 151/243] END algorithm=kd_tree, leaf_size=20, n_neighbors=15;, score=0.917 total time=   0.0s\n",
      "[CV 2/5; 151/243] START algorithm=kd_tree, leaf_size=20, n_neighbors=15.........\n",
      "[CV 5/5; 157/243] END algorithm=kd_tree, leaf_size=25, n_neighbors=5;, score=0.917 total time=   0.0s\n",
      "[CV 1/5; 158/243] START algorithm=kd_tree, leaf_size=25, n_neighbors=6..........\n",
      "[CV 1/5; 152/243] END algorithm=kd_tree, leaf_size=20, n_neighbors=20;, score=0.875 total time=   0.0s\n",
      "[CV 2/5; 152/243] START algorithm=kd_tree, leaf_size=20, n_neighbors=20.........\n",
      "[CV 5/5; 134/243] END algorithm=kd_tree, leaf_size=10, n_neighbors=20;, score=0.917 total time=   0.0s\n",
      "[CV 1/5; 135/243] START algorithm=kd_tree, leaf_size=10, n_neighbors=25.........\n",
      "[CV 2/5; 151/243] END algorithm=kd_tree, leaf_size=20, n_neighbors=15;, score=0.958 total time=   0.0s\n",
      "[CV 4/5; 154/243] END algorithm=kd_tree, leaf_size=25, n_neighbors=2;, score=0.917 total time=   0.0s\n",
      "[CV 5/5; 154/243] START algorithm=kd_tree, leaf_size=25, n_neighbors=2..........\n",
      "[CV 2/5; 147/243] END algorithm=kd_tree, leaf_size=20, n_neighbors=4;, score=0.917 total time=   0.0s\n",
      "[CV 1/5; 161/243] START algorithm=kd_tree, leaf_size=25, n_neighbors=20.........\n",
      "[CV 3/5; 147/243] START algorithm=kd_tree, leaf_size=20, n_neighbors=4..........\n",
      "[CV 3/5; 141/243] END algorithm=kd_tree, leaf_size=15, n_neighbors=10;, score=1.000 total time=   0.0s\n",
      "[CV 4/5; 141/243] START algorithm=kd_tree, leaf_size=15, n_neighbors=10.........\n",
      "[CV 5/5; 154/243] END algorithm=kd_tree, leaf_size=25, n_neighbors=2;, score=0.917 total time=   0.0s\n",
      "[CV 1/5; 161/243] END algorithm=kd_tree, leaf_size=25, n_neighbors=20;, score=0.875 total time=   0.0s\n",
      "[CV 1/5; 155/243] START algorithm=kd_tree, leaf_size=25, n_neighbors=3..........\n",
      "[CV 2/5; 161/243] START algorithm=kd_tree, leaf_size=25, n_neighbors=20.........\n",
      "[CV 3/5; 147/243] END algorithm=kd_tree, leaf_size=20, n_neighbors=4;, score=1.000 total time=   0.0s\n",
      "[CV 1/5; 135/243] END algorithm=kd_tree, leaf_size=10, n_neighbors=25;, score=0.875 total time=   0.0s\n",
      "[CV 4/5; 147/243] START algorithm=kd_tree, leaf_size=20, n_neighbors=4..........\n",
      "[CV 4/5; 144/243] END algorithm=kd_tree, leaf_size=15, n_neighbors=25;, score=0.958 total time=   0.0s\n",
      "[CV 2/5; 135/243] START algorithm=kd_tree, leaf_size=10, n_neighbors=25.........\n",
      "[CV 5/5; 144/243] START algorithm=kd_tree, leaf_size=15, n_neighbors=25.........\n",
      "[CV 4/5; 141/243] END algorithm=kd_tree, leaf_size=15, n_neighbors=10;, score=1.000 total time=   0.0s\n",
      "[CV 2/5; 135/243] END algorithm=kd_tree, leaf_size=10, n_neighbors=25;, score=0.958 total time=   0.0s\n",
      "[CV 4/5; 147/243] END algorithm=kd_tree, leaf_size=20, n_neighbors=4;, score=0.958 total time=   0.0s\n",
      "[CV 5/5; 147/243] START algorithm=kd_tree, leaf_size=20, n_neighbors=4..........\n",
      "[CV 2/5; 164/243] START algorithm=brute, leaf_size=2, n_neighbors=3.............\n",
      "[CV 5/5; 144/243] END algorithm=kd_tree, leaf_size=15, n_neighbors=25;, score=0.875 total time=   0.0s\n",
      "[CV 3/5; 167/243] START algorithm=brute, leaf_size=2, n_neighbors=6.............\n",
      "[CV 4/5; 170/243] START algorithm=brute, leaf_size=2, n_neighbors=20............\n",
      "[CV 5/5; 147/243] END algorithm=kd_tree, leaf_size=20, n_neighbors=4;, score=0.875 total time=   0.0s\n",
      "[CV 1/5; 148/243] START algorithm=kd_tree, leaf_size=20, n_neighbors=5..........\n",
      "[CV 1/5; 158/243] END algorithm=kd_tree, leaf_size=25, n_neighbors=6;, score=0.958 total time=   0.0s\n",
      "[CV 2/5; 158/243] START algorithm=kd_tree, leaf_size=25, n_neighbors=6..........\n",
      "[CV 2/5; 152/243] END algorithm=kd_tree, leaf_size=20, n_neighbors=20;, score=0.958 total time=   0.0s\n",
      "[CV 3/5; 152/243] START algorithm=kd_tree, leaf_size=20, n_neighbors=20.........\n",
      "[CV 2/5; 158/243] END algorithm=kd_tree, leaf_size=25, n_neighbors=6;, score=1.000 total time=   0.0s\n",
      "[CV 3/5; 158/243] START algorithm=kd_tree, leaf_size=25, n_neighbors=6..........\n",
      "[CV 1/5; 155/243] END algorithm=kd_tree, leaf_size=25, n_neighbors=3;, score=0.958 total time=   0.0s\n",
      "[CV 2/5; 155/243] START algorithm=kd_tree, leaf_size=25, n_neighbors=3..........\n",
      "[CV 1/5; 148/243] END algorithm=kd_tree, leaf_size=20, n_neighbors=5;, score=0.958 total time=   0.0s\n",
      "[CV 3/5; 152/243] END algorithm=kd_tree, leaf_size=20, n_neighbors=20;, score=1.000 total time=   0.0s\n",
      "[CV 4/5; 152/243] START algorithm=kd_tree, leaf_size=20, n_neighbors=20.........\n",
      "[CV 5/5; 173/243] START algorithm=brute, leaf_size=3, n_neighbors=3.............\n",
      "[CV 4/5; 170/243] END algorithm=brute, leaf_size=2, n_neighbors=20;, score=0.958 total time=   0.0s\n",
      "[CV 5/5; 170/243] START algorithm=brute, leaf_size=2, n_neighbors=20............\n",
      "[CV 2/5; 155/243] END algorithm=kd_tree, leaf_size=25, n_neighbors=3;, score=0.917 total time=   0.0s\n",
      "[CV 3/5; 155/243] START algorithm=kd_tree, leaf_size=25, n_neighbors=3..........\n",
      "[CV 4/5; 152/243] END algorithm=kd_tree, leaf_size=20, n_neighbors=20;, score=0.958 total time=   0.0s\n",
      "[CV 5/5; 152/243] START algorithm=kd_tree, leaf_size=20, n_neighbors=20.........\n",
      "[CV 2/5; 164/243] END algorithm=brute, leaf_size=2, n_neighbors=3;, score=0.917 total time=   0.0s\n",
      "[CV 3/5; 164/243] START algorithm=brute, leaf_size=2, n_neighbors=3.............\n",
      "[CV 3/5; 155/243] END algorithm=kd_tree, leaf_size=25, n_neighbors=3;, score=1.000 total time=   0.0s\n",
      "[CV 4/5; 155/243] START algorithm=kd_tree, leaf_size=25, n_neighbors=3..........\n",
      "[CV 5/5; 170/243] END algorithm=brute, leaf_size=2, n_neighbors=20;, score=0.917 total time=   0.0s\n",
      "[CV 1/5; 171/243] START algorithm=brute, leaf_size=2, n_neighbors=25............\n",
      "[CV 5/5; 152/243] END algorithm=kd_tree, leaf_size=20, n_neighbors=20;, score=0.917 total time=   0.0s\n",
      "[CV 1/5; 153/243] START algorithm=kd_tree, leaf_size=20, n_neighbors=25.........\n",
      "[CV 4/5; 155/243] END algorithm=kd_tree, leaf_size=25, n_neighbors=3;, score=0.958 total time=   0.0s\n",
      "[CV 1/5; 171/243] END algorithm=brute, leaf_size=2, n_neighbors=25;, score=0.875 total time=   0.0s\n",
      "[CV 5/5; 155/243] START algorithm=kd_tree, leaf_size=25, n_neighbors=3..........\n",
      "[CV 2/5; 171/243] START algorithm=brute, leaf_size=2, n_neighbors=25............\n",
      "[CV 3/5; 167/243] END algorithm=brute, leaf_size=2, n_neighbors=6;, score=1.000 total time=   0.0s\n",
      "[CV 4/5; 167/243] START algorithm=brute, leaf_size=2, n_neighbors=6.............\n",
      "[CV 3/5; 158/243] END algorithm=kd_tree, leaf_size=25, n_neighbors=6;, score=1.000 total time=   0.0s\n",
      "[CV 2/5; 161/243] END algorithm=kd_tree, leaf_size=25, n_neighbors=20;, score=0.958 total time=   0.0s\n",
      "[CV 4/5; 158/243] START algorithm=kd_tree, leaf_size=25, n_neighbors=6..........\n",
      "[CV 3/5; 161/243] START algorithm=kd_tree, leaf_size=25, n_neighbors=20.........\n",
      "[CV 2/5; 171/243] END algorithm=brute, leaf_size=2, n_neighbors=25;, score=0.958 total time=   0.0s\n",
      "[CV 3/5; 171/243] START algorithm=brute, leaf_size=2, n_neighbors=25............\n",
      "[CV 3/5; 164/243] END algorithm=brute, leaf_size=2, n_neighbors=3;, score=1.000 total time=   0.0s\n",
      "[CV 4/5; 158/243] END algorithm=kd_tree, leaf_size=25, n_neighbors=6;, score=1.000 total time=   0.0s\n",
      "[CV 5/5; 158/243] START algorithm=kd_tree, leaf_size=25, n_neighbors=6..........\n",
      "[CV 4/5; 164/243] START algorithm=brute, leaf_size=2, n_neighbors=3.............\n",
      "[CV 4/5; 167/243] END algorithm=brute, leaf_size=2, n_neighbors=6;, score=1.000 total time=   0.0s\n",
      "[CV 5/5; 167/243] START algorithm=brute, leaf_size=2, n_neighbors=6.............\n",
      "[CV 5/5; 173/243] END algorithm=brute, leaf_size=3, n_neighbors=3;, score=0.917 total time=   0.0s\n",
      "[CV 1/5; 174/243] START algorithm=brute, leaf_size=3, n_neighbors=4.............\n",
      "[CV 5/5; 167/243] END algorithm=brute, leaf_size=2, n_neighbors=6;, score=0.917 total time=   0.0s\n",
      "[CV 1/5; 168/243] START algorithm=brute, leaf_size=2, n_neighbors=10............\n",
      "[CV 5/5; 155/243] END algorithm=kd_tree, leaf_size=25, n_neighbors=3;, score=0.917 total time=   0.0s\n",
      "[CV 1/5; 156/243] START algorithm=kd_tree, leaf_size=25, n_neighbors=4..........\n",
      "[CV 1/5; 153/243] END algorithm=kd_tree, leaf_size=20, n_neighbors=25;, score=0.875 total time=   0.0s\n",
      "[CV 2/5; 153/243] START algorithm=kd_tree, leaf_size=20, n_neighbors=25.........\n",
      "[CV 4/5; 164/243] END algorithm=brute, leaf_size=2, n_neighbors=3;, score=0.958 total time=   0.0s\n",
      "[CV 5/5; 164/243] START algorithm=brute, leaf_size=2, n_neighbors=3.............\n",
      "[CV 1/5; 168/243] END algorithm=brute, leaf_size=2, n_neighbors=10;, score=0.917 total time=   0.0s\n",
      "[CV 2/5; 168/243] START algorithm=brute, leaf_size=2, n_neighbors=10............\n",
      "[CV 1/5; 174/243] END algorithm=brute, leaf_size=3, n_neighbors=4;, score=0.958 total time=   0.0s\n",
      "[CV 2/5; 174/243] START algorithm=brute, leaf_size=3, n_neighbors=4.............\n",
      "[CV 1/5; 156/243] END algorithm=kd_tree, leaf_size=25, n_neighbors=4;, score=0.958 total time=   0.0s\n",
      "[CV 2/5; 156/243] START algorithm=kd_tree, leaf_size=25, n_neighbors=4..........\n",
      "[CV 2/5; 153/243] END algorithm=kd_tree, leaf_size=20, n_neighbors=25;, score=0.958 total time=   0.0s\n",
      "[CV 3/5; 153/243] START algorithm=kd_tree, leaf_size=20, n_neighbors=25.........\n",
      "[CV 5/5; 158/243] END algorithm=kd_tree, leaf_size=25, n_neighbors=6;, score=0.917 total time=   0.0s\n",
      "[CV 1/5; 159/243] START algorithm=kd_tree, leaf_size=25, n_neighbors=10.........\n",
      "[CV 3/5; 161/243] END algorithm=kd_tree, leaf_size=25, n_neighbors=20;, score=1.000 total time=   0.0s\n",
      "[CV 4/5; 161/243] START algorithm=kd_tree, leaf_size=25, n_neighbors=20.........\n",
      "[CV 2/5; 168/243] END algorithm=brute, leaf_size=2, n_neighbors=10;, score=1.000 total time=   0.0s\n",
      "[CV 3/5; 168/243] START algorithm=brute, leaf_size=2, n_neighbors=10............\n",
      "[CV 2/5; 174/243] END algorithm=brute, leaf_size=3, n_neighbors=4;, score=0.917 total time=   0.0s\n",
      "[CV 3/5; 174/243] START algorithm=brute, leaf_size=3, n_neighbors=4.............\n",
      "[CV 3/5; 153/243] END algorithm=kd_tree, leaf_size=20, n_neighbors=25;, score=1.000 total time=   0.0s\n",
      "[CV 4/5; 153/243] START algorithm=kd_tree, leaf_size=20, n_neighbors=25.........\n",
      "[CV 3/5; 168/243] END algorithm=brute, leaf_size=2, n_neighbors=10;, score=1.000 total time=   0.0s\n",
      "[CV 4/5; 168/243] START algorithm=brute, leaf_size=2, n_neighbors=10............\n",
      "[CV 4/5; 161/243] END algorithm=kd_tree, leaf_size=25, n_neighbors=20;, score=0.958 total time=   0.0s\n",
      "[CV 5/5; 161/243] START algorithm=kd_tree, leaf_size=25, n_neighbors=20.........\n",
      "[CV 1/5; 159/243] END algorithm=kd_tree, leaf_size=25, n_neighbors=10;, score=0.917 total time=   0.0s\n",
      "[CV 2/5; 159/243] START algorithm=kd_tree, leaf_size=25, n_neighbors=10.........\n",
      "[CV 3/5; 171/243] END algorithm=brute, leaf_size=2, n_neighbors=25;, score=1.000 total time=   0.0s\n",
      "[CV 4/5; 171/243] START algorithm=brute, leaf_size=2, n_neighbors=25............\n",
      "[CV 5/5; 164/243] END algorithm=brute, leaf_size=2, n_neighbors=3;, score=0.917 total time=   0.0s\n",
      "[CV 1/5; 165/243] START algorithm=brute, leaf_size=2, n_neighbors=4.............\n",
      "[CV 2/5; 156/243] END algorithm=kd_tree, leaf_size=25, n_neighbors=4;, score=0.917 total time=   0.0s\n",
      "[CV 3/5; 156/243] START algorithm=kd_tree, leaf_size=25, n_neighbors=4..........\n",
      "[CV 3/5; 174/243] END algorithm=brute, leaf_size=3, n_neighbors=4;, score=1.000 total time=   0.0s\n",
      "[CV 4/5; 174/243] START algorithm=brute, leaf_size=3, n_neighbors=4.............\n",
      "[CV 4/5; 171/243] END algorithm=brute, leaf_size=2, n_neighbors=25;, score=0.958 total time=   0.0s\n",
      "[CV 1/5; 165/243] END algorithm=brute, leaf_size=2, n_neighbors=4;, score=0.958 total time=   0.0s\n",
      "[CV 5/5; 171/243] START algorithm=brute, leaf_size=2, n_neighbors=25............\n",
      "[CV 2/5; 165/243] START algorithm=brute, leaf_size=2, n_neighbors=4.............\n",
      "[CV 4/5; 153/243] END algorithm=kd_tree, leaf_size=20, n_neighbors=25;, score=0.958 total time=   0.0s\n",
      "[CV 5/5; 153/243] START algorithm=kd_tree, leaf_size=20, n_neighbors=25.........\n",
      "[CV 3/5; 156/243] END algorithm=kd_tree, leaf_size=25, n_neighbors=4;, score=1.000 total time=   0.0s\n",
      "[CV 4/5; 156/243] START algorithm=kd_tree, leaf_size=25, n_neighbors=4..........\n",
      "[CV 5/5; 153/243] END algorithm=kd_tree, leaf_size=20, n_neighbors=25;, score=0.875 total time=   0.0s\n",
      "[CV 1/5; 154/243] START algorithm=kd_tree, leaf_size=25, n_neighbors=2..........\n",
      "[CV 2/5; 165/243] END algorithm=brute, leaf_size=2, n_neighbors=4;, score=0.917 total time=   0.0s\n",
      "[CV 3/5; 165/243] START algorithm=brute, leaf_size=2, n_neighbors=4.............\n",
      "[CV 4/5; 156/243] END algorithm=kd_tree, leaf_size=25, n_neighbors=4;, score=0.958 total time=   0.0s\n",
      "[CV 5/5; 156/243] START algorithm=kd_tree, leaf_size=25, n_neighbors=4..........\n",
      "[CV 1/5; 154/243] END algorithm=kd_tree, leaf_size=25, n_neighbors=2;, score=0.958 total time=   0.0s\n",
      "[CV 2/5; 154/243] START algorithm=kd_tree, leaf_size=25, n_neighbors=2..........\n",
      "[CV 3/5; 165/243] END algorithm=brute, leaf_size=2, n_neighbors=4;, score=1.000 total time=   0.0s\n",
      "[CV 4/5; 165/243] START algorithm=brute, leaf_size=2, n_neighbors=4.............\n",
      "[CV 4/5; 174/243] END algorithm=brute, leaf_size=3, n_neighbors=4;, score=0.958 total time=   0.0s\n",
      "[CV 5/5; 174/243] START algorithm=brute, leaf_size=3, n_neighbors=4.............\n",
      "[CV 5/5; 156/243] END algorithm=kd_tree, leaf_size=25, n_neighbors=4;, score=0.875 total time=   0.0s\n",
      "[CV 1/5; 157/243] START algorithm=kd_tree, leaf_size=25, n_neighbors=5..........\n",
      "[CV 2/5; 159/243] END algorithm=kd_tree, leaf_size=25, n_neighbors=10;, score=1.000 total time=   0.0s\n",
      "[CV 3/5; 159/243] START algorithm=kd_tree, leaf_size=25, n_neighbors=10.........\n",
      "[CV 5/5; 161/243] END algorithm=kd_tree, leaf_size=25, n_neighbors=20;, score=0.917 total time=   0.0s\n",
      "[CV 1/5; 162/243] START algorithm=kd_tree, leaf_size=25, n_neighbors=25.........\n",
      "[CV 4/5; 168/243] END algorithm=brute, leaf_size=2, n_neighbors=10;, score=1.000 total time=   0.0s\n",
      "[CV 5/5; 168/243] START algorithm=brute, leaf_size=2, n_neighbors=10............\n",
      "[CV 5/5; 174/243] END algorithm=brute, leaf_size=3, n_neighbors=4;, score=0.875 total time=   0.0s\n",
      "[CV 1/5; 175/243] START algorithm=brute, leaf_size=3, n_neighbors=5.............\n",
      "[CV 3/5; 159/243] END algorithm=kd_tree, leaf_size=25, n_neighbors=10;, score=1.000 total time=   0.0s\n",
      "[CV 4/5; 159/243] START algorithm=kd_tree, leaf_size=25, n_neighbors=10.........\n",
      "[CV 1/5; 162/243] END algorithm=kd_tree, leaf_size=25, n_neighbors=25;, score=0.875 total time=   0.0s\n",
      "[CV 2/5; 162/243] START algorithm=kd_tree, leaf_size=25, n_neighbors=25.........\n",
      "[CV 5/5; 168/243] END algorithm=brute, leaf_size=2, n_neighbors=10;, score=0.917 total time=   0.0s\n",
      "[CV 1/5; 169/243] START algorithm=brute, leaf_size=2, n_neighbors=15............\n",
      "[CV 1/5; 175/243] END algorithm=brute, leaf_size=3, n_neighbors=5;, score=0.958 total time=   0.0s\n",
      "[CV 2/5; 175/243] START algorithm=brute, leaf_size=3, n_neighbors=5.............\n",
      "[CV 2/5; 154/243] END algorithm=kd_tree, leaf_size=25, n_neighbors=2;, score=0.875 total time=   0.0s\n",
      "[CV 3/5; 154/243] START algorithm=kd_tree, leaf_size=25, n_neighbors=2..........\n",
      "[CV 5/5; 171/243] END algorithm=brute, leaf_size=2, n_neighbors=25;, score=0.875 total time=   0.0s\n",
      "[CV 1/5; 172/243] START algorithm=brute, leaf_size=3, n_neighbors=2.............\n",
      "[CV 4/5; 165/243] END algorithm=brute, leaf_size=2, n_neighbors=4;, score=0.958 total time=   0.0s\n",
      "[CV 5/5; 165/243] START algorithm=brute, leaf_size=2, n_neighbors=4.............\n",
      "[CV 4/5; 159/243] END algorithm=kd_tree, leaf_size=25, n_neighbors=10;, score=1.000 total time=   0.0s\n",
      "[CV 5/5; 159/243] START algorithm=kd_tree, leaf_size=25, n_neighbors=10.........\n",
      "[CV 1/5; 157/243] END algorithm=kd_tree, leaf_size=25, n_neighbors=5;, score=0.958 total time=   0.0s\n",
      "[CV 2/5; 157/243] START algorithm=kd_tree, leaf_size=25, n_neighbors=5..........\n",
      "[CV 3/5; 154/243] END algorithm=kd_tree, leaf_size=25, n_neighbors=2;, score=0.958 total time=   0.0s\n",
      "[CV 5/5; 165/243] END algorithm=brute, leaf_size=2, n_neighbors=4;, score=0.875 total time=   0.0s\n",
      "[CV 1/5; 166/243] START algorithm=brute, leaf_size=2, n_neighbors=5.............\n",
      "[CV 1/5; 172/243] END algorithm=brute, leaf_size=3, n_neighbors=2;, score=0.958 total time=   0.0s\n",
      "[CV 2/5; 172/243] START algorithm=brute, leaf_size=3, n_neighbors=2.............\n",
      "[CV 5/5; 159/243] END algorithm=kd_tree, leaf_size=25, n_neighbors=10;, score=0.917 total time=   0.0s\n",
      "[CV 1/5; 160/243] START algorithm=kd_tree, leaf_size=25, n_neighbors=15.........\n",
      "[CV 1/5; 177/243] START algorithm=brute, leaf_size=3, n_neighbors=10............\n",
      "[CV 2/5; 157/243] END algorithm=kd_tree, leaf_size=25, n_neighbors=5;, score=0.958 total time=   0.0s\n",
      "[CV 3/5; 157/243] START algorithm=kd_tree, leaf_size=25, n_neighbors=5..........\n",
      "[CV 2/5; 172/243] END algorithm=brute, leaf_size=3, n_neighbors=2;, score=0.875 total time=   0.0s\n",
      "[CV 3/5; 172/243] START algorithm=brute, leaf_size=3, n_neighbors=2.............\n",
      "[CV 1/5; 169/243] END algorithm=brute, leaf_size=2, n_neighbors=15;, score=0.917 total time=   0.0s\n",
      "[CV 2/5; 169/243] START algorithm=brute, leaf_size=2, n_neighbors=15............\n",
      "[CV 2/5; 162/243] END algorithm=kd_tree, leaf_size=25, n_neighbors=25;, score=0.958 total time=   0.0s\n",
      "[CV 3/5; 162/243] START algorithm=kd_tree, leaf_size=25, n_neighbors=25.........\n",
      "[CV 1/5; 160/243] END algorithm=kd_tree, leaf_size=25, n_neighbors=15;, score=0.917 total time=   0.0s\n",
      "[CV 2/5; 160/243] START algorithm=kd_tree, leaf_size=25, n_neighbors=15.........\n",
      "[CV 3/5; 157/243] END algorithm=kd_tree, leaf_size=25, n_neighbors=5;, score=1.000 total time=   0.0s\n",
      "[CV 4/5; 157/243] START algorithm=kd_tree, leaf_size=25, n_neighbors=5..........\n",
      "[CV 2/5; 175/243] END algorithm=brute, leaf_size=3, n_neighbors=5;, score=0.958 total time=   0.0s\n",
      "[CV 3/5; 175/243] START algorithm=brute, leaf_size=3, n_neighbors=5.............\n",
      "[CV 3/5; 172/243] END algorithm=brute, leaf_size=3, n_neighbors=2;, score=0.958 total time=   0.0s\n",
      "[CV 4/5; 172/243] START algorithm=brute, leaf_size=3, n_neighbors=2.............\n",
      "[CV 2/5; 169/243] END algorithm=brute, leaf_size=2, n_neighbors=15;, score=0.958 total time=   0.0s\n",
      "[CV 3/5; 169/243] START algorithm=brute, leaf_size=2, n_neighbors=15............\n",
      "[CV 3/5; 162/243] END algorithm=kd_tree, leaf_size=25, n_neighbors=25;, score=1.000 total time=   0.0s\n",
      "[CV 4/5; 162/243] START algorithm=kd_tree, leaf_size=25, n_neighbors=25.........\n",
      "[CV 2/5; 160/243] END algorithm=kd_tree, leaf_size=25, n_neighbors=15;, score=0.958 total time=   0.0s\n",
      "[CV 3/5; 160/243] START algorithm=kd_tree, leaf_size=25, n_neighbors=15.........\n",
      "[CV 1/5; 166/243] END algorithm=brute, leaf_size=2, n_neighbors=5;, score=0.958 total time=   0.0s\n",
      "[CV 2/5; 166/243] START algorithm=brute, leaf_size=2, n_neighbors=5.............\n",
      "[CV 4/5; 157/243] END algorithm=kd_tree, leaf_size=25, n_neighbors=5;, score=1.000 total time=   0.0s\n",
      "[CV 3/5; 175/243] END algorithm=brute, leaf_size=3, n_neighbors=5;, score=1.000 total time=   0.0s\n",
      "[CV 4/5; 175/243] START algorithm=brute, leaf_size=3, n_neighbors=5.............\n",
      "[CV 3/5; 169/243] END algorithm=brute, leaf_size=2, n_neighbors=15;, score=1.000 total time=   0.0s\n",
      "[CV 4/5; 169/243] START algorithm=brute, leaf_size=2, n_neighbors=15............\n",
      "[CV 4/5; 162/243] END algorithm=kd_tree, leaf_size=25, n_neighbors=25;, score=0.958 total time=   0.0s\n",
      "[CV 5/5; 162/243] START algorithm=kd_tree, leaf_size=25, n_neighbors=25.........\n",
      "[CV 2/5; 166/243] END algorithm=brute, leaf_size=2, n_neighbors=5;, score=0.958 total time=   0.0s\n",
      "[CV 3/5; 166/243] START algorithm=brute, leaf_size=2, n_neighbors=5.............\n",
      "[CV 4/5; 175/243] END algorithm=brute, leaf_size=3, n_neighbors=5;, score=1.000 total time=   0.0s\n",
      "[CV 5/5; 175/243] START algorithm=brute, leaf_size=3, n_neighbors=5.............\n",
      "[CV 4/5; 169/243] END algorithm=brute, leaf_size=2, n_neighbors=15;, score=0.958 total time=   0.0s\n",
      "[CV 5/5; 169/243] START algorithm=brute, leaf_size=2, n_neighbors=15............\n",
      "[CV 5/5; 162/243] END algorithm=kd_tree, leaf_size=25, n_neighbors=25;, score=0.875 total time=   0.0s\n",
      "[CV 1/5; 163/243] START algorithm=brute, leaf_size=2, n_neighbors=2.............\n",
      "[CV 1/5; 177/243] END algorithm=brute, leaf_size=3, n_neighbors=10;, score=0.917 total time=   0.0s\n",
      "[CV 2/5; 177/243] START algorithm=brute, leaf_size=3, n_neighbors=10............\n",
      "[CV 5/5; 175/243] END algorithm=brute, leaf_size=3, n_neighbors=5;, score=0.917 total time=   0.0s\n",
      "[CV 4/5; 172/243] END algorithm=brute, leaf_size=3, n_neighbors=2;, score=0.917 total time=   0.0s\n",
      "[CV 5/5; 172/243] START algorithm=brute, leaf_size=3, n_neighbors=2.............\n",
      "[CV 1/5; 163/243] END algorithm=brute, leaf_size=2, n_neighbors=2;, score=0.958 total time=   0.0s\n",
      "[CV 2/5; 163/243] START algorithm=brute, leaf_size=2, n_neighbors=2.............\n",
      "[CV 5/5; 172/243] END algorithm=brute, leaf_size=3, n_neighbors=2;, score=0.917 total time=   0.0s\n",
      "[CV 1/5; 173/243] START algorithm=brute, leaf_size=3, n_neighbors=3.............\n",
      "[CV 5/5; 169/243] END algorithm=brute, leaf_size=2, n_neighbors=15;, score=0.917 total time=   0.0s[CV 2/5; 180/243] START algorithm=brute, leaf_size=3, n_neighbors=25............\n",
      "[CV 2/5; 163/243] END algorithm=brute, leaf_size=2, n_neighbors=2;, score=0.875 total time=   0.0s\n",
      "[CV 3/5; 163/243] START algorithm=brute, leaf_size=2, n_neighbors=2.............\n",
      "\n",
      "[CV 1/5; 170/243] START algorithm=brute, leaf_size=2, n_neighbors=20............\n",
      "[CV 1/5; 176/243] START algorithm=brute, leaf_size=3, n_neighbors=6.............\n",
      "[CV 3/5; 160/243] END algorithm=kd_tree, leaf_size=25, n_neighbors=15;, score=1.000 total time=   0.0s\n",
      "[CV 4/5; 160/243] START algorithm=kd_tree, leaf_size=25, n_neighbors=15.........\n",
      "[CV 3/5; 166/243] END algorithm=brute, leaf_size=2, n_neighbors=5;, score=1.000 total time=   0.0s\n",
      "[CV 4/5; 166/243] START algorithm=brute, leaf_size=2, n_neighbors=5.............\n",
      "[CV 2/5; 177/243] END algorithm=brute, leaf_size=3, n_neighbors=10;, score=1.000 total time=   0.0s\n",
      "[CV 3/5; 177/243] START algorithm=brute, leaf_size=3, n_neighbors=10............\n",
      "[CV 1/5; 176/243] END algorithm=brute, leaf_size=3, n_neighbors=6;, score=0.958 total time=   0.0s\n",
      "[CV 2/5; 176/243] START algorithm=brute, leaf_size=3, n_neighbors=6.............\n",
      "[CV 2/5; 180/243] END algorithm=brute, leaf_size=3, n_neighbors=25;, score=0.958 total time=   0.0s[CV 4/5; 160/243] END algorithm=kd_tree, leaf_size=25, n_neighbors=15;, score=0.958 total time=   0.0s\n",
      "\n",
      "[CV 5/5; 160/243] START algorithm=kd_tree, leaf_size=25, n_neighbors=15.........\n",
      "[CV 3/5; 180/243] START algorithm=brute, leaf_size=3, n_neighbors=25............\n",
      "[CV 1/5; 170/243] END algorithm=brute, leaf_size=2, n_neighbors=20;, score=0.875 total time=   0.0s\n",
      "[CV 1/5; 173/243] END algorithm=brute, leaf_size=3, n_neighbors=3;, score=0.958 total time=   0.0s\n",
      "[CV 2/5; 173/243] START algorithm=brute, leaf_size=3, n_neighbors=3.............\n",
      "[CV 4/5; 166/243] END algorithm=brute, leaf_size=2, n_neighbors=5;, score=1.000 total time=   0.0s\n",
      "[CV 5/5; 166/243] START algorithm=brute, leaf_size=2, n_neighbors=5.............\n",
      "[CV 3/5; 177/243] END algorithm=brute, leaf_size=3, n_neighbors=10;, score=1.000 total time=   0.0s\n",
      "[CV 4/5; 177/243] START algorithm=brute, leaf_size=3, n_neighbors=10............\n",
      "[CV 2/5; 176/243] END algorithm=brute, leaf_size=3, n_neighbors=6;, score=1.000 total time=   0.0s\n",
      "[CV 3/5; 176/243] START algorithm=brute, leaf_size=3, n_neighbors=6.............\n",
      "[CV 3/5; 163/243] END algorithm=brute, leaf_size=2, n_neighbors=2;, score=0.958 total time=   0.0s\n",
      "[CV 4/5; 163/243] START algorithm=brute, leaf_size=2, n_neighbors=2.............\n",
      "[CV 5/5; 160/243] END algorithm=kd_tree, leaf_size=25, n_neighbors=15;, score=0.917 total time=   0.0s\n",
      "[CV 3/5; 180/243] END algorithm=brute, leaf_size=3, n_neighbors=25;, score=1.000 total time=   0.0s\n",
      "[CV 3/5; 183/243] START algorithm=brute, leaf_size=4, n_neighbors=4.............\n",
      "[CV 4/5; 180/243] START algorithm=brute, leaf_size=3, n_neighbors=25............\n",
      "[CV 4/5; 177/243] END algorithm=brute, leaf_size=3, n_neighbors=10;, score=1.000 total time=   0.0s\n",
      "[CV 5/5; 166/243] END algorithm=brute, leaf_size=2, n_neighbors=5;, score=0.917 total time=   0.0s\n",
      "[CV 5/5; 177/243] START algorithm=brute, leaf_size=3, n_neighbors=10............\n",
      "[CV 1/5; 167/243] START algorithm=brute, leaf_size=2, n_neighbors=6.............\n",
      "[CV 3/5; 176/243] END algorithm=brute, leaf_size=3, n_neighbors=6;, score=1.000 total time=   0.0s\n",
      "[CV 4/5; 176/243] START algorithm=brute, leaf_size=3, n_neighbors=6.............\n",
      "[CV 2/5; 173/243] END algorithm=brute, leaf_size=3, n_neighbors=3;, score=0.917 total time=   0.0s\n",
      "[CV 3/5; 173/243] START algorithm=brute, leaf_size=3, n_neighbors=3.............\n",
      "[CV 4/5; 163/243] END algorithm=brute, leaf_size=2, n_neighbors=2;, score=0.917 total time=   0.0s\n",
      "[CV 5/5; 163/243] START algorithm=brute, leaf_size=2, n_neighbors=2.............\n",
      "[CV 2/5; 170/243] START algorithm=brute, leaf_size=2, n_neighbors=20............\n",
      "[CV 1/5; 167/243] END algorithm=brute, leaf_size=2, n_neighbors=6;, score=0.958 total time=   0.0s\n",
      "[CV 2/5; 167/243] START algorithm=brute, leaf_size=2, n_neighbors=6.............\n",
      "[CV 5/5; 177/243] END algorithm=brute, leaf_size=3, n_neighbors=10;, score=0.917 total time=   0.0s\n",
      "[CV 1/5; 178/243] START algorithm=brute, leaf_size=3, n_neighbors=15............\n",
      "[CV 4/5; 180/243] END algorithm=brute, leaf_size=3, n_neighbors=25;, score=0.958 total time=   0.0s\n",
      "[CV 5/5; 180/243] START algorithm=brute, leaf_size=3, n_neighbors=25............\n",
      "[CV 3/5; 173/243] END algorithm=brute, leaf_size=3, n_neighbors=3;, score=1.000 total time=   0.0s\n",
      "[CV 4/5; 173/243] START algorithm=brute, leaf_size=3, n_neighbors=3.............\n",
      "[CV 5/5; 163/243] END algorithm=brute, leaf_size=2, n_neighbors=2;, score=0.917 total time=   0.0s\n",
      "[CV 1/5; 164/243] START algorithm=brute, leaf_size=2, n_neighbors=3.............\n",
      "[CV 2/5; 170/243] END algorithm=brute, leaf_size=2, n_neighbors=20;, score=0.958 total time=   0.0s\n",
      "[CV 3/5; 170/243] START algorithm=brute, leaf_size=2, n_neighbors=20............\n",
      "[CV 1/5; 178/243] END algorithm=brute, leaf_size=3, n_neighbors=15;, score=0.917 total time=   0.0s\n",
      "[CV 2/5; 178/243] START algorithm=brute, leaf_size=3, n_neighbors=15............\n",
      "[CV 5/5; 180/243] END algorithm=brute, leaf_size=3, n_neighbors=25;, score=0.875 total time=   0.0s\n",
      "[CV 4/5; 173/243] END algorithm=brute, leaf_size=3, n_neighbors=3;, score=0.958 total time=   0.0s\n",
      "[CV 1/5; 181/243] START algorithm=brute, leaf_size=4, n_neighbors=2.............\n",
      "[CV 4/5; 186/243] START algorithm=brute, leaf_size=4, n_neighbors=10............\n",
      "[CV 3/5; 183/243] END algorithm=brute, leaf_size=4, n_neighbors=4;, score=1.000 total time=   0.0s\n",
      "[CV 4/5; 183/243] START algorithm=brute, leaf_size=4, n_neighbors=4.............\n",
      "[CV 1/5; 181/243] END algorithm=brute, leaf_size=4, n_neighbors=2;, score=0.958 total time=   0.0s\n",
      "[CV 2/5; 181/243] START algorithm=brute, leaf_size=4, n_neighbors=2.............\n",
      "[CV 2/5; 178/243] END algorithm=brute, leaf_size=3, n_neighbors=15;, score=0.958 total time=   0.0s\n",
      "[CV 3/5; 178/243] START algorithm=brute, leaf_size=3, n_neighbors=15............\n",
      "[CV 4/5; 183/243] END algorithm=brute, leaf_size=4, n_neighbors=4;, score=0.958 total time=   0.0s\n",
      "[CV 5/5; 183/243] START algorithm=brute, leaf_size=4, n_neighbors=4.............\n",
      "[CV 3/5; 170/243] END algorithm=brute, leaf_size=2, n_neighbors=20;, score=1.000 total time=   0.0s\n",
      "[CV 5/5; 189/243] START algorithm=brute, leaf_size=4, n_neighbors=25............\n",
      "[CV 2/5; 181/243] END algorithm=brute, leaf_size=4, n_neighbors=2;, score=0.875 total time=   0.0s\n",
      "[CV 3/5; 181/243] START algorithm=brute, leaf_size=4, n_neighbors=2.............\n",
      "[CV 1/5; 164/243] END algorithm=brute, leaf_size=2, n_neighbors=3;, score=0.958 total time=   0.0s\n",
      "[CV 5/5; 183/243] END algorithm=brute, leaf_size=4, n_neighbors=4;, score=0.875 total time=   0.0s\n",
      "[CV 1/5; 184/243] START algorithm=brute, leaf_size=4, n_neighbors=5.............\n",
      "[CV 4/5; 176/243] END algorithm=brute, leaf_size=3, n_neighbors=6;, score=1.000 total time=   0.0s\n",
      "[CV 5/5; 176/243] START algorithm=brute, leaf_size=3, n_neighbors=6.............\n",
      "[CV 1/5; 193/243] START algorithm=brute, leaf_size=5, n_neighbors=5.............\n",
      "[CV 5/5; 189/243] END algorithm=brute, leaf_size=4, n_neighbors=25;, score=0.875 total time=   0.0s\n",
      "[CV 1/5; 190/243] START algorithm=brute, leaf_size=5, n_neighbors=2.............\n",
      "[CV 1/5; 184/243] END algorithm=brute, leaf_size=4, n_neighbors=5;, score=0.958 total time=   0.0s\n",
      "[CV 2/5; 184/243] START algorithm=brute, leaf_size=4, n_neighbors=5.............\n",
      "[CV 4/5; 186/243] END algorithm=brute, leaf_size=4, n_neighbors=10;, score=1.000 total time=   0.0s\n",
      "[CV 5/5; 186/243] START algorithm=brute, leaf_size=4, n_neighbors=10............\n",
      "[CV 5/5; 176/243] END algorithm=brute, leaf_size=3, n_neighbors=6;, score=0.917 total time=   0.0s\n",
      "[CV 1/5; 190/243] END algorithm=brute, leaf_size=5, n_neighbors=2;, score=0.958 total time=   0.0s\n",
      "[CV 2/5; 190/243] START algorithm=brute, leaf_size=5, n_neighbors=2.............\n",
      "[CV 2/5; 167/243] END algorithm=brute, leaf_size=2, n_neighbors=6;, score=1.000 total time=   0.0s\n",
      "[CV 2/5; 196/243] START algorithm=brute, leaf_size=5, n_neighbors=15............\n",
      "[CV 3/5; 178/243] END algorithm=brute, leaf_size=3, n_neighbors=15;, score=1.000 total time=   0.0s\n",
      "[CV 4/5; 178/243] START algorithm=brute, leaf_size=3, n_neighbors=15............\n",
      "[CV 3/5; 199/243] START algorithm=brute, leaf_size=6, n_neighbors=2.............\n",
      "[CV 5/5; 186/243] END algorithm=brute, leaf_size=4, n_neighbors=10;, score=0.917 total time=   0.0s\n",
      "[CV 1/5; 187/243] START algorithm=brute, leaf_size=4, n_neighbors=15............\n",
      "[CV 2/5; 196/243] END algorithm=brute, leaf_size=5, n_neighbors=15;, score=0.958 total time=   0.0s\n",
      "[CV 3/5; 196/243] START algorithm=brute, leaf_size=5, n_neighbors=15............\n",
      "[CV 4/5; 178/243] END algorithm=brute, leaf_size=3, n_neighbors=15;, score=0.958 total time=   0.0s\n",
      "[CV 5/5; 178/243] START algorithm=brute, leaf_size=3, n_neighbors=15............\n",
      "[CV 3/5; 199/243] END algorithm=brute, leaf_size=6, n_neighbors=2;, score=0.958 total time=   0.0s\n",
      "[CV 4/5; 199/243] START algorithm=brute, leaf_size=6, n_neighbors=2.............\n",
      "[CV 3/5; 181/243] END algorithm=brute, leaf_size=4, n_neighbors=2;, score=0.958 total time=   0.0s\n",
      "[CV 4/5; 181/243] START algorithm=brute, leaf_size=4, n_neighbors=2.............\n",
      "[CV 3/5; 196/243] END algorithm=brute, leaf_size=5, n_neighbors=15;, score=1.000 total time=   0.0s\n",
      "[CV 4/5; 196/243] START algorithm=brute, leaf_size=5, n_neighbors=15............\n",
      "[CV 1/5; 187/243] END algorithm=brute, leaf_size=4, n_neighbors=15;, score=0.917 total time=   0.0s\n",
      "[CV 2/5; 187/243] START algorithm=brute, leaf_size=4, n_neighbors=15............\n",
      "[CV 1/5; 193/243] END algorithm=brute, leaf_size=5, n_neighbors=5;, score=0.958 total time=   0.0s\n",
      "[CV 2/5; 193/243] START algorithm=brute, leaf_size=5, n_neighbors=5.............\n",
      "[CV 4/5; 181/243] END algorithm=brute, leaf_size=4, n_neighbors=2;, score=0.917 total time=   0.0s\n",
      "[CV 2/5; 184/243] END algorithm=brute, leaf_size=4, n_neighbors=5;, score=0.958 total time=   0.0s\n",
      "[CV 5/5; 181/243] START algorithm=brute, leaf_size=4, n_neighbors=2.............\n",
      "[CV 3/5; 184/243] START algorithm=brute, leaf_size=4, n_neighbors=5.............\n",
      "[CV 2/5; 187/243] END algorithm=brute, leaf_size=4, n_neighbors=15;, score=0.958 total time=   0.0s\n",
      "[CV 3/5; 187/243] START algorithm=brute, leaf_size=4, n_neighbors=15............\n",
      "[CV 2/5; 190/243] END algorithm=brute, leaf_size=5, n_neighbors=2;, score=0.875 total time=   0.0s\n",
      "[CV 3/5; 190/243] START algorithm=brute, leaf_size=5, n_neighbors=2.............\n",
      "[CV 2/5; 193/243] END algorithm=brute, leaf_size=5, n_neighbors=5;, score=0.958 total time=   0.0s\n",
      "[CV 3/5; 193/243] START algorithm=brute, leaf_size=5, n_neighbors=5.............\n",
      "[CV 3/5; 184/243] END algorithm=brute, leaf_size=4, n_neighbors=5;, score=1.000 total time=   0.0s\n",
      "[CV 4/5; 199/243] END algorithm=brute, leaf_size=6, n_neighbors=2;, score=0.917 total time=   0.0s\n",
      "[CV 4/5; 184/243] START algorithm=brute, leaf_size=4, n_neighbors=5.............\n",
      "[CV 5/5; 199/243] START algorithm=brute, leaf_size=6, n_neighbors=2.............\n",
      "[CV 3/5; 187/243] END algorithm=brute, leaf_size=4, n_neighbors=15;, score=1.000 total time=   0.0s\n",
      "[CV 4/5; 187/243] START algorithm=brute, leaf_size=4, n_neighbors=15............\n",
      "[CV 5/5; 178/243] END algorithm=brute, leaf_size=3, n_neighbors=15;, score=0.917 total time=   0.0s\n",
      "[CV 1/5; 179/243] START algorithm=brute, leaf_size=3, n_neighbors=20............\n",
      "[CV 5/5; 199/243] END algorithm=brute, leaf_size=6, n_neighbors=2;, score=0.917 total time=   0.0s\n",
      "[CV 5/5; 181/243] END algorithm=brute, leaf_size=4, n_neighbors=2;, score=0.917 total time=   0.0s\n",
      "[CV 1/5; 200/243] START algorithm=brute, leaf_size=6, n_neighbors=3.............\n",
      "[CV 1/5; 182/243] START algorithm=brute, leaf_size=4, n_neighbors=3.............\n",
      "[CV 4/5; 196/243] END algorithm=brute, leaf_size=5, n_neighbors=15;, score=0.958 total time=   0.0s\n",
      "[CV 5/5; 196/243] START algorithm=brute, leaf_size=5, n_neighbors=15............\n",
      "[CV 3/5; 193/243] END algorithm=brute, leaf_size=5, n_neighbors=5;, score=1.000 total time=   0.0s\n",
      "[CV 4/5; 193/243] START algorithm=brute, leaf_size=5, n_neighbors=5.............\n",
      "[CV 1/5; 200/243] END algorithm=brute, leaf_size=6, n_neighbors=3;, score=0.958 total time=   0.0s\n",
      "[CV 1/5; 182/243] END algorithm=brute, leaf_size=4, n_neighbors=3;, score=0.958 total time=   0.0s\n",
      "[CV 2/5; 200/243] START algorithm=brute, leaf_size=6, n_neighbors=3.............\n",
      "[CV 2/5; 182/243] START algorithm=brute, leaf_size=4, n_neighbors=3.............\n",
      "[CV 5/5; 196/243] END algorithm=brute, leaf_size=5, n_neighbors=15;, score=0.917 total time=   0.0s\n",
      "[CV 1/5; 197/243] START algorithm=brute, leaf_size=5, n_neighbors=20............\n",
      "[CV 4/5; 184/243] END algorithm=brute, leaf_size=4, n_neighbors=5;, score=1.000 total time=   0.0s\n",
      "[CV 5/5; 184/243] START algorithm=brute, leaf_size=4, n_neighbors=5.............\n",
      "[CV 1/5; 179/243] END algorithm=brute, leaf_size=3, n_neighbors=20;, score=0.875 total time=   0.0s\n",
      "[CV 2/5; 179/243] START algorithm=brute, leaf_size=3, n_neighbors=20............\n",
      "[CV 4/5; 193/243] END algorithm=brute, leaf_size=5, n_neighbors=5;, score=1.000 total time=   0.0s\n",
      "[CV 5/5; 193/243] START algorithm=brute, leaf_size=5, n_neighbors=5.............\n",
      "[CV 2/5; 182/243] END algorithm=brute, leaf_size=4, n_neighbors=3;, score=0.917 total time=   0.0s\n",
      "[CV 3/5; 182/243] START algorithm=brute, leaf_size=4, n_neighbors=3.............\n",
      "[CV 2/5; 200/243] END algorithm=brute, leaf_size=6, n_neighbors=3;, score=0.917 total time=   0.0s\n",
      "[CV 3/5; 200/243] START algorithm=brute, leaf_size=6, n_neighbors=3.............[CV 1/5; 197/243] END algorithm=brute, leaf_size=5, n_neighbors=20;, score=0.875 total time=   0.0s\n",
      "\n",
      "[CV 2/5; 197/243] START algorithm=brute, leaf_size=5, n_neighbors=20............\n",
      "[CV 5/5; 193/243] END algorithm=brute, leaf_size=5, n_neighbors=5;, score=0.917 total time=   0.0s\n",
      "[CV 5/5; 184/243] END algorithm=brute, leaf_size=4, n_neighbors=5;, score=0.917 total time=   0.0s\n",
      "[CV 1/5; 194/243] START algorithm=brute, leaf_size=5, n_neighbors=6.............\n",
      "[CV 1/5; 185/243] START algorithm=brute, leaf_size=4, n_neighbors=6.............\n",
      "[CV 3/5; 190/243] END algorithm=brute, leaf_size=5, n_neighbors=2;, score=0.958 total time=   0.0s\n",
      "[CV 4/5; 190/243] START algorithm=brute, leaf_size=5, n_neighbors=2.............\n",
      "[CV 2/5; 179/243] END algorithm=brute, leaf_size=3, n_neighbors=20;, score=0.958 total time=   0.0s\n",
      "[CV 3/5; 179/243] START algorithm=brute, leaf_size=3, n_neighbors=20............\n",
      "[CV 1/5; 185/243] END algorithm=brute, leaf_size=4, n_neighbors=6;, score=0.958 total time=   0.0s\n",
      "[CV 2/5; 185/243] START algorithm=brute, leaf_size=4, n_neighbors=6.............\n",
      "[CV 4/5; 187/243] END algorithm=brute, leaf_size=4, n_neighbors=15;, score=0.958 total time=   0.0s\n",
      "[CV 5/5; 187/243] START algorithm=brute, leaf_size=4, n_neighbors=15............\n",
      "[CV 3/5; 179/243] END algorithm=brute, leaf_size=3, n_neighbors=20;, score=1.000 total time=   0.0s[CV 2/5; 197/243] END algorithm=brute, leaf_size=5, n_neighbors=20;, score=0.958 total time=   0.0s\n",
      "\n",
      "[CV 3/5; 197/243] START algorithm=brute, leaf_size=5, n_neighbors=20............[CV 4/5; 179/243] START algorithm=brute, leaf_size=3, n_neighbors=20............\n",
      "\n",
      "[CV 3/5; 182/243] END algorithm=brute, leaf_size=4, n_neighbors=3;, score=1.000 total time=   0.0s\n",
      "[CV 4/5; 182/243] START algorithm=brute, leaf_size=4, n_neighbors=3.............\n",
      "[CV 2/5; 185/243] END algorithm=brute, leaf_size=4, n_neighbors=6;, score=1.000 total time=   0.0s\n",
      "[CV 3/5; 185/243] START algorithm=brute, leaf_size=4, n_neighbors=6.............\n",
      "[CV 4/5; 190/243] END algorithm=brute, leaf_size=5, n_neighbors=2;, score=0.917 total time=   0.0s\n",
      "[CV 5/5; 190/243] START algorithm=brute, leaf_size=5, n_neighbors=2.............\n",
      "[CV 4/5; 179/243] END algorithm=brute, leaf_size=3, n_neighbors=20;, score=0.958 total time=   0.0s\n",
      "[CV 5/5; 179/243] START algorithm=brute, leaf_size=3, n_neighbors=20............\n",
      "[CV 3/5; 197/243] END algorithm=brute, leaf_size=5, n_neighbors=20;, score=1.000 total time=   0.0s\n",
      "[CV 4/5; 197/243] START algorithm=brute, leaf_size=5, n_neighbors=20............\n",
      "[CV 5/5; 190/243] END algorithm=brute, leaf_size=5, n_neighbors=2;, score=0.917 total time=   0.0s\n",
      "[CV 1/5; 191/243] START algorithm=brute, leaf_size=5, n_neighbors=3.............\n",
      "[CV 4/5; 182/243] END algorithm=brute, leaf_size=4, n_neighbors=3;, score=0.958 total time=   0.0s\n",
      "[CV 5/5; 179/243] END algorithm=brute, leaf_size=3, n_neighbors=20;, score=0.917 total time=   0.0s\n",
      "[CV 5/5; 182/243] START algorithm=brute, leaf_size=4, n_neighbors=3.............\n",
      "[CV 1/5; 180/243] START algorithm=brute, leaf_size=3, n_neighbors=25............\n",
      "[CV 1/5; 191/243] END algorithm=brute, leaf_size=5, n_neighbors=3;, score=0.958 total time=   0.0s\n",
      "[CV 2/5; 191/243] START algorithm=brute, leaf_size=5, n_neighbors=3.............\n",
      "[CV 3/5; 200/243] END algorithm=brute, leaf_size=6, n_neighbors=3;, score=1.000 total time=   0.0s\n",
      "[CV 4/5; 200/243] START algorithm=brute, leaf_size=6, n_neighbors=3.............\n",
      "[CV 5/5; 187/243] END algorithm=brute, leaf_size=4, n_neighbors=15;, score=0.917 total time=   0.0s\n",
      "[CV 1/5; 188/243] START algorithm=brute, leaf_size=4, n_neighbors=20............\n",
      "[CV 5/5; 182/243] END algorithm=brute, leaf_size=4, n_neighbors=3;, score=0.917 total time=   0.0s\n",
      "[CV 1/5; 183/243] START algorithm=brute, leaf_size=4, n_neighbors=4.............\n",
      "[CV 4/5; 197/243] END algorithm=brute, leaf_size=5, n_neighbors=20;, score=0.958 total time=   0.0s\n",
      "[CV 2/5; 191/243] END algorithm=brute, leaf_size=5, n_neighbors=3;, score=0.917 total time=   0.0s\n",
      "[CV 5/5; 197/243] START algorithm=brute, leaf_size=5, n_neighbors=20............\n",
      "[CV 3/5; 191/243] START algorithm=brute, leaf_size=5, n_neighbors=3.............\n",
      "[CV 4/5; 200/243] END algorithm=brute, leaf_size=6, n_neighbors=3;, score=0.958 total time=   0.0s\n",
      "[CV 5/5; 200/243] START algorithm=brute, leaf_size=6, n_neighbors=3.............\n",
      "[CV 1/5; 188/243] END algorithm=brute, leaf_size=4, n_neighbors=20;, score=0.875 total time=   0.0s\n",
      "[CV 2/5; 188/243] START algorithm=brute, leaf_size=4, n_neighbors=20............\n",
      "[CV 1/5; 194/243] END algorithm=brute, leaf_size=5, n_neighbors=6;, score=0.958 total time=   0.0s\n",
      "[CV 2/5; 194/243] START algorithm=brute, leaf_size=5, n_neighbors=6.............\n",
      "[CV 3/5; 185/243] END algorithm=brute, leaf_size=4, n_neighbors=6;, score=1.000 total time=   0.0s\n",
      "[CV 4/5; 185/243] START algorithm=brute, leaf_size=4, n_neighbors=6.............\n",
      "[CV 3/5; 191/243] END algorithm=brute, leaf_size=5, n_neighbors=3;, score=1.000 total time=   0.0s\n",
      "[CV 4/5; 191/243] START algorithm=brute, leaf_size=5, n_neighbors=3.............\n",
      "[CV 5/5; 197/243] END algorithm=brute, leaf_size=5, n_neighbors=20;, score=0.917 total time=   0.0s\n",
      "[CV 1/5; 198/243] START algorithm=brute, leaf_size=5, n_neighbors=25............\n",
      "[CV 5/5; 200/243] END algorithm=brute, leaf_size=6, n_neighbors=3;, score=0.917 total time=   0.0s\n",
      "[CV 1/5; 201/243] START algorithm=brute, leaf_size=6, n_neighbors=4.............\n",
      "[CV 2/5; 188/243] END algorithm=brute, leaf_size=4, n_neighbors=20;, score=0.958 total time=   0.0s\n",
      "[CV 3/5; 188/243] START algorithm=brute, leaf_size=4, n_neighbors=20............\n",
      "[CV 4/5; 191/243] END algorithm=brute, leaf_size=5, n_neighbors=3;, score=0.958 total time=   0.0s\n",
      "[CV 5/5; 191/243] START algorithm=brute, leaf_size=5, n_neighbors=3.............\n",
      "[CV 1/5; 198/243] END algorithm=brute, leaf_size=5, n_neighbors=25;, score=0.875 total time=   0.0s\n",
      "[CV 2/5; 198/243] START algorithm=brute, leaf_size=5, n_neighbors=25............\n",
      "[CV 1/5; 201/243] END algorithm=brute, leaf_size=6, n_neighbors=4;, score=0.958 total time=   0.0s\n",
      "[CV 2/5; 201/243] START algorithm=brute, leaf_size=6, n_neighbors=4.............\n",
      "[CV 5/5; 191/243] END algorithm=brute, leaf_size=5, n_neighbors=3;, score=0.917 total time=   0.0s\n",
      "[CV 1/5; 192/243] START algorithm=brute, leaf_size=5, n_neighbors=4.............\n",
      "[CV 2/5; 198/243] END algorithm=brute, leaf_size=5, n_neighbors=25;, score=0.958 total time=   0.0s\n",
      "[CV 3/5; 198/243] START algorithm=brute, leaf_size=5, n_neighbors=25............\n",
      "[CV 4/5; 185/243] END algorithm=brute, leaf_size=4, n_neighbors=6;, score=1.000 total time=   0.0s\n",
      "[CV 5/5; 185/243] START algorithm=brute, leaf_size=4, n_neighbors=6.............\n",
      "[CV 2/5; 194/243] END algorithm=brute, leaf_size=5, n_neighbors=6;, score=1.000 total time=   0.0s\n",
      "[CV 3/5; 194/243] START algorithm=brute, leaf_size=5, n_neighbors=6.............\n",
      "[CV 1/5; 180/243] END algorithm=brute, leaf_size=3, n_neighbors=25;, score=0.875 total time=   0.0s\n",
      "[CV 5/5; 185/243] END algorithm=brute, leaf_size=4, n_neighbors=6;, score=0.917 total time=   0.0s\n",
      "[CV 1/5; 186/243] START algorithm=brute, leaf_size=4, n_neighbors=10............\n",
      "[CV 1/5; 186/243] END algorithm=brute, leaf_size=4, n_neighbors=10;, score=0.917 total time=   0.0s\n",
      "[CV 2/5; 186/243] START algorithm=brute, leaf_size=4, n_neighbors=10............\n",
      "[CV 1/5; 183/243] END algorithm=brute, leaf_size=4, n_neighbors=4;, score=0.958 total time=   0.0s\n",
      "[CV 2/5; 183/243] START algorithm=brute, leaf_size=4, n_neighbors=4.............\n",
      "[CV 4/5; 202/243] START algorithm=brute, leaf_size=6, n_neighbors=5.............\n",
      "[CV 3/5; 188/243] END algorithm=brute, leaf_size=4, n_neighbors=20;, score=1.000 total time=   0.0s\n",
      "[CV 4/5; 188/243] START algorithm=brute, leaf_size=4, n_neighbors=20............\n",
      "[CV 2/5; 201/243] END algorithm=brute, leaf_size=6, n_neighbors=4;, score=0.917 total time=   0.0s\n",
      "[CV 2/5; 183/243] END algorithm=brute, leaf_size=4, n_neighbors=4;, score=0.917 total time=   0.0s\n",
      "[CV 3/5; 201/243] START algorithm=brute, leaf_size=6, n_neighbors=4.............\n",
      "[CV 4/5; 202/243] END algorithm=brute, leaf_size=6, n_neighbors=5;, score=1.000 total time=   0.0s\n",
      "[CV 5/5; 202/243] START algorithm=brute, leaf_size=6, n_neighbors=5.............\n",
      "[CV 5/5; 205/243] START algorithm=brute, leaf_size=6, n_neighbors=15............\n",
      "[CV 1/5; 192/243] END algorithm=brute, leaf_size=5, n_neighbors=4;, score=0.958 total time=   0.0s\n",
      "[CV 4/5; 188/243] END algorithm=brute, leaf_size=4, n_neighbors=20;, score=0.958 total time=   0.0s\n",
      "[CV 2/5; 192/243] START algorithm=brute, leaf_size=5, n_neighbors=4.............[CV 5/5; 188/243] START algorithm=brute, leaf_size=4, n_neighbors=20............\n",
      "\n",
      "[CV 3/5; 194/243] END algorithm=brute, leaf_size=5, n_neighbors=6;, score=1.000 total time=   0.0s\n",
      "[CV 4/5; 194/243] START algorithm=brute, leaf_size=5, n_neighbors=6.............\n",
      "[CV 5/5; 202/243] END algorithm=brute, leaf_size=6, n_neighbors=5;, score=0.917 total time=   0.0s\n",
      "[CV 1/5; 203/243] START algorithm=brute, leaf_size=6, n_neighbors=6.............\n",
      "[CV 5/5; 205/243] END algorithm=brute, leaf_size=6, n_neighbors=15;, score=0.917 total time=   0.0s\n",
      "[CV 1/5; 206/243] START algorithm=brute, leaf_size=6, n_neighbors=20............\n",
      "[CV 3/5; 201/243] END algorithm=brute, leaf_size=6, n_neighbors=4;, score=1.000 total time=   0.0s\n",
      "[CV 4/5; 201/243] START algorithm=brute, leaf_size=6, n_neighbors=4.............\n",
      "[CV 1/5; 203/243] END algorithm=brute, leaf_size=6, n_neighbors=6;, score=0.958 total time=   0.0s\n",
      "[CV 2/5; 203/243] START algorithm=brute, leaf_size=6, n_neighbors=6.............\n",
      "[CV 5/5; 188/243] END algorithm=brute, leaf_size=4, n_neighbors=20;, score=0.917 total time=   0.0s\n",
      "[CV 1/5; 189/243] START algorithm=brute, leaf_size=4, n_neighbors=25............\n",
      "[CV 2/5; 186/243] END algorithm=brute, leaf_size=4, n_neighbors=10;, score=1.000 total time=   0.0s\n",
      "[CV 3/5; 186/243] START algorithm=brute, leaf_size=4, n_neighbors=10............\n",
      "[CV 2/5; 192/243] END algorithm=brute, leaf_size=5, n_neighbors=4;, score=0.917 total time=   0.0s\n",
      "[CV 3/5; 192/243] START algorithm=brute, leaf_size=5, n_neighbors=4.............\n",
      "[CV 4/5; 194/243] END algorithm=brute, leaf_size=5, n_neighbors=6;, score=1.000 total time=   0.0s\n",
      "[CV 5/5; 194/243] START algorithm=brute, leaf_size=5, n_neighbors=6.............\n",
      "[CV 3/5; 198/243] END algorithm=brute, leaf_size=5, n_neighbors=25;, score=1.000 total time=   0.0s[CV 4/5; 201/243] END algorithm=brute, leaf_size=6, n_neighbors=4;, score=0.958 total time=   0.0s\n",
      "\n",
      "[CV 5/5; 201/243] START algorithm=brute, leaf_size=6, n_neighbors=4.............\n",
      "[CV 4/5; 198/243] START algorithm=brute, leaf_size=5, n_neighbors=25............\n",
      "[CV 1/5; 189/243] END algorithm=brute, leaf_size=4, n_neighbors=25;, score=0.875 total time=   0.0s\n",
      "[CV 2/5; 189/243] START algorithm=brute, leaf_size=4, n_neighbors=25............\n",
      "[CV 3/5; 186/243] END algorithm=brute, leaf_size=4, n_neighbors=10;, score=1.000 total time=   0.0s\n",
      "[CV 3/5; 192/243] END algorithm=brute, leaf_size=5, n_neighbors=4;, score=1.000 total time=   0.0s\n",
      "[CV 5/5; 194/243] END algorithm=brute, leaf_size=5, n_neighbors=6;, score=0.917 total time=   0.0s[CV 4/5; 192/243] START algorithm=brute, leaf_size=5, n_neighbors=4.............\n",
      "\n",
      "[CV 1/5; 195/243] START algorithm=brute, leaf_size=5, n_neighbors=10............\n",
      "[CV 5/5; 201/243] END algorithm=brute, leaf_size=6, n_neighbors=4;, score=0.875 total time=   0.0s\n",
      "[CV 1/5; 202/243] START algorithm=brute, leaf_size=6, n_neighbors=5.............\n",
      "[CV 4/5; 198/243] END algorithm=brute, leaf_size=5, n_neighbors=25;, score=0.958 total time=   0.0s\n",
      "[CV 5/5; 198/243] START algorithm=brute, leaf_size=5, n_neighbors=25............\n",
      "[CV 1/5; 209/243] START algorithm=brute, leaf_size=10, n_neighbors=3............\n",
      "[CV 2/5; 203/243] END algorithm=brute, leaf_size=6, n_neighbors=6;, score=1.000 total time=   0.0s\n",
      "[CV 3/5; 203/243] START algorithm=brute, leaf_size=6, n_neighbors=6.............\n",
      "[CV 4/5; 192/243] END algorithm=brute, leaf_size=5, n_neighbors=4;, score=0.958 total time=   0.0s\n",
      "[CV 1/5; 195/243] END algorithm=brute, leaf_size=5, n_neighbors=10;, score=0.917 total time=   0.0s\n",
      "[CV 5/5; 192/243] START algorithm=brute, leaf_size=5, n_neighbors=4.............\n",
      "[CV 2/5; 195/243] START algorithm=brute, leaf_size=5, n_neighbors=10............\n",
      "[CV 1/5; 209/243] END algorithm=brute, leaf_size=10, n_neighbors=3;, score=0.958 total time=   0.0s\n",
      "[CV 2/5; 209/243] START algorithm=brute, leaf_size=10, n_neighbors=3............\n",
      "[CV 3/5; 203/243] END algorithm=brute, leaf_size=6, n_neighbors=6;, score=1.000 total time=   0.0s\n",
      "[CV 4/5; 203/243] START algorithm=brute, leaf_size=6, n_neighbors=6.............\n",
      "[CV 2/5; 189/243] END algorithm=brute, leaf_size=4, n_neighbors=25;, score=0.958 total time=   0.0s\n",
      "[CV 3/5; 189/243] START algorithm=brute, leaf_size=4, n_neighbors=25............\n",
      "[CV 2/5; 195/243] END algorithm=brute, leaf_size=5, n_neighbors=10;, score=1.000 total time=   0.0s\n",
      "[CV 3/5; 195/243] START algorithm=brute, leaf_size=5, n_neighbors=10............\n",
      "[CV 2/5; 209/243] END algorithm=brute, leaf_size=10, n_neighbors=3;, score=0.917 total time=   0.0s\n",
      "[CV 3/5; 209/243] START algorithm=brute, leaf_size=10, n_neighbors=3............\n",
      "[CV 5/5; 198/243] END algorithm=brute, leaf_size=5, n_neighbors=25;, score=0.875 total time=   0.0s\n",
      "[CV 1/5; 199/243] START algorithm=brute, leaf_size=6, n_neighbors=2.............\n",
      "[CV 3/5; 189/243] END algorithm=brute, leaf_size=4, n_neighbors=25;, score=1.000 total time=   0.0s\n",
      "[CV 4/5; 189/243] START algorithm=brute, leaf_size=4, n_neighbors=25............\n",
      "[CV 1/5; 206/243] END algorithm=brute, leaf_size=6, n_neighbors=20;, score=0.875 total time=   0.0s\n",
      "[CV 2/5; 206/243] START algorithm=brute, leaf_size=6, n_neighbors=20............\n",
      "[CV 1/5; 199/243] END algorithm=brute, leaf_size=6, n_neighbors=2;, score=0.958 total time=   0.0s\n",
      "[CV 2/5; 199/243] START algorithm=brute, leaf_size=6, n_neighbors=2.............\n",
      "[CV 4/5; 203/243] END algorithm=brute, leaf_size=6, n_neighbors=6;, score=1.000 total time=   0.0s\n",
      "[CV 5/5; 203/243] START algorithm=brute, leaf_size=6, n_neighbors=6.............\n",
      "[CV 1/5; 202/243] END algorithm=brute, leaf_size=6, n_neighbors=5;, score=0.958 total time=   0.0s\n",
      "[CV 2/5; 202/243] START algorithm=brute, leaf_size=6, n_neighbors=5.............\n",
      "[CV 3/5; 195/243] END algorithm=brute, leaf_size=5, n_neighbors=10;, score=1.000 total time=   0.0s\n",
      "[CV 4/5; 195/243] START algorithm=brute, leaf_size=5, n_neighbors=10............\n",
      "[CV 2/5; 206/243] END algorithm=brute, leaf_size=6, n_neighbors=20;, score=0.958 total time=   0.0s\n",
      "[CV 3/5; 206/243] START algorithm=brute, leaf_size=6, n_neighbors=20............\n",
      "[CV 5/5; 192/243] END algorithm=brute, leaf_size=5, n_neighbors=4;, score=0.875 total time=   0.0s\n",
      "[CV 2/5; 212/243] START algorithm=brute, leaf_size=10, n_neighbors=6............\n",
      "[CV 5/5; 203/243] END algorithm=brute, leaf_size=6, n_neighbors=6;, score=0.917 total time=   0.0s\n",
      "[CV 1/5; 204/243] START algorithm=brute, leaf_size=6, n_neighbors=10............\n",
      "[CV 2/5; 199/243] END algorithm=brute, leaf_size=6, n_neighbors=2;, score=0.875 total time=   0.0s\n",
      "[CV 4/5; 195/243] END algorithm=brute, leaf_size=5, n_neighbors=10;, score=1.000 total time=   0.0s\n",
      "[CV 5/5; 195/243] START algorithm=brute, leaf_size=5, n_neighbors=10............\n",
      "[CV 2/5; 202/243] END algorithm=brute, leaf_size=6, n_neighbors=5;, score=0.958 total time=   0.0s\n",
      "[CV 3/5; 202/243] START algorithm=brute, leaf_size=6, n_neighbors=5.............\n",
      "[CV 3/5; 215/243] START algorithm=brute, leaf_size=10, n_neighbors=20...........\n",
      "[CV 5/5; 195/243] END algorithm=brute, leaf_size=5, n_neighbors=10;, score=0.917 total time=   0.0s\n",
      "[CV 1/5; 196/243] START algorithm=brute, leaf_size=5, n_neighbors=15............\n",
      "[CV 2/5; 212/243] END algorithm=brute, leaf_size=10, n_neighbors=6;, score=1.000 total time=   0.0s\n",
      "[CV 3/5; 212/243] START algorithm=brute, leaf_size=10, n_neighbors=6............\n",
      "[CV 3/5; 209/243] END algorithm=brute, leaf_size=10, n_neighbors=3;, score=1.000 total time=   0.0s\n",
      "[CV 4/5; 209/243] START algorithm=brute, leaf_size=10, n_neighbors=3............\n",
      "[CV 4/5; 189/243] END algorithm=brute, leaf_size=4, n_neighbors=25;, score=0.958 total time=   0.0s\n",
      "[CV 1/5; 196/243] END algorithm=brute, leaf_size=5, n_neighbors=15;, score=0.917 total time=   0.0s\n",
      "[CV 3/5; 215/243] END algorithm=brute, leaf_size=10, n_neighbors=20;, score=1.000 total time=   0.0s\n",
      "[CV 4/5; 215/243] START algorithm=brute, leaf_size=10, n_neighbors=20...........\n",
      "[CV 3/5; 212/243] END algorithm=brute, leaf_size=10, n_neighbors=6;, score=1.000 total time=   0.0s\n",
      "[CV 4/5; 212/243] START algorithm=brute, leaf_size=10, n_neighbors=6............\n",
      "[CV 4/5; 218/243] START algorithm=brute, leaf_size=15, n_neighbors=3............\n",
      "[CV 3/5; 206/243] END algorithm=brute, leaf_size=6, n_neighbors=20;, score=1.000 total time=   0.0s\n",
      "[CV 4/5; 206/243] START algorithm=brute, leaf_size=6, n_neighbors=20............\n",
      "[CV 1/5; 204/243] END algorithm=brute, leaf_size=6, n_neighbors=10;, score=0.917 total time=   0.0s\n",
      "[CV 2/5; 204/243] START algorithm=brute, leaf_size=6, n_neighbors=10............\n",
      "[CV 5/5; 221/243] START algorithm=brute, leaf_size=15, n_neighbors=6............\n",
      "[CV 3/5; 202/243] END algorithm=brute, leaf_size=6, n_neighbors=5;, score=1.000 total time=   0.0s\n",
      "[CV 1/5; 225/243] START algorithm=brute, leaf_size=15, n_neighbors=25...........\n",
      "[CV 4/5; 218/243] END algorithm=brute, leaf_size=15, n_neighbors=3;, score=0.958 total time=   0.0s\n",
      "[CV 5/5; 218/243] START algorithm=brute, leaf_size=15, n_neighbors=3............\n",
      "[CV 4/5; 206/243] END algorithm=brute, leaf_size=6, n_neighbors=20;, score=0.958 total time=   0.0s\n",
      "[CV 5/5; 206/243] START algorithm=brute, leaf_size=6, n_neighbors=20............\n",
      "[CV 4/5; 212/243] END algorithm=brute, leaf_size=10, n_neighbors=6;, score=1.000 total time=   0.0s\n",
      "[CV 5/5; 221/243] END algorithm=brute, leaf_size=15, n_neighbors=6;, score=0.917 total time=   0.0s\n",
      "[CV 5/5; 212/243] START algorithm=brute, leaf_size=10, n_neighbors=6............\n",
      "[CV 1/5; 222/243] START algorithm=brute, leaf_size=15, n_neighbors=10...........\n",
      "[CV 5/5; 218/243] END algorithm=brute, leaf_size=15, n_neighbors=3;, score=0.917 total time=   0.0s\n",
      "[CV 1/5; 219/243] START algorithm=brute, leaf_size=15, n_neighbors=4............\n",
      "[CV 2/5; 204/243] END algorithm=brute, leaf_size=6, n_neighbors=10;, score=1.000 total time=   0.0s\n",
      "[CV 3/5; 204/243] START algorithm=brute, leaf_size=6, n_neighbors=10............\n",
      "[CV 1/5; 225/243] END algorithm=brute, leaf_size=15, n_neighbors=25;, score=0.875 total time=   0.0s\n",
      "[CV 5/5; 206/243] END algorithm=brute, leaf_size=6, n_neighbors=20;, score=0.917 total time=   0.0s\n",
      "[CV 1/5; 207/243] START algorithm=brute, leaf_size=6, n_neighbors=25............\n",
      "[CV 2/5; 225/243] START algorithm=brute, leaf_size=15, n_neighbors=25...........\n",
      "[CV 5/5; 212/243] END algorithm=brute, leaf_size=10, n_neighbors=6;, score=0.917 total time=   0.0s\n",
      "[CV 1/5; 222/243] END algorithm=brute, leaf_size=15, n_neighbors=10;, score=0.917 total time=   0.0s[CV 1/5; 213/243] START algorithm=brute, leaf_size=10, n_neighbors=10...........\n",
      "[CV 3/5; 204/243] END algorithm=brute, leaf_size=6, n_neighbors=10;, score=1.000 total time=   0.0s\n",
      "[CV 4/5; 204/243] START algorithm=brute, leaf_size=6, n_neighbors=10............\n",
      "[CV 4/5; 209/243] END algorithm=brute, leaf_size=10, n_neighbors=3;, score=0.958 total time=   0.0s\n",
      "[CV 5/5; 209/243] START algorithm=brute, leaf_size=10, n_neighbors=3............\n",
      "[CV 4/5; 215/243] END algorithm=brute, leaf_size=10, n_neighbors=20;, score=0.958 total time=   0.0s\n",
      "[CV 5/5; 215/243] START algorithm=brute, leaf_size=10, n_neighbors=20...........\n",
      "[CV 2/5; 225/243] END algorithm=brute, leaf_size=15, n_neighbors=25;, score=0.958 total time=   0.0s\n",
      "[CV 3/5; 225/243] START algorithm=brute, leaf_size=15, n_neighbors=25...........\n",
      "[CV 1/5; 213/243] END algorithm=brute, leaf_size=10, n_neighbors=10;, score=0.917 total time=   0.0s\n",
      "[CV 2/5; 213/243] START algorithm=brute, leaf_size=10, n_neighbors=10...........\n",
      "\n",
      "[CV 2/5; 222/243] START algorithm=brute, leaf_size=15, n_neighbors=10...........\n",
      "[CV 4/5; 204/243] END algorithm=brute, leaf_size=6, n_neighbors=10;, score=1.000 total time=   0.0s\n",
      "[CV 5/5; 204/243] START algorithm=brute, leaf_size=6, n_neighbors=10............\n",
      "[CV 1/5; 207/243] END algorithm=brute, leaf_size=6, n_neighbors=25;, score=0.875 total time=   0.0s\n",
      "[CV 2/5; 207/243] START algorithm=brute, leaf_size=6, n_neighbors=25............\n",
      "[CV 5/5; 209/243] END algorithm=brute, leaf_size=10, n_neighbors=3;, score=0.917 total time=   0.0s\n",
      "[CV 3/5; 225/243] END algorithm=brute, leaf_size=15, n_neighbors=25;, score=1.000 total time=   0.0s\n",
      "[CV 1/5; 210/243] START algorithm=brute, leaf_size=10, n_neighbors=4............\n",
      "[CV 4/5; 225/243] START algorithm=brute, leaf_size=15, n_neighbors=25...........\n",
      "[CV 5/5; 215/243] END algorithm=brute, leaf_size=10, n_neighbors=20;, score=0.917 total time=   0.0s\n",
      "[CV 1/5; 216/243] START algorithm=brute, leaf_size=10, n_neighbors=25...........\n",
      "[CV 5/5; 204/243] END algorithm=brute, leaf_size=6, n_neighbors=10;, score=0.917 total time=   0.0s\n",
      "[CV 1/5; 205/243] START algorithm=brute, leaf_size=6, n_neighbors=15............\n",
      "[CV 2/5; 222/243] END algorithm=brute, leaf_size=15, n_neighbors=10;, score=1.000 total time=   0.0s\n",
      "[CV 3/5; 222/243] START algorithm=brute, leaf_size=15, n_neighbors=10...........\n",
      "[CV 1/5; 210/243] END algorithm=brute, leaf_size=10, n_neighbors=4;, score=0.958 total time=   0.0s[CV 4/5; 225/243] END algorithm=brute, leaf_size=15, n_neighbors=25;, score=0.958 total time=   0.0s\n",
      "\n",
      "[CV 5/5; 225/243] START algorithm=brute, leaf_size=15, n_neighbors=25...........[CV 2/5; 210/243] START algorithm=brute, leaf_size=10, n_neighbors=4............\n",
      "\n",
      "[CV 2/5; 207/243] END algorithm=brute, leaf_size=6, n_neighbors=25;, score=0.958 total time=   0.0s\n",
      "[CV 3/5; 207/243] START algorithm=brute, leaf_size=6, n_neighbors=25............\n",
      "[CV 1/5; 216/243] END algorithm=brute, leaf_size=10, n_neighbors=25;, score=0.875 total time=   0.0s\n",
      "[CV 2/5; 216/243] START algorithm=brute, leaf_size=10, n_neighbors=25...........\n",
      "[CV 1/5; 219/243] END algorithm=brute, leaf_size=15, n_neighbors=4;, score=0.958 total time=   0.0s\n",
      "[CV 2/5; 219/243] START algorithm=brute, leaf_size=15, n_neighbors=4............\n",
      "[CV 3/5; 222/243] END algorithm=brute, leaf_size=15, n_neighbors=10;, score=1.000 total time=   0.0s\n",
      "[CV 4/5; 222/243] START algorithm=brute, leaf_size=15, n_neighbors=10...........\n",
      "[CV 3/5; 207/243] END algorithm=brute, leaf_size=6, n_neighbors=25;, score=1.000 total time=   0.0s\n",
      "[CV 4/5; 207/243] START algorithm=brute, leaf_size=6, n_neighbors=25............\n",
      "[CV 2/5; 213/243] END algorithm=brute, leaf_size=10, n_neighbors=10;, score=1.000 total time=   0.0s\n",
      "[CV 3/5; 213/243] START algorithm=brute, leaf_size=10, n_neighbors=10...........\n",
      "[CV 2/5; 219/243] END algorithm=brute, leaf_size=15, n_neighbors=4;, score=0.917 total time=   0.0s\n",
      "[CV 3/5; 219/243] START algorithm=brute, leaf_size=15, n_neighbors=4............\n",
      "[CV 1/5; 205/243] END algorithm=brute, leaf_size=6, n_neighbors=15;, score=0.917 total time=   0.0s\n",
      "[CV 2/5; 205/243] START algorithm=brute, leaf_size=6, n_neighbors=15............\n",
      "[CV 4/5; 222/243] END algorithm=brute, leaf_size=15, n_neighbors=10;, score=1.000 total time=   0.0s\n",
      "[CV 5/5; 222/243] START algorithm=brute, leaf_size=15, n_neighbors=10...........\n",
      "[CV 5/5; 225/243] END algorithm=brute, leaf_size=15, n_neighbors=25;, score=0.875 total time=   0.0s\n",
      "[CV 1/5; 226/243] START algorithm=brute, leaf_size=20, n_neighbors=2............\n",
      "[CV 4/5; 207/243] END algorithm=brute, leaf_size=6, n_neighbors=25;, score=0.958 total time=   0.0s\n",
      "[CV 5/5; 207/243] START algorithm=brute, leaf_size=6, n_neighbors=25............\n",
      "[CV 3/5; 213/243] END algorithm=brute, leaf_size=10, n_neighbors=10;, score=1.000 total time=   0.0s\n",
      "[CV 4/5; 213/243] START algorithm=brute, leaf_size=10, n_neighbors=10...........\n",
      "[CV 3/5; 219/243] END algorithm=brute, leaf_size=15, n_neighbors=4;, score=1.000 total time=   0.0s\n",
      "[CV 4/5; 219/243] START algorithm=brute, leaf_size=15, n_neighbors=4............\n",
      "[CV 5/5; 222/243] END algorithm=brute, leaf_size=15, n_neighbors=10;, score=0.917 total time=   0.0s\n",
      "[CV 1/5; 223/243] START algorithm=brute, leaf_size=15, n_neighbors=15...........\n",
      "[CV 2/5; 205/243] END algorithm=brute, leaf_size=6, n_neighbors=15;, score=0.958 total time=   0.0s\n",
      "[CV 3/5; 205/243] START algorithm=brute, leaf_size=6, n_neighbors=15............\n",
      "[CV 5/5; 207/243] END algorithm=brute, leaf_size=6, n_neighbors=25;, score=0.875 total time=   0.0s\n",
      "[CV 1/5; 208/243] START algorithm=brute, leaf_size=10, n_neighbors=2............\n",
      "[CV 2/5; 210/243] END algorithm=brute, leaf_size=10, n_neighbors=4;, score=0.917 total time=   0.0s\n",
      "[CV 3/5; 210/243] START algorithm=brute, leaf_size=10, n_neighbors=4............\n",
      "[CV 4/5; 213/243] END algorithm=brute, leaf_size=10, n_neighbors=10;, score=1.000 total time=   0.0s\n",
      "[CV 1/5; 226/243] END algorithm=brute, leaf_size=20, n_neighbors=2;, score=0.958 total time=   0.0s\n",
      "[CV 5/5; 213/243] START algorithm=brute, leaf_size=10, n_neighbors=10...........\n",
      "[CV 2/5; 226/243] START algorithm=brute, leaf_size=20, n_neighbors=2............\n",
      "[CV 4/5; 219/243] END algorithm=brute, leaf_size=15, n_neighbors=4;, score=0.958 total time=   0.0s\n",
      "[CV 5/5; 219/243] START algorithm=brute, leaf_size=15, n_neighbors=4............\n",
      "[CV 1/5; 223/243] END algorithm=brute, leaf_size=15, n_neighbors=15;, score=0.917 total time=   0.0s\n",
      "[CV 2/5; 223/243] START algorithm=brute, leaf_size=15, n_neighbors=15...........\n",
      "[CV 3/5; 205/243] END algorithm=brute, leaf_size=6, n_neighbors=15;, score=1.000 total time=   0.0s\n",
      "[CV 4/5; 205/243] START algorithm=brute, leaf_size=6, n_neighbors=15............\n",
      "[CV 5/5; 213/243] END algorithm=brute, leaf_size=10, n_neighbors=10;, score=0.917 total time=   0.0s\n",
      "[CV 5/5; 219/243] END algorithm=brute, leaf_size=15, n_neighbors=4;, score=0.875 total time=   0.0s\n",
      "[CV 1/5; 214/243] START algorithm=brute, leaf_size=10, n_neighbors=15...........\n",
      "[CV 1/5; 220/243] START algorithm=brute, leaf_size=15, n_neighbors=5............\n",
      "[CV 2/5; 226/243] END algorithm=brute, leaf_size=20, n_neighbors=2;, score=0.875 total time=   0.0s\n",
      "[CV 3/5; 226/243] START algorithm=brute, leaf_size=20, n_neighbors=2............\n",
      "[CV 4/5; 205/243] END algorithm=brute, leaf_size=6, n_neighbors=15;, score=0.958 total time=   0.0s\n",
      "[CV 3/5; 210/243] END algorithm=brute, leaf_size=10, n_neighbors=4;, score=1.000 total time=   0.0s\n",
      "[CV 2/5; 228/243] START algorithm=brute, leaf_size=20, n_neighbors=4............[CV 4/5; 210/243] START algorithm=brute, leaf_size=10, n_neighbors=4............\n",
      "\n",
      "[CV 1/5; 220/243] END algorithm=brute, leaf_size=15, n_neighbors=5;, score=0.958 total time=   0.0s\n",
      "[CV 1/5; 214/243] END algorithm=brute, leaf_size=10, n_neighbors=15;, score=0.917 total time=   0.0s\n",
      "[CV 2/5; 220/243] START algorithm=brute, leaf_size=15, n_neighbors=5............\n",
      "[CV 2/5; 214/243] START algorithm=brute, leaf_size=10, n_neighbors=15...........\n",
      "[CV 2/5; 216/243] END algorithm=brute, leaf_size=10, n_neighbors=25;, score=0.958 total time=   0.0s[CV 3/5; 226/243] END algorithm=brute, leaf_size=20, n_neighbors=2;, score=0.958 total time=   0.0s\n",
      "[CV 4/5; 226/243] START algorithm=brute, leaf_size=20, n_neighbors=2............\n",
      "\n",
      "[CV 3/5; 216/243] START algorithm=brute, leaf_size=10, n_neighbors=25...........\n",
      "[CV 4/5; 210/243] END algorithm=brute, leaf_size=10, n_neighbors=4;, score=0.958 total time=   0.0s\n",
      "[CV 5/5; 210/243] START algorithm=brute, leaf_size=10, n_neighbors=4............\n",
      "[CV 4/5; 226/243] END algorithm=brute, leaf_size=20, n_neighbors=2;, score=0.917 total time=   0.0s\n",
      "[CV 5/5; 226/243] START algorithm=brute, leaf_size=20, n_neighbors=2............\n",
      "[CV 5/5; 210/243] END algorithm=brute, leaf_size=10, n_neighbors=4;, score=0.875 total time=   0.0s\n",
      "[CV 1/5; 211/243] START algorithm=brute, leaf_size=10, n_neighbors=5............\n",
      "[CV 1/5; 208/243] END algorithm=brute, leaf_size=10, n_neighbors=2;, score=0.958 total time=   0.0s\n",
      "[CV 2/5; 208/243] START algorithm=brute, leaf_size=10, n_neighbors=2............\n",
      "[CV 3/5; 216/243] END algorithm=brute, leaf_size=10, n_neighbors=25;, score=1.000 total time=   0.0s\n",
      "[CV 4/5; 216/243] START algorithm=brute, leaf_size=10, n_neighbors=25...........\n",
      "[CV 2/5; 223/243] END algorithm=brute, leaf_size=15, n_neighbors=15;, score=0.958 total time=   0.0s\n",
      "[CV 3/5; 223/243] START algorithm=brute, leaf_size=15, n_neighbors=15...........\n",
      "[CV 1/5; 211/243] END algorithm=brute, leaf_size=10, n_neighbors=5;, score=0.958 total time=   0.0s\n",
      "[CV 2/5; 211/243] START algorithm=brute, leaf_size=10, n_neighbors=5............\n",
      "[CV 2/5; 208/243] END algorithm=brute, leaf_size=10, n_neighbors=2;, score=0.875 total time=   0.0s\n",
      "[CV 3/5; 208/243] START algorithm=brute, leaf_size=10, n_neighbors=2............\n",
      "[CV 4/5; 216/243] END algorithm=brute, leaf_size=10, n_neighbors=25;, score=0.958 total time=   0.0s\n",
      "[CV 2/5; 211/243] END algorithm=brute, leaf_size=10, n_neighbors=5;, score=0.958 total time=   0.0s\n",
      "[CV 3/5; 211/243] START algorithm=brute, leaf_size=10, n_neighbors=5............\n",
      "[CV 3/5; 223/243] END algorithm=brute, leaf_size=15, n_neighbors=15;, score=1.000 total time=   0.0s\n",
      "[CV 4/5; 223/243] START algorithm=brute, leaf_size=15, n_neighbors=15...........\n",
      "[CV 2/5; 214/243] END algorithm=brute, leaf_size=10, n_neighbors=15;, score=0.958 total time=   0.0s\n",
      "[CV 3/5; 214/243] START algorithm=brute, leaf_size=10, n_neighbors=15...........\n",
      "[CV 2/5; 220/243] END algorithm=brute, leaf_size=15, n_neighbors=5;, score=0.958 total time=   0.0s[CV 3/5; 208/243] END algorithm=brute, leaf_size=10, n_neighbors=2;, score=0.958 total time=   0.0s\n",
      "\n",
      "[CV 4/5; 208/243] START algorithm=brute, leaf_size=10, n_neighbors=2............\n",
      "[CV 3/5; 220/243] START algorithm=brute, leaf_size=15, n_neighbors=5............\n",
      "[CV 2/5; 228/243] END algorithm=brute, leaf_size=20, n_neighbors=4;, score=0.917 total time=   0.0s\n",
      "[CV 4/5; 223/243] END algorithm=brute, leaf_size=15, n_neighbors=15;, score=0.958 total time=   0.0s\n",
      "[CV 5/5; 223/243] START algorithm=brute, leaf_size=15, n_neighbors=15...........\n",
      "[CV 5/5; 226/243] END algorithm=brute, leaf_size=20, n_neighbors=2;, score=0.917 total time=   0.0s\n",
      "[CV 1/5; 227/243] START algorithm=brute, leaf_size=20, n_neighbors=3............\n",
      "[CV 3/5; 228/243] START algorithm=brute, leaf_size=20, n_neighbors=4............\n",
      "[CV 5/5; 216/243] START algorithm=brute, leaf_size=10, n_neighbors=25...........\n",
      "[CV 4/5; 208/243] END algorithm=brute, leaf_size=10, n_neighbors=2;, score=0.917 total time=   0.0s\n",
      "[CV 5/5; 208/243] START algorithm=brute, leaf_size=10, n_neighbors=2............\n",
      "[CV 3/5; 220/243] END algorithm=brute, leaf_size=15, n_neighbors=5;, score=1.000 total time=   0.0s\n",
      "[CV 3/5; 214/243] END algorithm=brute, leaf_size=10, n_neighbors=15;, score=1.000 total time=   0.0s\n",
      "[CV 4/5; 214/243] START algorithm=brute, leaf_size=10, n_neighbors=15...........\n",
      "[CV 5/5; 223/243] END algorithm=brute, leaf_size=15, n_neighbors=15;, score=0.917 total time=   0.0s\n",
      "[CV 1/5; 224/243] START algorithm=brute, leaf_size=15, n_neighbors=20...........\n",
      "[CV 1/5; 227/243] END algorithm=brute, leaf_size=20, n_neighbors=3;, score=0.958 total time=   0.0s\n",
      "[CV 2/5; 227/243] START algorithm=brute, leaf_size=20, n_neighbors=3............\n",
      "[CV 3/5; 228/243] END algorithm=brute, leaf_size=20, n_neighbors=4;, score=1.000 total time=   0.0s\n",
      "[CV 5/5; 216/243] END algorithm=brute, leaf_size=10, n_neighbors=25;, score=0.875 total time=   0.0s\n",
      "[CV 4/5; 220/243] START algorithm=brute, leaf_size=15, n_neighbors=5............\n",
      "[CV 1/5; 217/243] START algorithm=brute, leaf_size=15, n_neighbors=2............\n",
      "[CV 4/5; 228/243] START algorithm=brute, leaf_size=20, n_neighbors=4............\n",
      "[CV 3/5; 211/243] END algorithm=brute, leaf_size=10, n_neighbors=5;, score=1.000 total time=   0.0s\n",
      "[CV 4/5; 211/243] START algorithm=brute, leaf_size=10, n_neighbors=5............\n",
      "[CV 4/5; 214/243] END algorithm=brute, leaf_size=10, n_neighbors=15;, score=0.958 total time=   0.0s\n",
      "[CV 5/5; 214/243] START algorithm=brute, leaf_size=10, n_neighbors=15...........\n",
      "[CV 4/5; 228/243] END algorithm=brute, leaf_size=20, n_neighbors=4;, score=0.958 total time=   0.0s\n",
      "[CV 4/5; 220/243] END algorithm=brute, leaf_size=15, n_neighbors=5;, score=1.000 total time=   0.0s\n",
      "[CV 1/5; 217/243] END algorithm=brute, leaf_size=15, n_neighbors=2;, score=0.958 total time=   0.0s\n",
      "[CV 4/5; 211/243] END algorithm=brute, leaf_size=10, n_neighbors=5;, score=1.000 total time=   0.0s\n",
      "[CV 5/5; 220/243] START algorithm=brute, leaf_size=15, n_neighbors=5............\n",
      "[CV 2/5; 217/243] START algorithm=brute, leaf_size=15, n_neighbors=2............\n",
      "[CV 5/5; 211/243] START algorithm=brute, leaf_size=10, n_neighbors=5............\n",
      "[CV 5/5; 228/243] START algorithm=brute, leaf_size=20, n_neighbors=4............\n",
      "[CV 5/5; 214/243] END algorithm=brute, leaf_size=10, n_neighbors=15;, score=0.917 total time=   0.0s\n",
      "[CV 1/5; 215/243] START algorithm=brute, leaf_size=10, n_neighbors=20...........\n",
      "[CV 5/5; 220/243] END algorithm=brute, leaf_size=15, n_neighbors=5;, score=0.917 total time=   0.0s\n",
      "[CV 1/5; 221/243] START algorithm=brute, leaf_size=15, n_neighbors=6............\n",
      "[CV 5/5; 208/243] END algorithm=brute, leaf_size=10, n_neighbors=2;, score=0.917 total time=   0.0s\n",
      "[CV 1/5; 229/243] START algorithm=brute, leaf_size=20, n_neighbors=5............\n",
      "[CV 5/5; 211/243] END algorithm=brute, leaf_size=10, n_neighbors=5;, score=0.917 total time=   0.0s\n",
      "[CV 1/5; 212/243] START algorithm=brute, leaf_size=10, n_neighbors=6............\n",
      "[CV 2/5; 217/243] END algorithm=brute, leaf_size=15, n_neighbors=2;, score=0.875 total time=   0.0s\n",
      "[CV 3/5; 217/243] START algorithm=brute, leaf_size=15, n_neighbors=2............\n",
      "[CV 1/5; 224/243] END algorithm=brute, leaf_size=15, n_neighbors=20;, score=0.875 total time=   0.0s\n",
      "[CV 2/5; 224/243] START algorithm=brute, leaf_size=15, n_neighbors=20...........\n",
      "[CV 1/5; 229/243] END algorithm=brute, leaf_size=20, n_neighbors=5;, score=0.958 total time=   0.0s\n",
      "[CV 2/5; 229/243] START algorithm=brute, leaf_size=20, n_neighbors=5............\n",
      "[CV 1/5; 212/243] END algorithm=brute, leaf_size=10, n_neighbors=6;, score=0.958 total time=   0.0s\n",
      "[CV 3/5; 229/243] START algorithm=brute, leaf_size=20, n_neighbors=5............\n",
      "[CV 2/5; 227/243] END algorithm=brute, leaf_size=20, n_neighbors=3;, score=0.917 total time=   0.0s\n",
      "[CV 3/5; 227/243] START algorithm=brute, leaf_size=20, n_neighbors=3............\n",
      "[CV 3/5; 217/243] END algorithm=brute, leaf_size=15, n_neighbors=2;, score=0.958 total time=   0.0s\n",
      "[CV 4/5; 217/243] START algorithm=brute, leaf_size=15, n_neighbors=2............\n",
      "[CV 2/5; 224/243] END algorithm=brute, leaf_size=15, n_neighbors=20;, score=0.958 total time=   0.0s\n",
      "[CV 3/5; 224/243] START algorithm=brute, leaf_size=15, n_neighbors=20...........\n",
      "[CV 2/5; 229/243] END algorithm=brute, leaf_size=20, n_neighbors=5;, score=0.958 total time=   0.0s\n",
      "[CV 1/5; 215/243] END algorithm=brute, leaf_size=10, n_neighbors=20;, score=0.875 total time=   0.0s\n",
      "[CV 2/5; 215/243] START algorithm=brute, leaf_size=10, n_neighbors=20...........\n",
      "[CV 4/5; 229/243] START algorithm=brute, leaf_size=20, n_neighbors=5............\n",
      "[CV 5/5; 228/243] END algorithm=brute, leaf_size=20, n_neighbors=4;, score=0.875 total time=   0.0s\n",
      "[CV 3/5; 227/243] END algorithm=brute, leaf_size=20, n_neighbors=3;, score=1.000 total time=   0.0s\n",
      "[CV 4/5; 217/243] END algorithm=brute, leaf_size=15, n_neighbors=2;, score=0.917 total time=   0.0s\n",
      "[CV 4/5; 227/243] START algorithm=brute, leaf_size=20, n_neighbors=3............\n",
      "[CV 5/5; 217/243] START algorithm=brute, leaf_size=15, n_neighbors=2............\n",
      "[CV 5/5; 229/243] START algorithm=brute, leaf_size=20, n_neighbors=5............\n",
      "[CV 1/5; 221/243] END algorithm=brute, leaf_size=15, n_neighbors=6;, score=0.958 total time=   0.0s\n",
      "[CV 2/5; 221/243] START algorithm=brute, leaf_size=15, n_neighbors=6............\n",
      "[CV 3/5; 224/243] END algorithm=brute, leaf_size=15, n_neighbors=20;, score=1.000 total time=   0.0s\n",
      "[CV 4/5; 224/243] START algorithm=brute, leaf_size=15, n_neighbors=20...........\n",
      "[CV 4/5; 227/243] END algorithm=brute, leaf_size=20, n_neighbors=3;, score=0.958 total time=   0.0s\n",
      "[CV 5/5; 227/243] START algorithm=brute, leaf_size=20, n_neighbors=3............\n",
      "[CV 5/5; 217/243] END algorithm=brute, leaf_size=15, n_neighbors=2;, score=0.917 total time=   0.0s\n",
      "[CV 1/5; 218/243] START algorithm=brute, leaf_size=15, n_neighbors=3............\n",
      "[CV 2/5; 215/243] END algorithm=brute, leaf_size=10, n_neighbors=20;, score=0.958 total time=   0.0s\n",
      "[CV 1/5; 230/243] START algorithm=brute, leaf_size=20, n_neighbors=6............\n",
      "[CV 5/5; 229/243] END algorithm=brute, leaf_size=20, n_neighbors=5;, score=0.917 total time=   0.0s\n",
      "[CV 4/5; 224/243] END algorithm=brute, leaf_size=15, n_neighbors=20;, score=0.958 total time=   0.0s\n",
      "[CV 2/5; 230/243] START algorithm=brute, leaf_size=20, n_neighbors=6............\n",
      "[CV 5/5; 224/243] START algorithm=brute, leaf_size=15, n_neighbors=20...........\n",
      "[CV 1/5; 218/243] END algorithm=brute, leaf_size=15, n_neighbors=3;, score=0.958 total time=   0.0s\n",
      "[CV 2/5; 218/243] START algorithm=brute, leaf_size=15, n_neighbors=3............\n",
      "[CV 2/5; 221/243] END algorithm=brute, leaf_size=15, n_neighbors=6;, score=1.000 total time=   0.0s\n",
      "[CV 3/5; 221/243] START algorithm=brute, leaf_size=15, n_neighbors=6............\n",
      "[CV 3/5; 229/243] END algorithm=brute, leaf_size=20, n_neighbors=5;, score=1.000 total time=   0.0s\n",
      "[CV 3/5; 230/243] START algorithm=brute, leaf_size=20, n_neighbors=6............[CV 1/5; 230/243] END algorithm=brute, leaf_size=20, n_neighbors=6;, score=0.958 total time=   0.0s\n",
      "\n",
      "[CV 2/5; 230/243] END algorithm=brute, leaf_size=20, n_neighbors=6;, score=1.000 total time=   0.0s\n",
      "[CV 4/5; 230/243] START algorithm=brute, leaf_size=20, n_neighbors=6............\n",
      "[CV 5/5; 230/243] START algorithm=brute, leaf_size=20, n_neighbors=6............\n",
      "[CV 2/5; 218/243] END algorithm=brute, leaf_size=15, n_neighbors=3;, score=0.917 total time=   0.0s\n",
      "[CV 3/5; 218/243] START algorithm=brute, leaf_size=15, n_neighbors=3............\n",
      "[CV 4/5; 229/243] END algorithm=brute, leaf_size=20, n_neighbors=5;, score=1.000 total time=   0.0s\n",
      "[CV 3/5; 221/243] END algorithm=brute, leaf_size=15, n_neighbors=6;, score=1.000 total time=   0.0s\n",
      "[CV 4/5; 221/243] START algorithm=brute, leaf_size=15, n_neighbors=6............\n",
      "[CV 1/5; 231/243] START algorithm=brute, leaf_size=20, n_neighbors=10...........\n",
      "[CV 4/5; 230/243] END algorithm=brute, leaf_size=20, n_neighbors=6;, score=1.000 total time=   0.0s\n",
      "[CV 5/5; 230/243] END algorithm=brute, leaf_size=20, n_neighbors=6;, score=0.917 total time=   0.0s\n",
      "[CV 3/5; 230/243] END algorithm=brute, leaf_size=20, n_neighbors=6;, score=1.000 total time=   0.0s\n",
      "[CV 2/5; 231/243] START algorithm=brute, leaf_size=20, n_neighbors=10...........\n",
      "[CV 5/5; 224/243] END algorithm=brute, leaf_size=15, n_neighbors=20;, score=0.917 total time=   0.0s\n",
      "[CV 4/5; 221/243] END algorithm=brute, leaf_size=15, n_neighbors=6;, score=1.000 total time=   0.0s\n",
      "[CV 5/5; 227/243] END algorithm=brute, leaf_size=20, n_neighbors=3;, score=0.917 total time=   0.0s\n",
      "[CV 1/5; 228/243] START algorithm=brute, leaf_size=20, n_neighbors=4............\n",
      "[CV 3/5; 218/243] END algorithm=brute, leaf_size=15, n_neighbors=3;, score=1.000 total time=   0.0s\n",
      "[CV 3/5; 231/243] START algorithm=brute, leaf_size=20, n_neighbors=10...........\n",
      "[CV 4/5; 231/243] START algorithm=brute, leaf_size=20, n_neighbors=10...........\n",
      "[CV 1/5; 231/243] END algorithm=brute, leaf_size=20, n_neighbors=10;, score=0.917 total time=   0.0s\n",
      "[CV 5/5; 231/243] START algorithm=brute, leaf_size=20, n_neighbors=10...........\n",
      "[CV 1/5; 232/243] START algorithm=brute, leaf_size=20, n_neighbors=15...........\n",
      "[CV 1/5; 228/243] END algorithm=brute, leaf_size=20, n_neighbors=4;, score=0.958 total time=   0.0s[CV 2/5; 232/243] START algorithm=brute, leaf_size=20, n_neighbors=15...........\n",
      "[CV 3/5; 231/243] END algorithm=brute, leaf_size=20, n_neighbors=10;, score=1.000 total time=   0.0s\n",
      "\n",
      "[CV 4/5; 231/243] END algorithm=brute, leaf_size=20, n_neighbors=10;, score=1.000 total time=   0.0s\n",
      "[CV 3/5; 232/243] START algorithm=brute, leaf_size=20, n_neighbors=15...........\n",
      "[CV 5/5; 231/243] END algorithm=brute, leaf_size=20, n_neighbors=10;, score=0.917 total time=   0.0s\n",
      "[CV 1/5; 232/243] END algorithm=brute, leaf_size=20, n_neighbors=15;, score=0.917 total time=   0.0s\n",
      "[CV 4/5; 232/243] START algorithm=brute, leaf_size=20, n_neighbors=15...........\n",
      "[CV 5/5; 232/243] START algorithm=brute, leaf_size=20, n_neighbors=15...........\n",
      "[CV 1/5; 233/243] START algorithm=brute, leaf_size=20, n_neighbors=20...........\n",
      "[CV 2/5; 232/243] END algorithm=brute, leaf_size=20, n_neighbors=15;, score=0.958 total time=   0.0s\n",
      "[CV 3/5; 232/243] END algorithm=brute, leaf_size=20, n_neighbors=15;, score=1.000 total time=   0.0s\n",
      "[CV 2/5; 233/243] START algorithm=brute, leaf_size=20, n_neighbors=20...........\n",
      "[CV 4/5; 232/243] END algorithm=brute, leaf_size=20, n_neighbors=15;, score=0.958 total time=   0.0s\n",
      "[CV 5/5; 232/243] END algorithm=brute, leaf_size=20, n_neighbors=15;, score=0.917 total time=   0.0s\n",
      "[CV 3/5; 233/243] START algorithm=brute, leaf_size=20, n_neighbors=20...........\n",
      "[CV 4/5; 233/243] START algorithm=brute, leaf_size=20, n_neighbors=20...........\n",
      "[CV 1/5; 233/243] END algorithm=brute, leaf_size=20, n_neighbors=20;, score=0.875 total time=   0.0s\n",
      "[CV 5/5; 233/243] START algorithm=brute, leaf_size=20, n_neighbors=20...........\n",
      "[CV 2/5; 233/243] END algorithm=brute, leaf_size=20, n_neighbors=20;, score=0.958 total time=   0.0s\n",
      "[CV 1/5; 234/243] START algorithm=brute, leaf_size=20, n_neighbors=25...........\n",
      "[CV 2/5; 234/243] START algorithm=brute, leaf_size=20, n_neighbors=25...........[CV 4/5; 233/243] END algorithm=brute, leaf_size=20, n_neighbors=20;, score=0.958 total time=   0.0s\n",
      "\n",
      "[CV 3/5; 234/243] START algorithm=brute, leaf_size=20, n_neighbors=25...........[CV 3/5; 233/243] END algorithm=brute, leaf_size=20, n_neighbors=20;, score=1.000 total time=   0.0s\n",
      "\n",
      "[CV 5/5; 233/243] END algorithm=brute, leaf_size=20, n_neighbors=20;, score=0.917 total time=   0.0s\n"
     ]
    },
    {
     "name": "stderr",
     "output_type": "stream",
     "text": [
      "100%|██████████| 1/1 [00:01<00:00,  1.74s/it]"
     ]
    },
    {
     "name": "stdout",
     "output_type": "stream",
     "text": [
      "[CV 1/5; 234/243] END algorithm=brute, leaf_size=20, n_neighbors=25;, score=0.875 total time=   0.0s\n",
      "[CV 4/5; 234/243] START algorithm=brute, leaf_size=20, n_neighbors=25...........\n",
      "[CV 5/5; 234/243] START algorithm=brute, leaf_size=20, n_neighbors=25...........\n",
      "[CV 1/5; 235/243] START algorithm=brute, leaf_size=25, n_neighbors=2............\n",
      "[CV 2/5; 235/243] START algorithm=brute, leaf_size=25, n_neighbors=2............\n",
      "[CV 2/5; 234/243] END algorithm=brute, leaf_size=20, n_neighbors=25;, score=0.958 total time=   0.0s\n",
      "[CV 3/5; 235/243] START algorithm=brute, leaf_size=25, n_neighbors=2............\n",
      "[CV 3/5; 234/243] END algorithm=brute, leaf_size=20, n_neighbors=25;, score=1.000 total time=   0.0s\n",
      "[CV 2/5; 235/243] END algorithm=brute, leaf_size=25, n_neighbors=2;, score=0.875 total time=   0.0s\n",
      "[CV 4/5; 234/243] END algorithm=brute, leaf_size=20, n_neighbors=25;, score=0.958 total time=   0.0s\n",
      "[CV 1/5; 235/243] END algorithm=brute, leaf_size=25, n_neighbors=2;, score=0.958 total time=   0.0s\n",
      "[CV 4/5; 235/243] START algorithm=brute, leaf_size=25, n_neighbors=2............\n",
      "[CV 5/5; 235/243] START algorithm=brute, leaf_size=25, n_neighbors=2............\n",
      "[CV 5/5; 234/243] END algorithm=brute, leaf_size=20, n_neighbors=25;, score=0.875 total time=   0.0s\n",
      "[CV 1/5; 236/243] START algorithm=brute, leaf_size=25, n_neighbors=3............\n",
      "[CV 2/5; 236/243] START algorithm=brute, leaf_size=25, n_neighbors=3............\n",
      "[CV 3/5; 236/243] START algorithm=brute, leaf_size=25, n_neighbors=3............\n",
      "[CV 3/5; 235/243] END algorithm=brute, leaf_size=25, n_neighbors=2;, score=0.958 total time=   0.0s\n",
      "[CV 4/5; 236/243] START algorithm=brute, leaf_size=25, n_neighbors=3............\n",
      "[CV 4/5; 235/243] END algorithm=brute, leaf_size=25, n_neighbors=2;, score=0.917 total time=   0.0s\n",
      "[CV 1/5; 236/243] END algorithm=brute, leaf_size=25, n_neighbors=3;, score=0.958 total time=   0.0s\n",
      "[CV 5/5; 235/243] END algorithm=brute, leaf_size=25, n_neighbors=2;, score=0.917 total time=   0.0s\n",
      "[CV 5/5; 236/243] START algorithm=brute, leaf_size=25, n_neighbors=3............\n",
      "[CV 3/5; 236/243] END algorithm=brute, leaf_size=25, n_neighbors=3;, score=1.000 total time=   0.0s\n",
      "[CV 2/5; 237/243] START algorithm=brute, leaf_size=25, n_neighbors=4............\n",
      "[CV 1/5; 237/243] START algorithm=brute, leaf_size=25, n_neighbors=4............\n",
      "[CV 3/5; 237/243] START algorithm=brute, leaf_size=25, n_neighbors=4............\n",
      "[CV 2/5; 236/243] END algorithm=brute, leaf_size=25, n_neighbors=3;, score=0.917 total time=   0.0s\n",
      "[CV 4/5; 237/243] START algorithm=brute, leaf_size=25, n_neighbors=4............\n",
      "[CV 4/5; 236/243] END algorithm=brute, leaf_size=25, n_neighbors=3;, score=0.958 total time=   0.0s\n",
      "[CV 5/5; 237/243] START algorithm=brute, leaf_size=25, n_neighbors=4............\n",
      "[CV 1/5; 238/243] START algorithm=brute, leaf_size=25, n_neighbors=5............\n",
      "[CV 5/5; 236/243] END algorithm=brute, leaf_size=25, n_neighbors=3;, score=0.917 total time=   0.0s\n",
      "[CV 1/5; 237/243] END algorithm=brute, leaf_size=25, n_neighbors=4;, score=0.958 total time=   0.0s\n",
      "[CV 2/5; 237/243] END algorithm=brute, leaf_size=25, n_neighbors=4;, score=0.917 total time=   0.0s\n",
      "[CV 2/5; 238/243] START algorithm=brute, leaf_size=25, n_neighbors=5............\n",
      "[CV 3/5; 238/243] START algorithm=brute, leaf_size=25, n_neighbors=5............\n",
      "[CV 4/5; 238/243] START algorithm=brute, leaf_size=25, n_neighbors=5............\n",
      "[CV 4/5; 237/243] END algorithm=brute, leaf_size=25, n_neighbors=4;, score=0.958 total time=   0.0s\n",
      "[CV 3/5; 237/243] END algorithm=brute, leaf_size=25, n_neighbors=4;, score=1.000 total time=   0.0s\n",
      "[CV 5/5; 238/243] START algorithm=brute, leaf_size=25, n_neighbors=5............\n",
      "[CV 1/5; 239/243] START algorithm=brute, leaf_size=25, n_neighbors=6............\n",
      "[CV 1/5; 238/243] END algorithm=brute, leaf_size=25, n_neighbors=5;, score=0.958 total time=   0.0s\n",
      "[CV 2/5; 239/243] START algorithm=brute, leaf_size=25, n_neighbors=6............\n",
      "[CV 2/5; 238/243] END algorithm=brute, leaf_size=25, n_neighbors=5;, score=0.958 total time=   0.0s\n",
      "[CV 4/5; 238/243] END algorithm=brute, leaf_size=25, n_neighbors=5;, score=1.000 total time=   0.0s\n",
      "[CV 3/5; 239/243] START algorithm=brute, leaf_size=25, n_neighbors=6............\n",
      "[CV 2/5; 231/243] END algorithm=brute, leaf_size=20, n_neighbors=10;, score=1.000 total time=   0.1s\n",
      "[CV 4/5; 239/243] START algorithm=brute, leaf_size=25, n_neighbors=6............\n",
      "[CV 3/5; 238/243] END algorithm=brute, leaf_size=25, n_neighbors=5;, score=1.000 total time=   0.0s\n",
      "[CV 2/5; 239/243] END algorithm=brute, leaf_size=25, n_neighbors=6;, score=1.000 total time=   0.0s\n",
      "[CV 5/5; 239/243] START algorithm=brute, leaf_size=25, n_neighbors=6............\n",
      "[CV 1/5; 240/243] START algorithm=brute, leaf_size=25, n_neighbors=10...........\n",
      "[CV 4/5; 239/243] END algorithm=brute, leaf_size=25, n_neighbors=6;, score=1.000 total time=   0.0s\n",
      "[CV 2/5; 240/243] START algorithm=brute, leaf_size=25, n_neighbors=10...........\n",
      "[CV 5/5; 237/243] END algorithm=brute, leaf_size=25, n_neighbors=4;, score=0.875 total time=   0.0s\n",
      "[CV 1/5; 239/243] END algorithm=brute, leaf_size=25, n_neighbors=6;, score=0.958 total time=   0.0s\n",
      "[CV 3/5; 240/243] START algorithm=brute, leaf_size=25, n_neighbors=10...........\n",
      "[CV 4/5; 240/243] START algorithm=brute, leaf_size=25, n_neighbors=10...........\n",
      "[CV 5/5; 238/243] END algorithm=brute, leaf_size=25, n_neighbors=5;, score=0.917 total time=   0.0s\n",
      "[CV 1/5; 241/243] START algorithm=brute, leaf_size=25, n_neighbors=15...........\n",
      "[CV 2/5; 240/243] END algorithm=brute, leaf_size=25, n_neighbors=10;, score=1.000 total time=   0.0s\n",
      "[CV 2/5; 241/243] START algorithm=brute, leaf_size=25, n_neighbors=15...........\n",
      "[CV 3/5; 240/243] END algorithm=brute, leaf_size=25, n_neighbors=10;, score=1.000 total time=   0.0s\n",
      "[CV 3/5; 241/243] START algorithm=brute, leaf_size=25, n_neighbors=15...........\n",
      "[CV 1/5; 241/243] END algorithm=brute, leaf_size=25, n_neighbors=15;, score=0.917 total time=   0.0s\n",
      "[CV 4/5; 241/243] START algorithm=brute, leaf_size=25, n_neighbors=15...........\n",
      "[CV 2/5; 241/243] END algorithm=brute, leaf_size=25, n_neighbors=15;, score=0.958 total time=   0.0s\n",
      "[CV 5/5; 241/243] START algorithm=brute, leaf_size=25, n_neighbors=15...........\n",
      "[CV 4/5; 240/243] END algorithm=brute, leaf_size=25, n_neighbors=10;, score=1.000 total time=   0.0s\n",
      "[CV 5/5; 240/243] START algorithm=brute, leaf_size=25, n_neighbors=10...........\n",
      "[CV 1/5; 242/243] START algorithm=brute, leaf_size=25, n_neighbors=20...........\n",
      "[CV 5/5; 241/243] END algorithm=brute, leaf_size=25, n_neighbors=15;, score=0.917 total time=   0.0s\n",
      "[CV 2/5; 242/243] START algorithm=brute, leaf_size=25, n_neighbors=20...........\n",
      "[CV 3/5; 241/243] END algorithm=brute, leaf_size=25, n_neighbors=15;, score=1.000 total time=   0.0s\n",
      "[CV 1/5; 242/243] END algorithm=brute, leaf_size=25, n_neighbors=20;, score=0.875 total time=   0.0s\n",
      "[CV 5/5; 240/243] END algorithm=brute, leaf_size=25, n_neighbors=10;, score=0.917 total time=   0.0s\n",
      "[CV 3/5; 242/243] START algorithm=brute, leaf_size=25, n_neighbors=20...........\n",
      "[CV 4/5; 242/243] START algorithm=brute, leaf_size=25, n_neighbors=20...........\n",
      "[CV 5/5; 242/243] START algorithm=brute, leaf_size=25, n_neighbors=20...........\n",
      "[CV 3/5; 239/243] END algorithm=brute, leaf_size=25, n_neighbors=6;, score=1.000 total time=   0.0s\n",
      "[CV 1/5; 243/243] START algorithm=brute, leaf_size=25, n_neighbors=25...........\n",
      "[CV 1/5; 240/243] END algorithm=brute, leaf_size=25, n_neighbors=10;, score=0.917 total time=   0.0s\n",
      "[CV 2/5; 242/243] END algorithm=brute, leaf_size=25, n_neighbors=20;, score=0.958 total time=   0.0s\n",
      "[CV 2/5; 243/243] START algorithm=brute, leaf_size=25, n_neighbors=25...........\n",
      "[CV 3/5; 243/243] START algorithm=brute, leaf_size=25, n_neighbors=25...........\n",
      "[CV 5/5; 239/243] END algorithm=brute, leaf_size=25, n_neighbors=6;, score=0.917 total time=   0.0s\n",
      "[CV 4/5; 243/243] START algorithm=brute, leaf_size=25, n_neighbors=25...........\n",
      "[CV 5/5; 242/243] END algorithm=brute, leaf_size=25, n_neighbors=20;, score=0.917 total time=   0.0s\n",
      "[CV 1/5; 243/243] END algorithm=brute, leaf_size=25, n_neighbors=25;, score=0.875 total time=   0.0s\n",
      "[CV 5/5; 243/243] START algorithm=brute, leaf_size=25, n_neighbors=25...........\n",
      "[CV 3/5; 243/243] END algorithm=brute, leaf_size=25, n_neighbors=25;, score=1.000 total time=   0.0s\n",
      "[CV 3/5; 242/243] END algorithm=brute, leaf_size=25, n_neighbors=20;, score=1.000 total time=   0.0s\n",
      "[CV 2/5; 243/243] END algorithm=brute, leaf_size=25, n_neighbors=25;, score=0.958 total time=   0.0s\n",
      "[CV 5/5; 243/243] END algorithm=brute, leaf_size=25, n_neighbors=25;, score=0.875 total time=   0.0s\n",
      "[CV 4/5; 243/243] END algorithm=brute, leaf_size=25, n_neighbors=25;, score=0.958 total time=   0.0s\n",
      "[CV 4/5; 241/243] END algorithm=brute, leaf_size=25, n_neighbors=15;, score=0.958 total time=   0.0s\n",
      "[CV 4/5; 242/243] END algorithm=brute, leaf_size=25, n_neighbors=20;, score=0.958 total time=   0.0s\n"
     ]
    },
    {
     "name": "stderr",
     "output_type": "stream",
     "text": [
      "\n"
     ]
    }
   ],
   "source": [
    "training_log, list_of_model_rus_hyp = train_eval_model(\n",
    "    [list_of_model[\"undersampling\"][-1]],\n",
    "    \"hyperparams\",\n",
    "    x_rus,\n",
    "    y_rus,\n",
    "    \"undersampling\",\n",
    "    x_valid,\n",
    "    y_valid,\n",
    "    \"/Users/avntrr/Documents/Pacmann/training_log.json\"\n",
    ")"
   ]
  },
  {
   "cell_type": "code",
   "execution_count": 634,
   "metadata": {},
   "outputs": [],
   "source": [
    "list_of_model[\"undersampling\"][-1] = copy.deepcopy(list_of_model_rus_hyp[0])"
   ]
  },
  {
   "cell_type": "code",
   "execution_count": 635,
   "metadata": {},
   "outputs": [
    {
     "data": {
      "text/plain": [
       "{'model_name': 'GridSearchCV-KNeighborsClassifier',\n",
       " 'model_object': GridSearchCV(estimator=KNeighborsClassifier(), n_jobs=-1,\n",
       "              param_grid={'algorithm': ['ball_tree', 'kd_tree', 'brute'],\n",
       "                          'leaf_size': [2, 3, 4, 5, 6, 10, 15, 20, 25],\n",
       "                          'n_neighbors': [2, 3, 4, 5, 6, 10, 15, 20, 25]},\n",
       "              verbose=420),\n",
       " 'model_uid': '9696415808b34869ccf8e6da32339896'}"
      ]
     },
     "execution_count": 635,
     "metadata": {},
     "output_type": "execute_result"
    }
   ],
   "source": [
    "list_of_model[\"undersampling\"][-1]"
   ]
  },
  {
   "cell_type": "code",
   "execution_count": 636,
   "metadata": {},
   "outputs": [
    {
     "name": "stderr",
     "output_type": "stream",
     "text": [
      "100%|██████████| 4/4 [00:00<00:00, 195.92it/s]\n"
     ]
    },
    {
     "data": {
      "text/html": [
       "<div>\n",
       "<style scoped>\n",
       "    .dataframe tbody tr th:only-of-type {\n",
       "        vertical-align: middle;\n",
       "    }\n",
       "\n",
       "    .dataframe tbody tr th {\n",
       "        vertical-align: top;\n",
       "    }\n",
       "\n",
       "    .dataframe thead th {\n",
       "        text-align: right;\n",
       "    }\n",
       "</style>\n",
       "<table border=\"1\" class=\"dataframe\">\n",
       "  <thead>\n",
       "    <tr style=\"text-align: right;\">\n",
       "      <th></th>\n",
       "      <th>model_name</th>\n",
       "      <th>model_uid</th>\n",
       "      <th>training_time</th>\n",
       "      <th>training_date</th>\n",
       "      <th>performance</th>\n",
       "      <th>f1_score_avg</th>\n",
       "      <th>data_configurations</th>\n",
       "    </tr>\n",
       "  </thead>\n",
       "  <tbody>\n",
       "    <tr>\n",
       "      <th>0</th>\n",
       "      <td>baseline_model-DecisionTreeClassifier</td>\n",
       "      <td>9e43847542d768266ba57a4bdaba0c59</td>\n",
       "      <td>0.001256</td>\n",
       "      <td>2022-12-02 13:26:01.934225</td>\n",
       "      <td>{'0': {'precision': 1.0, 'recall': 1.0, 'f1-sc...</td>\n",
       "      <td>1.000000</td>\n",
       "      <td>undersampling</td>\n",
       "    </tr>\n",
       "    <tr>\n",
       "      <th>1</th>\n",
       "      <td>baseline_model-DecisionTreeClassifier</td>\n",
       "      <td>72246882b937424da92907c61cff5126</td>\n",
       "      <td>0.002083</td>\n",
       "      <td>2022-12-02 13:28:03.821411</td>\n",
       "      <td>{'0': {'precision': 1.0, 'recall': 1.0, 'f1-sc...</td>\n",
       "      <td>1.000000</td>\n",
       "      <td>smote</td>\n",
       "    </tr>\n",
       "    <tr>\n",
       "      <th>2</th>\n",
       "      <td>baseline_model-DecisionTreeClassifier</td>\n",
       "      <td>a500c9a41f3773d2a33cfdb0f4a32d3e</td>\n",
       "      <td>0.002788</td>\n",
       "      <td>2022-12-02 13:27:24.394768</td>\n",
       "      <td>{'0': {'precision': 1.0, 'recall': 1.0, 'f1-sc...</td>\n",
       "      <td>1.000000</td>\n",
       "      <td>oversampling</td>\n",
       "    </tr>\n",
       "    <tr>\n",
       "      <th>3</th>\n",
       "      <td>baseline_model-XGBClassifier</td>\n",
       "      <td>b92e8ebd095d7e5a20278d776ee13b4b</td>\n",
       "      <td>0.033118</td>\n",
       "      <td>2022-12-02 13:26:02.040617</td>\n",
       "      <td>{'0': {'precision': 1.0, 'recall': 1.0, 'f1-sc...</td>\n",
       "      <td>1.000000</td>\n",
       "      <td>undersampling</td>\n",
       "    </tr>\n",
       "    <tr>\n",
       "      <th>4</th>\n",
       "      <td>baseline_model-XGBClassifier</td>\n",
       "      <td>e47a00aa53b2169e94f8273c554cacd1</td>\n",
       "      <td>0.043428</td>\n",
       "      <td>2022-12-02 13:27:24.515507</td>\n",
       "      <td>{'0': {'precision': 1.0, 'recall': 1.0, 'f1-sc...</td>\n",
       "      <td>1.000000</td>\n",
       "      <td>oversampling</td>\n",
       "    </tr>\n",
       "    <tr>\n",
       "      <th>5</th>\n",
       "      <td>baseline_model-XGBClassifier</td>\n",
       "      <td>9d95f6d496fcec74774063e5e9044513</td>\n",
       "      <td>0.064536</td>\n",
       "      <td>2022-12-02 13:28:04.158850</td>\n",
       "      <td>{'0': {'precision': 1.0, 'recall': 1.0, 'f1-sc...</td>\n",
       "      <td>1.000000</td>\n",
       "      <td>smote</td>\n",
       "    </tr>\n",
       "    <tr>\n",
       "      <th>6</th>\n",
       "      <td>baseline_model-RandomForestClassifier</td>\n",
       "      <td>b6a9b69843ab03bcc247c4f027d24273</td>\n",
       "      <td>0.086641</td>\n",
       "      <td>2022-12-02 13:26:01.938044</td>\n",
       "      <td>{'0': {'precision': 1.0, 'recall': 1.0, 'f1-sc...</td>\n",
       "      <td>1.000000</td>\n",
       "      <td>undersampling</td>\n",
       "    </tr>\n",
       "    <tr>\n",
       "      <th>7</th>\n",
       "      <td>baseline_model-RandomForestClassifier</td>\n",
       "      <td>2410f8470278fcc59b057cebe8473937</td>\n",
       "      <td>0.090942</td>\n",
       "      <td>2022-12-02 13:27:24.403410</td>\n",
       "      <td>{'0': {'precision': 1.0, 'recall': 1.0, 'f1-sc...</td>\n",
       "      <td>1.000000</td>\n",
       "      <td>oversampling</td>\n",
       "    </tr>\n",
       "    <tr>\n",
       "      <th>8</th>\n",
       "      <td>baseline_model-RandomForestClassifier</td>\n",
       "      <td>3650ae316f2da2fa7d38ae13374cd32d</td>\n",
       "      <td>0.297437</td>\n",
       "      <td>2022-12-02 13:28:03.827917</td>\n",
       "      <td>{'0': {'precision': 1.0, 'recall': 1.0, 'f1-sc...</td>\n",
       "      <td>1.000000</td>\n",
       "      <td>smote</td>\n",
       "    </tr>\n",
       "    <tr>\n",
       "      <th>9</th>\n",
       "      <td>baseline_model-KNeighborsClassifier</td>\n",
       "      <td>0d38da7a52450ff49cd69dfe981003b1</td>\n",
       "      <td>0.001069</td>\n",
       "      <td>2022-12-02 13:26:02.034015</td>\n",
       "      <td>{'0': {'precision': 1.0, 'recall': 0.940594059...</td>\n",
       "      <td>0.890944</td>\n",
       "      <td>undersampling</td>\n",
       "    </tr>\n",
       "    <tr>\n",
       "      <th>10</th>\n",
       "      <td>baseline_model-KNeighborsClassifier</td>\n",
       "      <td>b84a7fbc48ece2eeaa65a7965220d84c</td>\n",
       "      <td>0.001291</td>\n",
       "      <td>2022-12-02 13:27:24.504161</td>\n",
       "      <td>{'0': {'precision': 1.0, 'recall': 0.940594059...</td>\n",
       "      <td>0.890944</td>\n",
       "      <td>oversampling</td>\n",
       "    </tr>\n",
       "    <tr>\n",
       "      <th>11</th>\n",
       "      <td>baseline_model-KNeighborsClassifier</td>\n",
       "      <td>4531b4b316ae37a34bcfa7718e749e14</td>\n",
       "      <td>0.002477</td>\n",
       "      <td>2022-12-02 13:28:04.144799</td>\n",
       "      <td>{'0': {'precision': 1.0, 'recall': 0.940594059...</td>\n",
       "      <td>0.890944</td>\n",
       "      <td>smote</td>\n",
       "    </tr>\n",
       "    <tr>\n",
       "      <th>12</th>\n",
       "      <td>hyperparams-GridSearchCV-KNeighborsClassifier</td>\n",
       "      <td>9696415808b34869ccf8e6da32339896</td>\n",
       "      <td>1.726420</td>\n",
       "      <td>2022-12-02 13:30:40.495014</td>\n",
       "      <td>{'0': {'precision': 1.0, 'recall': 0.940594059...</td>\n",
       "      <td>0.890944</td>\n",
       "      <td>undersampling</td>\n",
       "    </tr>\n",
       "    <tr>\n",
       "      <th>13</th>\n",
       "      <td>baseline_model-LogisticRegression</td>\n",
       "      <td>d4aba80d27d6c9127f21ce3ca5382688</td>\n",
       "      <td>0.014641</td>\n",
       "      <td>2022-12-02 13:27:24.374442</td>\n",
       "      <td>{'0': {'precision': 1.0, 'recall': 0.930693069...</td>\n",
       "      <td>0.875991</td>\n",
       "      <td>oversampling</td>\n",
       "    </tr>\n",
       "    <tr>\n",
       "      <th>14</th>\n",
       "      <td>baseline_model-LogisticRegression</td>\n",
       "      <td>ca803528232ba69d3b6f185de5194400</td>\n",
       "      <td>0.019989</td>\n",
       "      <td>2022-12-02 13:26:01.909884</td>\n",
       "      <td>{'0': {'precision': 1.0, 'recall': 0.930693069...</td>\n",
       "      <td>0.875991</td>\n",
       "      <td>undersampling</td>\n",
       "    </tr>\n",
       "    <tr>\n",
       "      <th>15</th>\n",
       "      <td>baseline_model-LogisticRegression</td>\n",
       "      <td>90a1efc1961eed74a9ac2261ab437fcf</td>\n",
       "      <td>0.025496</td>\n",
       "      <td>2022-12-02 13:28:03.788685</td>\n",
       "      <td>{'0': {'precision': 1.0, 'recall': 0.930693069...</td>\n",
       "      <td>0.875991</td>\n",
       "      <td>smote</td>\n",
       "    </tr>\n",
       "  </tbody>\n",
       "</table>\n",
       "</div>"
      ],
      "text/plain": [
       "                                       model_name  \\\n",
       "0           baseline_model-DecisionTreeClassifier   \n",
       "1           baseline_model-DecisionTreeClassifier   \n",
       "2           baseline_model-DecisionTreeClassifier   \n",
       "3                    baseline_model-XGBClassifier   \n",
       "4                    baseline_model-XGBClassifier   \n",
       "5                    baseline_model-XGBClassifier   \n",
       "6           baseline_model-RandomForestClassifier   \n",
       "7           baseline_model-RandomForestClassifier   \n",
       "8           baseline_model-RandomForestClassifier   \n",
       "9             baseline_model-KNeighborsClassifier   \n",
       "10            baseline_model-KNeighborsClassifier   \n",
       "11            baseline_model-KNeighborsClassifier   \n",
       "12  hyperparams-GridSearchCV-KNeighborsClassifier   \n",
       "13              baseline_model-LogisticRegression   \n",
       "14              baseline_model-LogisticRegression   \n",
       "15              baseline_model-LogisticRegression   \n",
       "\n",
       "                           model_uid  training_time  \\\n",
       "0   9e43847542d768266ba57a4bdaba0c59       0.001256   \n",
       "1   72246882b937424da92907c61cff5126       0.002083   \n",
       "2   a500c9a41f3773d2a33cfdb0f4a32d3e       0.002788   \n",
       "3   b92e8ebd095d7e5a20278d776ee13b4b       0.033118   \n",
       "4   e47a00aa53b2169e94f8273c554cacd1       0.043428   \n",
       "5   9d95f6d496fcec74774063e5e9044513       0.064536   \n",
       "6   b6a9b69843ab03bcc247c4f027d24273       0.086641   \n",
       "7   2410f8470278fcc59b057cebe8473937       0.090942   \n",
       "8   3650ae316f2da2fa7d38ae13374cd32d       0.297437   \n",
       "9   0d38da7a52450ff49cd69dfe981003b1       0.001069   \n",
       "10  b84a7fbc48ece2eeaa65a7965220d84c       0.001291   \n",
       "11  4531b4b316ae37a34bcfa7718e749e14       0.002477   \n",
       "12  9696415808b34869ccf8e6da32339896       1.726420   \n",
       "13  d4aba80d27d6c9127f21ce3ca5382688       0.014641   \n",
       "14  ca803528232ba69d3b6f185de5194400       0.019989   \n",
       "15  90a1efc1961eed74a9ac2261ab437fcf       0.025496   \n",
       "\n",
       "                 training_date  \\\n",
       "0   2022-12-02 13:26:01.934225   \n",
       "1   2022-12-02 13:28:03.821411   \n",
       "2   2022-12-02 13:27:24.394768   \n",
       "3   2022-12-02 13:26:02.040617   \n",
       "4   2022-12-02 13:27:24.515507   \n",
       "5   2022-12-02 13:28:04.158850   \n",
       "6   2022-12-02 13:26:01.938044   \n",
       "7   2022-12-02 13:27:24.403410   \n",
       "8   2022-12-02 13:28:03.827917   \n",
       "9   2022-12-02 13:26:02.034015   \n",
       "10  2022-12-02 13:27:24.504161   \n",
       "11  2022-12-02 13:28:04.144799   \n",
       "12  2022-12-02 13:30:40.495014   \n",
       "13  2022-12-02 13:27:24.374442   \n",
       "14  2022-12-02 13:26:01.909884   \n",
       "15  2022-12-02 13:28:03.788685   \n",
       "\n",
       "                                          performance  f1_score_avg  \\\n",
       "0   {'0': {'precision': 1.0, 'recall': 1.0, 'f1-sc...      1.000000   \n",
       "1   {'0': {'precision': 1.0, 'recall': 1.0, 'f1-sc...      1.000000   \n",
       "2   {'0': {'precision': 1.0, 'recall': 1.0, 'f1-sc...      1.000000   \n",
       "3   {'0': {'precision': 1.0, 'recall': 1.0, 'f1-sc...      1.000000   \n",
       "4   {'0': {'precision': 1.0, 'recall': 1.0, 'f1-sc...      1.000000   \n",
       "5   {'0': {'precision': 1.0, 'recall': 1.0, 'f1-sc...      1.000000   \n",
       "6   {'0': {'precision': 1.0, 'recall': 1.0, 'f1-sc...      1.000000   \n",
       "7   {'0': {'precision': 1.0, 'recall': 1.0, 'f1-sc...      1.000000   \n",
       "8   {'0': {'precision': 1.0, 'recall': 1.0, 'f1-sc...      1.000000   \n",
       "9   {'0': {'precision': 1.0, 'recall': 0.940594059...      0.890944   \n",
       "10  {'0': {'precision': 1.0, 'recall': 0.940594059...      0.890944   \n",
       "11  {'0': {'precision': 1.0, 'recall': 0.940594059...      0.890944   \n",
       "12  {'0': {'precision': 1.0, 'recall': 0.940594059...      0.890944   \n",
       "13  {'0': {'precision': 1.0, 'recall': 0.930693069...      0.875991   \n",
       "14  {'0': {'precision': 1.0, 'recall': 0.930693069...      0.875991   \n",
       "15  {'0': {'precision': 1.0, 'recall': 0.930693069...      0.875991   \n",
       "\n",
       "   data_configurations  \n",
       "0        undersampling  \n",
       "1                smote  \n",
       "2         oversampling  \n",
       "3        undersampling  \n",
       "4         oversampling  \n",
       "5                smote  \n",
       "6        undersampling  \n",
       "7         oversampling  \n",
       "8                smote  \n",
       "9        undersampling  \n",
       "10        oversampling  \n",
       "11               smote  \n",
       "12       undersampling  \n",
       "13        oversampling  \n",
       "14       undersampling  \n",
       "15               smote  "
      ]
     },
     "execution_count": 636,
     "metadata": {},
     "output_type": "execute_result"
    }
   ],
   "source": [
    "training_log_to_df(training_log)"
   ]
  },
  {
   "cell_type": "markdown",
   "metadata": {},
   "source": [
    "12.2.6. Confussion Matrix"
   ]
  },
  {
   "cell_type": "code",
   "execution_count": 637,
   "metadata": {},
   "outputs": [],
   "source": [
    "y_pred = model.predict(x_valid)"
   ]
  },
  {
   "cell_type": "code",
   "execution_count": 638,
   "metadata": {},
   "outputs": [
    {
     "data": {
      "text/plain": [
       "<sklearn.metrics._plot.confusion_matrix.ConfusionMatrixDisplay at 0x151432610>"
      ]
     },
     "execution_count": 638,
     "metadata": {},
     "output_type": "execute_result"
    },
    {
     "data": {
      "image/png": "[encoded data removed]",
      "text/plain": [
       "<Figure size 432x288 with 2 Axes>"
      ]
     },
     "metadata": {
      "needs_background": "light"
     },
     "output_type": "display_data"
    }
   ],
   "source": [
    "ConfusionMatrixDisplay.from_predictions(y_valid, y_pred)"
   ]
  },
  {
   "cell_type": "code",
   "execution_count": null,
   "metadata": {},
   "outputs": [],
   "source": []
  }
 ],
 "metadata": {
  "kernelspec": {
   "display_name": "Python 3.9.13 64-bit",
   "language": "python",
   "name": "python3"
  },
  "language_info": {
   "codemirror_mode": {
    "name": "ipython",
    "version": 3
   },
   "file_extension": ".py",
   "mimetype": "text/x-python",
   "name": "python",
   "nbconvert_exporter": "python",
   "pygments_lexer": "ipython3",
   "version": "3.9.13"
  },
  "orig_nbformat": 4,
  "vscode": {
   "interpreter": {
    "hash": "aee8b7b246df8f9039afb4144a1f6fd8d2ca17a180786b69acc140d282b71a49"
   }
  }
 },
 "nbformat": 4,
 "nbformat_minor": 2
}
